{
 "cells": [
  {
   "cell_type": "markdown",
   "metadata": {},
   "source": [
    "<a id='logbook'></a>\n",
    "# Prediction of roll motion using fully nonlinear potential flow and Ikeda's method\n",
    "This is a summary describing how the results presented in this paper can be reproduced.\n"
   ]
  },
  {
   "cell_type": "code",
   "execution_count": null,
   "metadata": {},
   "outputs": [],
   "source": []
  }
 ],
 "metadata": {
  "cite2c": {
   "citations": {
    "7505983/NXYCMQLI": {
     "URL": "https://scholar.google.com/scholar_lookup?title=On%20roll%20damping%20force%20of%20ship%3A%20effects%20of%20friction%20of%20hull%20and%20normal%20force%20of%20bilge%20keels&author=Y.%20Ikeda&author=Y.%20Himeno&author=N.%20Tanaka&journal=J%20Kansai%20Soc%20Naval%20Archit%20Jpn&volume=161&pages=41-49&publication_year=1976",
     "accessed": {
      "day": 24,
      "month": 1,
      "year": 2020
     },
     "id": "7505983/NXYCMQLI",
     "title": "Ikeda: Report no. 401: On roll damping force of ship-effe... - Google Scholar",
     "type": "article"
    },
    "7505983/RC2WJ4RI": {
     "id": "7505983/RC2WJ4RI",
     "title": "JourneeAdegeest2003_pp180to195inTheoreticalManualSEAWAY.pdf",
     "type": "article"
    },
    "7505983/RWXBIIJJ": {
     "URL": "https://repository.tudelft.nl/islandora/object/uuid%3A2d4991a4-96ac-4935-b2a3-e712effd744d",
     "accessed": {
      "day": 4,
      "month": 3,
      "year": 2020
     },
     "author": [
      {
       "family": "Himeno",
       "given": "Yoji"
      }
     ],
     "container-title": "The University of Michigan, College of Engineering, Department of Naval Architecture and Marine Engineering, USA, Report No. 239",
     "id": "7505983/RWXBIIJJ",
     "issued": {
      "year": 1981
     },
     "language": "en",
     "title": "Prediction of ship roll damping - state of the art",
     "type": "article-journal"
    },
    "7505983/ZVF3F5V5": {
     "id": "7505983/ZVF3F5V5",
     "title": "Ikeda et al. - 1978 - Components of roll damping of ship at forward spee.pdf",
     "type": "article"
    }
   }
  },
  "kernelspec": {
   "display_name": "Python 3",
   "language": "python",
   "name": "python3"
  },
  "language_info": {
   "codemirror_mode": {
    "name": "ipython",
    "version": 3
   },
   "file_extension": ".py",
   "mimetype": "text/x-python",
   "name": "python",
   "nbconvert_exporter": "python",
   "pygments_lexer": "ipython3",
   "version": "3.6.8"
  }
 },
 "nbformat": 4,
 "nbformat_minor": 4
}
