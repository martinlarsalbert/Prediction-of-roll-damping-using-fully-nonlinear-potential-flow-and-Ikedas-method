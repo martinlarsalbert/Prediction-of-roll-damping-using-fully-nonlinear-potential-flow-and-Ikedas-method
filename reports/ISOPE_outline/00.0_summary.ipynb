{
 "cells": [
  {
   "cell_type": "markdown",
   "metadata": {},
   "source": [
    "<a id='logbook'></a>\n",
    "# Prediction of roll motion using fully nonlinear potential flow and Ikeda's method\n",
    "This is a summary, describing how the results presented in this paper can be reproduced, including the actual paper.\n",
    "The actual research for this paper was conducted in the notebooks in the [../../notebooks/](notebooks) folder. The research is documented in the [../../notebooks/logbook.ipynb](logbook) which refers to the other notebooks. \n",
    "\n",
    "The final results that \"made it to the paper\" are however summarized here. All these notebooks must be run as a pipeline to generate all results to be able to reproduce the entire paper.\n",
    "\n",
    "* [00.2_models_motions.ipynb](00.2_models_motions.ipynb) : Load the FNPF simulation results and fit mathematical models to this data and then save.\n",
    "* [00.3_KVLCC2_Ikeda_method.ipynb](00.3_KVLCC2_Ikeda_method.ipynb) : Run strip theory calculations for the KVLCC2 at 0 knots and save.\n",
    "* [00.4_KVLCC2_Ikeda_method_speed.ipynb](00.4_KVLCC2_Ikeda_method_speed.ipynb) : Run strip theory calculations for the KVLCC2 at speed and save.\n",
    "* [00.5_KVLCC2_ikeda_estimators.ipynb](00.5_KVLCC2_ikeda_estimators.ipynb) : Use various implementations of Ikeda's method and save.\n",
    "* [00.6_KLVCC2_model_tests.ipynb](00.6_KLVCC2_model_tests.ipynb) : Load model tests results and fit mathematical models to this data and then save.\n",
    "* [01.1.outline.ipynb](01.1.outline.ipynb) : Create the paper based on the results from the above notebooks.\n",
    "* [02.1.appendix_extras.ipynb](02.1.appendix_extras.ipynb) : Some extra stuff that did not make it to the paper."
   ]
  }
 ],
 "metadata": {
  "cite2c": {
   "citations": {
    "7505983/NXYCMQLI": {
     "URL": "https://scholar.google.com/scholar_lookup?title=On%20roll%20damping%20force%20of%20ship%3A%20effects%20of%20friction%20of%20hull%20and%20normal%20force%20of%20bilge%20keels&author=Y.%20Ikeda&author=Y.%20Himeno&author=N.%20Tanaka&journal=J%20Kansai%20Soc%20Naval%20Archit%20Jpn&volume=161&pages=41-49&publication_year=1976",
     "accessed": {
      "day": 24,
      "month": 1,
      "year": 2020
     },
     "id": "7505983/NXYCMQLI",
     "title": "Ikeda: Report no. 401: On roll damping force of ship-effe... - Google Scholar",
     "type": "article"
    },
    "7505983/RC2WJ4RI": {
     "id": "7505983/RC2WJ4RI",
     "title": "JourneeAdegeest2003_pp180to195inTheoreticalManualSEAWAY.pdf",
     "type": "article"
    },
    "7505983/RWXBIIJJ": {
     "URL": "https://repository.tudelft.nl/islandora/object/uuid%3A2d4991a4-96ac-4935-b2a3-e712effd744d",
     "accessed": {
      "day": 4,
      "month": 3,
      "year": 2020
     },
     "author": [
      {
       "family": "Himeno",
       "given": "Yoji"
      }
     ],
     "container-title": "The University of Michigan, College of Engineering, Department of Naval Architecture and Marine Engineering, USA, Report No. 239",
     "id": "7505983/RWXBIIJJ",
     "issued": {
      "year": 1981
     },
     "language": "en",
     "title": "Prediction of ship roll damping - state of the art",
     "type": "article-journal"
    },
    "7505983/ZVF3F5V5": {
     "id": "7505983/ZVF3F5V5",
     "title": "Ikeda et al. - 1978 - Components of roll damping of ship at forward spee.pdf",
     "type": "article"
    }
   }
  },
  "kernelspec": {
   "display_name": "Python 3",
   "language": "python",
   "name": "python3"
  },
  "language_info": {
   "codemirror_mode": {
    "name": "ipython",
    "version": 3
   },
   "file_extension": ".py",
   "mimetype": "text/x-python",
   "name": "python",
   "nbconvert_exporter": "python",
   "pygments_lexer": "ipython3",
   "version": "3.6.8"
  }
 },
 "nbformat": 4,
 "nbformat_minor": 4
}
