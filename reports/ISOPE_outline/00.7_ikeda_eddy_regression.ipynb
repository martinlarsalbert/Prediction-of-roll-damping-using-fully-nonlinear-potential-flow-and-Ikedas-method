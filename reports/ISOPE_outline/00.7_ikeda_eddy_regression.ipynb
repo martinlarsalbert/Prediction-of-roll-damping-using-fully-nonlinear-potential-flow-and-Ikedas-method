{
 "cells": [
  {
   "cell_type": "markdown",
   "metadata": {},
   "source": [
    "# Ikeda eddy regression"
   ]
  },
  {
   "cell_type": "markdown",
   "metadata": {},
   "source": [
    "# Purpose\n",
    "It has proven to be very hard to reproduce the results from <cite data-cite=\"7505983/4AFVVGNT\"></cite>. This notebook will develop a regression to correct the implementation."
   ]
  },
  {
   "cell_type": "markdown",
   "metadata": {},
   "source": [
    "# Methodology\n",
    "Regression will be made to the $C_r$ coefficient."
   ]
  },
  {
   "cell_type": "markdown",
   "metadata": {},
   "source": [
    "# Setup"
   ]
  },
  {
   "cell_type": "code",
   "execution_count": 2,
   "metadata": {},
   "outputs": [
    {
     "name": "stderr",
     "output_type": "stream",
     "text": [
      "Duplicate key in file WindowsPath('C:/Users/maa/.matplotlib/stylelib/paper.mplstyle'), line 462 ('figure.figsize   : 5, 3   ## figure size in inches')\n",
      "Duplicate key in file WindowsPath('C:/Users/maa/.matplotlib/stylelib/paper.mplstyle'), line 463 ('figure.dpi       : 100        ## figure dots per inch')\n"
     ]
    }
   ],
   "source": [
    "# %load imports.py\n",
    "\"\"\"\n",
    "These is the standard setup for the notebooks.\n",
    "\"\"\"\n",
    "\n",
    "%matplotlib inline\n",
    "%load_ext autoreload\n",
    "%autoreload 2\n",
    "\n",
    "import sys\n",
    "sys.path.append(\"../../\")\n",
    "\n",
    "import pandas as pd\n",
    "pd.options.display.max_rows = 999\n",
    "pd.options.display.max_columns = 999\n",
    "pd.set_option(\"display.max_columns\", None)\n",
    "import numpy as np\n",
    "import os\n",
    "import matplotlib.pyplot as plt\n",
    "from collections import OrderedDict\n",
    "import copy\n",
    "from sklearn.pipeline import Pipeline\n",
    "from rolldecayestimators.transformers import CutTransformer, LowpassFilterDerivatorTransformer, ScaleFactorTransformer, OffsetTransformer\n",
    "from rolldecayestimators.direct_estimator_cubic import EstimatorQuadraticB, EstimatorCubic\n",
    "from rolldecayestimators.ikeda_estimator import IkedaQuadraticEstimator\n",
    "import src.equations as equations\n",
    "import rolldecayestimators.lambdas as lambdas\n",
    "from rolldecayestimators.substitute_dynamic_symbols import lambdify\n",
    "import rolldecayestimators.symbols as symbols\n",
    "import sympy as sp\n",
    "\n",
    "from sympy.physics.vector.printing import vpprint, vlatex\n",
    "from IPython.display import display, Math, Latex\n",
    "\n",
    "from sklearn.metrics import r2_score\n",
    "import shipflowmotionshelpers.shipflowmotionshelpers as helpers\n",
    "import src.visualization.visualize as visualize\n",
    "import scipy\n",
    "from copy import deepcopy\n",
    "import joblib"
   ]
  },
  {
   "cell_type": "code",
   "execution_count": 8,
   "metadata": {},
   "outputs": [],
   "source": [
    "import rolldecayestimators.equations_ikeda_naked as equations_ikeda_naked\n",
    "import rolldecayestimators.ikeda_naked as ikeda_naked\n",
    "from src.helpers import calculate_lewis,calculate_B_star_hat,estimate_bilge_radius, estimate_sigma\n",
    "import seaborn as sns\n",
    "import joblib\n",
    "from rolldecayestimators.substitute_dynamic_symbols import run"
   ]
  },
  {
   "cell_type": "code",
   "execution_count": 20,
   "metadata": {},
   "outputs": [
    {
     "data": {
      "text/html": [
       "<div>\n",
       "<style scoped>\n",
       "    .dataframe tbody tr th:only-of-type {\n",
       "        vertical-align: middle;\n",
       "    }\n",
       "\n",
       "    .dataframe tbody tr th {\n",
       "        vertical-align: top;\n",
       "    }\n",
       "\n",
       "    .dataframe thead th {\n",
       "        text-align: right;\n",
       "    }\n",
       "</style>\n",
       "<table border=\"1\" class=\"dataframe\">\n",
       "  <thead>\n",
       "    <tr style=\"text-align: right;\">\n",
       "      <th></th>\n",
       "      <th>phi_a</th>\n",
       "      <th>B_star_hat</th>\n",
       "      <th>omega_hat</th>\n",
       "      <th>model</th>\n",
       "      <th>B_W+B_F</th>\n",
       "      <th>B_E_star_hat</th>\n",
       "      <th>L_pp</th>\n",
       "      <th>beam</th>\n",
       "      <th>T_s</th>\n",
       "      <th>Disp</th>\n",
       "      <th>H0</th>\n",
       "      <th>sigma</th>\n",
       "      <th>OG/d</th>\n",
       "      <th>R</th>\n",
       "      <th>B_E0_HAT</th>\n",
       "      <th>C_r</th>\n",
       "      <th>a_1</th>\n",
       "      <th>a_3</th>\n",
       "    </tr>\n",
       "  </thead>\n",
       "  <tbody>\n",
       "    <tr>\n",
       "      <th>0</th>\n",
       "      <td>0.23</td>\n",
       "      <td>0.041169</td>\n",
       "      <td>0.751</td>\n",
       "      <td>A</td>\n",
       "      <td>0.003636</td>\n",
       "      <td>0.037534</td>\n",
       "      <td>0.8</td>\n",
       "      <td>0.28</td>\n",
       "      <td>0.112</td>\n",
       "      <td>0.02509</td>\n",
       "      <td>1.25</td>\n",
       "      <td>1.000</td>\n",
       "      <td>0.0</td>\n",
       "      <td>0.00</td>\n",
       "      <td>0.031860</td>\n",
       "      <td>6.791066</td>\n",
       "      <td>0.095721</td>\n",
       "      <td>-0.138514</td>\n",
       "    </tr>\n",
       "    <tr>\n",
       "      <th>1</th>\n",
       "      <td>0.24</td>\n",
       "      <td>0.029803</td>\n",
       "      <td>0.507</td>\n",
       "      <td>A</td>\n",
       "      <td>0.001391</td>\n",
       "      <td>0.028413</td>\n",
       "      <td>0.8</td>\n",
       "      <td>0.28</td>\n",
       "      <td>0.112</td>\n",
       "      <td>0.02509</td>\n",
       "      <td>1.25</td>\n",
       "      <td>1.000</td>\n",
       "      <td>0.0</td>\n",
       "      <td>0.00</td>\n",
       "      <td>0.024117</td>\n",
       "      <td>7.297515</td>\n",
       "      <td>0.095721</td>\n",
       "      <td>-0.138514</td>\n",
       "    </tr>\n",
       "    <tr>\n",
       "      <th>2</th>\n",
       "      <td>0.30</td>\n",
       "      <td>0.023966</td>\n",
       "      <td>0.751</td>\n",
       "      <td>B</td>\n",
       "      <td>0.003265</td>\n",
       "      <td>0.020700</td>\n",
       "      <td>0.8</td>\n",
       "      <td>0.28</td>\n",
       "      <td>0.112</td>\n",
       "      <td>0.02501</td>\n",
       "      <td>1.25</td>\n",
       "      <td>0.997</td>\n",
       "      <td>0.0</td>\n",
       "      <td>0.01</td>\n",
       "      <td>0.017571</td>\n",
       "      <td>2.862276</td>\n",
       "      <td>0.095950</td>\n",
       "      <td>-0.136454</td>\n",
       "    </tr>\n",
       "    <tr>\n",
       "      <th>3</th>\n",
       "      <td>0.30</td>\n",
       "      <td>0.014438</td>\n",
       "      <td>0.536</td>\n",
       "      <td>B</td>\n",
       "      <td>0.001111</td>\n",
       "      <td>0.013328</td>\n",
       "      <td>0.8</td>\n",
       "      <td>0.28</td>\n",
       "      <td>0.112</td>\n",
       "      <td>0.02501</td>\n",
       "      <td>1.25</td>\n",
       "      <td>0.997</td>\n",
       "      <td>0.0</td>\n",
       "      <td>0.01</td>\n",
       "      <td>0.011313</td>\n",
       "      <td>2.582057</td>\n",
       "      <td>0.095950</td>\n",
       "      <td>-0.136454</td>\n",
       "    </tr>\n",
       "    <tr>\n",
       "      <th>4</th>\n",
       "      <td>0.27</td>\n",
       "      <td>0.008265</td>\n",
       "      <td>0.751</td>\n",
       "      <td>C</td>\n",
       "      <td>0.002115</td>\n",
       "      <td>0.006151</td>\n",
       "      <td>0.8</td>\n",
       "      <td>0.28</td>\n",
       "      <td>0.112</td>\n",
       "      <td>0.02495</td>\n",
       "      <td>1.25</td>\n",
       "      <td>0.995</td>\n",
       "      <td>0.0</td>\n",
       "      <td>0.02</td>\n",
       "      <td>0.005221</td>\n",
       "      <td>0.942686</td>\n",
       "      <td>0.096102</td>\n",
       "      <td>-0.135084</td>\n",
       "    </tr>\n",
       "  </tbody>\n",
       "</table>\n",
       "</div>"
      ],
      "text/plain": [
       "   phi_a  B_star_hat  omega_hat model   B_W+B_F  B_E_star_hat  L_pp  beam  \\\n",
       "0   0.23    0.041169      0.751     A  0.003636      0.037534   0.8  0.28   \n",
       "1   0.24    0.029803      0.507     A  0.001391      0.028413   0.8  0.28   \n",
       "2   0.30    0.023966      0.751     B  0.003265      0.020700   0.8  0.28   \n",
       "3   0.30    0.014438      0.536     B  0.001111      0.013328   0.8  0.28   \n",
       "4   0.27    0.008265      0.751     C  0.002115      0.006151   0.8  0.28   \n",
       "\n",
       "     T_s     Disp    H0  sigma  OG/d     R  B_E0_HAT       C_r       a_1  \\\n",
       "0  0.112  0.02509  1.25  1.000   0.0  0.00  0.031860  6.791066  0.095721   \n",
       "1  0.112  0.02509  1.25  1.000   0.0  0.00  0.024117  7.297515  0.095721   \n",
       "2  0.112  0.02501  1.25  0.997   0.0  0.01  0.017571  2.862276  0.095950   \n",
       "3  0.112  0.02501  1.25  0.997   0.0  0.01  0.011313  2.582057  0.095950   \n",
       "4  0.112  0.02495  1.25  0.995   0.0  0.02  0.005221  0.942686  0.096102   \n",
       "\n",
       "        a_3  \n",
       "0 -0.138514  \n",
       "1 -0.138514  \n",
       "2 -0.136454  \n",
       "3 -0.136454  \n",
       "4 -0.135084  "
      ]
     },
     "execution_count": 20,
     "metadata": {},
     "output_type": "execute_result"
    }
   ],
   "source": [
    "ikeda_sections_path = r'../../data/processed/Ikeda two-dimensional cylinders/ikeda_sections.csv'\n",
    "df_ikeda_sections = pd.read_csv(ikeda_sections_path, index_col=0)\n",
    "\n",
    "df_ikeda_sections.rename(columns= {\n",
    "    'B_e_star_hat':'B_E_star_hat',\n",
    "    'd':'T',\n",
    "    'w_hat':'omega_hat', \n",
    "    'L':'L_pp', \n",
    "    'B':'beam', \n",
    "    'volume':'Disp', \n",
    "}, inplace=True)\n",
    "\n",
    "df_ikeda_sections.rename(columns={\n",
    "    'T':'T_s',\n",
    "}, inplace=True)\n",
    "df_ikeda_sections.head()"
   ]
  },
  {
   "cell_type": "code",
   "execution_count": 21,
   "metadata": {},
   "outputs": [
    {
     "data": {
      "text/latex": [
       "$\\displaystyle B_{E0 HAT} = \\frac{8 B_{E star hat}}{3 \\pi}$"
      ],
      "text/plain": [
       "Eq(B_E0_HAT, 8*B_E_star_hat/(3*pi))"
      ]
     },
     "execution_count": 21,
     "metadata": {},
     "output_type": "execute_result"
    }
   ],
   "source": [
    "solution = sp.solve(equations_ikeda_naked.eq_B_E_star_hat, symbols.B_E0_hat)[0]\n",
    "lambda_B0_hat = lambdify(solution)\n",
    "\n",
    "equations_ikeda_naked.eq_B_E_star_hat"
   ]
  },
  {
   "cell_type": "code",
   "execution_count": 22,
   "metadata": {},
   "outputs": [],
   "source": [
    "df_ikeda_sections['B_E0_HAT'] = run(lambda_B0_hat, df_ikeda_sections)"
   ]
  },
  {
   "cell_type": "code",
   "execution_count": 23,
   "metadata": {},
   "outputs": [
    {
     "data": {
      "text/latex": [
       "$\\displaystyle C_{r} = \\frac{3 \\pi B_{E0 HAT} Disp beam^{2}}{4 L_{pp} T_{s}^{4} \\omega_{hat} \\phi_{a}}$"
      ],
      "text/plain": [
       "Eq(C_r, 3*pi*B_E0_HAT*Disp*beam**2/(4*L_pp*T_s**4*omega_hat*phi_a))"
      ]
     },
     "execution_count": 23,
     "metadata": {},
     "output_type": "execute_result"
    }
   ],
   "source": [
    "solution = sp.solve(equations_ikeda_naked.eq_B_E0_hat, symbols.C_r)[0]\n",
    "lambda_C_r = lambdify(solution)\n",
    "eq_C_r = sp.Eq(symbols.C_r,solution)\n",
    "eq_C_r"
   ]
  },
  {
   "cell_type": "code",
   "execution_count": 24,
   "metadata": {},
   "outputs": [],
   "source": [
    "df_input = df_ikeda_sections.copy()\n",
    "df_ikeda_sections['C_r'] = run(lambda_C_r,df_ikeda_sections)"
   ]
  },
  {
   "cell_type": "markdown",
   "metadata": {},
   "source": [
    "## Calculate Lewis coefficients"
   ]
  },
  {
   "cell_type": "code",
   "execution_count": 25,
   "metadata": {},
   "outputs": [],
   "source": [
    "df_ = df_ikeda_sections.copy()\n",
    "df_['B'] = df_['beam']\n",
    "df_['d'] = df_['T_s']\n",
    "a, a_1, a_3, sigma_s, H = calculate_lewis(df_)\n",
    "df_ikeda_sections['a_1'] = a_1\n",
    "df_ikeda_sections['a_3'] = a_3\n",
    "df_ikeda_sections['H0'] = H"
   ]
  },
  {
   "cell_type": "code",
   "execution_count": 27,
   "metadata": {},
   "outputs": [],
   "source": [
    "#df_ikeda_sections.to_csv(ikeda_sections_path)"
   ]
  },
  {
   "cell_type": "markdown",
   "metadata": {},
   "source": [
    "## Estimate bilge radius"
   ]
  },
  {
   "cell_type": "code",
   "execution_count": 29,
   "metadata": {},
   "outputs": [],
   "source": [
    "df_ = df_ikeda_sections.copy()\n",
    "df_['B'] = df_['beam']\n",
    "df_['d'] = df_['T_s']\n",
    "mask = df_ikeda_sections['R'].isnull()\n",
    "df_['B'] = df_['beam']\n",
    "df_ikeda_sections.loc[mask,'R'] = estimate_bilge_radius(**df_.loc[mask])"
   ]
  },
  {
   "cell_type": "code",
   "execution_count": 31,
   "metadata": {},
   "outputs": [],
   "source": [
    "df_ikeda_sections.to_csv('../../data/processed/ikeda_sections_R.csv')"
   ]
  },
  {
   "cell_type": "code",
   "execution_count": 32,
   "metadata": {},
   "outputs": [
    {
     "data": {
      "text/html": [
       "<div>\n",
       "<style scoped>\n",
       "    .dataframe tbody tr th:only-of-type {\n",
       "        vertical-align: middle;\n",
       "    }\n",
       "\n",
       "    .dataframe tbody tr th {\n",
       "        vertical-align: top;\n",
       "    }\n",
       "\n",
       "    .dataframe thead th {\n",
       "        text-align: right;\n",
       "    }\n",
       "</style>\n",
       "<table border=\"1\" class=\"dataframe\">\n",
       "  <thead>\n",
       "    <tr style=\"text-align: right;\">\n",
       "      <th></th>\n",
       "      <th>phi_a</th>\n",
       "      <th>B_star_hat</th>\n",
       "      <th>omega_hat</th>\n",
       "      <th>model</th>\n",
       "      <th>B_W+B_F</th>\n",
       "      <th>B_E_star_hat</th>\n",
       "      <th>L_pp</th>\n",
       "      <th>beam</th>\n",
       "      <th>T_s</th>\n",
       "      <th>Disp</th>\n",
       "      <th>H0</th>\n",
       "      <th>sigma</th>\n",
       "      <th>OG/d</th>\n",
       "      <th>R</th>\n",
       "      <th>B_E0_HAT</th>\n",
       "      <th>C_r</th>\n",
       "      <th>a_1</th>\n",
       "      <th>a_3</th>\n",
       "    </tr>\n",
       "  </thead>\n",
       "  <tbody>\n",
       "    <tr>\n",
       "      <th>0</th>\n",
       "      <td>0.23</td>\n",
       "      <td>0.041169</td>\n",
       "      <td>0.751</td>\n",
       "      <td>A</td>\n",
       "      <td>0.003636</td>\n",
       "      <td>0.037534</td>\n",
       "      <td>0.8</td>\n",
       "      <td>0.280</td>\n",
       "      <td>0.112</td>\n",
       "      <td>0.02509</td>\n",
       "      <td>1.250000</td>\n",
       "      <td>1.000</td>\n",
       "      <td>0.0</td>\n",
       "      <td>0.000000</td>\n",
       "      <td>0.031860</td>\n",
       "      <td>6.791066</td>\n",
       "      <td>0.095721</td>\n",
       "      <td>-0.138514</td>\n",
       "    </tr>\n",
       "    <tr>\n",
       "      <th>1</th>\n",
       "      <td>0.24</td>\n",
       "      <td>0.029803</td>\n",
       "      <td>0.507</td>\n",
       "      <td>A</td>\n",
       "      <td>0.001391</td>\n",
       "      <td>0.028413</td>\n",
       "      <td>0.8</td>\n",
       "      <td>0.280</td>\n",
       "      <td>0.112</td>\n",
       "      <td>0.02509</td>\n",
       "      <td>1.250000</td>\n",
       "      <td>1.000</td>\n",
       "      <td>0.0</td>\n",
       "      <td>0.000000</td>\n",
       "      <td>0.024117</td>\n",
       "      <td>7.297515</td>\n",
       "      <td>0.095721</td>\n",
       "      <td>-0.138514</td>\n",
       "    </tr>\n",
       "    <tr>\n",
       "      <th>2</th>\n",
       "      <td>0.30</td>\n",
       "      <td>0.023966</td>\n",
       "      <td>0.751</td>\n",
       "      <td>B</td>\n",
       "      <td>0.003265</td>\n",
       "      <td>0.020700</td>\n",
       "      <td>0.8</td>\n",
       "      <td>0.280</td>\n",
       "      <td>0.112</td>\n",
       "      <td>0.02501</td>\n",
       "      <td>1.250000</td>\n",
       "      <td>0.997</td>\n",
       "      <td>0.0</td>\n",
       "      <td>0.010000</td>\n",
       "      <td>0.017571</td>\n",
       "      <td>2.862276</td>\n",
       "      <td>0.095950</td>\n",
       "      <td>-0.136454</td>\n",
       "    </tr>\n",
       "    <tr>\n",
       "      <th>3</th>\n",
       "      <td>0.30</td>\n",
       "      <td>0.014438</td>\n",
       "      <td>0.536</td>\n",
       "      <td>B</td>\n",
       "      <td>0.001111</td>\n",
       "      <td>0.013328</td>\n",
       "      <td>0.8</td>\n",
       "      <td>0.280</td>\n",
       "      <td>0.112</td>\n",
       "      <td>0.02501</td>\n",
       "      <td>1.250000</td>\n",
       "      <td>0.997</td>\n",
       "      <td>0.0</td>\n",
       "      <td>0.010000</td>\n",
       "      <td>0.011313</td>\n",
       "      <td>2.582057</td>\n",
       "      <td>0.095950</td>\n",
       "      <td>-0.136454</td>\n",
       "    </tr>\n",
       "    <tr>\n",
       "      <th>4</th>\n",
       "      <td>0.27</td>\n",
       "      <td>0.008265</td>\n",
       "      <td>0.751</td>\n",
       "      <td>C</td>\n",
       "      <td>0.002115</td>\n",
       "      <td>0.006151</td>\n",
       "      <td>0.8</td>\n",
       "      <td>0.280</td>\n",
       "      <td>0.112</td>\n",
       "      <td>0.02495</td>\n",
       "      <td>1.250000</td>\n",
       "      <td>0.995</td>\n",
       "      <td>0.0</td>\n",
       "      <td>0.020000</td>\n",
       "      <td>0.005221</td>\n",
       "      <td>0.942686</td>\n",
       "      <td>0.096102</td>\n",
       "      <td>-0.135084</td>\n",
       "    </tr>\n",
       "    <tr>\n",
       "      <th>5</th>\n",
       "      <td>0.21</td>\n",
       "      <td>0.005487</td>\n",
       "      <td>0.625</td>\n",
       "      <td>C</td>\n",
       "      <td>0.001500</td>\n",
       "      <td>0.003987</td>\n",
       "      <td>0.8</td>\n",
       "      <td>0.280</td>\n",
       "      <td>0.112</td>\n",
       "      <td>0.02495</td>\n",
       "      <td>1.250000</td>\n",
       "      <td>0.995</td>\n",
       "      <td>0.0</td>\n",
       "      <td>0.020000</td>\n",
       "      <td>0.003384</td>\n",
       "      <td>0.943989</td>\n",
       "      <td>0.096102</td>\n",
       "      <td>-0.135084</td>\n",
       "    </tr>\n",
       "    <tr>\n",
       "      <th>6</th>\n",
       "      <td>0.31</td>\n",
       "      <td>0.009504</td>\n",
       "      <td>0.939</td>\n",
       "      <td>D</td>\n",
       "      <td>0.002039</td>\n",
       "      <td>0.007466</td>\n",
       "      <td>0.8</td>\n",
       "      <td>0.280</td>\n",
       "      <td>0.112</td>\n",
       "      <td>0.02475</td>\n",
       "      <td>1.250000</td>\n",
       "      <td>0.988</td>\n",
       "      <td>0.0</td>\n",
       "      <td>0.030000</td>\n",
       "      <td>0.006337</td>\n",
       "      <td>0.790684</td>\n",
       "      <td>0.096632</td>\n",
       "      <td>-0.130314</td>\n",
       "    </tr>\n",
       "    <tr>\n",
       "      <th>7</th>\n",
       "      <td>0.31</td>\n",
       "      <td>0.007645</td>\n",
       "      <td>0.751</td>\n",
       "      <td>D</td>\n",
       "      <td>0.001500</td>\n",
       "      <td>0.006145</td>\n",
       "      <td>0.8</td>\n",
       "      <td>0.280</td>\n",
       "      <td>0.112</td>\n",
       "      <td>0.02475</td>\n",
       "      <td>1.250000</td>\n",
       "      <td>0.988</td>\n",
       "      <td>0.0</td>\n",
       "      <td>0.030000</td>\n",
       "      <td>0.005216</td>\n",
       "      <td>0.813690</td>\n",
       "      <td>0.096632</td>\n",
       "      <td>-0.130314</td>\n",
       "    </tr>\n",
       "    <tr>\n",
       "      <th>8</th>\n",
       "      <td>0.24</td>\n",
       "      <td>0.099861</td>\n",
       "      <td>0.814</td>\n",
       "      <td>G</td>\n",
       "      <td>0.088356</td>\n",
       "      <td>0.011505</td>\n",
       "      <td>0.8</td>\n",
       "      <td>0.185</td>\n",
       "      <td>0.192</td>\n",
       "      <td>0.02321</td>\n",
       "      <td>0.481771</td>\n",
       "      <td>0.799</td>\n",
       "      <td>0.0</td>\n",
       "      <td>0.182397</td>\n",
       "      <td>0.009766</td>\n",
       "      <td>0.086061</td>\n",
       "      <td>-0.347078</td>\n",
       "      <td>-0.007600</td>\n",
       "    </tr>\n",
       "    <tr>\n",
       "      <th>9</th>\n",
       "      <td>0.30</td>\n",
       "      <td>0.002040</td>\n",
       "      <td>0.560</td>\n",
       "      <td>H</td>\n",
       "      <td>0.001400</td>\n",
       "      <td>0.000640</td>\n",
       "      <td>0.8</td>\n",
       "      <td>0.398</td>\n",
       "      <td>0.193</td>\n",
       "      <td>0.05490</td>\n",
       "      <td>1.031088</td>\n",
       "      <td>0.893</td>\n",
       "      <td>0.0</td>\n",
       "      <td>0.195702</td>\n",
       "      <td>0.000543</td>\n",
       "      <td>0.059677</td>\n",
       "      <td>0.014252</td>\n",
       "      <td>-0.068862</td>\n",
       "    </tr>\n",
       "    <tr>\n",
       "      <th>10</th>\n",
       "      <td>0.30</td>\n",
       "      <td>0.003414</td>\n",
       "      <td>0.889</td>\n",
       "      <td>H</td>\n",
       "      <td>0.002290</td>\n",
       "      <td>0.001124</td>\n",
       "      <td>0.8</td>\n",
       "      <td>0.398</td>\n",
       "      <td>0.193</td>\n",
       "      <td>0.05490</td>\n",
       "      <td>1.031088</td>\n",
       "      <td>0.893</td>\n",
       "      <td>0.0</td>\n",
       "      <td>0.195702</td>\n",
       "      <td>0.000954</td>\n",
       "      <td>0.066051</td>\n",
       "      <td>0.014252</td>\n",
       "      <td>-0.068862</td>\n",
       "    </tr>\n",
       "    <tr>\n",
       "      <th>11</th>\n",
       "      <td>0.25</td>\n",
       "      <td>0.002769</td>\n",
       "      <td>0.580</td>\n",
       "      <td>I</td>\n",
       "      <td>0.001000</td>\n",
       "      <td>0.001769</td>\n",
       "      <td>0.8</td>\n",
       "      <td>0.237</td>\n",
       "      <td>0.096</td>\n",
       "      <td>0.01775</td>\n",
       "      <td>1.234375</td>\n",
       "      <td>0.977</td>\n",
       "      <td>0.0</td>\n",
       "      <td>0.049381</td>\n",
       "      <td>0.001502</td>\n",
       "      <td>0.358037</td>\n",
       "      <td>0.091987</td>\n",
       "      <td>-0.123059</td>\n",
       "    </tr>\n",
       "    <tr>\n",
       "      <th>12</th>\n",
       "      <td>0.25</td>\n",
       "      <td>0.004455</td>\n",
       "      <td>0.861</td>\n",
       "      <td>I</td>\n",
       "      <td>0.002505</td>\n",
       "      <td>0.001950</td>\n",
       "      <td>0.8</td>\n",
       "      <td>0.237</td>\n",
       "      <td>0.096</td>\n",
       "      <td>0.01775</td>\n",
       "      <td>1.234375</td>\n",
       "      <td>0.977</td>\n",
       "      <td>0.0</td>\n",
       "      <td>0.049381</td>\n",
       "      <td>0.001655</td>\n",
       "      <td>0.265878</td>\n",
       "      <td>0.091987</td>\n",
       "      <td>-0.123059</td>\n",
       "    </tr>\n",
       "    <tr>\n",
       "      <th>13</th>\n",
       "      <td>0.23</td>\n",
       "      <td>0.007458</td>\n",
       "      <td>1.030</td>\n",
       "      <td>J</td>\n",
       "      <td>0.002762</td>\n",
       "      <td>0.004697</td>\n",
       "      <td>0.8</td>\n",
       "      <td>0.343</td>\n",
       "      <td>0.192</td>\n",
       "      <td>0.03163</td>\n",
       "      <td>0.893229</td>\n",
       "      <td>0.593</td>\n",
       "      <td>0.0</td>\n",
       "      <td>0.353409</td>\n",
       "      <td>0.003987</td>\n",
       "      <td>0.135721</td>\n",
       "      <td>-0.063366</td>\n",
       "      <td>0.123590</td>\n",
       "    </tr>\n",
       "    <tr>\n",
       "      <th>14</th>\n",
       "      <td>0.29</td>\n",
       "      <td>0.018963</td>\n",
       "      <td>0.780</td>\n",
       "      <td>K</td>\n",
       "      <td>0.001304</td>\n",
       "      <td>0.017660</td>\n",
       "      <td>1.0</td>\n",
       "      <td>0.193</td>\n",
       "      <td>0.125</td>\n",
       "      <td>0.01228</td>\n",
       "      <td>0.772000</td>\n",
       "      <td>0.541</td>\n",
       "      <td>0.0</td>\n",
       "      <td>0.227156</td>\n",
       "      <td>0.014990</td>\n",
       "      <td>0.292548</td>\n",
       "      <td>-0.148721</td>\n",
       "      <td>0.155846</td>\n",
       "    </tr>\n",
       "    <tr>\n",
       "      <th>15</th>\n",
       "      <td>0.26</td>\n",
       "      <td>0.163100</td>\n",
       "      <td>0.551</td>\n",
       "      <td>L</td>\n",
       "      <td>0.028802</td>\n",
       "      <td>0.134298</td>\n",
       "      <td>1.0</td>\n",
       "      <td>0.151</td>\n",
       "      <td>0.144</td>\n",
       "      <td>0.00933</td>\n",
       "      <td>0.524306</td>\n",
       "      <td>0.430</td>\n",
       "      <td>0.0</td>\n",
       "      <td>0.240320</td>\n",
       "      <td>0.113995</td>\n",
       "      <td>0.927596</td>\n",
       "      <td>-0.377793</td>\n",
       "      <td>0.210592</td>\n",
       "    </tr>\n",
       "  </tbody>\n",
       "</table>\n",
       "</div>"
      ],
      "text/plain": [
       "    phi_a  B_star_hat  omega_hat model   B_W+B_F  B_E_star_hat  L_pp   beam  \\\n",
       "0    0.23    0.041169      0.751     A  0.003636      0.037534   0.8  0.280   \n",
       "1    0.24    0.029803      0.507     A  0.001391      0.028413   0.8  0.280   \n",
       "2    0.30    0.023966      0.751     B  0.003265      0.020700   0.8  0.280   \n",
       "3    0.30    0.014438      0.536     B  0.001111      0.013328   0.8  0.280   \n",
       "4    0.27    0.008265      0.751     C  0.002115      0.006151   0.8  0.280   \n",
       "5    0.21    0.005487      0.625     C  0.001500      0.003987   0.8  0.280   \n",
       "6    0.31    0.009504      0.939     D  0.002039      0.007466   0.8  0.280   \n",
       "7    0.31    0.007645      0.751     D  0.001500      0.006145   0.8  0.280   \n",
       "8    0.24    0.099861      0.814     G  0.088356      0.011505   0.8  0.185   \n",
       "9    0.30    0.002040      0.560     H  0.001400      0.000640   0.8  0.398   \n",
       "10   0.30    0.003414      0.889     H  0.002290      0.001124   0.8  0.398   \n",
       "11   0.25    0.002769      0.580     I  0.001000      0.001769   0.8  0.237   \n",
       "12   0.25    0.004455      0.861     I  0.002505      0.001950   0.8  0.237   \n",
       "13   0.23    0.007458      1.030     J  0.002762      0.004697   0.8  0.343   \n",
       "14   0.29    0.018963      0.780     K  0.001304      0.017660   1.0  0.193   \n",
       "15   0.26    0.163100      0.551     L  0.028802      0.134298   1.0  0.151   \n",
       "\n",
       "      T_s     Disp        H0  sigma  OG/d         R  B_E0_HAT       C_r  \\\n",
       "0   0.112  0.02509  1.250000  1.000   0.0  0.000000  0.031860  6.791066   \n",
       "1   0.112  0.02509  1.250000  1.000   0.0  0.000000  0.024117  7.297515   \n",
       "2   0.112  0.02501  1.250000  0.997   0.0  0.010000  0.017571  2.862276   \n",
       "3   0.112  0.02501  1.250000  0.997   0.0  0.010000  0.011313  2.582057   \n",
       "4   0.112  0.02495  1.250000  0.995   0.0  0.020000  0.005221  0.942686   \n",
       "5   0.112  0.02495  1.250000  0.995   0.0  0.020000  0.003384  0.943989   \n",
       "6   0.112  0.02475  1.250000  0.988   0.0  0.030000  0.006337  0.790684   \n",
       "7   0.112  0.02475  1.250000  0.988   0.0  0.030000  0.005216  0.813690   \n",
       "8   0.192  0.02321  0.481771  0.799   0.0  0.182397  0.009766  0.086061   \n",
       "9   0.193  0.05490  1.031088  0.893   0.0  0.195702  0.000543  0.059677   \n",
       "10  0.193  0.05490  1.031088  0.893   0.0  0.195702  0.000954  0.066051   \n",
       "11  0.096  0.01775  1.234375  0.977   0.0  0.049381  0.001502  0.358037   \n",
       "12  0.096  0.01775  1.234375  0.977   0.0  0.049381  0.001655  0.265878   \n",
       "13  0.192  0.03163  0.893229  0.593   0.0  0.353409  0.003987  0.135721   \n",
       "14  0.125  0.01228  0.772000  0.541   0.0  0.227156  0.014990  0.292548   \n",
       "15  0.144  0.00933  0.524306  0.430   0.0  0.240320  0.113995  0.927596   \n",
       "\n",
       "         a_1       a_3  \n",
       "0   0.095721 -0.138514  \n",
       "1   0.095721 -0.138514  \n",
       "2   0.095950 -0.136454  \n",
       "3   0.095950 -0.136454  \n",
       "4   0.096102 -0.135084  \n",
       "5   0.096102 -0.135084  \n",
       "6   0.096632 -0.130314  \n",
       "7   0.096632 -0.130314  \n",
       "8  -0.347078 -0.007600  \n",
       "9   0.014252 -0.068862  \n",
       "10  0.014252 -0.068862  \n",
       "11  0.091987 -0.123059  \n",
       "12  0.091987 -0.123059  \n",
       "13 -0.063366  0.123590  \n",
       "14 -0.148721  0.155846  \n",
       "15 -0.377793  0.210592  "
      ]
     },
     "execution_count": 32,
     "metadata": {},
     "output_type": "execute_result"
    }
   ],
   "source": [
    "df_ikeda_sections"
   ]
  },
  {
   "cell_type": "code",
   "execution_count": 34,
   "metadata": {},
   "outputs": [
    {
     "data": {
      "text/html": [
       "<div>\n",
       "<style scoped>\n",
       "    .dataframe tbody tr th:only-of-type {\n",
       "        vertical-align: middle;\n",
       "    }\n",
       "\n",
       "    .dataframe tbody tr th {\n",
       "        vertical-align: top;\n",
       "    }\n",
       "\n",
       "    .dataframe thead th {\n",
       "        text-align: right;\n",
       "    }\n",
       "</style>\n",
       "<table border=\"1\" class=\"dataframe\">\n",
       "  <thead>\n",
       "    <tr style=\"text-align: right;\">\n",
       "      <th></th>\n",
       "      <th>phi_a</th>\n",
       "      <th>omega_hat</th>\n",
       "      <th>model</th>\n",
       "      <th>H0</th>\n",
       "      <th>sigma</th>\n",
       "      <th>OG/d</th>\n",
       "      <th>R</th>\n",
       "      <th>C_r</th>\n",
       "      <th>a_1</th>\n",
       "      <th>a_3</th>\n",
       "    </tr>\n",
       "  </thead>\n",
       "  <tbody>\n",
       "    <tr>\n",
       "      <th>0</th>\n",
       "      <td>0.23</td>\n",
       "      <td>0.751</td>\n",
       "      <td>A</td>\n",
       "      <td>1.25</td>\n",
       "      <td>1.000</td>\n",
       "      <td>0.0</td>\n",
       "      <td>0.00</td>\n",
       "      <td>6.791066</td>\n",
       "      <td>0.095721</td>\n",
       "      <td>-0.138514</td>\n",
       "    </tr>\n",
       "    <tr>\n",
       "      <th>1</th>\n",
       "      <td>0.24</td>\n",
       "      <td>0.507</td>\n",
       "      <td>A</td>\n",
       "      <td>1.25</td>\n",
       "      <td>1.000</td>\n",
       "      <td>0.0</td>\n",
       "      <td>0.00</td>\n",
       "      <td>7.297515</td>\n",
       "      <td>0.095721</td>\n",
       "      <td>-0.138514</td>\n",
       "    </tr>\n",
       "    <tr>\n",
       "      <th>2</th>\n",
       "      <td>0.30</td>\n",
       "      <td>0.751</td>\n",
       "      <td>B</td>\n",
       "      <td>1.25</td>\n",
       "      <td>0.997</td>\n",
       "      <td>0.0</td>\n",
       "      <td>0.01</td>\n",
       "      <td>2.862276</td>\n",
       "      <td>0.095950</td>\n",
       "      <td>-0.136454</td>\n",
       "    </tr>\n",
       "    <tr>\n",
       "      <th>3</th>\n",
       "      <td>0.30</td>\n",
       "      <td>0.536</td>\n",
       "      <td>B</td>\n",
       "      <td>1.25</td>\n",
       "      <td>0.997</td>\n",
       "      <td>0.0</td>\n",
       "      <td>0.01</td>\n",
       "      <td>2.582057</td>\n",
       "      <td>0.095950</td>\n",
       "      <td>-0.136454</td>\n",
       "    </tr>\n",
       "    <tr>\n",
       "      <th>4</th>\n",
       "      <td>0.27</td>\n",
       "      <td>0.751</td>\n",
       "      <td>C</td>\n",
       "      <td>1.25</td>\n",
       "      <td>0.995</td>\n",
       "      <td>0.0</td>\n",
       "      <td>0.02</td>\n",
       "      <td>0.942686</td>\n",
       "      <td>0.096102</td>\n",
       "      <td>-0.135084</td>\n",
       "    </tr>\n",
       "  </tbody>\n",
       "</table>\n",
       "</div>"
      ],
      "text/plain": [
       "   phi_a  omega_hat model    H0  sigma  OG/d     R       C_r       a_1  \\\n",
       "0   0.23      0.751     A  1.25  1.000   0.0  0.00  6.791066  0.095721   \n",
       "1   0.24      0.507     A  1.25  1.000   0.0  0.00  7.297515  0.095721   \n",
       "2   0.30      0.751     B  1.25  0.997   0.0  0.01  2.862276  0.095950   \n",
       "3   0.30      0.536     B  1.25  0.997   0.0  0.01  2.582057  0.095950   \n",
       "4   0.27      0.751     C  1.25  0.995   0.0  0.02  0.942686  0.096102   \n",
       "\n",
       "        a_3  \n",
       "0 -0.138514  \n",
       "1 -0.138514  \n",
       "2 -0.136454  \n",
       "3 -0.136454  \n",
       "4 -0.135084  "
      ]
     },
     "execution_count": 34,
     "metadata": {},
     "output_type": "execute_result"
    }
   ],
   "source": [
    "data = df_ikeda_sections.copy()\n",
    "data.drop(columns=['B_star_hat','B_E_star_hat','B_E0_HAT','B_W+B_F','Disp','L_pp','beam','T_s'], \n",
    "          inplace=True)\n",
    "data.head()"
   ]
  },
  {
   "cell_type": "code",
   "execution_count": 35,
   "metadata": {},
   "outputs": [],
   "source": [
    "data.drop(columns=['OG/d'], inplace=True)  # always 0"
   ]
  },
  {
   "cell_type": "code",
   "execution_count": 36,
   "metadata": {},
   "outputs": [
    {
     "data": {
      "text/plain": [
       "<seaborn.axisgrid.PairGrid at 0x1abecd6d550>"
      ]
     },
     "execution_count": 36,
     "metadata": {},
     "output_type": "execute_result"
    },
    {
     "data": {
      "image/png": "[encoded data removed]",
      "text/plain": [
       "<Figure size 1440x1440 with 72 Axes>"
      ]
     },
     "metadata": {
      "needs_background": "light"
     },
     "output_type": "display_data"
    }
   ],
   "source": [
    "sns.pairplot(data = data)"
   ]
  },
  {
   "cell_type": "code",
   "execution_count": 37,
   "metadata": {},
   "outputs": [
    {
     "data": {
      "image/png": "[encoded data removed]",
      "text/plain": [
       "<Figure size 864x216 with 8 Axes>"
      ]
     },
     "metadata": {
      "needs_background": "light"
     },
     "output_type": "display_data"
    }
   ],
   "source": [
    "x_vars = list(data.columns)\n",
    "x_vars.remove('C_r')\n",
    "\n",
    "grid = sns.pairplot(data = data, x_vars=x_vars, y_vars=['C_r'], height=3)\n",
    "grid.fig.set_size_inches(12,3)"
   ]
  },
  {
   "cell_type": "code",
   "execution_count": 38,
   "metadata": {},
   "outputs": [
    {
     "data": {
      "text/plain": [
       "<AxesSubplot:xlabel='sigma'>"
      ]
     },
     "execution_count": 38,
     "metadata": {},
     "output_type": "execute_result"
    },
    {
     "data": {
      "image/png": "[encoded data removed]",
      "text/plain": [
       "<Figure size 432x288 with 1 Axes>"
      ]
     },
     "metadata": {
      "needs_background": "light"
     },
     "output_type": "display_data"
    }
   ],
   "source": [
    "data.plot(x='sigma', y='a_3', style='.')"
   ]
  },
  {
   "cell_type": "code",
   "execution_count": 39,
   "metadata": {},
   "outputs": [
    {
     "data": {
      "text/plain": [
       "<AxesSubplot:xlabel='sigma'>"
      ]
     },
     "execution_count": 39,
     "metadata": {},
     "output_type": "execute_result"
    },
    {
     "data": {
      "image/png": "[encoded data removed]",
      "text/plain": [
       "<Figure size 432x288 with 1 Axes>"
      ]
     },
     "metadata": {
      "needs_background": "light"
     },
     "output_type": "display_data"
    }
   ],
   "source": [
    "data.plot(x='sigma', y='C_r', style='.')"
   ]
  },
  {
   "cell_type": "code",
   "execution_count": 40,
   "metadata": {},
   "outputs": [
    {
     "data": {
      "text/plain": [
       "<AxesSubplot:xlabel='a_3'>"
      ]
     },
     "execution_count": 40,
     "metadata": {},
     "output_type": "execute_result"
    },
    {
     "data": {
      "image/png": "[encoded data removed]",
      "text/plain": [
       "<Figure size 432x288 with 1 Axes>"
      ]
     },
     "metadata": {
      "needs_background": "light"
     },
     "output_type": "display_data"
    }
   ],
   "source": [
    "data.plot(x='a_3', y='C_r', style='.')"
   ]
  },
  {
   "cell_type": "code",
   "execution_count": 41,
   "metadata": {},
   "outputs": [
    {
     "data": {
      "text/plain": [
       "['phi_a', 'omega_hat', 'model', 'H0', 'sigma', 'R', 'C_r', 'a_1', 'a_3']"
      ]
     },
     "execution_count": 41,
     "metadata": {},
     "output_type": "execute_result"
    }
   ],
   "source": [
    "features = list(data.columns)\n",
    "features"
   ]
  },
  {
   "cell_type": "code",
   "execution_count": 42,
   "metadata": {},
   "outputs": [],
   "source": [
    "data_ = data.select_dtypes(exclude='object')\n",
    "y = data_.pop('C_r')\n",
    "X = data_.copy()\n",
    "feature_names = X.columns"
   ]
  },
  {
   "cell_type": "code",
   "execution_count": 43,
   "metadata": {},
   "outputs": [],
   "source": [
    "from sklearn.feature_selection import RFE\n",
    "from sklearn.pipeline import Pipeline\n",
    "from sklearn.tree import DecisionTreeRegressor\n",
    "from sklearn import tree\n",
    "\n",
    "# create pipeline\n",
    "rfe = RFE(estimator=DecisionTreeRegressor(), n_features_to_select=3)\n",
    "descision_tree = DecisionTreeRegressor(max_depth=4, random_state=42)\n",
    "pipeline = Pipeline(steps=[('s',rfe),('m',descision_tree)])\n",
    "model = pipeline.fit(X,y)"
   ]
  },
  {
   "cell_type": "code",
   "execution_count": 44,
   "metadata": {},
   "outputs": [
    {
     "data": {
      "text/plain": [
       "<AxesSubplot:xlabel='max_depth'>"
      ]
     },
     "execution_count": 44,
     "metadata": {},
     "output_type": "execute_result"
    },
    {
     "data": {
      "image/png": "[encoded data removed]",
      "text/plain": [
       "<Figure size 432x288 with 1 Axes>"
      ]
     },
     "metadata": {
      "needs_background": "light"
     },
     "output_type": "display_data"
    }
   ],
   "source": [
    "\n",
    "\n",
    "# Fit regression model\n",
    "descision_tree = DecisionTreeRegressor(max_depth=3)\n",
    "descision_tree.fit(X, y)\n",
    "\n",
    "df_trees = pd.DataFrame()\n",
    "df_trees['max_depth'] = np.arange(1,len(X))\n",
    "df_trees.set_index('max_depth', inplace=True)\n",
    "\n",
    "for max_depth, row in df_trees.iterrows():\n",
    "    descision_tree = DecisionTreeRegressor(max_depth=max_depth,max_features=3, random_state=42)\n",
    "    descision_tree.fit(X, y)\n",
    "    df_trees.loc[max_depth,'score'] = descision_tree.score(X, y)\n",
    "    \n",
    "fig,ax=plt.subplots()\n",
    "df_trees.loc[2:].plot(y='score', ax=ax)"
   ]
  },
  {
   "cell_type": "code",
   "execution_count": 45,
   "metadata": {},
   "outputs": [
    {
     "data": {
      "text/plain": [
       "<AxesSubplot:xlabel='n_features'>"
      ]
     },
     "execution_count": 45,
     "metadata": {},
     "output_type": "execute_result"
    },
    {
     "data": {
      "image/png": "[encoded data removed]",
      "text/plain": [
       "<Figure size 432x288 with 1 Axes>"
      ]
     },
     "metadata": {
      "needs_background": "light"
     },
     "output_type": "display_data"
    }
   ],
   "source": [
    "from sklearn.tree import DecisionTreeRegressor\n",
    "from sklearn import tree\n",
    "\n",
    "# Fit regression model\n",
    "descision_tree = DecisionTreeRegressor(max_depth=3)\n",
    "descision_tree.fit(X, y)\n",
    "\n",
    "df_trees = pd.DataFrame()\n",
    "df_trees['n_features'] = np.arange(1,len(X))\n",
    "df_trees.set_index('n_features', inplace=True)\n",
    "\n",
    "for n_features, row in df_trees.iterrows():\n",
    "    \n",
    "    descision_tree = DecisionTreeRegressor(max_depth=n_features, random_state=42)\n",
    "    rfe = RFE(estimator=descision_tree, n_features_to_select=2)\n",
    "    \n",
    "    pipeline = Pipeline(steps=[('s',rfe),('m',descision_tree)])\n",
    "    model = pipeline.fit(X,y)\n",
    "    \n",
    "    df_trees.loc[n_features,'score'] = model.score(X, y)\n",
    "    \n",
    "fig,ax=plt.subplots()\n",
    "df_trees.loc[2:].plot(y='score', ax=ax)"
   ]
  },
  {
   "cell_type": "code",
   "execution_count": 46,
   "metadata": {},
   "outputs": [
    {
     "data": {
      "text/plain": [
       "0.9967264383051466"
      ]
     },
     "execution_count": 46,
     "metadata": {},
     "output_type": "execute_result"
    }
   ],
   "source": [
    "descision_tree = DecisionTreeRegressor(max_depth=4, random_state=42)\n",
    "rfe = RFE(estimator=descision_tree, n_features_to_select=2)\n",
    "rfe.fit(X,y)\n",
    "good_feature_names = feature_names[rfe.get_support()]\n",
    "X_good = X[good_feature_names].copy()\n",
    "descision_tree.fit(X_good,y)\n",
    "descision_tree.score(X_good,y)"
   ]
  },
  {
   "cell_type": "code",
   "execution_count": 47,
   "metadata": {},
   "outputs": [
    {
     "data": {
      "text/plain": [
       "Index(['sigma', 'a_3'], dtype='object')"
      ]
     },
     "execution_count": 47,
     "metadata": {},
     "output_type": "execute_result"
    }
   ],
   "source": [
    "good_feature_names"
   ]
  },
  {
   "cell_type": "code",
   "execution_count": 48,
   "metadata": {},
   "outputs": [],
   "source": [
    "y_pred = descision_tree.predict(X_good)\n",
    "data_pred = df_ikeda_sections.copy()\n",
    "data_pred['C_r'] = y_pred"
   ]
  },
  {
   "cell_type": "code",
   "execution_count": 49,
   "metadata": {
    "scrolled": true
   },
   "outputs": [
    {
     "data": {
      "text/plain": [
       "<AxesSubplot:xlabel='a_3'>"
      ]
     },
     "execution_count": 49,
     "metadata": {},
     "output_type": "execute_result"
    },
    {
     "data": {
      "image/png": "[encoded data removed]",
      "text/plain": [
       "<Figure size 432x288 with 1 Axes>"
      ]
     },
     "metadata": {
      "needs_background": "light"
     },
     "output_type": "display_data"
    }
   ],
   "source": [
    "fig,ax=plt.subplots()\n",
    "data_pred.plot(x='a_3', y='C_r', style='o', ax=ax)\n",
    "data.plot(x='a_3', y='C_r', style='.', ax=ax)\n"
   ]
  },
  {
   "cell_type": "markdown",
   "metadata": {},
   "source": [
    "<a id='tree'></a>"
   ]
  },
  {
   "cell_type": "code",
   "execution_count": 50,
   "metadata": {
    "scrolled": true
   },
   "outputs": [
    {
     "data": {
      "image/png": "[encoded data removed]",
      "text/plain": [
       "<Figure size 1080x576 with 1 Axes>"
      ]
     },
     "metadata": {
      "needs_background": "light"
     },
     "output_type": "display_data"
    }
   ],
   "source": [
    "fig,ax = plt.subplots()\n",
    "fig.set_size_inches(15,8)\n",
    "tree.plot_tree(descision_tree, ax=ax, feature_names=good_feature_names, rounded=True);"
   ]
  },
  {
   "cell_type": "markdown",
   "metadata": {},
   "source": [
    "## Go back to $\\hat{B_E*}$"
   ]
  },
  {
   "cell_type": "code",
   "execution_count": 51,
   "metadata": {},
   "outputs": [
    {
     "data": {
      "text/latex": [
       "$\\displaystyle B_{E0 HAT} = \\frac{4 C_{r} L_{pp} T_{s}^{4} \\omega_{hat} \\phi_{a}}{3 \\pi Disp beam^{2}}$"
      ],
      "text/plain": [
       "Eq(B_E0_HAT, 4*C_r*L_pp*T_s**4*omega_hat*phi_a/(3*pi*Disp*beam**2))"
      ]
     },
     "execution_count": 51,
     "metadata": {},
     "output_type": "execute_result"
    }
   ],
   "source": [
    "solution = sp.solve(equations_ikeda_naked.eq_B_E0_hat, symbols.B_E0_hat)[0]\n",
    "lambda_B_E0_hat = lambdify(solution)\n",
    "\n",
    "equations_ikeda_naked.eq_B_E0_hat"
   ]
  },
  {
   "cell_type": "code",
   "execution_count": 52,
   "metadata": {},
   "outputs": [
    {
     "data": {
      "text/latex": [
       "$\\displaystyle B_{E star hat} = \\frac{3 \\pi B_{E0 HAT}}{8}$"
      ],
      "text/plain": [
       "Eq(B_E_star_hat, 3*pi*B_E0_HAT/8)"
      ]
     },
     "execution_count": 52,
     "metadata": {},
     "output_type": "execute_result"
    }
   ],
   "source": [
    "solution = sp.solve(equations_ikeda_naked.eq_B_E_star_hat, symbols.B_E_star_hat)[0]\n",
    "eq_B_E_star_hat = sp.Eq(symbols.B_E_star_hat, solution)\n",
    "lambda_B_E_star_hat = lambdify(solution)\n",
    "eq_B_E_star_hat"
   ]
  },
  {
   "cell_type": "code",
   "execution_count": 53,
   "metadata": {},
   "outputs": [],
   "source": [
    "data_pred['B_E0_HAT'] = run(lambda_B_E0_hat, data_pred)"
   ]
  },
  {
   "cell_type": "code",
   "execution_count": 54,
   "metadata": {},
   "outputs": [],
   "source": [
    "data_pred['B_E_star_hat'] = run(lambda_B_E_star_hat, data_pred)"
   ]
  },
  {
   "cell_type": "code",
   "execution_count": 55,
   "metadata": {},
   "outputs": [
    {
     "data": {
      "text/html": [
       "<div>\n",
       "<style scoped>\n",
       "    .dataframe tbody tr th:only-of-type {\n",
       "        vertical-align: middle;\n",
       "    }\n",
       "\n",
       "    .dataframe tbody tr th {\n",
       "        vertical-align: top;\n",
       "    }\n",
       "\n",
       "    .dataframe thead th {\n",
       "        text-align: right;\n",
       "    }\n",
       "</style>\n",
       "<table border=\"1\" class=\"dataframe\">\n",
       "  <thead>\n",
       "    <tr style=\"text-align: right;\">\n",
       "      <th></th>\n",
       "      <th>phi_a</th>\n",
       "      <th>B_star_hat</th>\n",
       "      <th>omega_hat</th>\n",
       "      <th>model</th>\n",
       "      <th>B_W+B_F</th>\n",
       "      <th>B_E_star_hat</th>\n",
       "      <th>L_pp</th>\n",
       "      <th>beam</th>\n",
       "      <th>T_s</th>\n",
       "      <th>Disp</th>\n",
       "      <th>H0</th>\n",
       "      <th>sigma</th>\n",
       "      <th>OG/d</th>\n",
       "      <th>R</th>\n",
       "      <th>B_E0_HAT</th>\n",
       "      <th>C_r</th>\n",
       "      <th>a_1</th>\n",
       "      <th>a_3</th>\n",
       "    </tr>\n",
       "  </thead>\n",
       "  <tbody>\n",
       "    <tr>\n",
       "      <th>0</th>\n",
       "      <td>0.23</td>\n",
       "      <td>0.041169</td>\n",
       "      <td>0.751</td>\n",
       "      <td>A</td>\n",
       "      <td>0.003636</td>\n",
       "      <td>0.038933</td>\n",
       "      <td>0.8</td>\n",
       "      <td>0.28</td>\n",
       "      <td>0.112</td>\n",
       "      <td>0.02509</td>\n",
       "      <td>1.25</td>\n",
       "      <td>1.000</td>\n",
       "      <td>0.0</td>\n",
       "      <td>0.00</td>\n",
       "      <td>0.033048</td>\n",
       "      <td>7.044290</td>\n",
       "      <td>0.095721</td>\n",
       "      <td>-0.138514</td>\n",
       "    </tr>\n",
       "    <tr>\n",
       "      <th>1</th>\n",
       "      <td>0.24</td>\n",
       "      <td>0.029803</td>\n",
       "      <td>0.507</td>\n",
       "      <td>A</td>\n",
       "      <td>0.001391</td>\n",
       "      <td>0.027427</td>\n",
       "      <td>0.8</td>\n",
       "      <td>0.28</td>\n",
       "      <td>0.112</td>\n",
       "      <td>0.02509</td>\n",
       "      <td>1.25</td>\n",
       "      <td>1.000</td>\n",
       "      <td>0.0</td>\n",
       "      <td>0.00</td>\n",
       "      <td>0.023280</td>\n",
       "      <td>7.044290</td>\n",
       "      <td>0.095721</td>\n",
       "      <td>-0.138514</td>\n",
       "    </tr>\n",
       "    <tr>\n",
       "      <th>2</th>\n",
       "      <td>0.30</td>\n",
       "      <td>0.023966</td>\n",
       "      <td>0.751</td>\n",
       "      <td>B</td>\n",
       "      <td>0.003265</td>\n",
       "      <td>0.019687</td>\n",
       "      <td>0.8</td>\n",
       "      <td>0.28</td>\n",
       "      <td>0.112</td>\n",
       "      <td>0.02501</td>\n",
       "      <td>1.25</td>\n",
       "      <td>0.997</td>\n",
       "      <td>0.0</td>\n",
       "      <td>0.01</td>\n",
       "      <td>0.016711</td>\n",
       "      <td>2.722167</td>\n",
       "      <td>0.095950</td>\n",
       "      <td>-0.136454</td>\n",
       "    </tr>\n",
       "    <tr>\n",
       "      <th>3</th>\n",
       "      <td>0.30</td>\n",
       "      <td>0.014438</td>\n",
       "      <td>0.536</td>\n",
       "      <td>B</td>\n",
       "      <td>0.001111</td>\n",
       "      <td>0.014051</td>\n",
       "      <td>0.8</td>\n",
       "      <td>0.28</td>\n",
       "      <td>0.112</td>\n",
       "      <td>0.02501</td>\n",
       "      <td>1.25</td>\n",
       "      <td>0.997</td>\n",
       "      <td>0.0</td>\n",
       "      <td>0.01</td>\n",
       "      <td>0.011927</td>\n",
       "      <td>2.722167</td>\n",
       "      <td>0.095950</td>\n",
       "      <td>-0.136454</td>\n",
       "    </tr>\n",
       "    <tr>\n",
       "      <th>4</th>\n",
       "      <td>0.27</td>\n",
       "      <td>0.008265</td>\n",
       "      <td>0.751</td>\n",
       "      <td>C</td>\n",
       "      <td>0.002115</td>\n",
       "      <td>0.006155</td>\n",
       "      <td>0.8</td>\n",
       "      <td>0.28</td>\n",
       "      <td>0.112</td>\n",
       "      <td>0.02495</td>\n",
       "      <td>1.25</td>\n",
       "      <td>0.995</td>\n",
       "      <td>0.0</td>\n",
       "      <td>0.02</td>\n",
       "      <td>0.005224</td>\n",
       "      <td>0.943338</td>\n",
       "      <td>0.096102</td>\n",
       "      <td>-0.135084</td>\n",
       "    </tr>\n",
       "  </tbody>\n",
       "</table>\n",
       "</div>"
      ],
      "text/plain": [
       "   phi_a  B_star_hat  omega_hat model   B_W+B_F  B_E_star_hat  L_pp  beam  \\\n",
       "0   0.23    0.041169      0.751     A  0.003636      0.038933   0.8  0.28   \n",
       "1   0.24    0.029803      0.507     A  0.001391      0.027427   0.8  0.28   \n",
       "2   0.30    0.023966      0.751     B  0.003265      0.019687   0.8  0.28   \n",
       "3   0.30    0.014438      0.536     B  0.001111      0.014051   0.8  0.28   \n",
       "4   0.27    0.008265      0.751     C  0.002115      0.006155   0.8  0.28   \n",
       "\n",
       "     T_s     Disp    H0  sigma  OG/d     R  B_E0_HAT       C_r       a_1  \\\n",
       "0  0.112  0.02509  1.25  1.000   0.0  0.00  0.033048  7.044290  0.095721   \n",
       "1  0.112  0.02509  1.25  1.000   0.0  0.00  0.023280  7.044290  0.095721   \n",
       "2  0.112  0.02501  1.25  0.997   0.0  0.01  0.016711  2.722167  0.095950   \n",
       "3  0.112  0.02501  1.25  0.997   0.0  0.01  0.011927  2.722167  0.095950   \n",
       "4  0.112  0.02495  1.25  0.995   0.0  0.02  0.005224  0.943338  0.096102   \n",
       "\n",
       "        a_3  \n",
       "0 -0.138514  \n",
       "1 -0.138514  \n",
       "2 -0.136454  \n",
       "3 -0.136454  \n",
       "4 -0.135084  "
      ]
     },
     "execution_count": 55,
     "metadata": {},
     "output_type": "execute_result"
    }
   ],
   "source": [
    "data_pred.head()"
   ]
  },
  {
   "cell_type": "code",
   "execution_count": 56,
   "metadata": {},
   "outputs": [
    {
     "data": {
      "text/plain": [
       "10"
      ]
     },
     "execution_count": 56,
     "metadata": {},
     "output_type": "execute_result"
    }
   ],
   "source": [
    "len(df_ikeda_sections.groupby(by='model'))"
   ]
  },
  {
   "cell_type": "code",
   "execution_count": 57,
   "metadata": {},
   "outputs": [],
   "source": [
    "def plot():\n",
    "    \n",
    "    data_pred_groups = data_pred.groupby(by=['model','omega_hat'])\n",
    "    \n",
    "    y_key = 'B_E_star_hat'\n",
    "    y_max = np.max([df_ikeda_sections[y_key].max(), data_pred[y_key].max()])\n",
    "    \n",
    "    model_groups = df_ikeda_sections.groupby(by='model')\n",
    "    fig,axes=plt.subplots(ncols=3, nrows=4)\n",
    "    axes=axes.flatten()[0:len(model_groups)]\n",
    "    \n",
    "    for (model_name, ikeda_data),ax in zip(model_groups,axes):\n",
    "        \n",
    "        ax.set_title(model_name)\n",
    "        \n",
    "        for w_hat, df_ in ikeda_data.groupby(by='omega_hat'):\n",
    "            \n",
    "            label = '$\\hat{\\omega}=%0.3f$' % w_hat\n",
    "            x = df_['phi_a']\n",
    "            y = df_[y_key]\n",
    "            lines = ax.plot([0,x], [0,y], 'o', label=label)\n",
    "            line = lines[-1]\n",
    "            color = line.get_color()\n",
    "            \n",
    "            df_pred = data_pred_groups.get_group((model_name,w_hat))\n",
    "            \n",
    "            label = 'prediction'\n",
    "            x = df_pred['phi_a']\n",
    "            y = df_pred[y_key]\n",
    "            lines = ax.plot([0,x], [0,y], '--', color=color, label=label)\n",
    "        \n",
    "        ax.set_ylim((0,y_max))\n",
    "        ax.legend()\n"
   ]
  },
  {
   "cell_type": "code",
   "execution_count": 58,
   "metadata": {},
   "outputs": [
    {
     "name": "stderr",
     "output_type": "stream",
     "text": [
      "c:\\dev\\prediction-of-roll-damping-using-fully-nonlinear-potential-flow-and-ikedas-method\\reports\\venv\\lib\\site-packages\\numpy\\core\\_asarray.py:136: VisibleDeprecationWarning: Creating an ndarray from ragged nested sequences (which is a list-or-tuple of lists-or-tuples-or ndarrays with different lengths or shapes) is deprecated. If you meant to do this, you must specify 'dtype=object' when creating the ndarray\n",
      "  return array(a, dtype, copy=False, order=order, subok=True)\n"
     ]
    },
    {
     "data": {
      "image/png": "[encoded data removed]",
      "text/plain": [
       "<Figure size 432x288 with 12 Axes>"
      ]
     },
     "metadata": {
      "needs_background": "light"
     },
     "output_type": "display_data"
    }
   ],
   "source": [
    "plot()"
   ]
  },
  {
   "cell_type": "markdown",
   "metadata": {},
   "source": [
    "## KVLCC2"
   ]
  },
  {
   "cell_type": "code",
   "execution_count": 59,
   "metadata": {},
   "outputs": [
    {
     "data": {
      "text/html": [
       "<div>\n",
       "<style scoped>\n",
       "    .dataframe tbody tr th:only-of-type {\n",
       "        vertical-align: middle;\n",
       "    }\n",
       "\n",
       "    .dataframe tbody tr th {\n",
       "        vertical-align: top;\n",
       "    }\n",
       "\n",
       "    .dataframe thead th {\n",
       "        text-align: right;\n",
       "    }\n",
       "</style>\n",
       "<table border=\"1\" class=\"dataframe\">\n",
       "  <thead>\n",
       "    <tr style=\"text-align: right;\">\n",
       "      <th></th>\n",
       "      <th>area</th>\n",
       "      <th>x</th>\n",
       "      <th>t</th>\n",
       "      <th>b</th>\n",
       "      <th>r_b</th>\n",
       "    </tr>\n",
       "    <tr>\n",
       "      <th>no</th>\n",
       "      <th></th>\n",
       "      <th></th>\n",
       "      <th></th>\n",
       "      <th></th>\n",
       "      <th></th>\n",
       "    </tr>\n",
       "  </thead>\n",
       "  <tbody>\n",
       "    <tr>\n",
       "      <th>0</th>\n",
       "      <td>13.826612</td>\n",
       "      <td>-5.495000</td>\n",
       "      <td>2.00</td>\n",
       "      <td>11.638577</td>\n",
       "      <td>6.636080</td>\n",
       "    </tr>\n",
       "    <tr>\n",
       "      <th>1</th>\n",
       "      <td>123.851306</td>\n",
       "      <td>10.159932</td>\n",
       "      <td>18.25</td>\n",
       "      <td>27.893522</td>\n",
       "      <td>42.367175</td>\n",
       "    </tr>\n",
       "    <tr>\n",
       "      <th>2</th>\n",
       "      <td>428.211409</td>\n",
       "      <td>28.051284</td>\n",
       "      <td>20.80</td>\n",
       "      <td>41.824284</td>\n",
       "      <td>45.369454</td>\n",
       "    </tr>\n",
       "    <tr>\n",
       "      <th>3</th>\n",
       "      <td>683.709165</td>\n",
       "      <td>43.706216</td>\n",
       "      <td>20.80</td>\n",
       "      <td>50.282514</td>\n",
       "      <td>41.080696</td>\n",
       "    </tr>\n",
       "    <tr>\n",
       "      <th>4</th>\n",
       "      <td>917.895066</td>\n",
       "      <td>61.597568</td>\n",
       "      <td>20.80</td>\n",
       "      <td>56.159232</td>\n",
       "      <td>34.146143</td>\n",
       "    </tr>\n",
       "  </tbody>\n",
       "</table>\n",
       "</div>"
      ],
      "text/plain": [
       "          area          x      t          b        r_b\n",
       "no                                                    \n",
       "0    13.826612  -5.495000   2.00  11.638577   6.636080\n",
       "1   123.851306  10.159932  18.25  27.893522  42.367175\n",
       "2   428.211409  28.051284  20.80  41.824284  45.369454\n",
       "3   683.709165  43.706216  20.80  50.282514  41.080696\n",
       "4   917.895066  61.597568  20.80  56.159232  34.146143"
      ]
     },
     "execution_count": 59,
     "metadata": {},
     "output_type": "execute_result"
    }
   ],
   "source": [
    "df_kvlcc2 = pd.read_csv('../../data/interim/kvlcc_areas.csv', sep=';', index_col=0)\n",
    "df_kvlcc2.head()"
   ]
  },
  {
   "cell_type": "code",
   "execution_count": 60,
   "metadata": {},
   "outputs": [],
   "source": [
    "df_kvlcc2.rename(columns={\n",
    "    'b':'beam',\n",
    "    't':'T',\n",
    "    'r_b':'R',\n",
    "}, inplace=True)\n",
    "df_kvlcc2['sigma']=df_kvlcc2.area/(df_kvlcc2.beam*df_kvlcc2['T'])\n",
    "df_kvlcc2['OG/d']=0  # For now..."
   ]
  },
  {
   "cell_type": "code",
   "execution_count": 61,
   "metadata": {},
   "outputs": [],
   "source": [
    "df_ = df_kvlcc2.copy()\n",
    "df_.rename(columns={\n",
    "    'beam':'B',\n",
    "    'T':'d',\n",
    "}, inplace=True)\n",
    "\n",
    "a, a_1, a_3, sigma_s, H = calculate_lewis(df_)\n",
    "df_kvlcc2['a_1'] = a_1\n",
    "df_kvlcc2['a_3'] = a_3\n",
    "df_kvlcc2['H0'] = H"
   ]
  },
  {
   "cell_type": "code",
   "execution_count": 62,
   "metadata": {},
   "outputs": [],
   "source": [
    "df_kvlcc2_ = df_kvlcc2.copy()\n",
    "OG = df_kvlcc2_['OG/d']*df_kvlcc2_['T']\n",
    "ra = 1000\n",
    "df_kvlcc2_['C_r'] = ikeda_naked.calculate_C_r(bwl=df_kvlcc2_.beam,\n",
    "                          a_1=df_kvlcc2_.a_1, a_3=df_kvlcc2_.a_3, sigma=df_kvlcc2_.sigma, \n",
    "                                              H0=df_kvlcc2_.H0, d=df_kvlcc2_['T'], OG=OG, \n",
    "                          R=df_kvlcc2_.R, ra=ra)"
   ]
  },
  {
   "cell_type": "code",
   "execution_count": 63,
   "metadata": {},
   "outputs": [
    {
     "data": {
      "text/plain": [
       "<AxesSubplot:xlabel='no'>"
      ]
     },
     "execution_count": 63,
     "metadata": {},
     "output_type": "execute_result"
    },
    {
     "data": {
      "image/png": "[encoded data removed]",
      "text/plain": [
       "<Figure size 432x288 with 1 Axes>"
      ]
     },
     "metadata": {
      "needs_background": "light"
     },
     "output_type": "display_data"
    }
   ],
   "source": [
    "df_kvlcc2['C_r'] = descision_tree.predict(X=df_kvlcc2[good_feature_names])\n",
    "\n",
    "fig,ax=plt.subplots()\n",
    "df_kvlcc2.plot(y='C_r', label='model', ax=ax)\n",
    "df_kvlcc2_.plot(y='C_r', label='ikeda', ax=ax)"
   ]
  },
  {
   "cell_type": "code",
   "execution_count": 64,
   "metadata": {},
   "outputs": [
    {
     "data": {
      "text/plain": [
       "Index(['sigma', 'a_3'], dtype='object')"
      ]
     },
     "execution_count": 64,
     "metadata": {},
     "output_type": "execute_result"
    }
   ],
   "source": [
    "good_feature_names"
   ]
  },
  {
   "cell_type": "code",
   "execution_count": 65,
   "metadata": {},
   "outputs": [
    {
     "data": {
      "text/plain": [
       "['../../models/C_r_tree.pkl']"
      ]
     },
     "execution_count": 65,
     "metadata": {},
     "output_type": "execute_result"
    }
   ],
   "source": [
    "joblib.dump(descision_tree, '../../models/C_r_tree.pkl')"
   ]
  }
 ],
 "metadata": {
  "cite2c": {
   "citations": {
    "7505983/4AFVVGNT": {
     "URL": "https://repository.tudelft.nl/islandora/object/uuid%3A09d79a4d-cd3d-423f-9b23-43a311096202",
     "accessed": {
      "day": 27,
      "month": 1,
      "year": 2020
     },
     "author": [
      {
       "family": "Ikeda",
       "given": "Yoshiho"
      }
     ],
     "container-title": "University of Osaka Prefacture, Department of Naval Architecture, Japan, Report No. 00403, Published in: Journal of Society of Naval Architects of Japan, Volume 142",
     "id": "7505983/4AFVVGNT",
     "issued": {
      "year": 1978
     },
     "language": "en",
     "title": "On eddy making component of roll damping force on naked hull",
     "type": "article-journal"
    }
   }
  },
  "kernelspec": {
   "display_name": "Python 3",
   "language": "python",
   "name": "python3"
  },
  "language_info": {
   "codemirror_mode": {
    "name": "ipython",
    "version": 3
   },
   "file_extension": ".py",
   "mimetype": "text/x-python",
   "name": "python",
   "nbconvert_exporter": "python",
   "pygments_lexer": "ipython3",
   "version": "3.6.8"
  },
  "toc": {
   "base_numbering": 1,
   "nav_menu": {},
   "number_sections": true,
   "sideBar": true,
   "skip_h1_title": false,
   "title_cell": "Table of Contents",
   "title_sidebar": "Contents",
   "toc_cell": false,
   "toc_position": {},
   "toc_section_display": true,
   "toc_window_display": false
  }
 },
 "nbformat": 4,
 "nbformat_minor": 4
}
