{
 "cells": [
  {
   "cell_type": "markdown",
   "metadata": {
    "tags": [
     "remove_cell"
    ]
   },
   "source": [
    "<a id='logbook'></a>\n",
    "# Appendix extras"
   ]
  },
  {
   "cell_type": "code",
   "execution_count": 1,
   "metadata": {
    "tags": [
     "remove_cell"
    ]
   },
   "outputs": [],
   "source": [
    "%matplotlib inline\n",
    "%load_ext autoreload\n",
    "%autoreload 2\n",
    "\n",
    "import warnings\n",
    "warnings.filterwarnings('ignore')"
   ]
  },
  {
   "cell_type": "code",
   "execution_count": 18,
   "metadata": {
    "jupyter": {
     "outputs_hidden": true,
     "source_hidden": true
    }
   },
   "outputs": [
    {
     "name": "stdout",
     "output_type": "stream",
     "text": [
      "The autoreload extension is already loaded. To reload it, use:\n",
      "  %reload_ext autoreload\n"
     ]
    }
   ],
   "source": [
    "# %load imports.py\n",
    "\"\"\"\n",
    "These is the standard setup for the notebooks.\n",
    "\"\"\"\n",
    "\n",
    "%matplotlib inline\n",
    "%load_ext autoreload\n",
    "%autoreload 2\n",
    "\n",
    "import sys\n",
    "sys.path.append(\"../../\")\n",
    "\n",
    "import pandas as pd\n",
    "pd.options.display.max_rows = 999\n",
    "pd.options.display.max_columns = 999\n",
    "pd.set_option(\"display.max_columns\", None)\n",
    "import numpy as np\n",
    "import os\n",
    "import matplotlib.pyplot as plt\n",
    "from collections import OrderedDict\n",
    "import copy\n",
    "from sklearn.pipeline import Pipeline\n",
    "from rolldecayestimators.transformers import CutTransformer, LowpassFilterDerivatorTransformer, ScaleFactorTransformer, OffsetTransformer\n",
    "from rolldecayestimators.direct_estimator_cubic import EstimatorQuadraticB, EstimatorCubic\n",
    "from rolldecayestimators.ikeda_estimator import IkedaQuadraticEstimator\n",
    "import src.equations as equations\n",
    "import rolldecayestimators.lambdas as lambdas\n",
    "from rolldecayestimators.substitute_dynamic_symbols import lambdify\n",
    "import rolldecayestimators.symbols as symbols\n",
    "import sympy as sp\n",
    "\n",
    "from sympy.physics.vector.printing import vpprint, vlatex\n",
    "from IPython.display import display, Math, Latex\n",
    "\n",
    "from sklearn.metrics import r2_score\n",
    "import shipflowmotionshelpers.shipflowmotionshelpers as helpers\n",
    "import src.visualization.visualize as visualize\n",
    "import scipy\n",
    "from copy import deepcopy\n",
    "import joblib"
   ]
  },
  {
   "cell_type": "code",
   "execution_count": 19,
   "metadata": {
    "tags": [
     "remove_cell"
    ]
   },
   "outputs": [],
   "source": [
    "import warnings\n",
    "warnings.filterwarnings('ignore')"
   ]
  },
  {
   "cell_type": "code",
   "execution_count": 22,
   "metadata": {},
   "outputs": [],
   "source": [
    "if os.name == 'nt':\n",
    "    plt.style.use('paper.mplstyle')  # Windows\n",
    "\n",
    "from scipy.integrate import solve_ivp\n",
    "from scipy.optimize import least_squares\n",
    "from rolldecayestimators import fit_on_amplitudes\n",
    "from reports import mdl_results\n",
    "import rolldecayestimators.ikeda as ikeda_classes\n",
    "from pyscores2.indata import Indata\n",
    "from pyscores2.output import OutputFile\n",
    "import joblib\n",
    "import src.visualization.visualize as visualize\n",
    "from rolldecayestimators import equations_ikeda_naked\n",
    "from sympy import latex\n",
    "from rolldecayestimators import logarithmic_decrement\n",
    "from copy import deepcopy\n",
    "import src.helpers\n",
    "from src.notebook_to_latex import Equation, equation_dict\n",
    "\n",
    "## Examples:\n",
    "from reports import mdl_results\n",
    "import reports.examples as examples\n",
    "import reports.examples.ikeda_V_phi_a\n",
    "import reports.examples.analytical_numerical\n",
    "import reports.examples.eddy_sigma\n",
    "import reports.examples.ikeda_section_table\n",
    "import reports.examples.decision_tree\n",
    "import reports.examples.KVLCC2_section_table\n",
    "import reports.examples.logaritimic_decrement\n",
    "import reports.examples.mdl\n",
    "from reports.examples.mdl import plot_amplitudes\n",
    "import reports.examples.ikeda\n",
    "import reports.examples.hybrid_0\n",
    "import reports.examples.hybrid_speed\n",
    "import reports.examples.FNPF\n",
    "import reports.examples.KVLCC2"
   ]
  },
  {
   "cell_type": "markdown",
   "metadata": {},
   "source": [
    "## Analytical solution\n",
    "<a id='analytical'></a>"
   ]
  },
  {
   "cell_type": "markdown",
   "metadata": {},
   "source": [
    "<a id='eq_linear'></a>\n",
    "A differential equation for a linearly decaying motion can be written as:"
   ]
  },
  {
   "cell_type": "code",
   "execution_count": 23,
   "metadata": {},
   "outputs": [
    {
     "data": {
      "text/latex": [
       "$\\displaystyle \n",
       "\\begin{equation}\n",
       "\\omega_{0}^{2} y + 2 \\omega_{0} \\zeta \\dot{y} + \\ddot{y} = 0\n",
       "\\label{eq:linear}\n",
       "\\end{equation}\n",
       "$"
      ],
      "text/plain": [
       "<src.notebook_to_latex.Equation object>"
      ]
     },
     "execution_count": 23,
     "metadata": {},
     "output_type": "execute_result"
    }
   ],
   "source": [
    "Equation(equations.diff_eq, max_length=100, label='eq:linear')"
   ]
  },
  {
   "cell_type": "markdown",
   "metadata": {},
   "source": [
    "Which has an analytical solution <cite data-cite=\"undefined\"></cite>:"
   ]
  },
  {
   "cell_type": "code",
   "execution_count": 26,
   "metadata": {
    "tags": [
     "remove_cell"
    ]
   },
   "outputs": [
    {
     "data": {
      "text/latex": [
       "$\\displaystyle \n",
       "\\begin{equation}\n",
       "\\begin{aligned}\n",
       "\\phi = \\left(\\left(\\frac{\\zeta \\phi_{0}}{\\sqrt{1 - \\zeta^{2}}} + \\frac{\\dot{\\phi}_{0}}{\\omega_{0} \\sqrt{1 - \\zeta^{2}}}\\right) \\sin{\\left(\\omega_{0} t \\sqrt{1 - \\zeta^{2}} \\right)} \\\\ + \\phi_{0} \\cos{\\left(\\omega_{0} t \\sqrt{1 - \\zeta^{2}} \\right)}\\right) e^{- \\omega_{0} t \\zeta}\n",
       "\\end{aligned}\n",
       "\\label{eq:analytical_solution}\n",
       "\\end{equation}\n",
       "$"
      ],
      "text/plain": [
       "<src.notebook_to_latex.Equation object>"
      ]
     },
     "execution_count": 26,
     "metadata": {},
     "output_type": "execute_result"
    }
   ],
   "source": [
    "Equation(equations.analytical_solution, label='eq:analytical_solution', max_length=200)"
   ]
  },
  {
   "cell_type": "markdown",
   "metadata": {},
   "source": [
    "In the usual case of having no initial roll velocity ($\\phi_0=0$) this equation can be simlified to:"
   ]
  },
  {
   "cell_type": "code",
   "execution_count": 27,
   "metadata": {},
   "outputs": [
    {
     "data": {
      "text/latex": [
       "$\\displaystyle \n",
       "\\begin{equation}\n",
       "\\begin{aligned}\n",
       "\\phi = \\frac{\\left(\\zeta \\sin{\\left(\\omega_{0} t \\sqrt{1 - \\zeta^{2}} \\right)} + \\sqrt{1 - \\zeta^{2}} \\cos{\\left(\\omega_{0} t \\sqrt{1 \\\\ - \\zeta^{2}} \\right)}\\right) \\phi_{0} e^{- \\omega_{0} t \\zeta}}{\\sqrt{1 - \\zeta^{2}}}\n",
       "\\end{aligned}\n",
       "\\label{eq:analytical_solution_no_initial_speed}\n",
       "\\end{equation}\n",
       "$"
      ],
      "text/plain": [
       "<src.notebook_to_latex.Equation object>"
      ]
     },
     "execution_count": 27,
     "metadata": {},
     "output_type": "execute_result"
    }
   ],
   "source": [
    "no_initial_speed = sp.simplify(equations.analytical_solution.subs(symbols.phi_0_dot,0))\n",
    "Equation(no_initial_speed, label='eq:analytical_solution_no_initial_speed')"
   ]
  },
  {
   "cell_type": "markdown",
   "metadata": {},
   "source": [
    "And the damping coefficient $\\zeta$ is very small for ships so that $\\sqrt{1-\\zeta}$ is almost 1 and the solution can be further simplified, into something that can easily be recognized as a decaying oscillation:"
   ]
  },
  {
   "cell_type": "code",
   "execution_count": 28,
   "metadata": {
    "scrolled": false
   },
   "outputs": [
    {
     "data": {
      "text/latex": [
       "$\\displaystyle \n",
       "\\begin{equation}\n",
       "\\phi = \\phi_{0} e^{- \\omega_{0} t \\zeta} \\cos{\\left(\\omega_{0} t \\right)}\n",
       "\\label{eq:analytical_solution_no_initial_speed_zeta_small}\n",
       "\\end{equation}\n",
       "$"
      ],
      "text/plain": [
       "<src.notebook_to_latex.Equation object>"
      ]
     },
     "execution_count": 28,
     "metadata": {},
     "output_type": "execute_result"
    }
   ],
   "source": [
    "no_initial_speed_zeta_small = no_initial_speed.subs(\n",
    "    [(sp.sqrt(1-symbols.zeta**2),1),\n",
    "     (symbols.zeta*sp.sin(symbols.omega0*symbols.t),0),\n",
    "    ])\n",
    "Equation(no_initial_speed_zeta_small,label='eq:analytical_solution_no_initial_speed_zeta_small')"
   ]
  },
  {
   "cell_type": "markdown",
   "metadata": {},
   "source": [
    "## Time and frequency domain\n",
    "<a id='se_time_and_frequency'></a>\n",
    "\\label{se:time_and_frequency}\n",
    "Ikeda's method is defined in the frequency domain, where the damping is expressed as a function of roll angle amplitude $\\phi_a$ and roll angle frequency $\\omega$. The equivalent linear damping $B_e$ (not to confuse with eddy damping $B_E$) is a way to convert the frequency domain damping into time domain damping <cite data-cite=\"7505983/FB64RGPF\"></cite>, so that time domain roll simulations can be conducted with results from Ikeda's method. The most general way to determine $B_e$ is to assume that the energy loss due to damping during a half cycle of roll is the same when nonlinear and linear dampings are used <cite data-cite=\"7505983/RYUBZITQ\"></cite>. The $B_e$ can then be calculated as a Fourier series expansion of the damping model, which in the case of a cubic model yields as: "
   ]
  },
  {
   "cell_type": "code",
   "execution_count": 30,
   "metadata": {
    "scrolled": true
   },
   "outputs": [
    {
     "data": {
      "text/latex": [
       "$\\displaystyle \n",
       "\\begin{equation}\n",
       "B_{e} = B_{1} + \\frac{8 B_{2} \\omega_{0} \\phi_{a}}{3 \\pi} + 0.75 B_{3} \\omega_{0}^{2} \\phi_{a}^{2}\n",
       "\\label{eq:B_e_equation_cubic}\n",
       "\\end{equation}\n",
       "$"
      ],
      "text/plain": [
       "<src.notebook_to_latex.Equation object>"
      ]
     },
     "execution_count": 30,
     "metadata": {},
     "output_type": "execute_result"
    }
   ],
   "source": [
    "Equation(equations.B_e_equation_cubic, label='eq:B_e_equation_cubic')"
   ]
  },
  {
   "cell_type": "markdown",
   "metadata": {},
   "source": [
    "In the case of a quadratic model $B_3=0$ and for the linear model $B_1$ and $B_e$ are the same thing."
   ]
  },
  {
   "cell_type": "markdown",
   "metadata": {},
   "source": [
    "The expression above gives a relation between the frequency domain quantities $\\phi_a$, $\\omega$ and the time domain quantities $B_1$, $B_2$ and $B_3$ which can be used to obtain the latter ones from the Ikeda's method. This can be done by calculating the damping with Ikeda's method for a variation of frequencies and amplitudes and then fit the above expression to this damping and obtain $B_1$, $B_2$ and $B_3$:\n",
    "\n",
    "$$B^{Ikeda}(\\phi_a, \\omega) = B_e(\\phi_a, \\omega)$$\n",
    "\n",
    "In the case of a roll decay test $\\phi_a$ is the only parameter being varied. In order to verify this approach, an alternative method using the logaritmic decrement <cite data-cite=\"7505983/BYNJ8CFG\"></cite> to obtaining the frequency domain quantities from time series result is also used.  \n",
    "\n",
    "This method is investigated on simulation results with a quadratic model: $B_1 = 0.05$, $B_2 = 0.9$, $A_{44} = 1.0$, $C_1 = 5.0$. The peak values, being the only known amplitudes from this signal, is shown in the figure below."
   ]
  },
  {
   "cell_type": "code",
   "execution_count": 31,
   "metadata": {
    "caption": "Peaks",
    "name": "peaks",
    "scrolled": false
   },
   "outputs": [
    {
     "data": {
      "application/pdf": "[encoded data removed]",
      "image/png": "[encoded data removed]",
      "text/plain": [
       "<Figure size 432x288 with 2 Axes>"
      ]
     },
     "metadata": {
      "needs_background": "light"
     },
     "output_type": "display_data"
    }
   ],
   "source": [
    "examples.logaritimic_decrement.show_figure_1()"
   ]
  },
  {
   "cell_type": "markdown",
   "metadata": {},
   "source": [
    "The decrement is calculated as the ratio between every other peak, so that negative and positive roll peaks are separated. This decrement can be calulated for each peak:\n",
    "$$ \\Delta_n = \\frac{\\phi_{a,n}}{\\phi_{a,n+2}}$$"
   ]
  },
  {
   "cell_type": "markdown",
   "metadata": {},
   "source": [
    "The nondimensional $\\zeta$ damping coefficient for each peak can be calculated from the logaritimic decrement:"
   ]
  },
  {
   "cell_type": "markdown",
   "metadata": {},
   "source": [
    "$$\\zeta_n = \\frac{\\delta_n}{2\\pi}=\\frac{ln(\\Delta_n)}{2\\pi}$$"
   ]
  },
  {
   "cell_type": "markdown",
   "metadata": {},
   "source": [
    "The dimensional damping $B_n$ (Nm*s) can be then be obtained:"
   ]
  },
  {
   "cell_type": "code",
   "execution_count": 32,
   "metadata": {},
   "outputs": [
    {
     "data": {
      "text/latex": [
       "$\\displaystyle \n",
       "\\begin{equation}\n",
       "B = 2 A_{44} \\omega_{0} \\zeta\n",
       "\\label{eq:B_1_zeta_eq}\n",
       "\\end{equation}\n",
       "$"
      ],
      "text/plain": [
       "<src.notebook_to_latex.Equation object>"
      ]
     },
     "execution_count": 32,
     "metadata": {},
     "output_type": "execute_result"
    }
   ],
   "source": [
    "Equation(equations.B_1_zeta_eq.subs(symbols.B_1, symbols.B), label='eq:B_1_zeta_eq')"
   ]
  },
  {
   "cell_type": "markdown",
   "metadata": {},
   "source": [
    "So the damping can be obtained for each oscillation this way but it is not obvious which of the roll amplitudes these dampings correspond to. Four different choices were tried, associating damping $B_n$ with the following amplitudes:\n",
    "* A : $\\phi_n$\n",
    "* B : $\\phi_{n+1}$\n",
    "* C : $\\phi_{n+2}$\n",
    "* D : $(\\phi_n + \\phi_{n+1} + \\phi_{n+2})/3$"
   ]
  },
  {
   "cell_type": "code",
   "execution_count": 33,
   "metadata": {
    "caption": "Logarithmic decrement",
    "name": "logarithmic_decrement",
    "scrolled": true
   },
   "outputs": [
    {
     "data": {
      "application/pdf": "[encoded data removed]",
      "image/png": "[encoded data removed]",
      "text/plain": [
       "<Figure size 432x288 with 1 Axes>"
      ]
     },
     "metadata": {
      "needs_background": "light"
     },
     "output_type": "display_data"
    }
   ],
   "source": [
    "examples.logaritimic_decrement.show_figure_2();"
   ]
  },
  {
   "cell_type": "markdown",
   "metadata": {},
   "source": [
    "Taking the mean value of peak n and the following two peaks (alt.D) seem to be the approach that best matches the $B_e$ (predicted using the linearized equivalent damping method). The  linearized equivalent damping method therefore seems to be the best way to convert $B_1$, $B_2$, $B_3$ to frequency domain, considering the difficulties with the logaritmic decrement method as described above. The only time linearized equivalent damping method has not been used in this paper, is when damping at individual peaks from a time signal should be converted to frequency domain. "
   ]
  },
  {
   "cell_type": "markdown",
   "metadata": {
    "tags": [
     "remove_cell"
    ]
   },
   "source": [
    "# References\n",
    "<div class=\"cite2c-biblio\"></div>"
   ]
  }
 ],
 "metadata": {
  "celltoolbar": "Edit Metadata",
  "cite2c": {
   "citations": {
    "7505983/24TNAV5Z": {
     "DOI": "10.3233/978-1-61499-870-9-186",
     "URL": "https://research.chalmers.se/en/publication/507084",
     "abstract": "Optimization of modern hulls when moving in a seaway puts new demands on the computational methods used. Nonlinear effects become important for wave loads and added resistance in waves in presence of large motions.<br />The purpose of this paper is to present a method which aims to fill the gap between RANSE methods and partly nonlinear panel methods. The method solves the fully nonlinear free surface time-domain potential flow problem including a hull undergoing rigid body motions. Nonlinearities under the hypothesis of potential flow are taken into account, i.e. higher and lower frequency components, hull shape above calm water line and interaction between incoming, radiated, diffracted, reflected and ship generated waves.<br />The potential flow method alone cannot handle roll motion since roll is dominated by viscous effects. Two methods to include roll damping within the potential flow code are used: the first one obtains roll damping coefficients through inertial and geometric characteristics of the ship. The second one uses model test results. Numerical results using both methods are compared.<br />The code has already been tested in head seas. In this paper, numerical simulations of roll decay and roll motion in beam sea are compared to model test results.",
     "accessed": {
      "day": 4,
      "month": 2,
      "year": 2021
     },
     "author": [
      {
       "family": "Coslovich",
       "given": "Francesco"
      },
      {
       "family": "Contento",
       "given": "Giorgio"
      },
      {
       "family": "Kjellberg",
       "given": "Martin"
      },
      {
       "family": "Janson",
       "given": "Carl-Erik"
      }
     ],
     "container-title": "NAV International Conference on Ship and Shipping Research",
     "event": "NAV 2018. 19th International Conference on Ship and Maritime Research , Trieste",
     "id": "7505983/24TNAV5Z",
     "issued": {
      "year": 2018
     },
     "language": "en",
     "note": "ISSN: 2282-8397",
     "page": "186-193",
     "page-first": "186",
     "title": "Computations of roll motion in waves using a fully nonlinear potential flow method",
     "type": "paper-conference"
    },
    "7505983/4AFVVGNT": {
     "URL": "https://repository.tudelft.nl/islandora/object/uuid%3A09d79a4d-cd3d-423f-9b23-43a311096202",
     "accessed": {
      "day": 27,
      "month": 1,
      "year": 2020
     },
     "author": [
      {
       "family": "Ikeda",
       "given": "Yoshiho"
      }
     ],
     "container-title": "University of Osaka Prefacture, Department of Naval Architecture, Japan, Report No. 00403, Published in: Journal of Society of Naval Architects of Japan, Volume 142",
     "id": "7505983/4AFVVGNT",
     "issued": {
      "year": 1978
     },
     "language": "en",
     "title": "On eddy making component of roll damping force on naked hull",
     "type": "article-journal"
    },
    "7505983/937PN5DT": {
     "DOI": "10.2534/jjasnaoe1968.1978.113",
     "URL": "https://www.jstage.jst.go.jp/article/jjasnaoe1968/1978/143/1978_143_113/_article",
     "abstract": "Japan's largest platform for academic e-journals: J-STAGE is a full text database for reviewed academic papers published by Japanese societies",
     "accessed": {
      "day": 27,
      "month": 1,
      "year": 2020
     },
     "author": [
      {
       "family": "Ikeda",
       "given": "Yoshiho"
      },
      {
       "family": "Himeno",
       "given": "Yoji"
      },
      {
       "family": "Tanaka",
       "given": "Norio"
      }
     ],
     "container-title": "Journal of the Society of Naval Architects of Japan",
     "container-title-short": "J. SNAJ, Nihon zousen gakkai ronbunshu",
     "id": "7505983/937PN5DT",
     "issue": "143",
     "issued": {
      "year": 1978
     },
     "journalAbbreviation": "J. SNAJ, Nihon zousen gakkai ronbunshu",
     "language": "en",
     "page": "113-125",
     "page-first": "113",
     "title": "Components of Roll Damping of Ship at Forward Speed",
     "type": "article-journal",
     "volume": "1978"
    },
    "7505983/9B7QMVJJ": {
     "abstract": "In recent years, the International Maritime Organization introduced a new set of rules in order to try to reduce emissions of ships by improving their eﬃciency. To assess the energy eﬃciency of a new ship, the regulations require to estimate the Energy Eﬃciency Design Index (EEDI), which represent the amount of Carbon Dioxide produced per mile in relation to the amount of cargo carried, and verify that it is smaller than a prescribed value. For a proper evaluation of the EEDI, it is necessary to estimate the added resistance in waves with high accuracy. There are diﬀerent ways to evaluate added resistance: empirical methods, adding a safety factor to the calm water resistance called sea margin, numerical simulations and model test experiments. Nowadays, the most used way during the design stage to do that is employing numerical simulations. Numerical simulations are not only used for the estimation of added resistance, but also to predict ship motions. If the motions are known at an early design stage, it is possible to modify the design of a ship to minimize them in order to improve the performance of the ship and to increase the safety and comfort of those who are on board.",
     "author": [
      {
       "family": "Coslovich",
       "given": "F"
      }
     ],
     "id": "7505983/9B7QMVJJ",
     "language": "en",
     "page": "64",
     "page-first": "64",
     "title": "Towards 6 Degrees of Freedom Seakeeping Simulations Using a Fully Nonlinear Potential Flow Method",
     "type": "article-journal"
    },
    "7505983/BYNJ8CFG": {
     "DOI": "10.1179/str.2012.59.3.004",
     "abstract": "Duisburg Test Case (DTC) is a hull design of a typical 14000 TEU container ship, developed at the Institute\nof Ship Technology, Ocean Engineering and Transport Systems (ISMT) for benchmarking and validation of\nnumerical methods. Hull geometry and model test results of resistance, propulsion and roll damping are publicly available. The paper presents existing data from model tests and computations.",
     "author": [
      {
       "family": "Moctar",
       "given": "Ould"
      },
      {
       "family": "Shigunov",
       "given": "Vladimir"
      },
      {
       "family": "Zorn",
       "given": "Tobias"
      }
     ],
     "container-title": "Ship Technology Research",
     "container-title-short": "Ship Technology Research",
     "id": "7505983/BYNJ8CFG",
     "issued": {
      "day": 15,
      "month": 8,
      "year": 2012
     },
     "journalAbbreviation": "Ship Technology Research",
     "page": "50-64",
     "page-first": "50",
     "shortTitle": "Duisburg Test Case",
     "title": "Duisburg Test Case: Post-Panamax Container Ship for Benchmarking",
     "title-short": "Duisburg Test Case",
     "type": "article-journal",
     "volume": "59"
    },
    "7505983/EXYJELCU": {
     "author": [
      {
       "family": "IMO",
       "given": ""
      }
     ],
     "id": "7505983/EXYJELCU",
     "issued": {
      "day": 10,
      "month": 11,
      "year": 2016
     },
     "title": "FINALIZATION OF SECOND GENERATION INTACT STABILITY CRITERIA Draft consolidated explanatory notes for the second generation intact stability criteria Submitted by the United States",
     "type": "article"
    },
    "7505983/FB64RGPF": {
     "abstract": "Various methods for predicting the roll damping of a ship at forward speed is discussed. In particular, a simple method and a component analysis are described. The component analysis assumes that the damping is composed of friction damping, eddy damping, lift damping, wave damping, normal-force damping of bilge, keel, hull pressure damping due to bilge keels, and wave damping of bilge keels. Formulas for these components are derived from theoretical and experimental considerations.",
     "archive": "Scopus",
     "author": [
      {
       "family": "Himeno",
       "given": "Yoji"
      }
     ],
     "container-title": "University of Michigan Department of Naval Architecture and Marine Engineering, (Report)",
     "id": "7505983/FB64RGPF",
     "issue": "239",
     "issued": {
      "year": 1981
     },
     "title": "PREDICTION OF SHIP ROLL DAMPING - STATE OF THE ART.",
     "type": "article-journal"
    },
    "7505983/FD4N3DW2": {
     "author": [
      {
       "family": "Hess",
       "given": "J.L."
      },
      {
       "family": "Smith",
       "given": ""
      }
     ],
     "container-title": "Progress in Aeronautical Science",
     "id": "7505983/FD4N3DW2",
     "issue": "Pergamon Press",
     "issued": {
      "year": 1966
     },
     "title": "Calculation of Potential Flow About Arbitrary Bodies.",
     "type": "article-journal",
     "volume": "8"
    },
    "7505983/FJHQJJUH": {
     "ISBN": "978-3-030-00516-0",
     "URL": "https://doi.org/10.1007/978-3-030-00516-0_10",
     "abstract": "This paper presents unique experimental set-ups in model scale and full scale for evaluating roll damping properties of a Panamax Pure Car and Truck Carrier at speed. The purpose of this study is to develop a method for the assessment of roll damping based on full scale trials and to validate the use of roll damping derived from model tests for full scale vessels. Experimental data are also used to assess a semi-empirical method that today provides input for the prediction of critical rolling events such as parametric rolling and severe rolling motions in general.",
     "accessed": {
      "day": 23,
      "month": 1,
      "year": 2020
     },
     "author": [
      {
       "family": "Söder",
       "given": "Carl-Johan"
      },
      {
       "family": "Rosén",
       "given": "Anders"
      },
      {
       "family": "Werner",
       "given": "Sofia"
      },
      {
       "family": "Huss",
       "given": "Mikael"
      },
      {
       "family": "Kuttenkeuler",
       "given": "Jakob"
      }
     ],
     "collection-title": "Fluid Mechanics and Its Applications",
     "container-title": "Contemporary Ideas on Ship Stability: Risk of Capsizing",
     "editor": [
      {
       "family": "Belenky",
       "given": "Vadim L."
      },
      {
       "family": "Spyrou",
       "given": "Kostas J."
      },
      {
       "family": "van Walree",
       "given": "Frans"
      },
      {
       "family": "Almeida Santos Neves",
       "given": "Marcelo"
      },
      {
       "family": "Umeda",
       "given": "Naoya"
      }
     ],
     "event-place": "Cham",
     "id": "7505983/FJHQJJUH",
     "issued": {
      "year": 2019
     },
     "language": "en",
     "note": "DOI: 10.1007/978-3-030-00516-0_10",
     "page": "177-190",
     "page-first": "177",
     "publisher": "Springer International Publishing",
     "publisher-place": "Cham",
     "title": "Assessment of Ship Roll Damping Through Full Scale and Model Scale Experiments and Semi-empirical Methods",
     "type": "chapter"
    },
    "7505983/KAKIM2E2": {
     "author": [
      {
       "family": "ITTC",
       "given": ""
      }
     ],
     "id": "7505983/KAKIM2E2",
     "issued": {
      "year": 2011
     },
     "title": "ITTC – Recommended Procedures Numerical Estimation of Roll Damping",
     "type": "article"
    },
    "7505983/RWXBIIJJ": {
     "URL": "https://repository.tudelft.nl/islandora/object/uuid%3A2d4991a4-96ac-4935-b2a3-e712effd744d",
     "accessed": {
      "day": 4,
      "month": 3,
      "year": 2020
     },
     "author": [
      {
       "family": "Himeno",
       "given": "Yoji"
      }
     ],
     "container-title": "The University of Michigan, College of Engineering, Department of Naval Architecture and Marine Engineering, USA, Report No. 239",
     "id": "7505983/RWXBIIJJ",
     "issued": {
      "year": 1981
     },
     "language": "en",
     "title": "Prediction of ship roll damping - state of the art",
     "type": "article-journal"
    },
    "7505983/RXYIE6UW": {
     "URL": "https://www.kaggle.com/martinlarsalbert/ikeda-twodimensional-cylinders",
     "abstract": "Dataset from On eddy making component of roll damping force on naked hull",
     "author": [
      {
       "family": "Alexandersson",
       "given": "Martin"
      }
     ],
     "id": "7505983/RXYIE6UW",
     "issued": {
      "year": 2021
     },
     "title": "Ikeda two-dimensional cylinders. Dataset available at: https://www.kaggle.com/martinlarsalbert/ikeda-twodimensional-cylinders",
     "type": "article"
    },
    "7505983/RYUBZITQ": {
     "author": [
      {
       "family": "Tasai",
       "given": "F."
      }
     ],
     "id": "7505983/RYUBZITQ",
     "issued": {
      "year": 1965
     },
     "language": "Japanese",
     "publisher": "Res. Inst. for Appl. Mech., Kyushu Univ.,",
     "title": "Equation of Ship Roll Motion",
     "type": "article"
    },
    "7505983/UGK6YEVD": {
     "DOI": "10.12989/OSE.2015.5.2.055",
     "URL": "https://doi.org/10.12989/OSE.2015.5.2.055",
     "abstract": "Of all the six degrees of freedom, the roll motion of a ship is the most poorly understood and displays complicated phenomena. Due to the low potential wave damping at the natural frequency, the effective analysis of ship roll dynamics comes down to the accurate estimation of the viscous roll damping. This paper provides overview of the importance of roll damping and an extensive literature review of the various viscous roll damping prediction methods applied by researchers over the years. The paper also discusses in detail the current state of the art estimation of viscous roll damping for ship shaped structures. A computer code is developed based on this method and its results are compared with experimental data to demonstrate the accuracy of the method. While some of the key references describing this method are not available in English, some others have been found to contain typographic errors. The objective of this paper is to provide a comprehensive summary of the state of the art method in one place for future reference.",
     "accessed": {
      "day": 7,
      "month": 9,
      "year": 2020
     },
     "author": [
      {
       "family": "Falzarano, Jeffrey",
       "given": ""
      },
      {
       "family": "Somayajula, Abhilash",
       "given": ""
      },
      {
       "family": "Seah, Robert",
       "given": ""
      }
     ],
     "container-title": "Ocean Systems Engineering",
     "id": "7505983/UGK6YEVD",
     "issue": "2",
     "issued": {
      "day": 25,
      "month": 6,
      "year": 2015
     },
     "language": "en",
     "page": "55-76",
     "page-first": "55",
     "title": "An overview of the prediction methods for roll damping of ships",
     "type": "article-journal",
     "volume": "5"
    },
    "7505983/UYUAYY7E": {
     "URL": "https://repository.tudelft.nl/islandora/object/uuid%3A011efdf6-1128-408e-ad80-7493013d303b",
     "accessed": {
      "day": 4,
      "month": 3,
      "year": 2020
     },
     "author": [
      {
       "family": "Journee",
       "given": "Johan M. J."
      }
     ],
     "container-title": "TU Delft, Report 1370",
     "id": "7505983/UYUAYY7E",
     "issued": {
      "year": 2003
     },
     "language": "en",
     "title": "Theoretical Manual of Strip Theory Program &quot;Seaway for Windows&quot;",
     "type": "article-journal"
    },
    "7505983/ZKB494GT": {
     "DOI": "10.1098/rspa.1976.0092",
     "URL": "https://royalsocietypublishing.org/doi/10.1098/rspa.1976.0092",
     "abstract": "Plunging breakers are beyond the reach of all known analytical approximations. Previous numerical computations have succeeded only in integrating the equations of motion up to the instant when the surface becomes vertical. In this paper we present a new method for following the time-history of space-periodic irrotational surface waves. The only independent variables are the coordinates and velocity potential of marked particles at the free surface. At each time-step an integral equation is solved for the new normal component of velocity. The method is faster and more accurate than previous methods based on a two dimensional grid. It has also the advantage that the marked particles become concentrated near regions of sharp curvature. Viscosity and surface tension are both neglected. The method is tested on a free, steady wave of finite amplitude, and is found to give excellent agreement with independent calculations based on Stokes’s series. It is then applied to unsteady waves, produced by initially applying an asymmetric distribution of pressure to a symmetric, progres­sive wave. The freely running wave then steepens and overturns. It is demonstrated that the surface remains rounded till well after the over­turning takes place.",
     "accessed": {
      "day": 4,
      "month": 2,
      "year": 2021
     },
     "author": [
      {
       "family": "Longuet-Higgins",
       "given": "Michael Selwyn"
      },
      {
       "family": "Cokelet",
       "given": "E. D."
      }
     ],
     "container-title": "Proceedings of the Royal Society of London. A. Mathematical and Physical Sciences",
     "container-title-short": "Proceedings of the Royal Society of London. A. Mathematical and Physical Sciences",
     "id": "7505983/ZKB494GT",
     "issue": "1660",
     "issued": {
      "day": 30,
      "month": 7,
      "year": 1976
     },
     "journalAbbreviation": "Proceedings of the Royal Society of London. A. Mathematical and Physical Sciences",
     "note": "Publisher: Royal Society",
     "page": "1-26",
     "page-first": "1",
     "title": "The deformation of steep surface waves on water - I. A numerical method of computation",
     "type": "article-journal",
     "volume": "350"
    },
    "undefined": {
     "author": [
      {
       "family": "Henry Peter Piehl",
       "given": ""
      }
     ],
     "id": "undefined",
     "title": "Ship Roll Damping Analysis",
     "type": "article-journal"
    }
   }
  },
  "kernelspec": {
   "display_name": "Python 3",
   "language": "python",
   "name": "python3"
  },
  "language_info": {
   "codemirror_mode": {
    "name": "ipython",
    "version": 3
   },
   "file_extension": ".py",
   "mimetype": "text/x-python",
   "name": "python",
   "nbconvert_exporter": "python",
   "pygments_lexer": "ipython3",
   "version": "3.6.12"
  },
  "toc": {
   "base_numbering": 1,
   "nav_menu": {},
   "number_sections": true,
   "sideBar": true,
   "skip_h1_title": false,
   "title_cell": "Table of Contents",
   "title_sidebar": "Contents",
   "toc_cell": false,
   "toc_position": {
    "height": "calc(100% - 180px)",
    "left": "10px",
    "top": "150px",
    "width": "384px"
   },
   "toc_section_display": true,
   "toc_window_display": true
  }
 },
 "nbformat": 4,
 "nbformat_minor": 4
}
