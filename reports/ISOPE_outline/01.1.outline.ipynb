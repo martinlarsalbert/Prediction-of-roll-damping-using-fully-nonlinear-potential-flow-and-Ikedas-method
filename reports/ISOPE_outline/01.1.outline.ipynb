{
 "cells": [
  {
   "cell_type": "markdown",
   "metadata": {},
   "source": [
    "<a id='logbook'></a>\n",
    "# Prediction of roll damping using fully nonlinear potential flow and Ikeda's method"
   ]
  },
  {
   "cell_type": "code",
   "execution_count": 1,
   "metadata": {
    "collapsed": true,
    "jupyter": {
     "outputs_hidden": true,
     "source_hidden": true
    }
   },
   "outputs": [
    {
     "name": "stderr",
     "output_type": "stream",
     "text": [
      "Duplicate key in file WindowsPath('C:/Users/maa/.matplotlib/stylelib/paper.mplstyle'), line 461 ('figure.figsize   : 5, 3   ## figure size in inches')\n",
      "Duplicate key in file WindowsPath('C:/Users/maa/.matplotlib/stylelib/paper.mplstyle'), line 462 ('figure.dpi       : 100        ## figure dots per inch')\n"
     ]
    }
   ],
   "source": [
    "# %load ../../notebooks/imports.py\n",
    "\"\"\"\n",
    "These is the standard setup for the notebooks.\n",
    "\"\"\"\n",
    "\n",
    "%matplotlib inline\n",
    "%load_ext autoreload\n",
    "%autoreload 2\n",
    "\n",
    "from jupyterthemes import jtplot\n",
    "jtplot.style(theme='onedork', context='notebook', ticks=True, grid=False)\n",
    "\n",
    "import pandas as pd\n",
    "pd.options.display.max_rows = 999\n",
    "pd.options.display.max_columns = 999\n",
    "pd.set_option(\"display.max_columns\", None)\n",
    "import numpy as np\n",
    "import os\n",
    "import matplotlib.pyplot as plt\n",
    "from collections import OrderedDict\n",
    "#plt.style.use('paper')\n",
    "\n",
    "#import data\n",
    "import copy\n",
    "from mdldb.run import Run\n",
    "\n",
    "from sklearn.pipeline import Pipeline\n",
    "from rolldecayestimators.transformers import CutTransformer, LowpassFilterDerivatorTransformer, ScaleFactorTransformer, OffsetTransformer\n",
    "from rolldecayestimators.direct_estimator_cubic import EstimatorQuadraticB, EstimatorCubic\n",
    "from rolldecayestimators.ikeda_estimator import IkedaQuadraticEstimator\n",
    "import rolldecayestimators.equations as equations\n",
    "import rolldecayestimators.lambdas as lambdas\n",
    "from rolldecayestimators.substitute_dynamic_symbols import lambdify\n",
    "import rolldecayestimators.symbols as symbols\n",
    "import sympy as sp\n",
    "\n",
    "from sympy.physics.vector.printing import vpprint, vlatex\n",
    "from IPython.display import display, Math, Latex\n",
    "\n",
    "from sklearn.metrics import r2_score\n",
    "from src.data import database\n",
    "from mdldb import tables\n",
    "import shipflowmotionshelpers.shipflowmotionshelpers as helpers\n"
   ]
  },
  {
   "cell_type": "markdown",
   "metadata": {
    "jupyter": {
     "source_hidden": true
    }
   },
   "source": [
    "# Abstract"
   ]
  },
  {
   "cell_type": "markdown",
   "metadata": {},
   "source": [
    "# Nomenclature\n",
    "| Variable | Explain |\n",
    "|---|---|\n",
    "|$\\pi$| example |"
   ]
  },
  {
   "cell_type": "markdown",
   "metadata": {},
   "source": [
    "# Introduction\n",
    "Many great semi-empirical methods have been developed over the years to analyze various aspects of ship hydrodynamics such as:  resistance,  propulsion  and  seakeeping. These methods were often developed because solving the actual flow was far to complicated and far to time consuming at the time. When computers are now faster and great advancement in field of Computation Fluid Dynamics (CFD) has been achieved, the simpler semi-empirical formulas have now gotten less and less relevant. But have they all of gotten totally irrelevant? \n",
    "\n",
    "A semi-empirical method to predict ship roll damping, comonly known as Ikeda's method, will be investigated in this paper, for a use case that can still make it relevant. It will be investigated if this method can be used to increase the accuracy of the roll motion prediction of a nonlinear potential flow method (FNPF), so that this relatively fast option can be used to a larger extent than what is currently possible today. The roll damping of ship is higly depending on vicsous effects which mean that the invicid potetntial flow lacks a lot of the important physics of the roll motion and can therefore not give relevant results for this degree of freedom, where more advanced options such as: model test or URANS is needed.  \n",
    "\n",
    "The hybrid method, combining Ikeda's method and FNPF proposed in this paper is investigated using the well known KVLCC2 test case ([Body plan](../../notebooks/11.1_KVLCC2_geometry.ipynb#bodyplan)). \n",
    "This ship was selected partly because it is a well known test case, there were model tests data available from SSPA and also because it does not have any bilge keels. The Ikeda's metod contain methods to predict damping from various component, where the bilge keels is one of them. From the model tests, only the total damping can be observed. Reducing the number of components by having no bilge keels would therefore give more insight into the remaining ones. \n",
    "\n",
    "Revisinging these older semi-empirical methods can also help us to understand the hydrodynamics better."
   ]
  },
  {
   "cell_type": "markdown",
   "metadata": {},
   "source": [
    "# Methods"
   ]
  },
  {
   "cell_type": "markdown",
   "metadata": {},
   "source": [
    "## PIT\n",
    "\n",
    "The initial heel angle during the roll decay tests gives the ship potential energy that is shifting to kinetic energy as the ship starts to move during the inital phase of the roll decay test. The energy is transfered between kinetic energy and potential energy during the oscillations. The ship loses energy over time due to the damping wich can be seen in this [plot](../../notebooks/02.2_ikeda_Be_assumption.ipynb#energy)"
   ]
  },
  {
   "cell_type": "markdown",
   "metadata": {},
   "source": [
    "## Ikeda's method\n",
    "\n",
    "### Eddy damping\n",
    "The current implementation was benchmarked with the data from Ikeda's oringinal [cylinder experiments](../../notebooks/08.1_ikeda_eddy.ipynb). It seems that the current implementation underpredicts the damping.\n",
    "\n",
    "![](../../notebooks/ikeda_eddy_section_A.PNG)"
   ]
  },
  {
   "cell_type": "markdown",
   "metadata": {},
   "source": [
    "## FNPF"
   ]
  },
  {
   "cell_type": "markdown",
   "metadata": {},
   "source": [
    "## Combined method"
   ]
  },
  {
   "cell_type": "markdown",
   "metadata": {},
   "source": [
    "# Results"
   ]
  },
  {
   "cell_type": "markdown",
   "metadata": {},
   "source": [
    "## Roll decay tests\n",
    "### 0 knots\n",
    "Data from two roll decay model tests conducted at zero speed were available: [Roll decay model tests 0 knots](../../notebooks/01.2_select_suitable_MDL_test_KLVCC2.ipynb#rolldecay). These tests where analyzed by fitting a [Cubic model](../../notebooks/01.2_select_suitable_MDL_test_KLVCC2.ipynb#cubic_model) to the model test data. The two models were very similar in terms of roll damping and stiffness, suggesting good repeatability in the model tests as well as in the parameter identification technique (PIT) used. The total damping at zero speed is very low for this vessel, where it takes at least one hundred oscillations for the motion to decay. Since the ship has no bilge keel, the friction damping and eddy damping will be the only damping contributions acting. These contributions are also rather small.   \n",
    "\n",
    "Roll decay test was also simulated using [FNPF](../../notebooks/06.1_KVLCC2_motions.ipynb#damping). The damping was much higher than the predicted valued using Strip Theory.\n",
    "\n",
    "### 15.5 knots\n",
    "Data from one roll decay model tests conducted at a ship speed corresponding to 15.5 knots full scale ship speed was also available. This model tests was analyzed in the same way as the other tests at zero knots. It was found that the damping was higher at speed. The ship got a small [yaw rate](../../notebooks/01.3_select_suitable_MDL_test_KLVCC2_speed.ipynb#yawrate) at the end of test, giving a small steady roll angle due to the centrifugal force. Since this effect is not included in the matematical model used, the steady roll angle was instead removed by removing the linear trend in the roll angle signal. \n",
    "\n",
    "\n"
   ]
  },
  {
   "cell_type": "markdown",
   "metadata": {},
   "source": [
    "## Roll damping prediction with Ikeda's method\n",
    "Calculated the roll damping with Ikeda's method for zero speed and 15.5 knots. The damping was [compared](../../notebooks/04.3_KVLCC2_Ikedas_model_tests.ipynb#speeds) with corresponding values obtained from the model tests. The results showed good agreement between the model tests and predictions at speed. The damping predicted with Ikeda's method at zero knots was significantly higher than the corresponding model test. The predicted eddy damping was very large and is most likey overpredicted.  \n",
    "\n",
    "Much effort was made to investigate the eddy damping prediction of the Ikeda's method implementation. It was found, by conducting a sensitivity analysis, that the predicted eddy damping was extremely sensitive to ship sections with almost rectangular shape, where the section area coefficient [sigma](../../notebooks/08.2_ikeda_eddy_sigma.ipynb) was close to one. According to Kawahara the mid section coefficient should not exceed 0.99, which otherwise seem to give a huge extrapolation error according to the [figure](../../notebooks/08.2_ikeda_eddy_sigma.ipynb) above. This was however the case for many of the sections of the KVLCC2, where the limiting value was instead used, to avoid unrealistic extrapolation errors.\n",
    "\n",
    "It seems that mid section coefficient most often exceeds 0.99 based on statistics from MDL tests during the past 15 years: [plot](../../notebooks/09.1_sigma_statistics.ipynb)\n",
    "\n",
    "Eddy damping gets smaller as the speed increases and has almost vanished for the 15.5 knots which can be seen in [plot](../../notebooks/06.1_KVLCC2_motions.ipynb#speed). So the difficulties with eddy damping prediction for high mid section coefficients is mostly a low speed problem; And in the presens of bilge keels, the bilge keel damping would be the dominating contribution to the roll damping at low speed as can be seen in <cite data-cite=\"7505983/FJHQJJUH\"></cite>. So this is mostly a problem at low speed for ships without bilge keels.\n",
    "\n",
    "Attempts where made to use Ikeda's alternative eddy damping formula for barges. This one did not work the $B_E$ is far to large: [07.1_ikeda_barge](../../notebooks/07.1_ikeda_barge.ipynb)\n"
   ]
  },
  {
   "cell_type": "markdown",
   "metadata": {},
   "source": [
    "## Combined method\n",
    "Roll damping was predicted using the [Combined method](../../notebooks/06.1_KVLCC2_motions.ipynb#combined_damping). The damping witht the combined method seems to underpredict the damping at zero speed."
   ]
  },
  {
   "cell_type": "markdown",
   "metadata": {},
   "source": [
    "# Conclusions"
   ]
  },
  {
   "cell_type": "markdown",
   "metadata": {},
   "source": [
    "# References\n",
    "<div class=\"cite2c-biblio\"></div>"
   ]
  }
 ],
 "metadata": {
  "cite2c": {
   "citations": {
    "7505983/FJHQJJUH": {
     "ISBN": "978-3-030-00516-0",
     "URL": "https://doi.org/10.1007/978-3-030-00516-0_10",
     "abstract": "This paper presents unique experimental set-ups in model scale and full scale for evaluating roll damping properties of a Panamax Pure Car and Truck Carrier at speed. The purpose of this study is to develop a method for the assessment of roll damping based on full scale trials and to validate the use of roll damping derived from model tests for full scale vessels. Experimental data are also used to assess a semi-empirical method that today provides input for the prediction of critical rolling events such as parametric rolling and severe rolling motions in general.",
     "accessed": {
      "day": 23,
      "month": 1,
      "year": 2020
     },
     "author": [
      {
       "family": "Söder",
       "given": "Carl-Johan"
      },
      {
       "family": "Rosén",
       "given": "Anders"
      },
      {
       "family": "Werner",
       "given": "Sofia"
      },
      {
       "family": "Huss",
       "given": "Mikael"
      },
      {
       "family": "Kuttenkeuler",
       "given": "Jakob"
      }
     ],
     "collection-title": "Fluid Mechanics and Its Applications",
     "container-title": "Contemporary Ideas on Ship Stability: Risk of Capsizing",
     "editor": [
      {
       "family": "Belenky",
       "given": "Vadim L."
      },
      {
       "family": "Spyrou",
       "given": "Kostas J."
      },
      {
       "family": "van Walree",
       "given": "Frans"
      },
      {
       "family": "Almeida Santos Neves",
       "given": "Marcelo"
      },
      {
       "family": "Umeda",
       "given": "Naoya"
      }
     ],
     "event-place": "Cham",
     "id": "7505983/FJHQJJUH",
     "issued": {
      "year": 2019
     },
     "language": "en",
     "note": "DOI: 10.1007/978-3-030-00516-0_10",
     "page": "177-190",
     "page-first": "177",
     "publisher": "Springer International Publishing",
     "publisher-place": "Cham",
     "title": "Assessment of Ship Roll Damping Through Full Scale and Model Scale Experiments and Semi-empirical Methods",
     "type": "chapter"
    },
    "7505983/NXYCMQLI": {
     "URL": "https://scholar.google.com/scholar_lookup?title=On%20roll%20damping%20force%20of%20ship%3A%20effects%20of%20friction%20of%20hull%20and%20normal%20force%20of%20bilge%20keels&author=Y.%20Ikeda&author=Y.%20Himeno&author=N.%20Tanaka&journal=J%20Kansai%20Soc%20Naval%20Archit%20Jpn&volume=161&pages=41-49&publication_year=1976",
     "accessed": {
      "day": 24,
      "month": 1,
      "year": 2020
     },
     "id": "7505983/NXYCMQLI",
     "title": "Ikeda: Report no. 401: On roll damping force of ship-effe... - Google Scholar",
     "type": "article"
    },
    "7505983/RC2WJ4RI": {
     "id": "7505983/RC2WJ4RI",
     "title": "JourneeAdegeest2003_pp180to195inTheoreticalManualSEAWAY.pdf",
     "type": "article"
    },
    "7505983/RWXBIIJJ": {
     "URL": "https://repository.tudelft.nl/islandora/object/uuid%3A2d4991a4-96ac-4935-b2a3-e712effd744d",
     "accessed": {
      "day": 4,
      "month": 3,
      "year": 2020
     },
     "author": [
      {
       "family": "Himeno",
       "given": "Yoji"
      }
     ],
     "container-title": "The University of Michigan, College of Engineering, Department of Naval Architecture and Marine Engineering, USA, Report No. 239",
     "id": "7505983/RWXBIIJJ",
     "issued": {
      "year": 1981
     },
     "language": "en",
     "title": "Prediction of ship roll damping - state of the art",
     "type": "article-journal"
    },
    "7505983/ZVF3F5V5": {
     "id": "7505983/ZVF3F5V5",
     "title": "Ikeda et al. - 1978 - Components of roll damping of ship at forward spee.pdf",
     "type": "article"
    }
   }
  },
  "kernelspec": {
   "display_name": "Python 3",
   "language": "python",
   "name": "python3"
  },
  "language_info": {
   "codemirror_mode": {
    "name": "ipython",
    "version": 3
   },
   "file_extension": ".py",
   "mimetype": "text/x-python",
   "name": "python",
   "nbconvert_exporter": "python",
   "pygments_lexer": "ipython3",
   "version": "3.6.8"
  }
 },
 "nbformat": 4,
 "nbformat_minor": 4
}
