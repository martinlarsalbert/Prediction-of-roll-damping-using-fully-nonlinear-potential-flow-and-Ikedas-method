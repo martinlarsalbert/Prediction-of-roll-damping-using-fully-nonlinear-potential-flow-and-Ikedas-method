{
 "cells": [
  {
   "cell_type": "markdown",
   "metadata": {},
   "source": [
    "<a id='logbook'></a>\n",
    "# Prediction of roll damping using fully nonlinear potential flow and Ikeda's method"
   ]
  },
  {
   "cell_type": "code",
   "execution_count": 1,
   "metadata": {
    "jupyter": {
     "outputs_hidden": true,
     "source_hidden": true
    }
   },
   "outputs": [
    {
     "name": "stderr",
     "output_type": "stream",
     "text": [
      "Duplicate key in file WindowsPath('C:/Users/maa/.matplotlib/stylelib/paper.mplstyle'), line 461 ('figure.figsize   : 5, 3   ## figure size in inches')\n",
      "Duplicate key in file WindowsPath('C:/Users/maa/.matplotlib/stylelib/paper.mplstyle'), line 462 ('figure.dpi       : 100        ## figure dots per inch')\n"
     ]
    }
   ],
   "source": [
    "# %load ../../notebooks/imports.py\n",
    "\"\"\"\n",
    "These is the standard setup for the notebooks.\n",
    "\"\"\"\n",
    "\n",
    "%matplotlib inline\n",
    "%load_ext autoreload\n",
    "%autoreload 2\n",
    "\n",
    "import warnings\n",
    "warnings.filterwarnings('ignore')\n",
    "\n",
    "#from jupyterthemes import jtplot\n",
    "#jtplot.style(theme='onedork', context='notebook', ticks=True, grid=False)\n",
    "\n",
    "import pandas as pd\n",
    "pd.options.display.max_rows = 999\n",
    "pd.options.display.max_columns = 999\n",
    "pd.set_option(\"display.max_columns\", None)\n",
    "import numpy as np\n",
    "import os\n",
    "import matplotlib.pyplot as plt\n",
    "from collections import OrderedDict\n",
    "#plt.style.use('paper')\n",
    "\n",
    "#import data\n",
    "import copy\n",
    "from mdldb.run import Run\n",
    "\n",
    "from sklearn.pipeline import Pipeline\n",
    "from rolldecayestimators.transformers import CutTransformer, LowpassFilterDerivatorTransformer, ScaleFactorTransformer, OffsetTransformer\n",
    "from rolldecayestimators.direct_estimator_cubic import EstimatorQuadraticB, EstimatorCubic\n",
    "from rolldecayestimators.ikeda_estimator import IkedaQuadraticEstimator\n",
    "import src.equations as equations\n",
    "import rolldecayestimators.lambdas as lambdas\n",
    "from rolldecayestimators.substitute_dynamic_symbols import lambdify\n",
    "import rolldecayestimators.symbols as symbols\n",
    "import sympy as sp\n",
    "\n",
    "from sympy.physics.vector.printing import vpprint, vlatex\n",
    "from IPython.display import display, Math, Latex\n",
    "\n",
    "from sklearn.metrics import r2_score\n",
    "from src.data import database\n",
    "from mdldb import tables\n",
    "import shipflowmotionshelpers.shipflowmotionshelpers as helpers\n"
   ]
  },
  {
   "cell_type": "code",
   "execution_count": 69,
   "metadata": {},
   "outputs": [],
   "source": [
    "from scipy.integrate import solve_ivp\n",
    "from scipy.optimize import least_squares\n",
    "from rolldecayestimators import fit_on_amplitudes\n",
    "from reports import mdl_results\n",
    "import rolldecayestimators.ikeda as ikeda_classes\n",
    "from pyscores2.indata import Indata\n",
    "from pyscores2.output import OutputFile\n",
    "import joblib\n",
    "import src.visualization.visualize as visualize\n",
    "from rolldecayestimators import equations_ikeda_naked\n",
    "from sympy import latex\n",
    "from rolldecayestimators import logarithmic_decrement\n",
    "from copy import deepcopy\n",
    "import src.helpers\n",
    "\n",
    "## Examples:\n",
    "from reports import mdl_results\n",
    "import reports.examples as examples\n",
    "import reports.examples.ikeda_V_phi_a\n",
    "import reports.examples.analytical_numerical\n",
    "import reports.examples.eddy_sigma\n",
    "import reports.examples.ikeda_section_table\n",
    "import reports.examples.decision_tree\n",
    "import reports.examples.KVLCC2_section_table\n",
    "import reports.examples.logaritimic_decrement\n",
    "import reports.examples.mdl\n",
    "from reports.examples.mdl import plot_amplitudes\n",
    "import reports.examples.ikeda\n",
    "import reports.examples.hybrid_0\n",
    "import reports.examples.hybrid_speed"
   ]
  },
  {
   "cell_type": "markdown",
   "metadata": {
    "jupyter": {
     "source_hidden": true
    }
   },
   "source": [
    "# Abstract"
   ]
  },
  {
   "cell_type": "markdown",
   "metadata": {},
   "source": [
    "# Nomenclature\n",
    "| Variable | Explain |\n",
    "|---|---|\n",
    "|$\\pi$| example |"
   ]
  },
  {
   "cell_type": "markdown",
   "metadata": {},
   "source": [
    "# Introduction\n",
    "Many great semi-empirical methods have been developed over the years to analyze various aspects of ship hydrodynamics such as:  resistance,  propulsion  and  seakeeping. These methods were often developed because solving the actual flow was far to complicated and far to time consuming at the time. When computers are now faster and great advancement in field of Computation Fluid Dynamics (CFD) has been achieved, the simpler semi-empirical formulas have now gotten less and less relevant. But have they all of gotten totally irrelevant? \n",
    "\n",
    "A semi-empirical method to predict ship roll damping, comonly known as Ikeda's method, will be investigated in this paper, for a use case that can still make it relevant. It will be investigated if this method can be used to increase the accuracy of the roll motion prediction of a nonlinear potential flow method (FNPF), so that this relatively fast option can be used to a larger extent than what is currently possible today. The roll damping of ship is higly depending on vicsous effects which mean that the invicid potential flow lacks a lot of the important physics of the roll motion and can therefore not give relevant results for this degree of freedom, where more advanced options such as: model test or URANS are needed.  \n",
    "\n",
    "The hybrid method, combining Ikeda's method and FNPF proposed in this paper is investigated using the well known KVLCC2 test case ([Body plan](../../notebooks/11.1_KVLCC2_geometry.ipynb#bodyplan)). \n",
    "\n",
    "![Body plan](../figures/KVLCC2_body_plan.png)\n",
    "\n",
    "This ship was selected partly because it is a well known test case, there were model tests data available from SSPA and also because it does not have any bilge keels. The Ikeda's metod contain methods to predict damping from various component, where the bilge keels is one of them. From the model tests, only the total damping can be observed. Reducing the number of components by having no bilge keels would therefore give more insight into the remaining ones. \n",
    "\n",
    "Revisinging these older semi-empirical methods can also help us to understand the hydrodynamics better."
   ]
  },
  {
   "cell_type": "code",
   "execution_count": 3,
   "metadata": {},
   "outputs": [],
   "source": [
    "file_paths = [\n",
    "    '../../data/external/kvlcc2_rolldecay_0kn',\n",
    "    '../../data/external/kvlcc2_rolldecay_15-5kn',\n",
    "]\n",
    "df_parameters = pd.DataFrame()\n",
    "df_parameters =  helpers.load_parameters(file_path=file_paths)\n",
    "parameters = df_parameters.iloc[-1]"
   ]
  },
  {
   "cell_type": "code",
   "execution_count": 4,
   "metadata": {},
   "outputs": [
    {
     "data": {
      "text/html": [
       "<div>\n",
       "<style scoped>\n",
       "    .dataframe tbody tr th:only-of-type {\n",
       "        vertical-align: middle;\n",
       "    }\n",
       "\n",
       "    .dataframe tbody tr th {\n",
       "        vertical-align: top;\n",
       "    }\n",
       "\n",
       "    .dataframe thead th {\n",
       "        text-align: right;\n",
       "    }\n",
       "</style>\n",
       "<table border=\"1\" class=\"dataframe\">\n",
       "  <thead>\n",
       "    <tr style=\"text-align: right;\">\n",
       "      <th></th>\n",
       "      <th>title</th>\n",
       "      <th>LPP</th>\n",
       "      <th>B</th>\n",
       "      <th>ZCG</th>\n",
       "      <th>KXX</th>\n",
       "      <th>S</th>\n",
       "      <th>V</th>\n",
       "      <th>dens</th>\n",
       "      <th>ta</th>\n",
       "      <th>tf</th>\n",
       "    </tr>\n",
       "  </thead>\n",
       "  <tbody>\n",
       "    <tr>\n",
       "      <th>kvlcc2_rolldecay_15-5kn</th>\n",
       "      <td>KVLCC2</td>\n",
       "      <td>4.706</td>\n",
       "      <td>0.853</td>\n",
       "      <td>0.274</td>\n",
       "      <td>0.341</td>\n",
       "      <td>5.981</td>\n",
       "      <td>0.993</td>\n",
       "      <td>1000</td>\n",
       "      <td>0.3059</td>\n",
       "      <td>0.3059</td>\n",
       "    </tr>\n",
       "  </tbody>\n",
       "</table>\n",
       "</div>"
      ],
      "text/plain": [
       "                          title    LPP      B    ZCG    KXX      S      V  \\\n",
       "kvlcc2_rolldecay_15-5kn  KVLCC2  4.706  0.853  0.274  0.341  5.981  0.993   \n",
       "\n",
       "                         dens      ta      tf  \n",
       "kvlcc2_rolldecay_15-5kn  1000  0.3059  0.3059  "
      ]
     },
     "execution_count": 4,
     "metadata": {},
     "output_type": "execute_result"
    }
   ],
   "source": [
    "interesting = [\n",
    "    'title',\n",
    "    'LPP',\n",
    "    'B',\n",
    "    'ZCG',\n",
    "    'KXX',\n",
    "    'S',\n",
    "    'V',\n",
    "    'dens',\n",
    "    'ta',\n",
    "    'tf',\n",
    "]\n",
    "table_parameters = pd.DataFrame(parameters[interesting]).transpose()\n",
    "table_parameters"
   ]
  },
  {
   "cell_type": "markdown",
   "metadata": {},
   "source": [
    "# Methods"
   ]
  },
  {
   "cell_type": "markdown",
   "metadata": {},
   "source": [
    "## Roll decay test\n",
    "The initial heel angle during the roll decay tests gives the ship potential energy that is shifting to kinetic energy as the ship starts to move during the inital phase of the roll decay test. The energy is transfered between kinetic energy and potential energy during the oscillations. The ship loses energy over time due to the damping wich can be seen in this [plot](../../notebooks/02.2_ikeda_Be_assumption.ipynb#energy)\n",
    "![](../figures/energy_transfer.png)"
   ]
  },
  {
   "cell_type": "markdown",
   "metadata": {},
   "source": [
    "## PIT"
   ]
  },
  {
   "cell_type": "markdown",
   "metadata": {},
   "source": [
    "A parameters identification technique (PIT) similar to <cite data-cite=\"7505983/EXYJELCU\"></cite> is used to obtain the damping coefficients from the roll decay model test as well as from the FMTP simulated roll decay tests. In this technique, parameters in a mathematical model are determined to get the best fit to a roll decay time signal. A derivation of a matematical model suitable for this study is described below together with a description of how the parameters: damping, stiffness and inertia coefficients where determined.    \n",
    "\n",
    "The general differential equation for a linearly decaying motion can be written as:"
   ]
  },
  {
   "cell_type": "code",
   "execution_count": 5,
   "metadata": {},
   "outputs": [
    {
     "data": {
      "text/latex": [
       "$\\displaystyle \\omega_{0}^{2} y + 2 \\omega_{0} \\zeta \\dot{y} + \\ddot{y} = 0$"
      ],
      "text/plain": [
       "<IPython.core.display.Math object>"
      ]
     },
     "execution_count": 5,
     "metadata": {},
     "output_type": "execute_result"
    }
   ],
   "source": [
    "Math(vlatex(equations.diff_eq))"
   ]
  },
  {
   "cell_type": "markdown",
   "metadata": {},
   "source": [
    "Which has an analytical solution <cite data-cite=\"7505983/KL7A3RIV\"></cite>:"
   ]
  },
  {
   "cell_type": "code",
   "execution_count": 6,
   "metadata": {},
   "outputs": [
    {
     "data": {
      "text/latex": [
       "$\\displaystyle \\phi = \\left(\\left(\\frac{\\zeta \\phi_{0}}{\\sqrt{1 - \\zeta^{2}}} + \\frac{\\dot{\\phi}_{0}}{\\omega_{0} \\sqrt{1 - \\zeta^{2}}}\\right) \\operatorname{sin}\\left(\\omega_{0} t \\sqrt{1 - \\zeta^{2}}\\right) + \\phi_{0} \\operatorname{cos}\\left(\\omega_{0} t \\sqrt{1 - \\zeta^{2}}\\right)\\right) e^{- \\omega_{0} t \\zeta}$"
      ],
      "text/plain": [
       "<IPython.core.display.Math object>"
      ]
     },
     "execution_count": 6,
     "metadata": {},
     "output_type": "execute_result"
    }
   ],
   "source": [
    "Math(vlatex(equations.analytical_solution))"
   ]
  },
  {
   "cell_type": "markdown",
   "metadata": {},
   "source": [
    "Which as in the usual case of having no initial roll velocity ($\\phi_0=0$) can be simlified to:"
   ]
  },
  {
   "cell_type": "code",
   "execution_count": 7,
   "metadata": {},
   "outputs": [
    {
     "data": {
      "text/latex": [
       "$\\displaystyle \\phi = \\frac{\\left(\\zeta \\operatorname{sin}\\left(\\omega_{0} t \\sqrt{1 - \\zeta^{2}}\\right) + \\sqrt{1 - \\zeta^{2}} \\operatorname{cos}\\left(\\omega_{0} t \\sqrt{1 - \\zeta^{2}}\\right)\\right) \\phi_{0} e^{- \\omega_{0} t \\zeta}}{\\sqrt{1 - \\zeta^{2}}}$"
      ],
      "text/plain": [
       "<IPython.core.display.Math object>"
      ]
     },
     "execution_count": 7,
     "metadata": {},
     "output_type": "execute_result"
    }
   ],
   "source": [
    "no_initial_speed = sp.simplify(equations.analytical_solution.subs(symbols.phi_0_dot,0))\n",
    "Math(vlatex(no_initial_speed))"
   ]
  },
  {
   "cell_type": "markdown",
   "metadata": {},
   "source": [
    "And the damping coefficient $\\zeta$ is very small for ships so that $\\sqrt{1-\\zeta}$ is almost 1 and the solution can be further simplified, into something that can easily be recognized as a decaying oscillation:"
   ]
  },
  {
   "cell_type": "code",
   "execution_count": 8,
   "metadata": {
    "scrolled": false
   },
   "outputs": [
    {
     "data": {
      "text/latex": [
       "$\\displaystyle \\phi = \\phi_{0} e^{- \\omega_{0} t \\zeta} \\operatorname{cos}\\left(\\omega_{0} t\\right)$"
      ],
      "text/plain": [
       "<IPython.core.display.Math object>"
      ]
     },
     "execution_count": 8,
     "metadata": {},
     "output_type": "execute_result"
    }
   ],
   "source": [
    "no_initial_speed_zeta_small = no_initial_speed.subs(\n",
    "    [(sp.sqrt(1-symbols.zeta**2),1),\n",
    "     (symbols.zeta*sp.sin(symbols.omega0*symbols.t),0),\n",
    "    ])\n",
    "Math(vlatex(no_initial_speed_zeta_small))"
   ]
  },
  {
   "cell_type": "markdown",
   "metadata": {},
   "source": [
    "For a ship the rolling motion during a roll decay can be expressed in general form according to <cite data-cite=\"7505983/RWXBIIJJ\"></cite>:"
   ]
  },
  {
   "cell_type": "code",
   "execution_count": 9,
   "metadata": {
    "scrolled": true
   },
   "outputs": [
    {
     "data": {
      "text/latex": [
       "$\\displaystyle A_{44} \\ddot{\\phi} + \\operatorname{B_{44}}\\left(\\dot{\\phi}\\right) + \\operatorname{C_{44}}\\left(\\phi\\right) = 0$"
      ],
      "text/plain": [
       "<IPython.core.display.Math object>"
      ]
     },
     "execution_count": 9,
     "metadata": {},
     "output_type": "execute_result"
    }
   ],
   "source": [
    "Math(vlatex(equations.roll_decay_equation_general_himeno))"
   ]
  },
  {
   "cell_type": "markdown",
   "metadata": {},
   "source": [
    "Where $B_{44}(\\dot{\\phi})$ and $C_{44}(\\phi)$ are the damping and stiffness models. A cubic model can be obtained by using cubic damping and stiffness models:"
   ]
  },
  {
   "cell_type": "code",
   "execution_count": 10,
   "metadata": {},
   "outputs": [
    {
     "data": {
      "text/latex": [
       "$\\displaystyle \\operatorname{B_{44}}\\left(\\dot{\\phi}\\right) = B_{1} \\dot{\\phi} + B_{2} \\left|{\\dot{\\phi}}\\right| \\dot{\\phi} + B_{3} \\dot{\\phi}^{3}$"
      ],
      "text/plain": [
       "<IPython.core.display.Math object>"
      ]
     },
     "execution_count": 10,
     "metadata": {},
     "output_type": "execute_result"
    }
   ],
   "source": [
    "Math(vlatex(equations.b44_cubic_equation))"
   ]
  },
  {
   "cell_type": "code",
   "execution_count": 11,
   "metadata": {
    "scrolled": true
   },
   "outputs": [
    {
     "data": {
      "text/latex": [
       "$\\displaystyle \\operatorname{C_{44}}\\left(\\phi\\right) = C_{1} \\phi + C_{3} \\phi^{3} + C_{5} \\phi^{5}$"
      ],
      "text/plain": [
       "<IPython.core.display.Math object>"
      ]
     },
     "execution_count": 11,
     "metadata": {},
     "output_type": "execute_result"
    }
   ],
   "source": [
    "Math(vlatex(equations.restoring_equation_cubic))"
   ]
  },
  {
   "cell_type": "markdown",
   "metadata": {},
   "source": [
    "So that the total equation is written:"
   ]
  },
  {
   "cell_type": "code",
   "execution_count": 12,
   "metadata": {},
   "outputs": [
    {
     "data": {
      "text/latex": [
       "$\\displaystyle A_{44} \\ddot{\\phi} + \\left(B_{1} + B_{2} \\left|{\\dot{\\phi}}\\right| + B_{3} \\dot{\\phi}^{2}\\right) \\dot{\\phi} + \\left(C_{1} + C_{3} \\phi^{2} + C_{5} \\phi^{4}\\right) \\phi = 0$"
      ],
      "text/plain": [
       "<IPython.core.display.Math object>"
      ]
     },
     "execution_count": 12,
     "metadata": {},
     "output_type": "execute_result"
    }
   ],
   "source": [
    "Math(vlatex(equations.roll_decay_equation_cubic))"
   ]
  },
  {
   "cell_type": "markdown",
   "metadata": {},
   "source": [
    "This mathematical model can be reduced to a quadratic damping model when $B_3=0$ and a linear model when $B_2=B_3=0$. This equation does not have one unique solution. If all parameters would be  multiplied by a factor $k$ these parameters also be a solution to the equation. All parameters are therefore divided by the total added mass parameters $A_44$ where parameters such as:"
   ]
  },
  {
   "cell_type": "code",
   "execution_count": 13,
   "metadata": {},
   "outputs": [
    {
     "data": {
      "text/latex": [
       "$\\displaystyle B_{1A} = \\frac{B_{1}}{A_{44}}$"
      ],
      "text/plain": [
       "Eq(B_1A, B_1/A_44)"
      ]
     },
     "execution_count": 13,
     "metadata": {},
     "output_type": "execute_result"
    }
   ],
   "source": [
    "equations.normalize_equations[symbols.B_1]"
   ]
  },
  {
   "cell_type": "markdown",
   "metadata": {},
   "source": [
    "So that the equation with these unique parameters can be written:"
   ]
  },
  {
   "cell_type": "code",
   "execution_count": 14,
   "metadata": {},
   "outputs": [
    {
     "data": {
      "text/latex": [
       "$\\displaystyle \\left(B_{1A} + B_{2A} \\left|{\\dot{\\phi}}\\right| + B_{3A} \\dot{\\phi}^{2}\\right) \\dot{\\phi} + \\left(C_{1A} + C_{3A} \\phi^{2} + C_{5A} \\phi^{4}\\right) \\phi + \\ddot{\\phi} = 0$"
      ],
      "text/plain": [
       "<IPython.core.display.Math object>"
      ]
     },
     "execution_count": 14,
     "metadata": {},
     "output_type": "execute_result"
    }
   ],
   "source": [
    "Math(vlatex(equations.roll_decay_equation_cubic_A))"
   ]
  },
  {
   "cell_type": "markdown",
   "metadata": {},
   "source": [
    "The parameters of this equation can be identified using least square fit if the time signals $\\phi(t)$, $\\dot{\\phi}(t)$ and $\\ddot{\\phi}(t)$ are all known. This is the case for the results from the FNPF simulations but not from the model tests, where only the roll signal $\\phi(t)$ is known. The other time derivatives can be estimated using numerical derivation of a low pass filtered roll signal or Kalman filtered roll signal. The filtering will however introduce some errors in itself. \n",
    "Instead of using this \"Derivation approach\", it has been found that solving the differential equation numerically for guessed parameter values and then using optimization to make really good guesses similarly to what was used by <cite data-cite=\"7505983/FJHQJJUH\"></cite> and <cite data-cite=\"7505983/9B7QMVJJ\"></cite> gives the best parameter estimation. One problem with this \"Integration approach\" is that in order to converge, the optimization needs a resonable first guess of the parameters. The Derivation approach has therefore been used as a pre-step to obtain a very good first guess of the parameters that can be passed on to the Integration approach. This has been used for both signals from FNPF and model tests where in the latter case numerical derivation is used.\n",
    "\n",
    "The differential equation is numerically solved as an intial value problem, where the initial states for $\\phi(t)$, $\\dot{\\phi}(t)$ and $\\ddot{\\phi}(t)$ are used to estimate the following states, by conducting very small time steps using the follownig expression for the acceleration: "
   ]
  },
  {
   "cell_type": "code",
   "execution_count": 15,
   "metadata": {},
   "outputs": [
    {
     "data": {
      "text/latex": [
       "$\\displaystyle \\ddot{\\phi} = - B_{1A} \\dot{\\phi} - B_{2A} \\left|{\\dot{\\phi}}\\right| \\dot{\\phi} - B_{3A} \\dot{\\phi}^{3} - C_{1A} \\phi - C_{3A} \\phi^{3} - C_{5A} \\phi^{5}$"
      ],
      "text/plain": [
       "<IPython.core.display.Math object>"
      ]
     },
     "execution_count": 15,
     "metadata": {},
     "output_type": "execute_result"
    }
   ],
   "source": [
    "eq_phi1d = sp.Eq(symbols.phi_dot_dot,\n",
    "      sp.solve(equations.roll_decay_equation_cubic_A,symbols.phi_dot_dot)[0])\n",
    "\n",
    "accelaration_lambda = lambdify(sp.solve(eq_phi1d,symbols.phi_dot_dot)[0])\n",
    "\n",
    "Math(vlatex(eq_phi1d))"
   ]
  },
  {
   "cell_type": "markdown",
   "metadata": {},
   "source": [
    "This numerical solution can be compared with the analytical solution above for a linear model. For this case the relation between $\\zeta$ and $B_1$ can be expressed as: "
   ]
  },
  {
   "cell_type": "code",
   "execution_count": 16,
   "metadata": {
    "scrolled": true
   },
   "outputs": [
    {
     "data": {
      "text/latex": [
       "$\\displaystyle B_{1} = 2 A_{44} \\omega_{0} \\zeta$"
      ],
      "text/plain": [
       "Eq(B_1, 2*A_44*omega0*zeta)"
      ]
     },
     "execution_count": 16,
     "metadata": {},
     "output_type": "execute_result"
    }
   ],
   "source": [
    "equations.B_1_zeta_eq"
   ]
  },
  {
   "cell_type": "markdown",
   "metadata": {},
   "source": [
    "and the natural frequency can be obtained from:"
   ]
  },
  {
   "cell_type": "code",
   "execution_count": 17,
   "metadata": {
    "scrolled": true
   },
   "outputs": [
    {
     "data": {
      "text/latex": [
       "$\\displaystyle \\omega_{0} = \\sqrt{\\frac{C_{1}}{A_{44}}}$"
      ],
      "text/plain": [
       "Eq(omega0, sqrt(C_1/A_44))"
      ]
     },
     "execution_count": 17,
     "metadata": {},
     "output_type": "execute_result"
    }
   ],
   "source": [
    "A_44_eq = sp.Eq(symbols.A_44, equations.A44)\n",
    "\n",
    "eqs = [\n",
    "    A_44_eq,\n",
    "    equations.C_equation_linear,\n",
    "\n",
    "]\n",
    "omega0_eq = sp.Eq(symbols.omega0,sp.solve(eqs, symbols.omega0, symbols.GM)[1][0])\n",
    "omega0_eq = omega0_eq.subs(symbols.C,symbols.C_1)\n",
    "omega0_lambda = lambdify(sp.solve(omega0_eq, symbols.omega0)[0])\n",
    "omega0_eq"
   ]
  },
  {
   "cell_type": "markdown",
   "metadata": {},
   "source": [
    "The analytical and numerical solutions are vary similar according to the example: $A_{44} = 1.0$, $B_1 = 0.3$, $C_1 = 5.0$ shown in the figure below."
   ]
  },
  {
   "cell_type": "code",
   "execution_count": 18,
   "metadata": {},
   "outputs": [
    {
     "data": {
      "image/png": "[encoded data removed]",
      "text/plain": [
       "<Figure size 432x288 with 1 Axes>"
      ]
     },
     "metadata": {
      "needs_background": "light"
     },
     "output_type": "display_data"
    }
   ],
   "source": [
    "examples.analytical_numerical.show(omega0_lambda, accelaration_lambda)"
   ]
  },
  {
   "cell_type": "markdown",
   "metadata": {},
   "source": [
    "## Implementation of Ikeda's method\n",
    "Ikeda's method divides roll damping into five damping components: the friction component $B_F$, the eddy component $B_E$, the lift component $B_L$, the wave component $B_W$ and the bilge keel component $B_{BK}$, as in the following, \n",
    "\n",
    "\\begin{equation}\n",
    "B_{44} = B_F + B_E + B_L + B_W + B_{BK}\n",
    "\\end{equation}\n",
    "\n",
    "Due to the absence of bilge keels for the KVLCC2 the $B_{BK}$ does not need to be included. This means that remaining components will get all the attention in this paper. Ikeda has in a series of papers proposed semi empirical formulas for the viscous damping components: $B_F$, $B_E$ and $B_L$ which have been implemented for this study. The wave damping $B_W$ is calculated using a potential flow strip theory code or a more advance potential flow code such as the FNPF method described as the Hybrid method in this paper.      \n",
    "\n",
    "Ikeda produced many papers about various aspects of roll damping where most of them are translations from original manuscripts in Japanese. Summaries of this method <cite data-cite=\"7505983/RWXBIIJJ\"></cite>, <cite data-cite=\"7505983/KAKIM2E2\"></cite> and <cite data-cite=\"7505983/UGK6YEVD\"></cite> has been used together with the original papers to understand how the method should be implemented. Falzarano says that the Himeno report and associated computer programs are well-known to have numerous typographical errors. When looking at these resources it becomes evident that there is some variety on how the method should be implemented, regardless if this is due to typographical errors or being variations of the actual method. The implementation was therefore a fairly time consuming task where various alternative implementations needed to be compared and investigated. \n",
    "\n",
    "The scale effects of roll damping is considered to mainly be associated with the sking friction component <cite data-cite=\"7505983/RWXBIIJJ\"></cite>. This component makes a very small part of the total damping for the full scale ship, but a substantial part for the model scale ship used in this study. This is the only component in ikedas method that needs to be recalculated when the scale changes.  \n",
    "\n",
    "For the skin friction damping $B_F$ implementation was made according to the description in <cite data-cite=\"7505983/UGK6YEVD\"></cite>. With the difference that the actual wetted surface $S$ was used instead of the proposed estimation formula. \n",
    "\n",
    "The hull lift damping $B_L$ is calculated according to <cite data-cite=\"7505983/ZVF3F5V5\"></cite> and implemented as described in <cite data-cite=\"7505983/RC2WJ4RI\"></cite>. Journe added a linear interpolation to the values for $\\kappa$ that were suggested by Ikeda.\n",
    "\n",
    "A schematic graph of how the parameters vary with speed and roll angle amplitude $\\phi_a$ in the current model scale is created with the current implementation of Ikeda as shown below. The roll amplitude is first varied at zero speed (left), the speed is then varied from zero to the froude number corresponding to 15.5 knots in full scale for the KVLCC2 with a roll angle amplitude of 10 degrees (middle). The amplitude is then gradually reduced at the highest froude number down to zero (right). \n",
    "\n",
    "Assumming that the trends are correct in Ikeda's method it can be noted from the amplitude variations at zero knots (left):\n",
    "* $B_W$ does not change with amplitude, implying that they only contribute to the linear part ($B_1$) of the damping. (The $B_W$ was calculated with strip theory here)\n",
    "* $B_F$ has a small amplitude dependancy but the linear part is dominating.\n",
    "* $B_E$ has a large amplitude depandancy and only contributes to the quadratic damping ($B_2$)<cite data-cite=\"7505983/4AFVVGNT\"></cite>.\n",
    "\n",
    "Looking at the speed variation (middle):\n",
    "* At low speed $B_F$ and $B_E$ are the dominating components. (Note that this ship does not have bilge keels, as that would otherwise also be a large component).\n",
    "* At high speed the $B_E$ has almost disappeared and is replaced by the $B_L$ which is now the dominating component.\n",
    "* $B_F$ has a large contribution for all speeds (at model scale).\n",
    "\n",
    "Looking at the roll amplitude variation (right):\n",
    "* (Please note that this x-axis is revered in this graph)\n",
    "* $B_L$ does not change with amplitude, implying that they only contribute to the linear part ($B_1$) of the damping.\n",
    "* $B_F$ has a small amplitude dependancy but the linear part is dominating."
   ]
  },
  {
   "cell_type": "code",
   "execution_count": 19,
   "metadata": {},
   "outputs": [
    {
     "data": {
      "image/png": "[encoded data removed]",
      "text/plain": [
       "<Figure size 720x432 with 3 Axes>"
      ]
     },
     "metadata": {
      "needs_background": "light"
     },
     "output_type": "display_data"
    }
   ],
   "source": [
    "examples.ikeda_V_phi_a.show()"
   ]
  },
  {
   "cell_type": "markdown",
   "metadata": {},
   "source": [
    "When the damping predicted with Ikeda was compared with corresponding model test it was found that the results were in poor agreement for the zero speed case but quite good results at speed. This was pointing towards the eddy damping being incorrect in the current implementation of Ikeda's method. A thurough investigation of the eddy damping prediction was therefore conducted which is described in the next section."
   ]
  },
  {
   "cell_type": "markdown",
   "metadata": {},
   "source": [
    "### Eddy damping\n",
    "The eddy damping is due to eddies generated around the ship hull during the roll motion. Strong eddies occures at sharp edges in the geometry. Below is an illustration of how the eddy damping changes with bilge radius to beam ratio as predicted with the current implementation of the method. It seems that the damping approaches zero very fast as the bilge radius increase. So having just a small rounding of the bilge, compared to a square section, will have a great impact on the eddy roll damping.  "
   ]
  },
  {
   "cell_type": "code",
   "execution_count": 20,
   "metadata": {
    "scrolled": true
   },
   "outputs": [
    {
     "data": {
      "image/png": "[encoded data removed]",
      "text/plain": [
       "<Figure size 432x288 with 5 Axes>"
      ]
     },
     "metadata": {
      "needs_background": "light"
     },
     "output_type": "display_data"
    }
   ],
   "source": [
    "examples.eddy_sigma.show()"
   ]
  },
  {
   "cell_type": "markdown",
   "metadata": {},
   "source": [
    "Ikeda made experiements on a number of two-dimensional cylinders with various sections <cite data-cite=\"7505983/4AFVVGNT\"></cite>. Ikeda found that the eddy damping per unit length of these sections can be expressed as:"
   ]
  },
  {
   "cell_type": "code",
   "execution_count": 21,
   "metadata": {},
   "outputs": [
    {
     "data": {
      "text/latex": [
       "$\\displaystyle B'_{E0} = \\frac{4 C_{r} T_{s}^{4} \\omega \\phi_{a} \\rho}{3 \\pi}$"
      ],
      "text/plain": [
       "Eq(B'_E0, 4*C_r*T_s**4*omega*phi_a*rho/(3*pi))"
      ]
     },
     "execution_count": 21,
     "metadata": {},
     "output_type": "execute_result"
    }
   ],
   "source": [
    "equations_ikeda_naked.eq_B_E0s"
   ]
  },
  {
   "cell_type": "markdown",
   "metadata": {},
   "source": [
    "The total eddy damping can be obtained as an integral over the sections along the ship hull:"
   ]
  },
  {
   "cell_type": "code",
   "execution_count": 22,
   "metadata": {
    "scrolled": true
   },
   "outputs": [
    {
     "data": {
      "text/latex": [
       "$\\displaystyle B_{E0} = \\int\\limits_{AP}^{FP} B'_{E0}\\, dx$"
      ],
      "text/plain": [
       "Eq(B_E0, Integral(B'_E0, (x, AP, FP)))"
      ]
     },
     "execution_count": 22,
     "metadata": {},
     "output_type": "execute_result"
    }
   ],
   "source": [
    "equations_ikeda_naked.eq_B_E0"
   ]
  },
  {
   "cell_type": "markdown",
   "metadata": {},
   "source": [
    "It can be seen from the section damping equation above that the eddy damping increases linearly with both roll amplitude and frequency, and that it will go to zero for small amplitudes and frequencies, which means that it is only included in the quadratic damping term ($B_2$). Ikeda expressed the $C_r$ coefficient to be entirely depending on the hull form.\n",
    "Ikeda developed a regression formula for $C_r$ based on his experiments, which is used in the prediction method. The authors of this paper have tried to implement this method according to the description in the original paper <cite data-cite=\"7505983/4AFVVGNT\"></cite> but have failed to reproduce the results from Ikeda's experiments exactly. Other resources such as <cite data-cite=\"7505983/RWXBIIJJ\"></cite> and <cite data-cite=\"7505983/KAKIM2E2\"></cite> have also been used without success.\n",
    "\n",
    "Instead a new regression for $C_r$ was made on the experimental results from <cite data-cite=\"7505983/4AFVVGNT\"></cite>. The experiemntal results were first collected by manual digitalization as seen below:  "
   ]
  },
  {
   "cell_type": "code",
   "execution_count": 23,
   "metadata": {
    "scrolled": true
   },
   "outputs": [
    {
     "data": {
      "text/html": [
       "<div>\n",
       "<style scoped>\n",
       "    .dataframe tbody tr th:only-of-type {\n",
       "        vertical-align: middle;\n",
       "    }\n",
       "\n",
       "    .dataframe tbody tr th {\n",
       "        vertical-align: top;\n",
       "    }\n",
       "\n",
       "    .dataframe thead th {\n",
       "        text-align: right;\n",
       "    }\n",
       "</style>\n",
       "<table border=\"1\" class=\"dataframe\">\n",
       "  <thead>\n",
       "    <tr style=\"text-align: right;\">\n",
       "      <th></th>\n",
       "      <th>model</th>\n",
       "      <th>$\\hat{\\omega}$</th>\n",
       "      <th>$\\phi_a$</th>\n",
       "      <th>$\\hat{B_E}^*$</th>\n",
       "      <th>B_W+B_F</th>\n",
       "      <th>$L_{pp}$</th>\n",
       "      <th>$beam$</th>\n",
       "      <th>$T_s$</th>\n",
       "      <th>$\\sigma$</th>\n",
       "      <th>$R_b$</th>\n",
       "      <th>$a_1$</th>\n",
       "      <th>$a_3$</th>\n",
       "      <th>$C_r$</th>\n",
       "    </tr>\n",
       "  </thead>\n",
       "  <tbody>\n",
       "    <tr>\n",
       "      <th>0</th>\n",
       "      <td>A</td>\n",
       "      <td>0.751</td>\n",
       "      <td>0.23</td>\n",
       "      <td>0.037534</td>\n",
       "      <td>0.003636</td>\n",
       "      <td>0.8</td>\n",
       "      <td>0.280</td>\n",
       "      <td>0.112</td>\n",
       "      <td>1.000</td>\n",
       "      <td>0.000000</td>\n",
       "      <td>0.095721</td>\n",
       "      <td>-0.138514</td>\n",
       "      <td>6.791066</td>\n",
       "    </tr>\n",
       "    <tr>\n",
       "      <th>1</th>\n",
       "      <td>A</td>\n",
       "      <td>0.507</td>\n",
       "      <td>0.24</td>\n",
       "      <td>0.028413</td>\n",
       "      <td>0.001391</td>\n",
       "      <td>0.8</td>\n",
       "      <td>0.280</td>\n",
       "      <td>0.112</td>\n",
       "      <td>1.000</td>\n",
       "      <td>0.000000</td>\n",
       "      <td>0.095721</td>\n",
       "      <td>-0.138514</td>\n",
       "      <td>7.297515</td>\n",
       "    </tr>\n",
       "    <tr>\n",
       "      <th>2</th>\n",
       "      <td>B</td>\n",
       "      <td>0.751</td>\n",
       "      <td>0.30</td>\n",
       "      <td>0.020700</td>\n",
       "      <td>0.003265</td>\n",
       "      <td>0.8</td>\n",
       "      <td>0.280</td>\n",
       "      <td>0.112</td>\n",
       "      <td>0.997</td>\n",
       "      <td>0.010000</td>\n",
       "      <td>0.095950</td>\n",
       "      <td>-0.136454</td>\n",
       "      <td>2.862276</td>\n",
       "    </tr>\n",
       "    <tr>\n",
       "      <th>3</th>\n",
       "      <td>B</td>\n",
       "      <td>0.536</td>\n",
       "      <td>0.30</td>\n",
       "      <td>0.013328</td>\n",
       "      <td>0.001111</td>\n",
       "      <td>0.8</td>\n",
       "      <td>0.280</td>\n",
       "      <td>0.112</td>\n",
       "      <td>0.997</td>\n",
       "      <td>0.010000</td>\n",
       "      <td>0.095950</td>\n",
       "      <td>-0.136454</td>\n",
       "      <td>2.582057</td>\n",
       "    </tr>\n",
       "    <tr>\n",
       "      <th>4</th>\n",
       "      <td>C</td>\n",
       "      <td>0.751</td>\n",
       "      <td>0.27</td>\n",
       "      <td>0.006151</td>\n",
       "      <td>0.002115</td>\n",
       "      <td>0.8</td>\n",
       "      <td>0.280</td>\n",
       "      <td>0.112</td>\n",
       "      <td>0.995</td>\n",
       "      <td>0.020000</td>\n",
       "      <td>0.096102</td>\n",
       "      <td>-0.135084</td>\n",
       "      <td>0.942686</td>\n",
       "    </tr>\n",
       "    <tr>\n",
       "      <th>5</th>\n",
       "      <td>C</td>\n",
       "      <td>0.625</td>\n",
       "      <td>0.21</td>\n",
       "      <td>0.003987</td>\n",
       "      <td>0.001500</td>\n",
       "      <td>0.8</td>\n",
       "      <td>0.280</td>\n",
       "      <td>0.112</td>\n",
       "      <td>0.995</td>\n",
       "      <td>0.020000</td>\n",
       "      <td>0.096102</td>\n",
       "      <td>-0.135084</td>\n",
       "      <td>0.943989</td>\n",
       "    </tr>\n",
       "    <tr>\n",
       "      <th>6</th>\n",
       "      <td>D</td>\n",
       "      <td>0.939</td>\n",
       "      <td>0.31</td>\n",
       "      <td>0.007466</td>\n",
       "      <td>0.002039</td>\n",
       "      <td>0.8</td>\n",
       "      <td>0.280</td>\n",
       "      <td>0.112</td>\n",
       "      <td>0.988</td>\n",
       "      <td>0.030000</td>\n",
       "      <td>0.096632</td>\n",
       "      <td>-0.130314</td>\n",
       "      <td>0.790684</td>\n",
       "    </tr>\n",
       "    <tr>\n",
       "      <th>7</th>\n",
       "      <td>D</td>\n",
       "      <td>0.751</td>\n",
       "      <td>0.31</td>\n",
       "      <td>0.006145</td>\n",
       "      <td>0.001500</td>\n",
       "      <td>0.8</td>\n",
       "      <td>0.280</td>\n",
       "      <td>0.112</td>\n",
       "      <td>0.988</td>\n",
       "      <td>0.030000</td>\n",
       "      <td>0.096632</td>\n",
       "      <td>-0.130314</td>\n",
       "      <td>0.813690</td>\n",
       "    </tr>\n",
       "    <tr>\n",
       "      <th>8</th>\n",
       "      <td>G</td>\n",
       "      <td>0.814</td>\n",
       "      <td>0.24</td>\n",
       "      <td>0.011505</td>\n",
       "      <td>0.088356</td>\n",
       "      <td>0.8</td>\n",
       "      <td>0.185</td>\n",
       "      <td>0.192</td>\n",
       "      <td>0.799</td>\n",
       "      <td>0.182397</td>\n",
       "      <td>-0.347078</td>\n",
       "      <td>-0.007600</td>\n",
       "      <td>0.086061</td>\n",
       "    </tr>\n",
       "    <tr>\n",
       "      <th>9</th>\n",
       "      <td>H</td>\n",
       "      <td>0.560</td>\n",
       "      <td>0.30</td>\n",
       "      <td>0.000640</td>\n",
       "      <td>0.001400</td>\n",
       "      <td>0.8</td>\n",
       "      <td>0.398</td>\n",
       "      <td>0.193</td>\n",
       "      <td>0.893</td>\n",
       "      <td>0.195702</td>\n",
       "      <td>0.014252</td>\n",
       "      <td>-0.068862</td>\n",
       "      <td>0.059677</td>\n",
       "    </tr>\n",
       "    <tr>\n",
       "      <th>10</th>\n",
       "      <td>H</td>\n",
       "      <td>0.889</td>\n",
       "      <td>0.30</td>\n",
       "      <td>0.001124</td>\n",
       "      <td>0.002290</td>\n",
       "      <td>0.8</td>\n",
       "      <td>0.398</td>\n",
       "      <td>0.193</td>\n",
       "      <td>0.893</td>\n",
       "      <td>0.195702</td>\n",
       "      <td>0.014252</td>\n",
       "      <td>-0.068862</td>\n",
       "      <td>0.066051</td>\n",
       "    </tr>\n",
       "    <tr>\n",
       "      <th>11</th>\n",
       "      <td>I</td>\n",
       "      <td>0.580</td>\n",
       "      <td>0.25</td>\n",
       "      <td>0.001769</td>\n",
       "      <td>0.001000</td>\n",
       "      <td>0.8</td>\n",
       "      <td>0.237</td>\n",
       "      <td>0.096</td>\n",
       "      <td>0.977</td>\n",
       "      <td>0.049381</td>\n",
       "      <td>0.091987</td>\n",
       "      <td>-0.123059</td>\n",
       "      <td>0.358037</td>\n",
       "    </tr>\n",
       "    <tr>\n",
       "      <th>12</th>\n",
       "      <td>I</td>\n",
       "      <td>0.861</td>\n",
       "      <td>0.25</td>\n",
       "      <td>0.001950</td>\n",
       "      <td>0.002505</td>\n",
       "      <td>0.8</td>\n",
       "      <td>0.237</td>\n",
       "      <td>0.096</td>\n",
       "      <td>0.977</td>\n",
       "      <td>0.049381</td>\n",
       "      <td>0.091987</td>\n",
       "      <td>-0.123059</td>\n",
       "      <td>0.265878</td>\n",
       "    </tr>\n",
       "    <tr>\n",
       "      <th>13</th>\n",
       "      <td>J</td>\n",
       "      <td>1.030</td>\n",
       "      <td>0.23</td>\n",
       "      <td>0.004697</td>\n",
       "      <td>0.002762</td>\n",
       "      <td>0.8</td>\n",
       "      <td>0.343</td>\n",
       "      <td>0.192</td>\n",
       "      <td>0.593</td>\n",
       "      <td>0.353409</td>\n",
       "      <td>-0.063366</td>\n",
       "      <td>0.123590</td>\n",
       "      <td>0.135721</td>\n",
       "    </tr>\n",
       "    <tr>\n",
       "      <th>14</th>\n",
       "      <td>K</td>\n",
       "      <td>0.780</td>\n",
       "      <td>0.29</td>\n",
       "      <td>0.017660</td>\n",
       "      <td>0.001304</td>\n",
       "      <td>1.0</td>\n",
       "      <td>0.193</td>\n",
       "      <td>0.125</td>\n",
       "      <td>0.541</td>\n",
       "      <td>0.227156</td>\n",
       "      <td>-0.148721</td>\n",
       "      <td>0.155846</td>\n",
       "      <td>0.292548</td>\n",
       "    </tr>\n",
       "    <tr>\n",
       "      <th>15</th>\n",
       "      <td>L</td>\n",
       "      <td>0.551</td>\n",
       "      <td>0.26</td>\n",
       "      <td>0.134298</td>\n",
       "      <td>0.028802</td>\n",
       "      <td>1.0</td>\n",
       "      <td>0.151</td>\n",
       "      <td>0.144</td>\n",
       "      <td>0.430</td>\n",
       "      <td>0.240320</td>\n",
       "      <td>-0.377793</td>\n",
       "      <td>0.210592</td>\n",
       "      <td>0.927596</td>\n",
       "    </tr>\n",
       "  </tbody>\n",
       "</table>\n",
       "</div>"
      ],
      "text/plain": [
       "   model  $\\hat{\\omega}$  $\\phi_a$  $\\hat{B_E}^*$   B_W+B_F  $L_{pp}$  $beam$  \\\n",
       "0      A           0.751      0.23       0.037534  0.003636       0.8   0.280   \n",
       "1      A           0.507      0.24       0.028413  0.001391       0.8   0.280   \n",
       "2      B           0.751      0.30       0.020700  0.003265       0.8   0.280   \n",
       "3      B           0.536      0.30       0.013328  0.001111       0.8   0.280   \n",
       "4      C           0.751      0.27       0.006151  0.002115       0.8   0.280   \n",
       "5      C           0.625      0.21       0.003987  0.001500       0.8   0.280   \n",
       "6      D           0.939      0.31       0.007466  0.002039       0.8   0.280   \n",
       "7      D           0.751      0.31       0.006145  0.001500       0.8   0.280   \n",
       "8      G           0.814      0.24       0.011505  0.088356       0.8   0.185   \n",
       "9      H           0.560      0.30       0.000640  0.001400       0.8   0.398   \n",
       "10     H           0.889      0.30       0.001124  0.002290       0.8   0.398   \n",
       "11     I           0.580      0.25       0.001769  0.001000       0.8   0.237   \n",
       "12     I           0.861      0.25       0.001950  0.002505       0.8   0.237   \n",
       "13     J           1.030      0.23       0.004697  0.002762       0.8   0.343   \n",
       "14     K           0.780      0.29       0.017660  0.001304       1.0   0.193   \n",
       "15     L           0.551      0.26       0.134298  0.028802       1.0   0.151   \n",
       "\n",
       "    $T_s$  $\\sigma$     $R_b$     $a_1$     $a_3$     $C_r$  \n",
       "0   0.112     1.000  0.000000  0.095721 -0.138514  6.791066  \n",
       "1   0.112     1.000  0.000000  0.095721 -0.138514  7.297515  \n",
       "2   0.112     0.997  0.010000  0.095950 -0.136454  2.862276  \n",
       "3   0.112     0.997  0.010000  0.095950 -0.136454  2.582057  \n",
       "4   0.112     0.995  0.020000  0.096102 -0.135084  0.942686  \n",
       "5   0.112     0.995  0.020000  0.096102 -0.135084  0.943989  \n",
       "6   0.112     0.988  0.030000  0.096632 -0.130314  0.790684  \n",
       "7   0.112     0.988  0.030000  0.096632 -0.130314  0.813690  \n",
       "8   0.192     0.799  0.182397 -0.347078 -0.007600  0.086061  \n",
       "9   0.193     0.893  0.195702  0.014252 -0.068862  0.059677  \n",
       "10  0.193     0.893  0.195702  0.014252 -0.068862  0.066051  \n",
       "11  0.096     0.977  0.049381  0.091987 -0.123059  0.358037  \n",
       "12  0.096     0.977  0.049381  0.091987 -0.123059  0.265878  \n",
       "13  0.192     0.593  0.353409 -0.063366  0.123590  0.135721  \n",
       "14  0.125     0.541  0.227156 -0.148721  0.155846  0.292548  \n",
       "15  0.144     0.430  0.240320 -0.377793  0.210592  0.927596  "
      ]
     },
     "execution_count": 23,
     "metadata": {},
     "output_type": "execute_result"
    }
   ],
   "source": [
    "examples.ikeda_section_table.show()"
   ]
  },
  {
   "cell_type": "markdown",
   "metadata": {},
   "source": [
    "Where $OG/d=0$ for all sections.For the Series60 sections (G-K) the bilge radius $R_b$ was estimated using the following estimation:"
   ]
  },
  {
   "cell_type": "code",
   "execution_count": 24,
   "metadata": {},
   "outputs": [
    {
     "data": {
      "text/latex": [
       "$\\displaystyle R_{b} = \\frac{\\sqrt{B_{s} T_{s} \\left(1 - \\sigma\\right)}}{\\sqrt{1 - \\frac{\\pi}{4}}}$"
      ],
      "text/plain": [
       "Eq(R_b, sqrt(B_s*T_s*(1 - sigma))/sqrt(1 - pi/4))"
      ]
     },
     "execution_count": 24,
     "metadata": {},
     "output_type": "execute_result"
    }
   ],
   "source": [
    "equations_ikeda_naked.eq_R_b"
   ]
  },
  {
   "cell_type": "markdown",
   "metadata": {},
   "source": [
    "The nondimensional damping is expressed in <cite data-cite=\"7505983/4AFVVGNT\"></cite> using a star (*) sign. The reason seams to be that Ikeda wants to signal that this damping only has the quadratic part of the damping. This stared damping are defined as:"
   ]
  },
  {
   "cell_type": "code",
   "execution_count": 25,
   "metadata": {},
   "outputs": [
    {
     "data": {
      "text/latex": [
       "$\\displaystyle B_{E0 HAT} = \\frac{8 B_{E star hat}}{3 \\pi}$"
      ],
      "text/plain": [
       "Eq(B_E0_HAT, 8*B_E_star_hat/(3*pi))"
      ]
     },
     "execution_count": 25,
     "metadata": {},
     "output_type": "execute_result"
    }
   ],
   "source": [
    "equations_ikeda_naked.eq_B_E_star_hat"
   ]
  },
  {
   "cell_type": "markdown",
   "metadata": {},
   "source": [
    "$\\hat{B_E}^*$ and $(B_W+B_F)^*$ are the experimental values taken from <cite data-cite=\"7505983/4AFVVGNT\"></cite>. Which add up to the total damping:"
   ]
  },
  {
   "cell_type": "markdown",
   "metadata": {},
   "source": [
    "$\\hat{B^*} = \\hat{B^*_E} + (B_W+B_F)^*$"
   ]
  },
  {
   "cell_type": "markdown",
   "metadata": {},
   "source": [
    "The Lewis section coefficients were calculated as:"
   ]
  },
  {
   "cell_type": "code",
   "execution_count": 26,
   "metadata": {},
   "outputs": [
    {
     "data": {
      "text/latex": [
       "$\\displaystyle D_{1} = \\frac{4 \\sigma}{\\pi} + \\frac{\\left(H_{0} - 1\\right)^{2} \\left(- \\frac{4 \\sigma}{\\pi} + 1\\right)}{\\left(H_{0} + 1\\right)^{2}} + 3$"
      ],
      "text/plain": [
       "Eq(D_1, 4*sigma/pi + (H_0 - 1)**2*(-4*sigma/pi + 1)/(H_0 + 1)**2 + 3)"
      ]
     },
     "execution_count": 26,
     "metadata": {},
     "output_type": "execute_result"
    }
   ],
   "source": [
    "equations_ikeda_naked.eq_D_1"
   ]
  },
  {
   "cell_type": "code",
   "execution_count": 27,
   "metadata": {},
   "outputs": [
    {
     "data": {
      "text/latex": [
       "$\\displaystyle a_{3} = \\frac{- D_{1} + \\sqrt{9 - 2 D_{1}} + 3}{D_{1}}$"
      ],
      "text/plain": [
       "Eq(a_3, (-D_1 + sqrt(9 - 2*D_1) + 3)/D_1)"
      ]
     },
     "execution_count": 27,
     "metadata": {},
     "output_type": "execute_result"
    }
   ],
   "source": [
    "equations_ikeda_naked.eq_a_3"
   ]
  },
  {
   "cell_type": "code",
   "execution_count": 28,
   "metadata": {},
   "outputs": [
    {
     "data": {
      "text/latex": [
       "$\\displaystyle a_{1} = \\frac{\\left(H_{0} - 1\\right) \\left(a_{3} + 1\\right)}{H_{0} + 1}$"
      ],
      "text/plain": [
       "Eq(a_1, (H_0 - 1)*(a_3 + 1)/(H_0 + 1))"
      ]
     },
     "execution_count": 28,
     "metadata": {},
     "output_type": "execute_result"
    }
   ],
   "source": [
    "equations_ikeda_naked.eq_a_1"
   ]
  },
  {
   "cell_type": "code",
   "execution_count": 29,
   "metadata": {
    "scrolled": true
   },
   "outputs": [
    {
     "data": {
      "text/latex": [
       "$\\displaystyle B_{E0 HAT} = \\frac{8 B_{E star hat}}{3 \\pi}$"
      ],
      "text/plain": [
       "Eq(B_E0_HAT, 8*B_E_star_hat/(3*pi))"
      ]
     },
     "execution_count": 29,
     "metadata": {},
     "output_type": "execute_result"
    }
   ],
   "source": [
    "equations_ikeda_naked.eq_B_E_star_hat"
   ]
  },
  {
   "cell_type": "markdown",
   "metadata": {},
   "source": [
    "And the $C_r$ was calculated from the experiments as:"
   ]
  },
  {
   "cell_type": "code",
   "execution_count": 30,
   "metadata": {
    "scrolled": true
   },
   "outputs": [
    {
     "data": {
      "text/latex": [
       "$\\displaystyle C_{r} = \\frac{3 \\pi B_{E0 HAT} B_{s} T_{s} beam^{2} \\sigma}{4 T^{4} \\omega_{hat} \\phi_{a}}$"
      ],
      "text/plain": [
       "Eq(C_r, 3*pi*B_E0_HAT*B_s*T_s*beam**2*sigma/(4*T**4*omega_hat*phi_a))"
      ]
     },
     "execution_count": 30,
     "metadata": {},
     "output_type": "execute_result"
    }
   ],
   "source": [
    "equations_ikeda_naked.eq_C_r_2"
   ]
  },
  {
   "cell_type": "markdown",
   "metadata": {},
   "source": [
    "Instead of trying to invent some very advanced mathematical expression for the $C_r$ regression a simple decision tree model was instead fitted to the $C_r$ data from Ikeda's experiments. The fitted decision tree is illustrated in the figure below:"
   ]
  },
  {
   "cell_type": "code",
   "execution_count": 31,
   "metadata": {},
   "outputs": [
    {
     "data": {
      "image/png": "[encoded data removed]",
      "text/plain": [
       "<Figure size 1080x576 with 1 Axes>"
      ]
     },
     "metadata": {
      "needs_background": "light"
     },
     "output_type": "display_data"
    }
   ],
   "source": [
    "examples.decision_tree.show()"
   ]
  },
  {
   "cell_type": "markdown",
   "metadata": {},
   "source": [
    "Eventhoug this tree is so simple it has very good accuracy in reproducing the results from Ikedas experiments ($r^2=0.996)$. The $C_r$ was predicted with Ikeda and the alternative decision tree model for the KVLCC2 with section data according to the table below. A comparison is shown in the figure below, where it can be seen that the current Ikeda implementation predicts much higher $C_r$ between station 8 and 14 where the bilge radius is very small."
   ]
  },
  {
   "cell_type": "code",
   "execution_count": 32,
   "metadata": {},
   "outputs": [
    {
     "data": {
      "text/html": [
       "<div>\n",
       "<style scoped>\n",
       "    .dataframe tbody tr th:only-of-type {\n",
       "        vertical-align: middle;\n",
       "    }\n",
       "\n",
       "    .dataframe tbody tr th {\n",
       "        vertical-align: top;\n",
       "    }\n",
       "\n",
       "    .dataframe thead th {\n",
       "        text-align: right;\n",
       "    }\n",
       "</style>\n",
       "<table border=\"1\" class=\"dataframe\">\n",
       "  <thead>\n",
       "    <tr style=\"text-align: right;\">\n",
       "      <th></th>\n",
       "      <th>$x$</th>\n",
       "      <th>$beam$</th>\n",
       "      <th>$T_s$</th>\n",
       "      <th>$\\sigma$</th>\n",
       "      <th>$\\frac{OG}{d}$</th>\n",
       "      <th>$R_b$</th>\n",
       "      <th>$a_1$</th>\n",
       "      <th>$a_3$</th>\n",
       "    </tr>\n",
       "    <tr>\n",
       "      <th>no</th>\n",
       "      <th></th>\n",
       "      <th></th>\n",
       "      <th></th>\n",
       "      <th></th>\n",
       "      <th></th>\n",
       "      <th></th>\n",
       "      <th></th>\n",
       "      <th></th>\n",
       "    </tr>\n",
       "  </thead>\n",
       "  <tbody>\n",
       "    <tr>\n",
       "      <th>0</th>\n",
       "      <td>-0.080809</td>\n",
       "      <td>0.171156</td>\n",
       "      <td>0.029412</td>\n",
       "      <td>0.593999</td>\n",
       "      <td>1.100000</td>\n",
       "      <td>0.097589</td>\n",
       "      <td>0.534095</td>\n",
       "      <td>0.093461</td>\n",
       "    </tr>\n",
       "    <tr>\n",
       "      <th>1</th>\n",
       "      <td>0.149411</td>\n",
       "      <td>0.410199</td>\n",
       "      <td>0.268382</td>\n",
       "      <td>0.243296</td>\n",
       "      <td>0.120548</td>\n",
       "      <td>0.623047</td>\n",
       "      <td>-0.182446</td>\n",
       "      <td>0.365057</td>\n",
       "    </tr>\n",
       "    <tr>\n",
       "      <th>2</th>\n",
       "      <td>0.412519</td>\n",
       "      <td>0.615063</td>\n",
       "      <td>0.305882</td>\n",
       "      <td>0.492228</td>\n",
       "      <td>0.105769</td>\n",
       "      <td>0.667198</td>\n",
       "      <td>0.003204</td>\n",
       "      <td>0.191589</td>\n",
       "    </tr>\n",
       "    <tr>\n",
       "      <th>3</th>\n",
       "      <td>0.642738</td>\n",
       "      <td>0.739449</td>\n",
       "      <td>0.305882</td>\n",
       "      <td>0.653719</td>\n",
       "      <td>0.105769</td>\n",
       "      <td>0.604128</td>\n",
       "      <td>0.102394</td>\n",
       "      <td>0.083578</td>\n",
       "    </tr>\n",
       "    <tr>\n",
       "      <th>4</th>\n",
       "      <td>0.905847</td>\n",
       "      <td>0.825871</td>\n",
       "      <td>0.305882</td>\n",
       "      <td>0.785794</td>\n",
       "      <td>0.105769</td>\n",
       "      <td>0.502149</td>\n",
       "      <td>0.148893</td>\n",
       "      <td>-0.000246</td>\n",
       "    </tr>\n",
       "    <tr>\n",
       "      <th>5</th>\n",
       "      <td>1.136066</td>\n",
       "      <td>0.851037</td>\n",
       "      <td>0.305882</td>\n",
       "      <td>0.878006</td>\n",
       "      <td>0.105769</td>\n",
       "      <td>0.384684</td>\n",
       "      <td>0.154150</td>\n",
       "      <td>-0.057593</td>\n",
       "    </tr>\n",
       "    <tr>\n",
       "      <th>6</th>\n",
       "      <td>1.366286</td>\n",
       "      <td>0.852941</td>\n",
       "      <td>0.305882</td>\n",
       "      <td>0.944549</td>\n",
       "      <td>0.105769</td>\n",
       "      <td>0.259643</td>\n",
       "      <td>0.148226</td>\n",
       "      <td>-0.099798</td>\n",
       "    </tr>\n",
       "    <tr>\n",
       "      <th>7</th>\n",
       "      <td>1.629394</td>\n",
       "      <td>0.852941</td>\n",
       "      <td>0.305882</td>\n",
       "      <td>0.983797</td>\n",
       "      <td>0.105769</td>\n",
       "      <td>0.140352</td>\n",
       "      <td>0.144000</td>\n",
       "      <td>-0.125462</td>\n",
       "    </tr>\n",
       "    <tr>\n",
       "      <th>8</th>\n",
       "      <td>1.859614</td>\n",
       "      <td>0.852941</td>\n",
       "      <td>0.305882</td>\n",
       "      <td>0.997362</td>\n",
       "      <td>0.105769</td>\n",
       "      <td>0.056634</td>\n",
       "      <td>0.142507</td>\n",
       "      <td>-0.134532</td>\n",
       "    </tr>\n",
       "    <tr>\n",
       "      <th>9</th>\n",
       "      <td>2.122722</td>\n",
       "      <td>0.852941</td>\n",
       "      <td>0.305882</td>\n",
       "      <td>0.997952</td>\n",
       "      <td>0.105769</td>\n",
       "      <td>0.049893</td>\n",
       "      <td>0.142441</td>\n",
       "      <td>-0.134930</td>\n",
       "    </tr>\n",
       "    <tr>\n",
       "      <th>10</th>\n",
       "      <td>2.352941</td>\n",
       "      <td>0.852941</td>\n",
       "      <td>0.305882</td>\n",
       "      <td>0.997952</td>\n",
       "      <td>0.105769</td>\n",
       "      <td>0.049901</td>\n",
       "      <td>0.142441</td>\n",
       "      <td>-0.134930</td>\n",
       "    </tr>\n",
       "    <tr>\n",
       "      <th>11</th>\n",
       "      <td>2.586639</td>\n",
       "      <td>0.852941</td>\n",
       "      <td>0.305882</td>\n",
       "      <td>0.997951</td>\n",
       "      <td>0.105769</td>\n",
       "      <td>0.049907</td>\n",
       "      <td>0.142441</td>\n",
       "      <td>-0.134929</td>\n",
       "    </tr>\n",
       "    <tr>\n",
       "      <th>12</th>\n",
       "      <td>2.853721</td>\n",
       "      <td>0.852941</td>\n",
       "      <td>0.305882</td>\n",
       "      <td>0.997952</td>\n",
       "      <td>0.105769</td>\n",
       "      <td>0.049901</td>\n",
       "      <td>0.142441</td>\n",
       "      <td>-0.134930</td>\n",
       "    </tr>\n",
       "    <tr>\n",
       "      <th>13</th>\n",
       "      <td>3.087419</td>\n",
       "      <td>0.852941</td>\n",
       "      <td>0.305882</td>\n",
       "      <td>0.997952</td>\n",
       "      <td>0.105769</td>\n",
       "      <td>0.049901</td>\n",
       "      <td>0.142441</td>\n",
       "      <td>-0.134930</td>\n",
       "    </tr>\n",
       "    <tr>\n",
       "      <th>14</th>\n",
       "      <td>3.321116</td>\n",
       "      <td>0.852941</td>\n",
       "      <td>0.305882</td>\n",
       "      <td>0.997933</td>\n",
       "      <td>0.105769</td>\n",
       "      <td>0.050133</td>\n",
       "      <td>0.142443</td>\n",
       "      <td>-0.134917</td>\n",
       "    </tr>\n",
       "    <tr>\n",
       "      <th>15</th>\n",
       "      <td>3.588199</td>\n",
       "      <td>0.852756</td>\n",
       "      <td>0.305882</td>\n",
       "      <td>0.991238</td>\n",
       "      <td>0.105769</td>\n",
       "      <td>0.103196</td>\n",
       "      <td>0.143090</td>\n",
       "      <td>-0.130428</td>\n",
       "    </tr>\n",
       "    <tr>\n",
       "      <th>16</th>\n",
       "      <td>3.821896</td>\n",
       "      <td>0.845409</td>\n",
       "      <td>0.305882</td>\n",
       "      <td>0.970096</td>\n",
       "      <td>0.105769</td>\n",
       "      <td>0.189827</td>\n",
       "      <td>0.141646</td>\n",
       "      <td>-0.116590</td>\n",
       "    </tr>\n",
       "    <tr>\n",
       "      <th>17</th>\n",
       "      <td>4.055593</td>\n",
       "      <td>0.814137</td>\n",
       "      <td>0.305882</td>\n",
       "      <td>0.935791</td>\n",
       "      <td>0.105769</td>\n",
       "      <td>0.272966</td>\n",
       "      <td>0.128463</td>\n",
       "      <td>-0.094856</td>\n",
       "    </tr>\n",
       "    <tr>\n",
       "      <th>18</th>\n",
       "      <td>4.289291</td>\n",
       "      <td>0.707807</td>\n",
       "      <td>0.305882</td>\n",
       "      <td>0.898147</td>\n",
       "      <td>0.105769</td>\n",
       "      <td>0.320557</td>\n",
       "      <td>0.067555</td>\n",
       "      <td>-0.071828</td>\n",
       "    </tr>\n",
       "    <tr>\n",
       "      <th>19</th>\n",
       "      <td>4.556373</td>\n",
       "      <td>0.414760</td>\n",
       "      <td>0.305882</td>\n",
       "      <td>0.856623</td>\n",
       "      <td>0.105769</td>\n",
       "      <td>0.291138</td>\n",
       "      <td>-0.183515</td>\n",
       "      <td>-0.043765</td>\n",
       "    </tr>\n",
       "    <tr>\n",
       "      <th>20</th>\n",
       "      <td>4.790071</td>\n",
       "      <td>0.083964</td>\n",
       "      <td>0.237941</td>\n",
       "      <td>0.470763</td>\n",
       "      <td>0.135970</td>\n",
       "      <td>0.221967</td>\n",
       "      <td>-0.772180</td>\n",
       "      <td>0.103040</td>\n",
       "    </tr>\n",
       "  </tbody>\n",
       "</table>\n",
       "</div>"
      ],
      "text/plain": [
       "         $x$    $beam$     $T_s$  $\\sigma$  $\\frac{OG}{d}$     $R_b$  \\\n",
       "no                                                                     \n",
       "0  -0.080809  0.171156  0.029412  0.593999        1.100000  0.097589   \n",
       "1   0.149411  0.410199  0.268382  0.243296        0.120548  0.623047   \n",
       "2   0.412519  0.615063  0.305882  0.492228        0.105769  0.667198   \n",
       "3   0.642738  0.739449  0.305882  0.653719        0.105769  0.604128   \n",
       "4   0.905847  0.825871  0.305882  0.785794        0.105769  0.502149   \n",
       "5   1.136066  0.851037  0.305882  0.878006        0.105769  0.384684   \n",
       "6   1.366286  0.852941  0.305882  0.944549        0.105769  0.259643   \n",
       "7   1.629394  0.852941  0.305882  0.983797        0.105769  0.140352   \n",
       "8   1.859614  0.852941  0.305882  0.997362        0.105769  0.056634   \n",
       "9   2.122722  0.852941  0.305882  0.997952        0.105769  0.049893   \n",
       "10  2.352941  0.852941  0.305882  0.997952        0.105769  0.049901   \n",
       "11  2.586639  0.852941  0.305882  0.997951        0.105769  0.049907   \n",
       "12  2.853721  0.852941  0.305882  0.997952        0.105769  0.049901   \n",
       "13  3.087419  0.852941  0.305882  0.997952        0.105769  0.049901   \n",
       "14  3.321116  0.852941  0.305882  0.997933        0.105769  0.050133   \n",
       "15  3.588199  0.852756  0.305882  0.991238        0.105769  0.103196   \n",
       "16  3.821896  0.845409  0.305882  0.970096        0.105769  0.189827   \n",
       "17  4.055593  0.814137  0.305882  0.935791        0.105769  0.272966   \n",
       "18  4.289291  0.707807  0.305882  0.898147        0.105769  0.320557   \n",
       "19  4.556373  0.414760  0.305882  0.856623        0.105769  0.291138   \n",
       "20  4.790071  0.083964  0.237941  0.470763        0.135970  0.221967   \n",
       "\n",
       "       $a_1$     $a_3$  \n",
       "no                      \n",
       "0   0.534095  0.093461  \n",
       "1  -0.182446  0.365057  \n",
       "2   0.003204  0.191589  \n",
       "3   0.102394  0.083578  \n",
       "4   0.148893 -0.000246  \n",
       "5   0.154150 -0.057593  \n",
       "6   0.148226 -0.099798  \n",
       "7   0.144000 -0.125462  \n",
       "8   0.142507 -0.134532  \n",
       "9   0.142441 -0.134930  \n",
       "10  0.142441 -0.134930  \n",
       "11  0.142441 -0.134929  \n",
       "12  0.142441 -0.134930  \n",
       "13  0.142441 -0.134930  \n",
       "14  0.142443 -0.134917  \n",
       "15  0.143090 -0.130428  \n",
       "16  0.141646 -0.116590  \n",
       "17  0.128463 -0.094856  \n",
       "18  0.067555 -0.071828  \n",
       "19 -0.183515 -0.043765  \n",
       "20 -0.772180  0.103040  "
      ]
     },
     "execution_count": 32,
     "metadata": {},
     "output_type": "execute_result"
    }
   ],
   "source": [
    "examples.KVLCC2_section_table.show()"
   ]
  },
  {
   "cell_type": "code",
   "execution_count": 33,
   "metadata": {},
   "outputs": [
    {
     "data": {
      "image/png": "[encoded data removed]",
      "text/plain": [
       "<Figure size 432x288 with 1 Axes>"
      ]
     },
     "metadata": {
      "needs_background": "light"
     },
     "output_type": "display_data"
    }
   ],
   "source": [
    "examples.decision_tree.show_KVLCC2_C_r_prediction()"
   ]
  },
  {
   "cell_type": "markdown",
   "metadata": {},
   "source": [
    "The two alternative ways to calculate the eddy damping will be further discussed below, when comparing the total predicted damping with corresponding results from the model tests."
   ]
  },
  {
   "cell_type": "markdown",
   "metadata": {},
   "source": [
    "### Time and frequency domain\n",
    "Ikeda's method is defined in the frequency domain, where the damping is expressed as a function of roll angle amplitude $\\phi_a$ and roll angle frequency $\\omega$. The equivalent linear damping $B_e$ (not to confuse with eddy damping $B_E$) is a way to convert the frequency domain damping into time domain damping <cite data-cite=\"7505983/RWXBIIJJ\"></cite>, so that time domain roll simulations can be conducted. The most general way to determine $B_e$ is to assume that the energy loss due to damping during a half cycle of roll is the same when nonlinear and linear dampings are used <cite data-cite=\"7505983/RYUBZITQ\"></cite>. The $B_e$ can then be calculated as a Fourier series expansion of the damping model, which in the case of a cubic model yields as: "
   ]
  },
  {
   "cell_type": "code",
   "execution_count": 34,
   "metadata": {},
   "outputs": [
    {
     "data": {
      "text/latex": [
       "$\\displaystyle B_{e} = B_{1} + \\frac{8 B_{2} \\omega_{0} \\phi_{a}}{3 \\pi} + 0.75 B_{3} \\omega_{0}^{2} \\phi_{a}^{2}$"
      ],
      "text/plain": [
       "Eq(B_e, B_1 + 8*B_2*omega0*phi_a/(3*pi) + 0.75*B_3*omega0**2*phi_a**2)"
      ]
     },
     "execution_count": 34,
     "metadata": {},
     "output_type": "execute_result"
    }
   ],
   "source": [
    "equations.B_e_equation_cubic"
   ]
  },
  {
   "cell_type": "markdown",
   "metadata": {},
   "source": [
    "And in the case of a quadratic model $B_3=0$ and for the linear model $B_1$ and $B_e$ are the same thing."
   ]
  },
  {
   "cell_type": "markdown",
   "metadata": {},
   "source": [
    "So the expression above gives a relation between the frequency domain quantities $\\phi_a$, $\\omega$ and the time domain quantities $B_1$, $B_2$ and $B_3$ which can be used to obtain the latter ones from the Ikeda's method. This can be done by calculating the damping with Ikeda's method for a variation of frequencies and amplitudes and then fit the above expression to this damping and obtain $B_1$, $B_2$ and $B_3$:\n",
    "\n",
    "$$B^{Ikeda}(\\phi_a, \\omega) = B_e(\\phi_a, \\omega)$$\n",
    "\n",
    "And in the case of roll decay test $\\phi_a$ is the only parameter being varied. In order to investigate this approach an alternative method using the logaritmic decrement <cite data-cite=\"7505983/BYNJ8CFG\"></cite> to obtaining the frequency domain quantities from time series result is used.  \n",
    "\n",
    "This method is investigated on simulation results with a quadratic model: $B_1 = 0.05$, $B_2 = 0.9$, $A_{44} = 1.0$, $C_1 = 5.0$. The peak values, being the only known amplitudes from this signal, is shown in the figure below."
   ]
  },
  {
   "cell_type": "code",
   "execution_count": 35,
   "metadata": {
    "scrolled": false
   },
   "outputs": [
    {
     "data": {
      "image/png": "[encoded data removed]",
      "text/plain": [
       "<Figure size 432x288 with 2 Axes>"
      ]
     },
     "metadata": {
      "needs_background": "light"
     },
     "output_type": "display_data"
    }
   ],
   "source": [
    "examples.logaritimic_decrement.show_figure_1()"
   ]
  },
  {
   "cell_type": "markdown",
   "metadata": {},
   "source": [
    "The decrement is calculated as the ratio between every other peak, so that negative and positive roll peaks are separated. \n",
    "$$ \\Delta_n = \\frac{\\phi_{a,n}}{\\phi_{a,n+2}}$$"
   ]
  },
  {
   "cell_type": "markdown",
   "metadata": {},
   "source": [
    "The nondimensional $\\zeta$ damping coefficient can be calculated from the logaritimic decrement:"
   ]
  },
  {
   "cell_type": "markdown",
   "metadata": {},
   "source": [
    "$$\\zeta = \\frac{\\delta}{2\\pi}=\\frac{ln(\\Delta)}{2\\pi}$$"
   ]
  },
  {
   "cell_type": "markdown",
   "metadata": {},
   "source": [
    "From where the dimensional damping (Nm*s) can be obtained:"
   ]
  },
  {
   "cell_type": "code",
   "execution_count": 36,
   "metadata": {},
   "outputs": [
    {
     "data": {
      "text/latex": [
       "$\\displaystyle B = 2 A_{44} \\omega_{0} \\zeta$"
      ],
      "text/plain": [
       "Eq(B, 2*A_44*omega0*zeta)"
      ]
     },
     "execution_count": 36,
     "metadata": {},
     "output_type": "execute_result"
    }
   ],
   "source": [
    "equations.B_1_zeta_eq.subs(symbols.B_1, symbols.B)"
   ]
  },
  {
   "cell_type": "markdown",
   "metadata": {},
   "source": [
    "It is not obvious which of the roll amplitudes these dampings correspond to. Four different choices were tried, associating damping $B_n$ with the following amplitudes:\n",
    "* A : $\\phi_n$\n",
    "* B : $\\phi_{n+1}$\n",
    "* C : $\\phi_{n+2}$\n",
    "* D : $(\\phi_n + \\phi_{n+1} + \\phi_{n+2})/3$"
   ]
  },
  {
   "cell_type": "code",
   "execution_count": 37,
   "metadata": {},
   "outputs": [
    {
     "data": {
      "image/png": "[encoded data removed]",
      "text/plain": [
       "<Figure size 432x288 with 1 Axes>"
      ]
     },
     "metadata": {
      "needs_background": "light"
     },
     "output_type": "display_data"
    }
   ],
   "source": [
    "examples.logaritimic_decrement.show_figure_2()"
   ]
  },
  {
   "cell_type": "markdown",
   "metadata": {},
   "source": [
    "Taking the mean value of peak n and the following two peaks (alt.D) seem to be the approach that best matches the $B_e$ (predicted using the linearized equivalent damping method). The  linearized equivalent damping method therefore seems to be the best way to convert $B_1$, $B_2$, $B_3$ to frequency domain, considering the difficulties with the logaritmic decrement method as described above. The only time this method has been used in this paper, is when damping at individual peaks from a time signal should be converted to frequency domain. "
   ]
  },
  {
   "cell_type": "markdown",
   "metadata": {},
   "source": [
    "## FNPF"
   ]
  },
  {
   "cell_type": "markdown",
   "metadata": {},
   "source": [
    "## Hybrid method\n",
    "A Hybrid method has been developed where wave damping $B_W$ obtained with FNPF as described in the previous section is used together with the visous damping contributions from Ikeda's method. The wave damping was determined by using the PIT described above on results from FNPF simulations of roll decay tests. "
   ]
  },
  {
   "cell_type": "markdown",
   "metadata": {},
   "source": [
    "# Results"
   ]
  },
  {
   "cell_type": "markdown",
   "metadata": {},
   "source": [
    "## Roll decay model tests\n",
    "### 0 knots\n",
    "Data from two roll decay model tests conducted at zero speed were available: [Roll decay model tests 0 knots](../../notebooks/01.2_select_suitable_MDL_test_KLVCC2.ipynb#rolldecay). These tests where analyzed by fitting a [Cubic model](../../notebooks/01.2_select_suitable_MDL_test_KLVCC2.ipynb#cubic_model) to the model test data. The two models were very similar in terms of roll damping and stiffness, suggesting good repeatability in the model tests as well as in the parameter identification technique (PIT) used. The individual damping from each oscillation obtained with the logarithmic decrement method are very scattered, but this does not seem to influence the two models for the 0 speed case, which are very similiar.  "
   ]
  },
  {
   "cell_type": "markdown",
   "metadata": {},
   "source": [
    "### 15.5 knots\n",
    "Data from one roll decay model tests conducted at a ship speed corresponding to 15.5 knots full scale ship speed was also available. This model tests was analyzed in the same way as the other tests at zero knots. It was found that the damping was higher at speed. The ship got a small [yaw rate](../../notebooks/01.3_select_suitable_MDL_test_KLVCC2_speed.ipynb#yawrate) at the end of test, giving a small steady roll angle due to the centrifugal force. Since this effect is not included in the matematical model used, the steady roll angle was instead removed by removing the linear trend in the roll angle signal. \n",
    "\n",
    "The coefficients obtained from model test are summarized in model scale units in the table below:"
   ]
  },
  {
   "cell_type": "code",
   "execution_count": 38,
   "metadata": {},
   "outputs": [],
   "source": [
    "models = examples.mdl.get_models()\n",
    "df_results = examples.mdl.gather_results(models)"
   ]
  },
  {
   "cell_type": "code",
   "execution_count": 39,
   "metadata": {},
   "outputs": [],
   "source": [
    "amplitudes = examples.mdl.analyze_amplitudes(models=models)"
   ]
  },
  {
   "cell_type": "code",
   "execution_count": 41,
   "metadata": {},
   "outputs": [
    {
     "data": {
      "image/png": "[encoded data removed]",
      "text/plain": [
       "<Figure size 432x288 with 1 Axes>"
      ]
     },
     "metadata": {
      "needs_background": "light"
     },
     "output_type": "display_data"
    }
   ],
   "source": [
    "## Plotting:\n",
    "fig,ax=plt.subplots()\n",
    "for id,row in df_results.iterrows(): \n",
    "    df_amplitudes = amplitudes[id].copy()\n",
    "    plot_amplitudes(df_amplitudes=df_amplitudes, paper_name = row.paper_name, ax=ax)\n",
    "    \n",
    "y_lim_motions = list(ax.get_ylim())\n",
    "y_lim_motions[0]=0\n",
    "y_lim_motions[1]*=1.05\n",
    "ax.set_ylim(y_lim_motions)\n",
    "ax.grid(True)"
   ]
  },
  {
   "cell_type": "code",
   "execution_count": 42,
   "metadata": {},
   "outputs": [
    {
     "data": {
      "text/html": [
       "<div>\n",
       "<style scoped>\n",
       "    .dataframe tbody tr th:only-of-type {\n",
       "        vertical-align: middle;\n",
       "    }\n",
       "\n",
       "    .dataframe tbody tr th {\n",
       "        vertical-align: top;\n",
       "    }\n",
       "\n",
       "    .dataframe thead th {\n",
       "        text-align: right;\n",
       "    }\n",
       "</style>\n",
       "<table border=\"1\" class=\"dataframe\">\n",
       "  <thead>\n",
       "    <tr style=\"text-align: right;\">\n",
       "      <th></th>\n",
       "      <th>run</th>\n",
       "      <th>$F_n$</th>\n",
       "      <th>$\\omega_0$</th>\n",
       "      <th>$B_1$</th>\n",
       "      <th>$B_2$</th>\n",
       "      <th>$B_3$</th>\n",
       "    </tr>\n",
       "  </thead>\n",
       "  <tbody>\n",
       "    <tr>\n",
       "      <th>21338</th>\n",
       "      <td>2.0</td>\n",
       "      <td>0.000000</td>\n",
       "      <td>2.461149</td>\n",
       "      <td>2.879736</td>\n",
       "      <td>-5.874151</td>\n",
       "      <td>41.503664</td>\n",
       "    </tr>\n",
       "    <tr>\n",
       "      <th>21340</th>\n",
       "      <td>3.0</td>\n",
       "      <td>0.142318</td>\n",
       "      <td>2.467505</td>\n",
       "      <td>7.523314</td>\n",
       "      <td>7.028063</td>\n",
       "      <td>0.389789</td>\n",
       "    </tr>\n",
       "  </tbody>\n",
       "</table>\n",
       "</div>"
      ],
      "text/plain": [
       "       run     $F_n$  $\\omega_0$     $B_1$     $B_2$      $B_3$\n",
       "21338  2.0  0.000000    2.461149  2.879736 -5.874151  41.503664\n",
       "21340  3.0  0.142318    2.467505  7.523314  7.028063   0.389789"
      ]
     },
     "execution_count": 42,
     "metadata": {},
     "output_type": "execute_result"
    }
   ],
   "source": [
    "models_mdl = examples.mdl.get_models()\n",
    "df_results = examples.mdl.gather_results(models_mdl)\n",
    "df_results = pd.merge(left=df_results, right=mdl_results.df_rolldecays, how='inner', \n",
    "         left_index=True, right_index=True, suffixes=('','_db'))\n",
    "\n",
    "df_results['V'] = df_results['ship_speed']*1.852/3.6\n",
    "df_results['fn'] = df_results['V']/np.sqrt(df_results['g']*df_results['lpp'])\n",
    "\n",
    "interesting = ['paper_name','fn','omega0','B_1','B_2','B_3']\n",
    "df_table = df_results.loc[[21338,21340]][interesting].copy()\n",
    "renamers = {\n",
    "    'paper_name' : 'run',\n",
    "    'fn' : r'$F_n$',\n",
    "    'omega0' : r'$\\omega_0$',\n",
    "    'B_1' : r'$B_1$',\n",
    "    'B_2' : r'$B_2$',\n",
    "    'B_3' : r'$B_3$',\n",
    "}\n",
    "df_table.rename(columns=renamers, inplace=True)\n",
    "df_table"
   ]
  },
  {
   "cell_type": "markdown",
   "metadata": {},
   "source": [
    "## FNPF\n",
    "Simulations of roll decay tests were conducted with FNPF for each model test. The results from these simulations can be seen in the figure below."
   ]
  },
  {
   "cell_type": "code",
   "execution_count": 43,
   "metadata": {},
   "outputs": [],
   "source": [
    "file_paths = [\n",
    "    '../../data/external/kvlcc2_rolldecay_0kn',\n",
    "    '../../data/external/kvlcc2_rolldecay_15-5kn_const_large',\n",
    "    '../../data/external/kvlcc2_rolldecay_15-5kn_const_large2',\n",
    "    '../../data/external/kvlcc2_rolldecay_15-5kn_const_large_5deg',\n",
    "    '../../data/external/kvlcc2_rolldecay_15-5kn_const_large_ikeda',\n",
    "    '../../data/external/kvlcc2_rolldecay_15-5kn_ikeda_dev',\n",
    "]\n",
    "df_parameters = pd.DataFrame()\n",
    "df_parameters =  helpers.load_parameters(file_path=file_paths)\n",
    "\n",
    "mask_0 = (df_parameters['vm_s'].round(5) == 0)\n",
    "df_parameters.loc[mask_0,'id'] = 21338  # MDL DB run id\n",
    "df_parameters.loc[~mask_0,'id'] = 21340\n",
    "\n",
    "mask_visc = (df_parameters[['b4l','b4q']] > 0).any(axis=1)"
   ]
  },
  {
   "cell_type": "code",
   "execution_count": 44,
   "metadata": {},
   "outputs": [],
   "source": [
    "models_motions = OrderedDict()\n",
    "df_results = pd.DataFrame()\n",
    "\n",
    "for key,parameters in df_parameters.iterrows():\n",
    "    \n",
    "    row = mdl_results.df_rolldecays.loc[parameters.id]\n",
    "    model_motions = joblib.load('../../models/%s.pkl' % key)\n",
    "    #model_motions.parameters['C_1A'] = model_mdl.parameters['C_1A']  ## Stealing the stiffness from MDL\n",
    "    model = model_motions['estimator']\n",
    "    models_motions[key] = model\n",
    "    \n",
    "    results = pd.Series(model.results, name=key)\n",
    "    results['paper_name'] = row.paper_name\n",
    "    df_results = df_results.append(results)\n",
    "df_results = df_results.astype(float)"
   ]
  },
  {
   "cell_type": "code",
   "execution_count": 45,
   "metadata": {
    "scrolled": true
   },
   "outputs": [
    {
     "data": {
      "text/plain": [
       "(0.0, 10.928778032072696)"
      ]
     },
     "execution_count": 45,
     "metadata": {},
     "output_type": "execute_result"
    },
    {
     "data": {
      "image/png": "[encoded data removed]",
      "text/plain": [
       "<Figure size 432x288 with 1 Axes>"
      ]
     },
     "metadata": {
      "needs_background": "light"
     },
     "output_type": "display_data"
    }
   ],
   "source": [
    "amplitudes_motions = examples.mdl.analyze_amplitudes(models=models_motions)\n",
    "\n",
    "## Plotting:\n",
    "fig,ax=plt.subplots()\n",
    "for id,row in df_results.loc[~mask_visc].iterrows(): \n",
    "    df_amplitudes = amplitudes_motions[id].copy()\n",
    "    df_amplitudes.sort_values(by='phi_a', inplace=True)\n",
    "    df_amplitudes['phi_a_deg'] = np.rad2deg(df_amplitudes['phi_a'])\n",
    "    plot_amplitudes(df_amplitudes=df_amplitudes, paper_name = row.paper_name, source='FNPF', ax=ax)\n",
    "ax.set_ylim(y_lim_motions)"
   ]
  },
  {
   "cell_type": "markdown",
   "metadata": {},
   "source": [
    "## Roll damping prediction with Hybrid method\n",
    "Calculated the roll damping with Ikeda's method for zero speed and 15.5 knots. The damping was [compared](../../notebooks/04.3_KVLCC2_Ikedas_model_tests.ipynb#speeds) with corresponding values obtained from the model tests. The results showed good agreement between the model tests and predictions at speed. The damping predicted with Ikeda's method at zero knots was significantly higher than the corresponding model test. The predicted eddy damping was very large and is most likey overpredicted.  \n",
    "\n",
    "Much effort was made to investigate the eddy damping prediction of the Ikeda's method implementation. It was found, by conducting a sensitivity analysis, that the predicted eddy damping was extremely sensitive to ship sections with almost rectangular shape, where the section area coefficient [sigma](../../notebooks/08.2_ikeda_eddy_sigma.ipynb) was close to one. According to Kawahara the mid section coefficient should not exceed 0.99, which otherwise seem to give a huge extrapolation error according to the [figure](../../notebooks/08.2_ikeda_eddy_sigma.ipynb) above. This was however the case for many of the sections of the KVLCC2, where the limiting value was instead used, to avoid unrealistic extrapolation errors.\n",
    "\n",
    "It seems that mid section coefficient most often exceeds 0.99 based on statistics from MDL tests during the past 15 years: [plot](../../notebooks/09.1_sigma_statistics.ipynb)\n",
    "\n",
    "Eddy damping gets smaller as the speed increases and has almost vanished for the 15.5 knots which can be seen in [plot](../../notebooks/06.1_KVLCC2_motions.ipynb#speed). So the difficulties with eddy damping prediction for high mid section coefficients is mostly a low speed problem; And in the presens of bilge keels, the bilge keel damping would be the dominating contribution to the roll damping at low speed as can be seen in <cite data-cite=\"7505983/FJHQJJUH\"></cite>. So this is mostly a problem at low speed for ships without bilge keels.\n",
    "\n",
    "Attempts where made to use Ikeda's alternative eddy damping formula for barges. This one did not work the $B_E$ is far to large: [07.1_ikeda_barge](../../notebooks/07.1_ikeda_barge.ipynb)\n"
   ]
  },
  {
   "cell_type": "markdown",
   "metadata": {},
   "source": [
    "FNPF gave stable results at zero speed, but very unstable results at speed, due to what was thought to be memory effects. Instead the Hybrid method was attempted, where viscous damping from Ikeda's method is present during the FNPF simulations."
   ]
  },
  {
   "cell_type": "markdown",
   "metadata": {},
   "source": [
    "Firstly when looking at predictions for KVLCC2 at 0 speed made with regular Ikeda's method, it was found that the eddy damping $B_E$ was too high compared with the regular implementation, compared to the model test results. Eventhough the rest of the components would also be overpredicted, the $B_E$ would still be too large. The eddy damping calculated with $C_r$ predicted with the descision tree gave much better agreement. "
   ]
  },
  {
   "cell_type": "code",
   "execution_count": 68,
   "metadata": {
    "scrolled": false
   },
   "outputs": [
    {
     "data": {
      "image/png": "[encoded data removed]",
      "text/plain": [
       "<Figure size 432x288 with 2 Axes>"
      ]
     },
     "metadata": {
      "needs_background": "light"
     },
     "output_type": "display_data"
    }
   ],
   "source": [
    "reports.examples.ikeda.show(amplitudes=amplitudes, amplitudes_motions=amplitudes_motions, \n",
    "                            models_mdl=models_mdl, ylim=y_lim_motions)"
   ]
  },
  {
   "cell_type": "code",
   "execution_count": 65,
   "metadata": {},
   "outputs": [
    {
     "data": {
      "image/png": "[encoded data removed]",
      "text/plain": [
       "<Figure size 432x288 with 1 Axes>"
      ]
     },
     "metadata": {
      "needs_background": "light"
     },
     "output_type": "display_data"
    }
   ],
   "source": [
    "reports.examples.hybrid_0.show(amplitudes=amplitudes, amplitudes_motions=amplitudes_motions, \n",
    "                            models_mdl=models_mdl, ylim=y_lim_motions)"
   ]
  },
  {
   "cell_type": "code",
   "execution_count": 72,
   "metadata": {},
   "outputs": [
    {
     "data": {
      "image/png": "[encoded data removed]",
      "text/plain": [
       "<Figure size 432x288 with 1 Axes>"
      ]
     },
     "metadata": {
      "needs_background": "light"
     },
     "output_type": "display_data"
    }
   ],
   "source": [
    "reports.examples.hybrid_speed.show_frequency(df_results=df_results, amplitudes=amplitudes, \n",
    "                                   amplitudes_motions=amplitudes_motions, \n",
    "                                   ylim=y_lim_motions)"
   ]
  },
  {
   "cell_type": "markdown",
   "metadata": {},
   "source": [
    "The results using the Hybrid method for Run 3 at speed gives very similar results to the corresponding model tests."
   ]
  },
  {
   "cell_type": "code",
   "execution_count": 76,
   "metadata": {},
   "outputs": [
    {
     "data": {
      "image/png": "[encoded data removed]",
      "text/plain": [
       "<Figure size 432x288 with 1 Axes>"
      ]
     },
     "metadata": {
      "needs_background": "light"
     },
     "output_type": "display_data"
    }
   ],
   "source": [
    "reports.examples.hybrid_speed.show_time(models_mdl=models_mdl, models_motions=models_motions)"
   ]
  },
  {
   "cell_type": "markdown",
   "metadata": {},
   "source": [
    "# Conclusions"
   ]
  },
  {
   "cell_type": "markdown",
   "metadata": {},
   "source": [
    "# References\n",
    "<div class=\"cite2c-biblio\"></div>"
   ]
  }
 ],
 "metadata": {
  "cite2c": {
   "citations": {
    "7505983/4AFVVGNT": {
     "URL": "https://repository.tudelft.nl/islandora/object/uuid%3A09d79a4d-cd3d-423f-9b23-43a311096202",
     "accessed": {
      "day": 27,
      "month": 1,
      "year": 2020
     },
     "author": [
      {
       "family": "Ikeda",
       "given": "Yoshiho"
      }
     ],
     "container-title": "University of Osaka Prefacture, Department of Naval Architecture, Japan, Report No. 00403, Published in: Journal of Society of Naval Architects of Japan, Volume 142",
     "id": "7505983/4AFVVGNT",
     "issued": {
      "year": 1978
     },
     "language": "en",
     "title": "On eddy making component of roll damping force on naked hull",
     "type": "article-journal"
    },
    "7505983/9B7QMVJJ": {
     "abstract": "In recent years, the International Maritime Organization introduced a new set of rules in order to try to reduce emissions of ships by improving their eﬃciency. To assess the energy eﬃciency of a new ship, the regulations require to estimate the Energy Eﬃciency Design Index (EEDI), which represent the amount of Carbon Dioxide produced per mile in relation to the amount of cargo carried, and verify that it is smaller than a prescribed value. For a proper evaluation of the EEDI, it is necessary to estimate the added resistance in waves with high accuracy. There are diﬀerent ways to evaluate added resistance: empirical methods, adding a safety factor to the calm water resistance called sea margin, numerical simulations and model test experiments. Nowadays, the most used way during the design stage to do that is employing numerical simulations. Numerical simulations are not only used for the estimation of added resistance, but also to predict ship motions. If the motions are known at an early design stage, it is possible to modify the design of a ship to minimize them in order to improve the performance of the ship and to increase the safety and comfort of those who are on board.",
     "author": [
      {
       "family": "Coslovich",
       "given": "F"
      }
     ],
     "id": "7505983/9B7QMVJJ",
     "language": "en",
     "page": "64",
     "page-first": "64",
     "title": "Towards 6 Degrees of Freedom Seakeeping Simulations Using a Fully Nonlinear Potential Flow Method",
     "type": "article-journal"
    },
    "7505983/BYNJ8CFG": {
     "DOI": "10.1179/str.2012.59.3.004",
     "abstract": "Duisburg Test Case (DTC) is a hull design of a typical 14000 TEU container ship, developed at the Institute\nof Ship Technology, Ocean Engineering and Transport Systems (ISMT) for benchmarking and validation of\nnumerical methods. Hull geometry and model test results of resistance, propulsion and roll damping are publicly available. The paper presents existing data from model tests and computations.",
     "author": [
      {
       "family": "Moctar",
       "given": "Ould"
      },
      {
       "family": "Shigunov",
       "given": "Vladimir"
      },
      {
       "family": "Zorn",
       "given": "Tobias"
      }
     ],
     "container-title": "Ship Technology Research",
     "container-title-short": "Ship Technology Research",
     "id": "7505983/BYNJ8CFG",
     "issued": {
      "day": 15,
      "month": 8,
      "year": 2012
     },
     "journalAbbreviation": "Ship Technology Research",
     "page": "50-64",
     "page-first": "50",
     "shortTitle": "Duisburg Test Case",
     "title": "Duisburg Test Case: Post-Panamax Container Ship for Benchmarking",
     "title-short": "Duisburg Test Case",
     "type": "article-journal",
     "volume": "59"
    },
    "7505983/EXYJELCU": {
     "author": [
      {
       "family": "IMO",
       "given": ""
      }
     ],
     "id": "7505983/EXYJELCU",
     "issued": {
      "day": 10,
      "month": 11,
      "year": 2016
     },
     "title": "FINALIZATION OF SECOND GENERATION INTACT STABILITY CRITERIA Draft consolidated explanatory notes for the second generation intact stability criteria Submitted by the United States",
     "type": "article"
    },
    "7505983/EYEMHSYH": {
     "id": "7505983/EYEMHSYH",
     "title": "Himeno - 1981 - Prediction of ship roll damping - state of the art.pdf",
     "type": "article"
    },
    "7505983/FJHQJJUH": {
     "ISBN": "978-3-030-00516-0",
     "URL": "https://doi.org/10.1007/978-3-030-00516-0_10",
     "abstract": "This paper presents unique experimental set-ups in model scale and full scale for evaluating roll damping properties of a Panamax Pure Car and Truck Carrier at speed. The purpose of this study is to develop a method for the assessment of roll damping based on full scale trials and to validate the use of roll damping derived from model tests for full scale vessels. Experimental data are also used to assess a semi-empirical method that today provides input for the prediction of critical rolling events such as parametric rolling and severe rolling motions in general.",
     "accessed": {
      "day": 23,
      "month": 1,
      "year": 2020
     },
     "author": [
      {
       "family": "Söder",
       "given": "Carl-Johan"
      },
      {
       "family": "Rosén",
       "given": "Anders"
      },
      {
       "family": "Werner",
       "given": "Sofia"
      },
      {
       "family": "Huss",
       "given": "Mikael"
      },
      {
       "family": "Kuttenkeuler",
       "given": "Jakob"
      }
     ],
     "collection-title": "Fluid Mechanics and Its Applications",
     "container-title": "Contemporary Ideas on Ship Stability: Risk of Capsizing",
     "editor": [
      {
       "family": "Belenky",
       "given": "Vadim L."
      },
      {
       "family": "Spyrou",
       "given": "Kostas J."
      },
      {
       "family": "van Walree",
       "given": "Frans"
      },
      {
       "family": "Almeida Santos Neves",
       "given": "Marcelo"
      },
      {
       "family": "Umeda",
       "given": "Naoya"
      }
     ],
     "event-place": "Cham",
     "id": "7505983/FJHQJJUH",
     "issued": {
      "year": 2019
     },
     "language": "en",
     "note": "DOI: 10.1007/978-3-030-00516-0_10",
     "page": "177-190",
     "page-first": "177",
     "publisher": "Springer International Publishing",
     "publisher-place": "Cham",
     "title": "Assessment of Ship Roll Damping Through Full Scale and Model Scale Experiments and Semi-empirical Methods",
     "type": "chapter"
    },
    "7505983/KAKIM2E2": {
     "author": [
      {
       "family": "ITTC",
       "given": ""
      }
     ],
     "id": "7505983/KAKIM2E2",
     "issued": {
      "year": 2011
     },
     "title": "ITTC – Recommended Procedures Numerical Estimation of Roll Damping",
     "type": "article"
    },
    "7505983/KL7A3RIV": {
     "author": [
      {
       "family": "Henry Peter Piehl",
       "given": ""
      }
     ],
     "id": "7505983/KL7A3RIV",
     "title": "Ship Roll Damping Analysis",
     "type": "article-journal"
    },
    "7505983/NXYCMQLI": {
     "URL": "https://scholar.google.com/scholar_lookup?title=On%20roll%20damping%20force%20of%20ship%3A%20effects%20of%20friction%20of%20hull%20and%20normal%20force%20of%20bilge%20keels&author=Y.%20Ikeda&author=Y.%20Himeno&author=N.%20Tanaka&journal=J%20Kansai%20Soc%20Naval%20Archit%20Jpn&volume=161&pages=41-49&publication_year=1976",
     "accessed": {
      "day": 24,
      "month": 1,
      "year": 2020
     },
     "id": "7505983/NXYCMQLI",
     "title": "Ikeda: Report no. 401: On roll damping force of ship-effe... - Google Scholar",
     "type": "article"
    },
    "7505983/RC2WJ4RI": {
     "id": "7505983/RC2WJ4RI",
     "title": "JourneeAdegeest2003_pp180to195inTheoreticalManualSEAWAY.pdf",
     "type": "article"
    },
    "7505983/RWXBIIJJ": {
     "URL": "https://repository.tudelft.nl/islandora/object/uuid%3A2d4991a4-96ac-4935-b2a3-e712effd744d",
     "accessed": {
      "day": 4,
      "month": 3,
      "year": 2020
     },
     "author": [
      {
       "family": "Himeno",
       "given": "Yoji"
      }
     ],
     "container-title": "The University of Michigan, College of Engineering, Department of Naval Architecture and Marine Engineering, USA, Report No. 239",
     "id": "7505983/RWXBIIJJ",
     "issued": {
      "year": 1981
     },
     "language": "en",
     "title": "Prediction of ship roll damping - state of the art",
     "type": "article-journal"
    },
    "7505983/RYUBZITQ": {
     "author": [
      {
       "family": "Tasai",
       "given": "F."
      }
     ],
     "id": "7505983/RYUBZITQ",
     "issued": {
      "year": 1965
     },
     "language": "Japanese",
     "publisher": "Res. Inst. for Appl. Mech., Kyushu Univ.,",
     "title": "Equation of Ship Roll Motion",
     "type": "article"
    },
    "7505983/SKSCUVXR": {
     "id": "7505983/SKSCUVXR",
     "title": "Henry Peter Piehl - Ship Roll Damping Analysis.pdf",
     "type": "article"
    },
    "7505983/UGK6YEVD": {
     "DOI": "10.12989/OSE.2015.5.2.055",
     "URL": "https://doi.org/10.12989/OSE.2015.5.2.055",
     "abstract": "Of all the six degrees of freedom, the roll motion of a ship is the most poorly understood and displays complicated phenomena. Due to the low potential wave damping at the natural frequency, the effective analysis of ship roll dynamics comes down to the accurate estimation of the viscous roll damping. This paper provides overview of the importance of roll damping and an extensive literature review of the various viscous roll damping prediction methods applied by researchers over the years. The paper also discusses in detail the current state of the art estimation of viscous roll damping for ship shaped structures. A computer code is developed based on this method and its results are compared with experimental data to demonstrate the accuracy of the method. While some of the key references describing this method are not available in English, some others have been found to contain typographic errors. The objective of this paper is to provide a comprehensive summary of the state of the art method in one place for future reference.",
     "accessed": {
      "day": 7,
      "month": 9,
      "year": 2020
     },
     "author": [
      {
       "family": "Falzarano, Jeffrey",
       "given": ""
      },
      {
       "family": "Somayajula, Abhilash",
       "given": ""
      },
      {
       "family": "Seah, Robert",
       "given": ""
      }
     ],
     "container-title": "Ocean Systems Engineering",
     "id": "7505983/UGK6YEVD",
     "issue": "2",
     "issued": {
      "day": 25,
      "month": 6,
      "year": 2015
     },
     "language": "en",
     "page": "55-76",
     "page-first": "55",
     "title": "An overview of the prediction methods for roll damping of ships",
     "type": "article-journal",
     "volume": "5"
    },
    "7505983/ZVF3F5V5": {
     "id": "7505983/ZVF3F5V5",
     "title": "Ikeda et al. - 1978 - Components of roll damping of ship at forward spee.pdf",
     "type": "article"
    }
   }
  },
  "kernelspec": {
   "display_name": "Python 3",
   "language": "python",
   "name": "python3"
  },
  "toc": {
   "base_numbering": 1,
   "nav_menu": {},
   "number_sections": true,
   "sideBar": true,
   "skip_h1_title": false,
   "title_cell": "Table of Contents",
   "title_sidebar": "Contents",
   "toc_cell": false,
   "toc_position": {
    "height": "calc(100% - 180px)",
    "left": "10px",
    "top": "150px",
    "width": "384px"
   },
   "toc_section_display": true,
   "toc_window_display": true
  }
 },
 "nbformat": 4,
 "nbformat_minor": 4
}
