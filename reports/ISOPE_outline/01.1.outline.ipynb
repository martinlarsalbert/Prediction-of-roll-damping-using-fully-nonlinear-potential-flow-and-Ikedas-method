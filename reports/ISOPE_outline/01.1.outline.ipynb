{
 "cells": [
  {
   "cell_type": "markdown",
   "metadata": {},
   "source": [
    "<a id='logbook'></a>\n",
    "# Prediction of roll damping using fully nonlinear potential flow and Ikeda's method"
   ]
  },
  {
   "cell_type": "code",
   "execution_count": 1,
   "metadata": {
    "jupyter": {
     "outputs_hidden": true,
     "source_hidden": true
    }
   },
   "outputs": [
    {
     "name": "stderr",
     "output_type": "stream",
     "text": [
      "Duplicate key in file WindowsPath('C:/Users/maa/.matplotlib/stylelib/paper.mplstyle'), line 461 ('figure.figsize   : 5, 3   ## figure size in inches')\n",
      "Duplicate key in file WindowsPath('C:/Users/maa/.matplotlib/stylelib/paper.mplstyle'), line 462 ('figure.dpi       : 100        ## figure dots per inch')\n"
     ]
    }
   ],
   "source": [
    "# %load ../../notebooks/imports.py\n",
    "\"\"\"\n",
    "These is the standard setup for the notebooks.\n",
    "\"\"\"\n",
    "\n",
    "%matplotlib inline\n",
    "%load_ext autoreload\n",
    "%autoreload 2\n",
    "\n",
    "#from jupyterthemes import jtplot\n",
    "#jtplot.style(theme='onedork', context='notebook', ticks=True, grid=False)\n",
    "\n",
    "import pandas as pd\n",
    "pd.options.display.max_rows = 999\n",
    "pd.options.display.max_columns = 999\n",
    "pd.set_option(\"display.max_columns\", None)\n",
    "import numpy as np\n",
    "import os\n",
    "import matplotlib.pyplot as plt\n",
    "from collections import OrderedDict\n",
    "#plt.style.use('paper')\n",
    "\n",
    "#import data\n",
    "import copy\n",
    "from mdldb.run import Run\n",
    "\n",
    "from sklearn.pipeline import Pipeline\n",
    "from rolldecayestimators.transformers import CutTransformer, LowpassFilterDerivatorTransformer, ScaleFactorTransformer, OffsetTransformer\n",
    "from rolldecayestimators.direct_estimator_cubic import EstimatorQuadraticB, EstimatorCubic\n",
    "from rolldecayestimators.ikeda_estimator import IkedaQuadraticEstimator\n",
    "import src.equations as equations\n",
    "import rolldecayestimators.lambdas as lambdas\n",
    "from rolldecayestimators.substitute_dynamic_symbols import lambdify\n",
    "import rolldecayestimators.symbols as symbols\n",
    "import sympy as sp\n",
    "\n",
    "from sympy.physics.vector.printing import vpprint, vlatex\n",
    "from IPython.display import display, Math, Latex\n",
    "\n",
    "from sklearn.metrics import r2_score\n",
    "from src.data import database\n",
    "from mdldb import tables\n",
    "import shipflowmotionshelpers.shipflowmotionshelpers as helpers\n"
   ]
  },
  {
   "cell_type": "code",
   "execution_count": 2,
   "metadata": {},
   "outputs": [],
   "source": [
    "from scipy.integrate import solve_ivp\n",
    "from scipy.optimize import least_squares\n",
    "from rolldecayestimators import fit_on_amplitudes"
   ]
  },
  {
   "cell_type": "markdown",
   "metadata": {
    "jupyter": {
     "source_hidden": true
    }
   },
   "source": [
    "# Abstract"
   ]
  },
  {
   "cell_type": "markdown",
   "metadata": {},
   "source": [
    "# Nomenclature\n",
    "| Variable | Explain |\n",
    "|---|---|\n",
    "|$\\pi$| example |"
   ]
  },
  {
   "cell_type": "markdown",
   "metadata": {},
   "source": [
    "# Introduction\n",
    "Many great semi-empirical methods have been developed over the years to analyze various aspects of ship hydrodynamics such as:  resistance,  propulsion  and  seakeeping. These methods were often developed because solving the actual flow was far to complicated and far to time consuming at the time. When computers are now faster and great advancement in field of Computation Fluid Dynamics (CFD) has been achieved, the simpler semi-empirical formulas have now gotten less and less relevant. But have they all of gotten totally irrelevant? \n",
    "\n",
    "A semi-empirical method to predict ship roll damping, comonly known as Ikeda's method, will be investigated in this paper, for a use case that can still make it relevant. It will be investigated if this method can be used to increase the accuracy of the roll motion prediction of a nonlinear potential flow method (FNPF), so that this relatively fast option can be used to a larger extent than what is currently possible today. The roll damping of ship is higly depending on vicsous effects which mean that the invicid potential flow lacks a lot of the important physics of the roll motion and can therefore not give relevant results for this degree of freedom, where more advanced options such as: model test or URANS are needed.  \n",
    "\n",
    "The hybrid method, combining Ikeda's method and FNPF proposed in this paper is investigated using the well known KVLCC2 test case ([Body plan](../../notebooks/11.1_KVLCC2_geometry.ipynb#bodyplan)). \n",
    "\n",
    "![Body plan](../figures/KVLCC2_body_plan.png)\n",
    "\n",
    "This ship was selected partly because it is a well known test case, there were model tests data available from SSPA and also because it does not have any bilge keels. The Ikeda's metod contain methods to predict damping from various component, where the bilge keels is one of them. From the model tests, only the total damping can be observed. Reducing the number of components by having no bilge keels would therefore give more insight into the remaining ones. \n",
    "\n",
    "Revisinging these older semi-empirical methods can also help us to understand the hydrodynamics better."
   ]
  },
  {
   "cell_type": "code",
   "execution_count": 3,
   "metadata": {},
   "outputs": [],
   "source": [
    "file_paths = [\n",
    "    '../../data/external/kvlcc2_rolldecay_0kn',\n",
    "    '../../data/external/kvlcc2_rolldecay_15-5kn',\n",
    "]\n",
    "df_parameters = pd.DataFrame()\n",
    "df_parameters =  helpers.load_parameters(file_path=file_paths)\n",
    "parameters = df_parameters.iloc[-1]"
   ]
  },
  {
   "cell_type": "code",
   "execution_count": 4,
   "metadata": {},
   "outputs": [
    {
     "data": {
      "text/html": [
       "<div>\n",
       "<style scoped>\n",
       "    .dataframe tbody tr th:only-of-type {\n",
       "        vertical-align: middle;\n",
       "    }\n",
       "\n",
       "    .dataframe tbody tr th {\n",
       "        vertical-align: top;\n",
       "    }\n",
       "\n",
       "    .dataframe thead th {\n",
       "        text-align: right;\n",
       "    }\n",
       "</style>\n",
       "<table border=\"1\" class=\"dataframe\">\n",
       "  <thead>\n",
       "    <tr style=\"text-align: right;\">\n",
       "      <th></th>\n",
       "      <th>title</th>\n",
       "      <th>LPP</th>\n",
       "      <th>B</th>\n",
       "      <th>ZCG</th>\n",
       "      <th>KXX</th>\n",
       "      <th>S</th>\n",
       "      <th>V</th>\n",
       "      <th>dens</th>\n",
       "      <th>ta</th>\n",
       "      <th>tf</th>\n",
       "    </tr>\n",
       "  </thead>\n",
       "  <tbody>\n",
       "    <tr>\n",
       "      <th>kvlcc2_rolldecay_15-5kn</th>\n",
       "      <td>KVLCC2</td>\n",
       "      <td>4.706</td>\n",
       "      <td>0.853</td>\n",
       "      <td>0.274</td>\n",
       "      <td>0.341</td>\n",
       "      <td>5.981</td>\n",
       "      <td>0.993</td>\n",
       "      <td>1000</td>\n",
       "      <td>0.3059</td>\n",
       "      <td>0.3059</td>\n",
       "    </tr>\n",
       "  </tbody>\n",
       "</table>\n",
       "</div>"
      ],
      "text/plain": [
       "                          title    LPP      B    ZCG    KXX      S      V  \\\n",
       "kvlcc2_rolldecay_15-5kn  KVLCC2  4.706  0.853  0.274  0.341  5.981  0.993   \n",
       "\n",
       "                         dens      ta      tf  \n",
       "kvlcc2_rolldecay_15-5kn  1000  0.3059  0.3059  "
      ]
     },
     "execution_count": 4,
     "metadata": {},
     "output_type": "execute_result"
    }
   ],
   "source": [
    "interesting = [\n",
    "    'title',\n",
    "    'LPP',\n",
    "    'B',\n",
    "    'ZCG',\n",
    "    'KXX',\n",
    "    'S',\n",
    "    'V',\n",
    "    'dens',\n",
    "    'ta',\n",
    "    'tf',\n",
    "]\n",
    "table_parameters = pd.DataFrame(parameters[interesting]).transpose()\n",
    "table_parameters"
   ]
  },
  {
   "cell_type": "markdown",
   "metadata": {},
   "source": [
    "# Methods"
   ]
  },
  {
   "cell_type": "markdown",
   "metadata": {},
   "source": [
    "## Roll decay test\n",
    "The initial heel angle during the roll decay tests gives the ship potential energy that is shifting to kinetic energy as the ship starts to move during the inital phase of the roll decay test. The energy is transfered between kinetic energy and potential energy during the oscillations. The ship loses energy over time due to the damping wich can be seen in this [plot](../../notebooks/02.2_ikeda_Be_assumption.ipynb#energy)\n",
    "![](../figures/energy_transfer.png)"
   ]
  },
  {
   "cell_type": "markdown",
   "metadata": {},
   "source": [
    "## PIT"
   ]
  },
  {
   "cell_type": "markdown",
   "metadata": {},
   "source": [
    "A parameters identification technique (PIT) similar to <cite data-cite=\"7505983/EXYJELCU\"></cite> is used to obtain the damping coefficients from the roll decay model test as well as from the FMTP simulated roll decay tests. In this technique, parameters in a mathematical model are determined to get the best fit to a roll decay time signal. A derivation of a matematical model suitable for this study is described below together with a description of how the parameters: damping, stiffness and inertia coefficients where determined.    \n",
    "\n",
    "The general differential equation for a linearly decaying motion can be written as:"
   ]
  },
  {
   "cell_type": "code",
   "execution_count": 5,
   "metadata": {},
   "outputs": [
    {
     "data": {
      "text/latex": [
       "$\\displaystyle \\omega_{0}^{2} y + 2 \\omega_{0} \\zeta \\dot{y} + \\ddot{y} = 0$"
      ],
      "text/plain": [
       "<IPython.core.display.Math object>"
      ]
     },
     "execution_count": 5,
     "metadata": {},
     "output_type": "execute_result"
    }
   ],
   "source": [
    "Math(vlatex(equations.diff_eq))"
   ]
  },
  {
   "cell_type": "markdown",
   "metadata": {},
   "source": [
    "Which has an analytical solution <cite data-cite=\"7505983/KL7A3RIV\"></cite>:"
   ]
  },
  {
   "cell_type": "code",
   "execution_count": 6,
   "metadata": {},
   "outputs": [
    {
     "data": {
      "text/latex": [
       "$\\displaystyle \\phi = \\left(\\left(\\frac{\\zeta \\phi_{0}}{\\sqrt{1 - \\zeta^{2}}} + \\frac{\\dot{\\phi}_{0}}{\\omega_{0} \\sqrt{1 - \\zeta^{2}}}\\right) \\operatorname{sin}\\left(\\omega_{0} t \\sqrt{1 - \\zeta^{2}}\\right) + \\phi_{0} \\operatorname{cos}\\left(\\omega_{0} t \\sqrt{1 - \\zeta^{2}}\\right)\\right) e^{- \\omega_{0} t \\zeta}$"
      ],
      "text/plain": [
       "<IPython.core.display.Math object>"
      ]
     },
     "execution_count": 6,
     "metadata": {},
     "output_type": "execute_result"
    }
   ],
   "source": [
    "Math(vlatex(equations.analytical_solution))"
   ]
  },
  {
   "cell_type": "markdown",
   "metadata": {},
   "source": [
    "Which as in the usual case of having no initial roll velocity ($\\phi_0=0$) can be simlified to:"
   ]
  },
  {
   "cell_type": "code",
   "execution_count": 7,
   "metadata": {},
   "outputs": [
    {
     "data": {
      "text/latex": [
       "$\\displaystyle \\phi = \\frac{\\left(\\zeta \\operatorname{sin}\\left(\\omega_{0} t \\sqrt{1 - \\zeta^{2}}\\right) + \\sqrt{1 - \\zeta^{2}} \\operatorname{cos}\\left(\\omega_{0} t \\sqrt{1 - \\zeta^{2}}\\right)\\right) \\phi_{0} e^{- \\omega_{0} t \\zeta}}{\\sqrt{1 - \\zeta^{2}}}$"
      ],
      "text/plain": [
       "<IPython.core.display.Math object>"
      ]
     },
     "execution_count": 7,
     "metadata": {},
     "output_type": "execute_result"
    }
   ],
   "source": [
    "no_initial_speed = sp.simplify(equations.analytical_solution.subs(symbols.phi_0_dot,0))\n",
    "Math(vlatex(no_initial_speed))"
   ]
  },
  {
   "cell_type": "markdown",
   "metadata": {},
   "source": [
    "And the damping coefficient $\\zeta$ is very small for ships so that $\\sqrt{1-\\zeta}$ is almost 1 and the solution can be further simplified, into something that can easily be recognized as a decaying oscillation:"
   ]
  },
  {
   "cell_type": "code",
   "execution_count": 8,
   "metadata": {
    "scrolled": false
   },
   "outputs": [
    {
     "data": {
      "text/latex": [
       "$\\displaystyle \\phi = \\phi_{0} e^{- \\omega_{0} t \\zeta} \\operatorname{cos}\\left(\\omega_{0} t\\right)$"
      ],
      "text/plain": [
       "<IPython.core.display.Math object>"
      ]
     },
     "execution_count": 8,
     "metadata": {},
     "output_type": "execute_result"
    }
   ],
   "source": [
    "no_initial_speed_zeta_small = no_initial_speed.subs(\n",
    "    [(sp.sqrt(1-symbols.zeta**2),1),\n",
    "     (symbols.zeta*sp.sin(symbols.omega0*symbols.t),0),\n",
    "    ])\n",
    "Math(vlatex(no_initial_speed_zeta_small))"
   ]
  },
  {
   "cell_type": "markdown",
   "metadata": {},
   "source": [
    "For a ship the rolling motion during a roll decay can be expressed in general form according to <cite data-cite=\"7505983/RWXBIIJJ\"></cite>:"
   ]
  },
  {
   "cell_type": "code",
   "execution_count": 9,
   "metadata": {
    "scrolled": true
   },
   "outputs": [
    {
     "data": {
      "text/latex": [
       "$\\displaystyle A_{44} \\ddot{\\phi} + \\operatorname{B_{44}}\\left(\\dot{\\phi}\\right) + \\operatorname{C_{44}}\\left(\\phi\\right) = 0$"
      ],
      "text/plain": [
       "<IPython.core.display.Math object>"
      ]
     },
     "execution_count": 9,
     "metadata": {},
     "output_type": "execute_result"
    }
   ],
   "source": [
    "Math(vlatex(equations.roll_decay_equation_general_himeno))"
   ]
  },
  {
   "cell_type": "markdown",
   "metadata": {},
   "source": [
    "Where $B_{44}(\\dot{\\phi})$ and $C_{44}(\\phi)$ are the damping and stiffness models. A cubic model can be obtained by using cubic damping and stiffness models:"
   ]
  },
  {
   "cell_type": "code",
   "execution_count": 10,
   "metadata": {},
   "outputs": [
    {
     "data": {
      "text/latex": [
       "$\\displaystyle \\operatorname{B_{44}}\\left(\\dot{\\phi}\\right) = B_{1} \\dot{\\phi} + B_{2} \\left|{\\dot{\\phi}}\\right| \\dot{\\phi} + B_{3} \\dot{\\phi}^{3}$"
      ],
      "text/plain": [
       "<IPython.core.display.Math object>"
      ]
     },
     "execution_count": 10,
     "metadata": {},
     "output_type": "execute_result"
    }
   ],
   "source": [
    "Math(vlatex(equations.b44_cubic_equation))"
   ]
  },
  {
   "cell_type": "code",
   "execution_count": 11,
   "metadata": {
    "scrolled": true
   },
   "outputs": [
    {
     "data": {
      "text/latex": [
       "$\\displaystyle \\operatorname{C_{44}}\\left(\\phi\\right) = C_{1} \\phi + C_{3} \\phi^{3} + C_{5} \\phi^{5}$"
      ],
      "text/plain": [
       "<IPython.core.display.Math object>"
      ]
     },
     "execution_count": 11,
     "metadata": {},
     "output_type": "execute_result"
    }
   ],
   "source": [
    "Math(vlatex(equations.restoring_equation_cubic))"
   ]
  },
  {
   "cell_type": "markdown",
   "metadata": {},
   "source": [
    "So that the total equation is written:"
   ]
  },
  {
   "cell_type": "code",
   "execution_count": 12,
   "metadata": {},
   "outputs": [
    {
     "data": {
      "text/latex": [
       "$\\displaystyle A_{44} \\ddot{\\phi} + \\left(B_{1} + B_{2} \\left|{\\dot{\\phi}}\\right| + B_{3} \\dot{\\phi}^{2}\\right) \\dot{\\phi} + \\left(C_{1} + C_{3} \\phi^{2} + C_{5} \\phi^{4}\\right) \\phi = 0$"
      ],
      "text/plain": [
       "<IPython.core.display.Math object>"
      ]
     },
     "execution_count": 12,
     "metadata": {},
     "output_type": "execute_result"
    }
   ],
   "source": [
    "Math(vlatex(equations.roll_decay_equation_cubic))"
   ]
  },
  {
   "cell_type": "markdown",
   "metadata": {},
   "source": [
    "This mathematical model can be reduced to a quadratic damping model when $B_3=0$ and a linear model when $B_2=B_3=0$. This equation does not have one unique solution. If all parameters would be  multiplied by a factor $k$ these parameters also be a solution to the equation. All parameters are therefore divided by the total added mass parameters $A_44$ where parameters such as:"
   ]
  },
  {
   "cell_type": "code",
   "execution_count": 13,
   "metadata": {},
   "outputs": [
    {
     "data": {
      "text/latex": [
       "$\\displaystyle B_{1A} = \\frac{B_{1}}{A_{44}}$"
      ],
      "text/plain": [
       "Eq(B_1A, B_1/A_44)"
      ]
     },
     "execution_count": 13,
     "metadata": {},
     "output_type": "execute_result"
    }
   ],
   "source": [
    "equations.normalize_equations[symbols.B_1]"
   ]
  },
  {
   "cell_type": "markdown",
   "metadata": {},
   "source": [
    "So that the equation with these unique parameters can be written:"
   ]
  },
  {
   "cell_type": "code",
   "execution_count": 14,
   "metadata": {},
   "outputs": [
    {
     "data": {
      "text/latex": [
       "$\\displaystyle \\left(B_{1A} + B_{2A} \\left|{\\dot{\\phi}}\\right| + B_{3A} \\dot{\\phi}^{2}\\right) \\dot{\\phi} + \\left(C_{1A} + C_{3A} \\phi^{2} + C_{5A} \\phi^{4}\\right) \\phi + \\ddot{\\phi} = 0$"
      ],
      "text/plain": [
       "<IPython.core.display.Math object>"
      ]
     },
     "execution_count": 14,
     "metadata": {},
     "output_type": "execute_result"
    }
   ],
   "source": [
    "Math(vlatex(equations.roll_decay_equation_cubic_A))"
   ]
  },
  {
   "cell_type": "markdown",
   "metadata": {},
   "source": [
    "The parameters of this equation can be identified using least square fit if the time signals $\\phi(t)$, $\\dot{\\phi}(t)$ and $\\ddot{\\phi}(t)$ are all known. This is the case for the results from the FNPF simulations but not from the model tests, where only the roll signal $\\phi(t)$ is known. The other time derivatives can be estimated using numerical derivation of a low pass filtered roll signal or Kalman filtered roll signal. The filtering will however introduce some errors in itself. \n",
    "Instead of using this \"Derivation approach\", it has been found that solving the differential equation numerically for guessed parameter values and then using optimization to make really good guesses similarly to what was used by <cite data-cite=\"7505983/FJHQJJUH\"></cite> and <cite data-cite=\"7505983/9B7QMVJJ\"></cite> gives the best parameter estimation. One problem with this \"Integration approach\" is that in order to converge, the optimization needs a resonable first guess of the parameters. The Derivation approach has therefore been used as a pre-step to obtain a very good first guess of the parameters that can be passed on to the Integration approach. This has been used for both signals from FNPF and model tests where in the latter case numerical derivation is used.\n",
    "\n",
    "The differential equation is numerically solved as an intial value problem, where the initial states for $\\phi(t)$, $\\dot{\\phi}(t)$ and $\\ddot{\\phi}(t)$ are used to estimate the following states, by conducting very small time steps using the follownig expression for the acceleration: "
   ]
  },
  {
   "cell_type": "code",
   "execution_count": 15,
   "metadata": {},
   "outputs": [
    {
     "data": {
      "text/latex": [
       "$\\displaystyle \\ddot{\\phi} = - B_{1A} \\dot{\\phi} - B_{2A} \\left|{\\dot{\\phi}}\\right| \\dot{\\phi} - B_{3A} \\dot{\\phi}^{3} - C_{1A} \\phi - C_{3A} \\phi^{3} - C_{5A} \\phi^{5}$"
      ],
      "text/plain": [
       "<IPython.core.display.Math object>"
      ]
     },
     "execution_count": 15,
     "metadata": {},
     "output_type": "execute_result"
    }
   ],
   "source": [
    "eq_phi1d = sp.Eq(symbols.phi_dot_dot,\n",
    "      sp.solve(equations.roll_decay_equation_cubic_A,symbols.phi_dot_dot)[0])\n",
    "\n",
    "accelaration_lambda = lambdify(sp.solve(eq_phi1d,symbols.phi_dot_dot)[0])\n",
    "\n",
    "Math(vlatex(eq_phi1d))"
   ]
  },
  {
   "cell_type": "markdown",
   "metadata": {},
   "source": [
    "This numerical solution can be compared with the analytical solution above for a linear model. The relation between $\\zeta$ and $B_1$ can be expressed as: "
   ]
  },
  {
   "cell_type": "code",
   "execution_count": 17,
   "metadata": {},
   "outputs": [
    {
     "data": {
      "text/latex": [
       "$\\displaystyle B_{1} = 2 A_{44} \\omega_{0} \\zeta$"
      ],
      "text/plain": [
       "Eq(B_1, 2*A_44*omega0*zeta)"
      ]
     },
     "execution_count": 17,
     "metadata": {},
     "output_type": "execute_result"
    }
   ],
   "source": [
    "equations.B_1_zeta_eq"
   ]
  },
  {
   "cell_type": "code",
   "execution_count": null,
   "metadata": {},
   "outputs": [],
   "source": [
    "equations"
   ]
  },
  {
   "cell_type": "code",
   "execution_count": 20,
   "metadata": {},
   "outputs": [],
   "source": [
    "eqs = [\n",
    "    equations.B_1_zeta_eq,    \n",
    "    equations.analytical_solution,\n",
    "      ]\n",
    "\n",
    "analytical_solution_B_1 = sp.Eq(symbols.phi,\n",
    "                                sp.simplify(sp.solve(eqs,symbols.zeta,symbols.phi)[0][1]))\n",
    "analytical_lambda = lambdify(sp.solve(analytical_solution_B_1,symbols.phi)[0])"
   ]
  },
  {
   "cell_type": "code",
   "execution_count": 106,
   "metadata": {},
   "outputs": [
    {
     "data": {
      "image/png": "[encoded data removed]",
      "text/plain": [
       "<Figure size 432x288 with 1 Axes>"
      ]
     },
     "metadata": {
      "needs_background": "light"
     },
     "output_type": "display_data"
    }
   ],
   "source": [
    "class RollDecayStateSpace():\n",
    "    \n",
    "    def __init__(self,B_1A, C_1A, B_2A=0, B_3A=0, C_3A=0, C_5A=0):\n",
    "        self.parameters = {\n",
    "            'B_1A':B_1A, \n",
    "            'B_2A':B_2A, \n",
    "            'B_3A':B_3A, \n",
    "            'C_1A':C_1A, \n",
    "            'C_3A':C_3A, \n",
    "            'C_5A':C_5A}\n",
    "            \n",
    "    def time_step(self,t,states):\n",
    "        \n",
    "        phi = states[0]\n",
    "        phi1d = states[1]\n",
    "        phi2d = accelaration_lambda(**self.parameters, phi=phi, phi1d=phi1d)\n",
    "        \n",
    "        d_states_dt = np.array([phi1d, phi2d])\n",
    "        return d_states_dt\n",
    "    \n",
    "    def simulate(self,t,phi0=np.deg2rad(10),phi1d0=0):\n",
    "        \n",
    "        initial_state = [phi0,phi1d0]\n",
    "        \n",
    "        t_span = [t[0], t[-1]]\n",
    "        \n",
    "        result = solve_ivp(fun=self.time_step, t_span=t_span,  y0=initial_state, t_eval=t)\n",
    "        assert result.success\n",
    "        df_result = pd.DataFrame(index=result.t, data=result.y.T, columns = ['phi','phi1d'])\n",
    "        return df_result\n",
    "    \n",
    "A_44 = 1.0\n",
    "B_1 = 0.3\n",
    "C_1 = 5.0\n",
    "B_1A = B_1/A_44\n",
    "C_1A = C_1/A_44\n",
    "\n",
    "\n",
    "t = np.linspace(0,10,1000)\n",
    "phi_0=np.deg2rad(10)\n",
    "phi_01d=0\n",
    "\n",
    "## State space:\n",
    "model = RollDecayStateSpace(B_1A=B_1A, C_1A=C_1A)\n",
    "\n",
    "df_state_space = model.simulate(t=t, phi0=phi_0, phi1d0=phi_01d)\n",
    "\n",
    "## Analytical\n",
    "phi_analytical = analytical_lambda(A_44=A_44, B_1=B_1, omega0=omega0, phi_0=phi_0, phi_01d=phi_01d, \n",
    "                                  t=t)\n",
    "\n",
    "\n",
    "fig,ax=plt.subplots()\n",
    "df_state_space.plot(y='phi', ax=ax, label='numerical')\n",
    "ax.set_ylabel(r'$\\phi$ $[rad]$')\n",
    "ax.set_xlabel(r'time $[s]$')\n",
    "ax.grid(True)"
   ]
  },
  {
   "cell_type": "code",
   "execution_count": 21,
   "metadata": {},
   "outputs": [
    {
     "data": {
      "text/plain": [
       "<function _lambdifygenerated(A_44, B_1, omega0, phi_0, phi_01d, t)>"
      ]
     },
     "execution_count": 21,
     "metadata": {},
     "output_type": "execute_result"
    }
   ],
   "source": [
    "analytical_lambda"
   ]
  },
  {
   "cell_type": "markdown",
   "metadata": {},
   "source": [
    "## Ikeda's method\n",
    "\n",
    "### Eddy damping\n",
    "The current implementation was benchmarked with the data from Ikeda's oringinal [cylinder experiments](../../notebooks/08.1_ikeda_eddy.ipynb). It seems that the current implementation underpredicts the damping.\n",
    "\n",
    "![](../../notebooks/ikeda_eddy_section_A.PNG)"
   ]
  },
  {
   "cell_type": "markdown",
   "metadata": {},
   "source": [
    "## FNPF"
   ]
  },
  {
   "cell_type": "markdown",
   "metadata": {},
   "source": [
    "## Combined method"
   ]
  },
  {
   "cell_type": "markdown",
   "metadata": {},
   "source": [
    "# Results"
   ]
  },
  {
   "cell_type": "markdown",
   "metadata": {},
   "source": [
    "## Roll decay model tests\n",
    "### 0 knots\n",
    "Data from two roll decay model tests conducted at zero speed were available: [Roll decay model tests 0 knots](../../notebooks/01.2_select_suitable_MDL_test_KLVCC2.ipynb#rolldecay). These tests where analyzed by fitting a [Cubic model](../../notebooks/01.2_select_suitable_MDL_test_KLVCC2.ipynb#cubic_model) to the model test data. The two models were very similar in terms of roll damping and stiffness, suggesting good repeatability in the model tests as well as in the parameter identification technique (PIT) used. The total damping at zero speed is very low for this vessel, where it takes at least one hundred oscillations for the motion to decay. Since the ship has no bilge keel, the friction damping and eddy damping will be the only damping contributions acting. These contributions are also rather small.   \n",
    "\n",
    "Roll decay test was also simulated using [FNPF](../../notebooks/06.1_KVLCC2_motions.ipynb#damping). The damping was much higher than the predicted valued using Strip Theory.\n",
    "\n",
    "### 15.5 knots\n",
    "Data from one roll decay model tests conducted at a ship speed corresponding to 15.5 knots full scale ship speed was also available. This model tests was analyzed in the same way as the other tests at zero knots. It was found that the damping was higher at speed. The ship got a small [yaw rate](../../notebooks/01.3_select_suitable_MDL_test_KLVCC2_speed.ipynb#yawrate) at the end of test, giving a small steady roll angle due to the centrifugal force. Since this effect is not included in the matematical model used, the steady roll angle was instead removed by removing the linear trend in the roll angle signal. \n",
    "\n",
    "\n"
   ]
  },
  {
   "cell_type": "markdown",
   "metadata": {},
   "source": [
    "## Roll damping prediction with Ikeda's method\n",
    "Calculated the roll damping with Ikeda's method for zero speed and 15.5 knots. The damping was [compared](../../notebooks/04.3_KVLCC2_Ikedas_model_tests.ipynb#speeds) with corresponding values obtained from the model tests. The results showed good agreement between the model tests and predictions at speed. The damping predicted with Ikeda's method at zero knots was significantly higher than the corresponding model test. The predicted eddy damping was very large and is most likey overpredicted.  \n",
    "\n",
    "Much effort was made to investigate the eddy damping prediction of the Ikeda's method implementation. It was found, by conducting a sensitivity analysis, that the predicted eddy damping was extremely sensitive to ship sections with almost rectangular shape, where the section area coefficient [sigma](../../notebooks/08.2_ikeda_eddy_sigma.ipynb) was close to one. According to Kawahara the mid section coefficient should not exceed 0.99, which otherwise seem to give a huge extrapolation error according to the [figure](../../notebooks/08.2_ikeda_eddy_sigma.ipynb) above. This was however the case for many of the sections of the KVLCC2, where the limiting value was instead used, to avoid unrealistic extrapolation errors.\n",
    "\n",
    "It seems that mid section coefficient most often exceeds 0.99 based on statistics from MDL tests during the past 15 years: [plot](../../notebooks/09.1_sigma_statistics.ipynb)\n",
    "\n",
    "Eddy damping gets smaller as the speed increases and has almost vanished for the 15.5 knots which can be seen in [plot](../../notebooks/06.1_KVLCC2_motions.ipynb#speed). So the difficulties with eddy damping prediction for high mid section coefficients is mostly a low speed problem; And in the presens of bilge keels, the bilge keel damping would be the dominating contribution to the roll damping at low speed as can be seen in <cite data-cite=\"7505983/FJHQJJUH\"></cite>. So this is mostly a problem at low speed for ships without bilge keels.\n",
    "\n",
    "Attempts where made to use Ikeda's alternative eddy damping formula for barges. This one did not work the $B_E$ is far to large: [07.1_ikeda_barge](../../notebooks/07.1_ikeda_barge.ipynb)\n"
   ]
  },
  {
   "cell_type": "markdown",
   "metadata": {},
   "source": [
    "## Combined method\n",
    "Roll damping was predicted using the [Combined method](../../notebooks/06.1_KVLCC2_motions.ipynb#combined_damping). The damping witht the combined method seems to underpredict the damping at zero speed."
   ]
  },
  {
   "cell_type": "markdown",
   "metadata": {},
   "source": [
    "# Conclusions"
   ]
  },
  {
   "cell_type": "markdown",
   "metadata": {},
   "source": [
    "# References\n",
    "<div class=\"cite2c-biblio\"></div>"
   ]
  }
 ],
 "metadata": {
  "cite2c": {
   "citations": {
    "7505983/9B7QMVJJ": {
     "abstract": "In recent years, the International Maritime Organization introduced a new set of rules in order to try to reduce emissions of ships by improving their eﬃciency. To assess the energy eﬃciency of a new ship, the regulations require to estimate the Energy Eﬃciency Design Index (EEDI), which represent the amount of Carbon Dioxide produced per mile in relation to the amount of cargo carried, and verify that it is smaller than a prescribed value. For a proper evaluation of the EEDI, it is necessary to estimate the added resistance in waves with high accuracy. There are diﬀerent ways to evaluate added resistance: empirical methods, adding a safety factor to the calm water resistance called sea margin, numerical simulations and model test experiments. Nowadays, the most used way during the design stage to do that is employing numerical simulations. Numerical simulations are not only used for the estimation of added resistance, but also to predict ship motions. If the motions are known at an early design stage, it is possible to modify the design of a ship to minimize them in order to improve the performance of the ship and to increase the safety and comfort of those who are on board.",
     "author": [
      {
       "family": "Coslovich",
       "given": "F"
      }
     ],
     "id": "7505983/9B7QMVJJ",
     "language": "en",
     "page": "64",
     "page-first": "64",
     "title": "Towards 6 Degrees of Freedom Seakeeping Simulations Using a Fully Nonlinear Potential Flow Method",
     "type": "article-journal"
    },
    "7505983/EXYJELCU": {
     "author": [
      {
       "family": "IMO",
       "given": ""
      }
     ],
     "id": "7505983/EXYJELCU",
     "issued": {
      "day": 10,
      "month": 11,
      "year": 2016
     },
     "title": "FINALIZATION OF SECOND GENERATION INTACT STABILITY CRITERIA Draft consolidated explanatory notes for the second generation intact stability criteria Submitted by the United States",
     "type": "article"
    },
    "7505983/FJHQJJUH": {
     "ISBN": "978-3-030-00516-0",
     "URL": "https://doi.org/10.1007/978-3-030-00516-0_10",
     "abstract": "This paper presents unique experimental set-ups in model scale and full scale for evaluating roll damping properties of a Panamax Pure Car and Truck Carrier at speed. The purpose of this study is to develop a method for the assessment of roll damping based on full scale trials and to validate the use of roll damping derived from model tests for full scale vessels. Experimental data are also used to assess a semi-empirical method that today provides input for the prediction of critical rolling events such as parametric rolling and severe rolling motions in general.",
     "accessed": {
      "day": 23,
      "month": 1,
      "year": 2020
     },
     "author": [
      {
       "family": "Söder",
       "given": "Carl-Johan"
      },
      {
       "family": "Rosén",
       "given": "Anders"
      },
      {
       "family": "Werner",
       "given": "Sofia"
      },
      {
       "family": "Huss",
       "given": "Mikael"
      },
      {
       "family": "Kuttenkeuler",
       "given": "Jakob"
      }
     ],
     "collection-title": "Fluid Mechanics and Its Applications",
     "container-title": "Contemporary Ideas on Ship Stability: Risk of Capsizing",
     "editor": [
      {
       "family": "Belenky",
       "given": "Vadim L."
      },
      {
       "family": "Spyrou",
       "given": "Kostas J."
      },
      {
       "family": "van Walree",
       "given": "Frans"
      },
      {
       "family": "Almeida Santos Neves",
       "given": "Marcelo"
      },
      {
       "family": "Umeda",
       "given": "Naoya"
      }
     ],
     "event-place": "Cham",
     "id": "7505983/FJHQJJUH",
     "issued": {
      "year": 2019
     },
     "language": "en",
     "note": "DOI: 10.1007/978-3-030-00516-0_10",
     "page": "177-190",
     "page-first": "177",
     "publisher": "Springer International Publishing",
     "publisher-place": "Cham",
     "title": "Assessment of Ship Roll Damping Through Full Scale and Model Scale Experiments and Semi-empirical Methods",
     "type": "chapter"
    },
    "7505983/KL7A3RIV": {
     "author": [
      {
       "family": "Henry Peter Piehl",
       "given": ""
      }
     ],
     "id": "7505983/KL7A3RIV",
     "title": "Ship Roll Damping Analysis",
     "type": "article-journal"
    },
    "7505983/NXYCMQLI": {
     "URL": "https://scholar.google.com/scholar_lookup?title=On%20roll%20damping%20force%20of%20ship%3A%20effects%20of%20friction%20of%20hull%20and%20normal%20force%20of%20bilge%20keels&author=Y.%20Ikeda&author=Y.%20Himeno&author=N.%20Tanaka&journal=J%20Kansai%20Soc%20Naval%20Archit%20Jpn&volume=161&pages=41-49&publication_year=1976",
     "accessed": {
      "day": 24,
      "month": 1,
      "year": 2020
     },
     "id": "7505983/NXYCMQLI",
     "title": "Ikeda: Report no. 401: On roll damping force of ship-effe... - Google Scholar",
     "type": "article"
    },
    "7505983/RC2WJ4RI": {
     "id": "7505983/RC2WJ4RI",
     "title": "JourneeAdegeest2003_pp180to195inTheoreticalManualSEAWAY.pdf",
     "type": "article"
    },
    "7505983/RWXBIIJJ": {
     "URL": "https://repository.tudelft.nl/islandora/object/uuid%3A2d4991a4-96ac-4935-b2a3-e712effd744d",
     "accessed": {
      "day": 4,
      "month": 3,
      "year": 2020
     },
     "author": [
      {
       "family": "Himeno",
       "given": "Yoji"
      }
     ],
     "container-title": "The University of Michigan, College of Engineering, Department of Naval Architecture and Marine Engineering, USA, Report No. 239",
     "id": "7505983/RWXBIIJJ",
     "issued": {
      "year": 1981
     },
     "language": "en",
     "title": "Prediction of ship roll damping - state of the art",
     "type": "article-journal"
    },
    "7505983/SKSCUVXR": {
     "id": "7505983/SKSCUVXR",
     "title": "Henry Peter Piehl - Ship Roll Damping Analysis.pdf",
     "type": "article"
    },
    "7505983/ZVF3F5V5": {
     "id": "7505983/ZVF3F5V5",
     "title": "Ikeda et al. - 1978 - Components of roll damping of ship at forward spee.pdf",
     "type": "article"
    }
   }
  },
  "kernelspec": {
   "display_name": "Python 3",
   "language": "python",
   "name": "python3"
  },
  "language_info": {
   "codemirror_mode": {
    "name": "ipython",
    "version": 3
   },
   "file_extension": ".py",
   "mimetype": "text/x-python",
   "name": "python",
   "nbconvert_exporter": "python",
   "pygments_lexer": "ipython3",
   "version": "3.6.8"
  },
  "toc": {
   "base_numbering": 1,
   "nav_menu": {},
   "number_sections": true,
   "sideBar": true,
   "skip_h1_title": false,
   "title_cell": "Table of Contents",
   "title_sidebar": "Contents",
   "toc_cell": false,
   "toc_position": {},
   "toc_section_display": true,
   "toc_window_display": true
  }
 },
 "nbformat": 4,
 "nbformat_minor": 4
}
