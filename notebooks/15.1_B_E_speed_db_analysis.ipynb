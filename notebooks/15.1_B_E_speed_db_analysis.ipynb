{
 "cells": [
  {
   "cell_type": "markdown",
   "metadata": {},
   "source": [
    "# $B_E$ speed dependancy"
   ]
  },
  {
   "cell_type": "code",
   "execution_count": 1,
   "metadata": {},
   "outputs": [
    {
     "name": "stderr",
     "output_type": "stream",
     "text": [
      "Duplicate key in file WindowsPath('C:/Users/maa/.matplotlib/stylelib/paper.mplstyle'), line 462 ('figure.figsize   : 5, 3   ## figure size in inches')\n",
      "Duplicate key in file WindowsPath('C:/Users/maa/.matplotlib/stylelib/paper.mplstyle'), line 463 ('figure.dpi       : 100        ## figure dots per inch')\n"
     ]
    }
   ],
   "source": [
    "from src.notebook_to_latex import Equation, equation_dict\n",
    "from rolldecayestimators import equations_ikeda_naked"
   ]
  },
  {
   "cell_type": "markdown",
   "metadata": {},
   "source": [
    "# Purpose\n",
    "Investigating the speed dependancy of the eddy damping $B_E$ by looking the the MDL database. Ikeda express the speed dependancy as:"
   ]
  },
  {
   "cell_type": "code",
   "execution_count": 2,
   "metadata": {},
   "outputs": [
    {
     "data": {
      "text/latex": [
       "$\\displaystyle \n",
       "\\begin{equation}\n",
       "\\frac{B_{E}}{B_{E0}} = \\frac{0.0016 K^{2}}{0.0016 K^{2} + 1}\n",
       "\\label{eq:eddy_speed}\n",
       "\\end{equation}\n",
       "$"
      ],
      "text/plain": [
       "<src.notebook_to_latex.Equation object>"
      ]
     },
     "execution_count": 2,
     "metadata": {},
     "output_type": "execute_result"
    }
   ],
   "source": [
    "Equation(equations_ikeda_naked.eq_eddy_speed, label='eq:eddy_speed')"
   ]
  },
  {
   "cell_type": "markdown",
   "metadata": {},
   "source": [
    "But where does the 0.0016 term come from? Is there a better value, when looking at results from MDL db? It seems that it is a fit to the following results:\n",
    "![](B_E_speed.PNG)"
   ]
  },
  {
   "cell_type": "markdown",
   "metadata": {},
   "source": [
    "# Methodology\n",
    "Create something similar to the plot above, but based on MDL DB. It can be assumed that for a ship ship without bilge keels the eddy damping $B_E$ represent the nonlinear part of the damping.\n",
    "Using $B_1$, $B_2$ and $B_3$, $B_E$ should therefore represent what is in the $B_2$ coefficient. "
   ]
  },
  {
   "cell_type": "markdown",
   "metadata": {},
   "source": [
    "# Setup"
   ]
  },
  {
   "cell_type": "code",
   "execution_count": 3,
   "metadata": {},
   "outputs": [],
   "source": [
    "# %load imports.py\n",
    "\"\"\"\n",
    "These is the standard setup for the notebooks.\n",
    "\"\"\"\n",
    "\n",
    "%matplotlib inline\n",
    "%load_ext autoreload\n",
    "%autoreload 2\n",
    "\n",
    "from jupyterthemes import jtplot\n",
    "jtplot.style(theme='onedork', context='notebook', ticks=True, grid=False)\n",
    "\n",
    "import pandas as pd\n",
    "pd.options.display.max_rows = 999\n",
    "pd.options.display.max_columns = 999\n",
    "pd.set_option(\"display.max_columns\", None)\n",
    "import numpy as np\n",
    "import os\n",
    "import matplotlib.pyplot as plt\n",
    "from collections import OrderedDict\n",
    "#plt.style.use('paper')\n",
    "from reports.paper_writing import save_fig\n",
    "\n",
    "#import data\n",
    "import copy\n",
    "from mdldb.run import Run\n",
    "\n",
    "from sklearn.pipeline import Pipeline\n",
    "from rolldecayestimators.transformers import CutTransformer, LowpassFilterDerivatorTransformer, ScaleFactorTransformer, OffsetTransformer\n",
    "from rolldecayestimators.direct_estimator_cubic import EstimatorQuadraticB, EstimatorCubic\n",
    "from rolldecayestimators.ikeda_estimator import IkedaQuadraticEstimator\n",
    "import src.equations as equations\n",
    "import rolldecayestimators.lambdas as lambdas\n",
    "from rolldecayestimators.substitute_dynamic_symbols import lambdify\n",
    "import rolldecayestimators.symbols as symbols\n",
    "import sympy as sp\n",
    "\n",
    "from sympy.physics.vector.printing import vpprint, vlatex\n",
    "from IPython.display import display, Math, Latex\n",
    "\n",
    "from sklearn.metrics import r2_score\n",
    "from src.data import database\n",
    "from mdldb import tables\n",
    "import shipflowmotionshelpers.shipflowmotionshelpers as helpers\n",
    "import src.visualization.visualize as visualize\n"
   ]
  },
  {
   "cell_type": "code",
   "execution_count": 75,
   "metadata": {},
   "outputs": [],
   "source": [
    "df_rolldecay = database.load(limit_score=0.98)\n",
    "#df_rolldecay['BKL'].fillna(0,inplace=True)\n",
    "scale_factor = df_rolldecay.scale_factor\n",
    "df_rolldecay['V'] = df_rolldecay.ship_speed*1.852/3.6/np.sqrt(scale_factor)"
   ]
  },
  {
   "cell_type": "code",
   "execution_count": 91,
   "metadata": {},
   "outputs": [],
   "source": [
    "mask = df_rolldecay['BKL'] == 0\n",
    "df_bare_hull = df_rolldecay.loc[mask].copy()\n",
    "exclude = [20147221]\n",
    "mask = df_bare_hull['project_number'].isin(exclude)\n",
    "df_bare_hull = df_bare_hull.loc[~mask]"
   ]
  },
  {
   "cell_type": "code",
   "execution_count": 92,
   "metadata": {},
   "outputs": [],
   "source": [
    "ok = [  \n",
    "    20064244,\n",
    "    20095349,\n",
    "    20095421,\n",
    "    20157577,\n",
    "    20157491,\n",
    "]  # Visual inspection of pictures of models"
   ]
  },
  {
   "cell_type": "code",
   "execution_count": 93,
   "metadata": {},
   "outputs": [],
   "source": [
    "#mask = df_bare_hull['project_number'].isin(ok)\n",
    "#df_bare_hull = df_bare_hull.loc[mask].copy()"
   ]
  },
  {
   "cell_type": "code",
   "execution_count": 94,
   "metadata": {},
   "outputs": [],
   "source": [
    "for loading_condition_id, df in df_bare_hull.groupby(by='loading_condition_id'):\n",
    "    \n",
    "    if len(df['ship_speed'].unique()) == 1:\n",
    "        continue\n",
    "        \n",
    "    mask = df['ship_speed'] == 0\n",
    "    df_zero_speed = df.loc[mask]\n",
    "    \n",
    "    if len(df_zero_speed) == 0:\n",
    "        continue\n",
    "        \n",
    "    zero_speed = df_zero_speed.iloc[0].copy()\n",
    "    \n",
    "    factor = df['B_2A'] / zero_speed['B_2A']  ## Assuming that B_E is proportional to B_2        \n",
    "    \n",
    "    df_bare_hull.loc[df.index,r'B_E/B_E0'] = factor\n",
    "           \n",
    "        \n",
    "    \n",
    "    "
   ]
  },
  {
   "cell_type": "code",
   "execution_count": 95,
   "metadata": {},
   "outputs": [
    {
     "data": {
      "text/latex": [
       "$\\displaystyle \n",
       "\\begin{equation}\n",
       "K = \\frac{L_{pp} \\omega}{V}\n",
       "\\label{eq:K}\n",
       "\\end{equation}\n",
       "$"
      ],
      "text/plain": [
       "<src.notebook_to_latex.Equation object>"
      ]
     },
     "execution_count": 95,
     "metadata": {},
     "output_type": "execute_result"
    }
   ],
   "source": [
    "Equation(equations_ikeda_naked.eq_K, label='eq:K')"
   ]
  },
  {
   "cell_type": "code",
   "execution_count": 96,
   "metadata": {},
   "outputs": [],
   "source": [
    "lambda_K = lambdify(equations_ikeda_naked.eq_K.rhs)"
   ]
  },
  {
   "cell_type": "code",
   "execution_count": 97,
   "metadata": {},
   "outputs": [],
   "source": [
    "lambda_eddy_speed = lambdify(equations_ikeda_naked.eq_eddy_speed_general.rhs)"
   ]
  },
  {
   "cell_type": "code",
   "execution_count": 98,
   "metadata": {},
   "outputs": [],
   "source": [
    "lpp = df_bare_hull.lpp/scale_factor\n",
    "df_bare_hull['K'] = lambda_K(L_pp=lpp, V=df_bare_hull.V, omega=df_bare_hull.omega0)\n",
    "df_bare_hull[r'1/K'] = 1/df_bare_hull['K']"
   ]
  },
  {
   "cell_type": "code",
   "execution_count": 101,
   "metadata": {
    "scrolled": true
   },
   "outputs": [
    {
     "name": "stderr",
     "output_type": "stream",
     "text": [
      "c:\\dev\\prediction-of-roll-damping-using-fully-nonlinear-potential-flow-and-ikedas-method\\venv\\lib\\site-packages\\ipykernel_launcher.py:11: RuntimeWarning: divide by zero encountered in true_divide\n",
      "  # This is added back by InteractiveShellApp.init_path()\n",
      "<string>:2: RuntimeWarning: invalid value encountered in true_divide\n",
      "<string>:2: RuntimeWarning: invalid value encountered in true_divide\n",
      "<string>:2: RuntimeWarning: invalid value encountered in true_divide\n"
     ]
    },
    {
     "data": {
      "image/png": "[encoded data removed]",
      "text/plain": [
       "<Figure size 576x504 with 1 Axes>"
      ]
     },
     "metadata": {},
     "output_type": "display_data"
    }
   ],
   "source": [
    "fig,ax=plt.subplots()\n",
    "\n",
    "for loading_condition_id, df in df_bare_hull.groupby(by='loading_condition_id'):\n",
    "    df.plot(x='1/K', y = r'B_E/B_E0', ax=ax, style = '.-')\n",
    "\n",
    "\n",
    "for _, row in df_bare_hull.iterrows():\n",
    "    ax.annotate(text='  %s' % row['project_number'], xy=(row['1/K'],row[r'B_E/B_E0']))\n",
    "    \n",
    "one_div_K = np.linspace(0,0.2,100)\n",
    "k = 1/one_div_K\n",
    "\n",
    "alphas = np.arange(0.04,0.10,0.02)\n",
    "for alpha in alphas:\n",
    "    ax.plot(one_div_K, lambda_eddy_speed(K=k, alpha=alpha), label=r'$\\alpha:%0.2f$' % alpha)\n",
    "    \n",
    "ax.legend()\n",
    "ax.set_xlabel(r'$\\frac{1}{K}$')\n",
    "ax.set_ylabel(r'$\\frac{B_E}{B_{E0}}$')\n",
    "ax.grid()\n",
    "    \n",
    "ax.get_legend().set_visible(False)"
   ]
  },
  {
   "cell_type": "code",
   "execution_count": 85,
   "metadata": {},
   "outputs": [
    {
     "data": {
      "text/latex": [
       "$\\displaystyle B_{e} = B_{1} + \\frac{8 B_{2} \\omega_{0} \\phi_{a}}{3 \\pi}$"
      ],
      "text/plain": [
       "Eq(B_e, B_1 + 8*B_2*omega0*phi_a/(3*pi))"
      ]
     },
     "execution_count": 85,
     "metadata": {},
     "output_type": "execute_result"
    }
   ],
   "source": [
    "equations.B_e_equation"
   ]
  },
  {
   "cell_type": "code",
   "execution_count": 86,
   "metadata": {},
   "outputs": [
    {
     "data": {
      "text/latex": [
       "$\\displaystyle B_{2 hat} = \\frac{B_{2}}{Disp beam^{2} \\rho}$"
      ],
      "text/plain": [
       "Eq(B_2_hat, B_2/(Disp*beam**2*rho))"
      ]
     },
     "execution_count": 86,
     "metadata": {},
     "output_type": "execute_result"
    }
   ],
   "source": [
    "equations.B_2_hat_equation"
   ]
  },
  {
   "cell_type": "code",
   "execution_count": 102,
   "metadata": {},
   "outputs": [
    {
     "name": "stdout",
     "output_type": "stream",
     "text": [
      "20064244:\\\\sspa.local\\gbg\\ProjektArkiv\\2006\\20064244\n",
      "20084942:\\\\sspa.local\\gbg\\ProjektArkiv\\2008\\20084942 Bluefin\n",
      "20095421:\\\\sspa.local\\gbg\\ProjektArkiv\\2009\\20095421_STX_Polar_Supply\n",
      "20095111:\\\\sspa.local\\gbg\\ProjektArkiv\\2009\\20095111\n",
      "20157491:S:\\2015\\20157491-SDARI---twin-skeg-type-modular-carrier\n"
     ]
    }
   ],
   "source": [
    "for p in df_bare_hull['project_path'].unique():\n",
    "    \n",
    "    mask = df_bare_hull['project_path'] == p\n",
    "    project_number = df_bare_hull.loc[mask].iloc[0]['project_number']\n",
    "    \n",
    "    \n",
    "    print('%s:%s' % (project_number,p))"
   ]
  },
  {
   "cell_type": "code",
   "execution_count": null,
   "metadata": {},
   "outputs": [],
   "source": []
  }
 ],
 "metadata": {
  "kernelspec": {
   "display_name": "Python 3",
   "language": "python",
   "name": "python3"
  },
  "language_info": {
   "codemirror_mode": {
    "name": "ipython",
    "version": 3
   },
   "file_extension": ".py",
   "mimetype": "text/x-python",
   "name": "python",
   "nbconvert_exporter": "python",
   "pygments_lexer": "ipython3",
   "version": "3.6.8"
  },
  "toc": {
   "base_numbering": 1,
   "nav_menu": {},
   "number_sections": true,
   "sideBar": true,
   "skip_h1_title": false,
   "title_cell": "Table of Contents",
   "title_sidebar": "Contents",
   "toc_cell": false,
   "toc_position": {},
   "toc_section_display": true,
   "toc_window_display": false
  }
 },
 "nbformat": 4,
 "nbformat_minor": 4
}
