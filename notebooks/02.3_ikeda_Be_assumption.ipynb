{
 "cells": [
  {
   "cell_type": "markdown",
   "metadata": {},
   "source": [
    "# Ikeda $B_e$ assumtion.\n",
    "Using analytical linear decay solution to calculate the $B_e$"
   ]
  },
  {
   "cell_type": "code",
   "execution_count": null,
   "metadata": {},
   "outputs": [],
   "source": [
    "from rolldecayestimators import equations"
   ]
  },
  {
   "cell_type": "markdown",
   "metadata": {},
   "source": [
    "# Purpose\n",
    "The quadratic or cubic model can be expressed using the linearized equivalent damping ($B_e$) according to <cite data-cite=\"7505983/EYEMHSYH\">. But I have some doubt about the validity of this, which will be investigated in this notebook."
   ]
  },
  {
   "cell_type": "code",
   "execution_count": null,
   "metadata": {},
   "outputs": [],
   "source": [
    "equations.B_e_equation"
   ]
  },
  {
   "cell_type": "markdown",
   "metadata": {},
   "source": [
    "# Methodology\n",
    "The linear equivalent damping is basically about replacing a higher order model with a linear model. In this notebook a quadratic model is representing the higher order model.\n",
    "The quadratic model has two damping coefficients $B_1$ and $B_2$ these to coefficients should be replaced by only one linear damping term $B_e$. <cite data-cite=\"7505983/FB64RGPF\"></cite> suggests that the equation above can be used to combine $B_1$ and $B_2$ into one coefficient $B_e$.\n",
    "\n",
    "I will use the least square fitting to find the linear equivalent damping that minimized the error when representing a quadratic model as a linear model. The analytical solution to the linear roll decay model will be used to get a fast and accurate prediction of the least square fit."
   ]
  },
  {
   "cell_type": "markdown",
   "metadata": {},
   "source": [
    "# WIP - improvements\n",
    "(WORK IN PROGRESS)\n",
    "Use this section only if the notebook is not final.\n",
    "\n",
    "Notable TODOs:\n",
    "* todo 1\n",
    "* todo 2\n",
    "* todo 3"
   ]
  },
  {
   "cell_type": "markdown",
   "metadata": {},
   "source": [
    "## Results\n",
    "Describe and comment the most important results."
   ]
  },
  {
   "cell_type": "markdown",
   "metadata": {},
   "source": [
    "# Suggested next steps\n",
    "State suggested next steps, based on results obtained in this notebook."
   ]
  },
  {
   "cell_type": "markdown",
   "metadata": {},
   "source": [
    "# Setup"
   ]
  },
  {
   "cell_type": "code",
   "execution_count": null,
   "metadata": {},
   "outputs": [],
   "source": [
    "# %load imports.py\n",
    "\"\"\"\n",
    "These is the standard setup for the notebooks.\n",
    "\"\"\"\n",
    "\n",
    "%matplotlib inline\n",
    "%load_ext autoreload\n",
    "%autoreload 2\n",
    "\n",
    "from jupyterthemes import jtplot\n",
    "jtplot.style(theme='onedork', context='notebook', ticks=True, grid=False)\n",
    "\n",
    "import pandas as pd\n",
    "pd.options.display.max_rows = 999\n",
    "pd.options.display.max_columns = 999\n",
    "pd.set_option(\"display.max_columns\", None)\n",
    "import numpy as np\n",
    "import os\n",
    "import matplotlib.pyplot as plt\n",
    "from collections import OrderedDict\n",
    "#plt.style.use('paper')\n",
    "\n",
    "#import data\n",
    "import copy\n",
    "from mdldb.run import Run\n",
    "\n",
    "from sklearn.pipeline import Pipeline\n",
    "from rolldecayestimators.transformers import CutTransformer, LowpassFilterDerivatorTransformer, ScaleFactorTransformer, OffsetTransformer\n",
    "from rolldecayestimators.direct_estimator_cubic import EstimatorQuadraticB, EstimatorCubic\n",
    "from rolldecayestimators.ikeda_estimator import IkedaQuadraticEstimator\n",
    "import rolldecayestimators.equations as equations\n",
    "import rolldecayestimators.lambdas as lambdas\n",
    "from rolldecayestimators.substitute_dynamic_symbols import lambdify\n",
    "import rolldecayestimators.symbols as symbols\n",
    "import sympy as sp\n",
    "\n",
    "from sympy.physics.vector.printing import vpprint, vlatex\n",
    "from IPython.display import display, Math, Latex\n",
    "\n",
    "from sklearn.metrics import r2_score\n",
    "from src.data import database\n",
    "from mdldb import tables\n"
   ]
  },
  {
   "cell_type": "code",
   "execution_count": null,
   "metadata": {},
   "outputs": [],
   "source": [
    "from rolldecayestimators.simplified_ikeda_class import SimplifiedIkeda\n",
    "import rolldecayestimators\n",
    "from scipy.integrate import solve_ivp\n",
    "from scipy.optimize import least_squares"
   ]
  },
  {
   "cell_type": "markdown",
   "metadata": {},
   "source": [
    "## Quadratic"
   ]
  },
  {
   "cell_type": "code",
   "execution_count": null,
   "metadata": {},
   "outputs": [],
   "source": [
    "Math(vlatex(equations.roll_decay_equation_himeno_quadratic_b))"
   ]
  },
  {
   "cell_type": "code",
   "execution_count": null,
   "metadata": {},
   "outputs": [],
   "source": [
    "eq_acceleration_quadratic = sp.Eq(symbols.phi_dot_dot,\n",
    "                        sp.solve(equations.roll_decay_equation_himeno_quadratic_b,symbols.phi_dot_dot)[0])\n",
    "\n",
    "accelaration_quadratic_lambda = lambdify(sp.solve(equations.roll_decay_equation_himeno_quadratic_b,symbols.phi_dot_dot)[0])\n",
    "\n",
    "Math(vlatex(eq_acceleration_quadratic))"
   ]
  },
  {
   "cell_type": "code",
   "execution_count": null,
   "metadata": {},
   "outputs": [],
   "source": [
    "class RollDecayQuadratic():\n",
    "    \n",
    "    def __init__(self,A_44, B_1, B_2, C_1):\n",
    "        self.parameters = {\n",
    "            'A_44':A_44,\n",
    "            'B_1':B_1,\n",
    "            'B_2':B_2,\n",
    "            'C_1':C_1,\n",
    "        }\n",
    "            \n",
    "    def time_step(self,t,states):\n",
    "        \n",
    "        phi = states[0]\n",
    "        phi1d = states[1]\n",
    "        phi2d = accelaration_quadratic_lambda(**self.parameters, phi=phi, phi1d=phi1d)\n",
    "        \n",
    "        d_states_dt = np.array([phi1d, phi2d])\n",
    "        return d_states_dt\n",
    "    \n",
    "    def simulate(self,t,phi0=np.deg2rad(10),phi1d0=0):\n",
    "        \n",
    "        initial_state = [phi0,phi1d0]\n",
    "        \n",
    "        t_span = [t[0], t[-1]]\n",
    "        \n",
    "        result = solve_ivp(fun=simulation.time_step, t_span=t_span,  y0=initial_state, t_eval=t)\n",
    "        assert result.success\n",
    "        df_result = pd.DataFrame(index=result.t, data=result.y.T, columns = ['phi','phi1d'])\n",
    "        return df_result\n"
   ]
  },
  {
   "cell_type": "markdown",
   "metadata": {},
   "source": [
    "## Select suitable paramter range"
   ]
  },
  {
   "cell_type": "code",
   "execution_count": null,
   "metadata": {},
   "outputs": [],
   "source": [
    "df_rolldecay = database.load(rolldecay_table_name='rolldecay_quadratic_b', limit_score=0.95, \n",
    "                             exclude_table_name='rolldecay_exclude')"
   ]
  },
  {
   "cell_type": "code",
   "execution_count": null,
   "metadata": {},
   "outputs": [],
   "source": [
    "df_rolldecay.head()"
   ]
  },
  {
   "cell_type": "code",
   "execution_count": null,
   "metadata": {},
   "outputs": [],
   "source": [
    "interesting = ['B_1A','B_2A','C_1A']\n",
    "df_rolldecay[interesting].describe()"
   ]
  },
  {
   "cell_type": "code",
   "execution_count": null,
   "metadata": {},
   "outputs": [],
   "source": [
    "B_1A = df_rolldecay['B_1A'].median()\n",
    "B_1A"
   ]
  },
  {
   "cell_type": "code",
   "execution_count": null,
   "metadata": {},
   "outputs": [],
   "source": [
    "index = (df_rolldecay['B_1A']-B_1A).abs().argmin()\n",
    "row = df_rolldecay.iloc[index]"
   ]
  },
  {
   "cell_type": "code",
   "execution_count": null,
   "metadata": {},
   "outputs": [],
   "source": [
    "row['B_1A']"
   ]
  },
  {
   "cell_type": "code",
   "execution_count": null,
   "metadata": {},
   "outputs": [],
   "source": [
    "B_max_ratio = (df_rolldecay['B_2A']/df_rolldecay['B_1A']).abs().quantile(0.95)"
   ]
  },
  {
   "cell_type": "code",
   "execution_count": null,
   "metadata": {},
   "outputs": [],
   "source": [
    "N=100000\n",
    "A_44 = 2.2\n",
    "B_1 = row['B_1A']*A_44\n",
    "C_1 = row['C_1A']*A_44\n",
    "\n",
    "simulations = {\n",
    "}\n",
    "\n",
    "N= 15\n",
    "B_2_max = B_max_ratio*B_1\n",
    "B_2s = np.linspace(0,B_2_max,N)\n",
    "for B_2 in B_2s:\n",
    "    simulations[B_2]=RollDecayQuadratic(A_44=A_44, B_1=B_1, B_2=B_2, C_1=C_1)"
   ]
  },
  {
   "cell_type": "code",
   "execution_count": null,
   "metadata": {},
   "outputs": [],
   "source": [
    "B_1"
   ]
  },
  {
   "cell_type": "code",
   "execution_count": null,
   "metadata": {},
   "outputs": [],
   "source": [
    "C_1"
   ]
  },
  {
   "cell_type": "code",
   "execution_count": null,
   "metadata": {},
   "outputs": [],
   "source": [
    "equations.C_equation_linear"
   ]
  },
  {
   "cell_type": "code",
   "execution_count": null,
   "metadata": {},
   "outputs": [],
   "source": [
    "A_44_eq = sp.Eq(symbols.A_44, equations.A44)\n",
    "A_44_eq"
   ]
  },
  {
   "cell_type": "code",
   "execution_count": null,
   "metadata": {},
   "outputs": [],
   "source": [
    "eqs = [\n",
    "    A_44_eq,\n",
    "    equations.C_equation_linear,\n",
    "\n",
    "]\n",
    "omega0_eq = sp.Eq(symbols.omega0,sp.solve(eqs, symbols.omega0, symbols.GM)[1][0])\n",
    "omega0_eq"
   ]
  },
  {
   "cell_type": "code",
   "execution_count": null,
   "metadata": {},
   "outputs": [],
   "source": [
    "omega0 = np.sqrt(C_1/A_44)\n",
    "N_oscillations=10\n",
    "t = np.arange(0,2*np.pi/omega0*N_oscillations,0.01)\n",
    "phi0=np.deg2rad(10)\n",
    "phi1d0 = 0\n",
    "initial_state = [phi0,phi1d0]\n",
    "\n",
    "\n",
    "results = {}\n",
    "X_amplitudes = {}\n",
    "for name,simulation in simulations.items():\n",
    "    \n",
    "    df_result = simulation.simulate(t=t, phi0=phi0, phi1d0=phi1d0)\n",
    "    \n",
    "    results[name]=df_result\n",
    "    X_amplitudes[name]=rolldecayestimators.measure.calculate_amplitudes_and_damping(X=df_result)"
   ]
  },
  {
   "cell_type": "code",
   "execution_count": null,
   "metadata": {},
   "outputs": [],
   "source": [
    "#for name in results.keys():\n",
    "#    fig,ax=plt.subplots()\n",
    "#    df_result = results[name]\n",
    "#    amplitudes = X_amplitudes[name]\n",
    "#    df_result.plot(y='phi',ax=ax)\n",
    "#    amplitudes.plot(y='phi_a', ax=ax)\n",
    "#    ax.grid(True)\n",
    "#    ax.set_title(name)"
   ]
  },
  {
   "cell_type": "markdown",
   "metadata": {},
   "source": [
    "## $B_e$ from anayltica solution"
   ]
  },
  {
   "cell_type": "code",
   "execution_count": null,
   "metadata": {},
   "outputs": [],
   "source": [
    "Math(vlatex(equations.diff_eq))"
   ]
  },
  {
   "cell_type": "code",
   "execution_count": null,
   "metadata": {},
   "outputs": [],
   "source": [
    "Math(vlatex(equations.analytical_solution))"
   ]
  },
  {
   "cell_type": "code",
   "execution_count": null,
   "metadata": {},
   "outputs": [],
   "source": [
    "no_initial_speed = sp.simplify(equations.analytical_solution.subs(symbols.phi_0_dot,0))\n",
    "Math(vlatex(no_initial_speed))"
   ]
  },
  {
   "cell_type": "code",
   "execution_count": null,
   "metadata": {},
   "outputs": [],
   "source": [
    "no_initial_speed_zeta_small = no_initial_speed.subs(\n",
    "    [(sp.sqrt(1-symbols.zeta**2),1),\n",
    "     (symbols.zeta*sp.sin(symbols.omega0*symbols.t),0),\n",
    "    ])\n",
    "Math(vlatex(no_initial_speed_zeta_small))"
   ]
  },
  {
   "cell_type": "code",
   "execution_count": null,
   "metadata": {},
   "outputs": [],
   "source": [
    "B_1_zeta_eq = sp.Eq(symbols.B_1, 2*symbols.zeta*symbols.omega0*symbols.A_44)\n",
    "B_1_zeta_eq"
   ]
  },
  {
   "cell_type": "code",
   "execution_count": null,
   "metadata": {},
   "outputs": [],
   "source": [
    "eqs = [\n",
    "    B_1_zeta_eq,    \n",
    "    equations.analytical_solution,\n",
    "      ]\n",
    "\n",
    "analytical_solution_B_1 = sp.Eq(symbols.phi,\n",
    "                                sp.simplify(sp.solve(eqs,symbols.zeta,symbols.phi)[0][1]))\n",
    "analytical_solution_B_1"
   ]
  },
  {
   "cell_type": "code",
   "execution_count": null,
   "metadata": {},
   "outputs": [],
   "source": [
    "analytical_lambda = lambdify(sp.solve(analytical_solution_B_1,symbols.phi)[0])"
   ]
  },
  {
   "cell_type": "code",
   "execution_count": null,
   "metadata": {},
   "outputs": [],
   "source": [
    "equations.extinction_equation"
   ]
  },
  {
   "cell_type": "code",
   "execution_count": null,
   "metadata": {},
   "outputs": [],
   "source": [
    "sp.Eq(symbols.zeta,sp.solve(equations.extinction_equation,symbols.zeta)[0])"
   ]
  },
  {
   "cell_type": "code",
   "execution_count": null,
   "metadata": {},
   "outputs": [],
   "source": [
    "def simulate(B_e,X,omega0,A_44):\n",
    "    t = X.index\n",
    "    initial_states = X.iloc[0]\n",
    "    phi_0 = initial_states['phi']\n",
    "    phi_01d= initial_states['phi1d']\n",
    "    phi_pred = analytical_lambda(omega0=omega0, A_44=A_44, phi_0=phi_0, phi_01d=phi1d0, t=t, B_1=B_e)\n",
    "    return phi_pred\n",
    "\n",
    "def residuals(B_e,X,omega0,A_44):\n",
    "    \n",
    "    phi_pred = simulate(B_e=B_e, X=X, omega0=omega0, A_44=A_44)\n",
    "    residual = phi_pred - X['phi']\n",
    "    return residual"
   ]
  },
  {
   "cell_type": "code",
   "execution_count": null,
   "metadata": {},
   "outputs": [],
   "source": [
    "def linear_equivalent(X,omega0,A_44):\n",
    "    kwargs={\n",
    "        'X':X,\n",
    "        'omega0':omega0,\n",
    "        'A_44':A_44,\n",
    "    }\n",
    "    initial_guess = [B_1]\n",
    "    result = least_squares(fun=residuals, x0=initial_guess, kwargs=kwargs, method='lm')\n",
    "    assert result.success is True\n",
    "    B_e = result.x[0]\n",
    "    return B_e"
   ]
  },
  {
   "cell_type": "code",
   "execution_count": null,
   "metadata": {},
   "outputs": [],
   "source": [
    "X = results[0]\n",
    "omega0 = np.sqrt(C_1/A_44)\n",
    "\n",
    "B_e = linear_equivalent(X=X, omega0=omega0, A_44=A_44)\n",
    "phi_pred = simulate(B_e=B_e, X=X, omega0=omega0, A_44=A_44)\n",
    "phi_error = X['phi'] - phi_pred\n",
    "\n",
    "fig,ax=plt.subplots()\n",
    "X.plot(y='phi',ax=ax)\n",
    "ax.plot(t,phi_pred,'--')\n",
    "\n",
    "r2_score(y_true=X['phi'], y_pred=phi_pred)"
   ]
  },
  {
   "cell_type": "code",
   "execution_count": null,
   "metadata": {},
   "outputs": [],
   "source": [
    "df_B_e = pd.DataFrame()\n",
    "df_B_e.index.name='B_2'\n",
    "\n",
    "for B_2, X in results.items():\n",
    "    B_e = linear_equivalent(X=X, omega0=omega0, A_44=A_44)\n",
    "    df_B_e.loc[B_2,'B_e'] = B_e\n",
    "    phi_pred = simulate(B_e=B_e, X=X, omega0=omega0, A_44=A_44)\n",
    "    df_B_e.loc[B_2,'R2'] = r2_score(y_true=X['phi'], y_pred=phi_pred)\n",
    "    \n",
    "    B_e_himeno = lambdas.B_e_lambda(B_1=B_1, B_2=B_2, omega0=omega0, phi_a=phi0)\n",
    "    df_B_e.loc[B_2,'B_e_himeno'] = B_e_himeno\n",
    "    phi_pred_himeno = simulate(B_e=B_e_himeno, X=X, omega0=omega0, A_44=A_44)\n",
    "    df_B_e.loc[B_2,'R2_himeno'] = r2_score(y_true=X['phi'], y_pred=phi_pred_himeno)\n",
    "\n",
    "df_B_e['B_1'] = B_1"
   ]
  },
  {
   "cell_type": "code",
   "execution_count": null,
   "metadata": {},
   "outputs": [],
   "source": [
    "fig,ax=plt.subplots()\n",
    "df_B_e.plot(y=['B_1','B_e','B_e_himeno'], ax=ax)\n",
    "ax.set_ylabel('$B_e$ [Nm/s] linear equivalent damping')\n",
    "\n",
    "fig,ax=plt.subplots()\n",
    "df_B_e.plot(y=['R2','R2_himeno'],ax=ax)\n",
    "ax.set_ylabel('$R^2$ [-] coefficient of determination')"
   ]
  },
  {
   "cell_type": "markdown",
   "metadata": {},
   "source": [
    "## $B_2/2$"
   ]
  },
  {
   "cell_type": "code",
   "execution_count": null,
   "metadata": {},
   "outputs": [],
   "source": [
    "df_B_e = pd.DataFrame()\n",
    "df_B_e.index.name='B_2'\n",
    "\n",
    "for B_2, X in results.items():\n",
    "    B_e = linear_equivalent(X=X, omega0=omega0, A_44=A_44)\n",
    "    df_B_e.loc[B_2,'B_e'] = B_e\n",
    "    phi_pred = simulate(B_e=B_e, X=X, omega0=omega0, A_44=A_44)\n",
    "    df_B_e.loc[B_2,'R2'] = r2_score(y_true=X['phi'], y_pred=phi_pred)\n",
    "    \n",
    "    B_e_himeno = lambdas.B_e_lambda(B_1=B_1, B_2=B_2/2, omega0=omega0, phi_a=phi0)\n",
    "    df_B_e.loc[B_2,'B_e_himeno'] = B_e_himeno\n",
    "    phi_pred_himeno = simulate(B_e=B_e_himeno, X=X, omega0=omega0, A_44=A_44)\n",
    "    df_B_e.loc[B_2,'R2_himeno'] = r2_score(y_true=X['phi'], y_pred=phi_pred_himeno)\n",
    "\n",
    "df_B_e['B_1'] = B_1"
   ]
  },
  {
   "cell_type": "code",
   "execution_count": null,
   "metadata": {},
   "outputs": [],
   "source": [
    "fig,ax=plt.subplots()\n",
    "df_B_e.plot(y=['B_1','B_e','B_e_himeno'], ax=ax)\n",
    "ax.set_ylabel('$B_e$ [Nm/s] linear equivalent damping')\n",
    "\n",
    "fig,ax=plt.subplots()\n",
    "df_B_e.plot(y=['R2','R2_himeno'],ax=ax)\n",
    "ax.set_ylabel('$R^2$ [-] coefficient of determination')"
   ]
  }
 ],
 "metadata": {
  "cite2c": {
   "citations": {
    "7505983/EYEMHSYH": {
     "id": "7505983/EYEMHSYH",
     "title": "Himeno - 1981 - Prediction of ship roll damping - state of the art.pdf",
     "type": "article"
    },
    "7505983/FB64RGPF": {
     "abstract": "Various methods for predicting the roll damping of a ship at forward speed is discussed. In particular, a simple method and a component analysis are described. The component analysis assumes that the damping is composed of friction damping, eddy damping, lift damping, wave damping, normal-force damping of bilge, keel, hull pressure damping due to bilge keels, and wave damping of bilge keels. Formulas for these components are derived from theoretical and experimental considerations.",
     "archive": "Scopus",
     "author": [
      {
       "family": "Himeno",
       "given": "Yoji"
      }
     ],
     "container-title": "University of Michigan Department of Naval Architecture and Marine Engineering, (Report)",
     "id": "7505983/FB64RGPF",
     "issue": "239",
     "issued": {
      "year": 1981
     },
     "title": "PREDICTION OF SHIP ROLL DAMPING - STATE OF THE ART.",
     "type": "article-journal"
    }
   }
  },
  "kernelspec": {
   "display_name": "Python 3",
   "language": "python",
   "name": "python3"
  },
  "language_info": {
   "codemirror_mode": {
    "name": "ipython",
    "version": 3
   },
   "file_extension": ".py",
   "mimetype": "text/x-python",
   "name": "python",
   "nbconvert_exporter": "python",
   "pygments_lexer": "ipython3",
   "version": "3.6.8"
  }
 },
 "nbformat": 4,
 "nbformat_minor": 4
}
