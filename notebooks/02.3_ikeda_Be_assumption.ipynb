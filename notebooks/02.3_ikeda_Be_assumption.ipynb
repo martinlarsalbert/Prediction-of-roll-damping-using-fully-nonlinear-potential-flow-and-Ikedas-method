{
 "cells": [
  {
   "cell_type": "markdown",
   "metadata": {},
   "source": [
    "# Ikeda $B_e$ assumtion.\n",
    "Using analytical linear decay solution to calculate the $B_e$"
   ]
  },
  {
   "cell_type": "code",
   "execution_count": 1,
   "metadata": {},
   "outputs": [
    {
     "name": "stderr",
     "output_type": "stream",
     "text": [
      "Duplicate key in file WindowsPath('C:/Users/maa/.matplotlib/stylelib/paper.mplstyle'), line 461 ('figure.figsize   : 5, 3   ## figure size in inches')\n",
      "Duplicate key in file WindowsPath('C:/Users/maa/.matplotlib/stylelib/paper.mplstyle'), line 462 ('figure.dpi       : 100        ## figure dots per inch')\n"
     ]
    }
   ],
   "source": [
    "from rolldecayestimators import equations"
   ]
  },
  {
   "cell_type": "markdown",
   "metadata": {},
   "source": [
    "# Purpose\n",
    "The quadratic or cubic model can be expressed using the linearized equivalent damping ($B_e$) according to <cite data-cite=\"7505983/EYEMHSYH\">. But I have some doubt about the validity of this, which will be investigated in this notebook."
   ]
  },
  {
   "cell_type": "code",
   "execution_count": 2,
   "metadata": {},
   "outputs": [
    {
     "data": {
      "text/latex": [
       "$\\displaystyle B_{e} = B_{1} + \\frac{8 B_{2} \\omega_{0} \\phi_{a}}{3 \\pi}$"
      ],
      "text/plain": [
       "Eq(B_e, B_1 + 8*B_2*omega0*phi_a/(3*pi))"
      ]
     },
     "execution_count": 2,
     "metadata": {},
     "output_type": "execute_result"
    }
   ],
   "source": [
    "equations.B_e_equation"
   ]
  },
  {
   "cell_type": "markdown",
   "metadata": {},
   "source": [
    "# Methodology\n",
    "The linear equivalent damping is basically about replacing a higher order model with a linear model. In this notebook a quadratic model is representing the higher order model.\n",
    "The quadratic model has two damping coefficients $B_1$ and $B_2$ these to coefficients should be replaced by only one linear damping term $B_e$. <cite data-cite=\"7505983/FB64RGPF\"></cite> suggests that the equation above can be used to combine $B_1$ and $B_2$ into one coefficient $B_e$.\n",
    "\n",
    "I will use the least square fitting to find the linear equivalent damping that minimized the error when representing a quadratic model as a linear model. The analytical solution to the linear roll decay model will be used to get a fast and accurate prediction of the least square fit."
   ]
  },
  {
   "cell_type": "markdown",
   "metadata": {},
   "source": [
    "# WIP - improvements\n",
    "(WORK IN PROGRESS)\n",
    "Use this section only if the notebook is not final.\n",
    "\n",
    "Notable TODOs:\n",
    "* todo 1\n",
    "* todo 2\n",
    "* todo 3"
   ]
  },
  {
   "cell_type": "markdown",
   "metadata": {},
   "source": [
    "## Results\n",
    "Describe and comment the most important results."
   ]
  },
  {
   "cell_type": "markdown",
   "metadata": {},
   "source": [
    "# Suggested next steps\n",
    "State suggested next steps, based on results obtained in this notebook."
   ]
  },
  {
   "cell_type": "markdown",
   "metadata": {},
   "source": [
    "# Setup"
   ]
  },
  {
   "cell_type": "code",
   "execution_count": 3,
   "metadata": {},
   "outputs": [],
   "source": [
    "# %load imports.py\n",
    "\"\"\"\n",
    "These is the standard setup for the notebooks.\n",
    "\"\"\"\n",
    "\n",
    "%matplotlib inline\n",
    "%load_ext autoreload\n",
    "%autoreload 2\n",
    "\n",
    "from jupyterthemes import jtplot\n",
    "jtplot.style(theme='onedork', context='notebook', ticks=True, grid=False)\n",
    "\n",
    "import pandas as pd\n",
    "pd.options.display.max_rows = 999\n",
    "pd.options.display.max_columns = 999\n",
    "pd.set_option(\"display.max_columns\", None)\n",
    "import numpy as np\n",
    "import os\n",
    "import matplotlib.pyplot as plt\n",
    "from collections import OrderedDict\n",
    "#plt.style.use('paper')\n",
    "\n",
    "#import data\n",
    "import copy\n",
    "from mdldb.run import Run\n",
    "\n",
    "from sklearn.pipeline import Pipeline\n",
    "from rolldecayestimators.transformers import CutTransformer, LowpassFilterDerivatorTransformer, ScaleFactorTransformer, OffsetTransformer\n",
    "from rolldecayestimators.direct_estimator_cubic import EstimatorQuadraticB, EstimatorCubic\n",
    "from rolldecayestimators.ikeda_estimator import IkedaQuadraticEstimator\n",
    "import rolldecayestimators.equations as equations\n",
    "import rolldecayestimators.lambdas as lambdas\n",
    "from rolldecayestimators.substitute_dynamic_symbols import lambdify\n",
    "import rolldecayestimators.symbols as symbols\n",
    "import sympy as sp\n",
    "\n",
    "from sympy.physics.vector.printing import vpprint, vlatex\n",
    "from IPython.display import display, Math, Latex\n",
    "\n",
    "from sklearn.metrics import r2_score\n",
    "from src.data import database\n",
    "from mdldb import tables\n"
   ]
  },
  {
   "cell_type": "code",
   "execution_count": 4,
   "metadata": {},
   "outputs": [],
   "source": [
    "from rolldecayestimators.simplified_ikeda_class import SimplifiedIkeda\n",
    "import rolldecayestimators\n",
    "from scipy.integrate import solve_ivp\n",
    "from scipy.optimize import least_squares"
   ]
  },
  {
   "cell_type": "markdown",
   "metadata": {},
   "source": [
    "## Quadratic"
   ]
  },
  {
   "cell_type": "code",
   "execution_count": 5,
   "metadata": {},
   "outputs": [
    {
     "data": {
      "text/latex": [
       "$\\displaystyle A_{44} \\ddot{\\phi} + C_{1} \\phi + \\left(B_{1} + B_{2} \\left|{\\dot{\\phi}}\\right|\\right) \\dot{\\phi} = 0$"
      ],
      "text/plain": [
       "<IPython.core.display.Math object>"
      ]
     },
     "execution_count": 5,
     "metadata": {},
     "output_type": "execute_result"
    }
   ],
   "source": [
    "Math(vlatex(equations.roll_decay_equation_himeno_quadratic_b))"
   ]
  },
  {
   "cell_type": "code",
   "execution_count": 6,
   "metadata": {},
   "outputs": [
    {
     "data": {
      "text/latex": [
       "$\\displaystyle \\ddot{\\phi} = - \\frac{B_{1} \\dot{\\phi} + B_{2} \\left|{\\dot{\\phi}}\\right| \\dot{\\phi} + C_{1} \\phi}{A_{44}}$"
      ],
      "text/plain": [
       "<IPython.core.display.Math object>"
      ]
     },
     "execution_count": 6,
     "metadata": {},
     "output_type": "execute_result"
    }
   ],
   "source": [
    "eq_acceleration_quadratic = sp.Eq(symbols.phi_dot_dot,\n",
    "                        sp.solve(equations.roll_decay_equation_himeno_quadratic_b,symbols.phi_dot_dot)[0])\n",
    "\n",
    "accelaration_quadratic_lambda = lambdify(sp.solve(equations.roll_decay_equation_himeno_quadratic_b,symbols.phi_dot_dot)[0])\n",
    "\n",
    "Math(vlatex(eq_acceleration_quadratic))"
   ]
  },
  {
   "cell_type": "code",
   "execution_count": 7,
   "metadata": {},
   "outputs": [],
   "source": [
    "class RollDecayQuadratic():\n",
    "    \n",
    "    def __init__(self,A_44, B_1, B_2, C_1):\n",
    "        self.parameters = {\n",
    "            'A_44':A_44,\n",
    "            'B_1':B_1,\n",
    "            'B_2':B_2,\n",
    "            'C_1':C_1,\n",
    "        }\n",
    "            \n",
    "    def time_step(self,t,states):\n",
    "        \n",
    "        phi = states[0]\n",
    "        phi1d = states[1]\n",
    "        phi2d = accelaration_quadratic_lambda(**self.parameters, phi=phi, phi1d=phi1d)\n",
    "        \n",
    "        d_states_dt = np.array([phi1d, phi2d])\n",
    "        return d_states_dt\n",
    "    \n",
    "    def simulate(self,t,phi0=np.deg2rad(10),phi1d0=0):\n",
    "        \n",
    "        initial_state = [phi0,phi1d0]\n",
    "        \n",
    "        t_span = [t[0], t[-1]]\n",
    "        \n",
    "        result = solve_ivp(fun=simulation.time_step, t_span=t_span,  y0=initial_state, t_eval=t)\n",
    "        assert result.success\n",
    "        df_result = pd.DataFrame(index=result.t, data=result.y.T, columns = ['phi','phi1d'])\n",
    "        return df_result\n"
   ]
  },
  {
   "cell_type": "markdown",
   "metadata": {},
   "source": [
    "## Select suitable paramter range"
   ]
  },
  {
   "cell_type": "code",
   "execution_count": 8,
   "metadata": {},
   "outputs": [],
   "source": [
    "df_rolldecay = database.load(rolldecay_table_name='rolldecay_quadratic_b', limit_score=0.95, \n",
    "                             exclude_table_name='rolldecay_exclude')"
   ]
  },
  {
   "cell_type": "code",
   "execution_count": 9,
   "metadata": {
    "scrolled": true
   },
   "outputs": [
    {
     "data": {
      "text/html": [
       "<div>\n",
       "<style scoped>\n",
       "    .dataframe tbody tr th:only-of-type {\n",
       "        vertical-align: middle;\n",
       "    }\n",
       "\n",
       "    .dataframe tbody tr th {\n",
       "        vertical-align: top;\n",
       "    }\n",
       "\n",
       "    .dataframe thead th {\n",
       "        text-align: right;\n",
       "    }\n",
       "</style>\n",
       "<table border=\"1\" class=\"dataframe\">\n",
       "  <thead>\n",
       "    <tr style=\"text-align: right;\">\n",
       "      <th></th>\n",
       "      <th>model_number</th>\n",
       "      <th>loading_condition_id</th>\n",
       "      <th>ship_speed</th>\n",
       "      <th>B_1A</th>\n",
       "      <th>B_2A</th>\n",
       "      <th>C_1A</th>\n",
       "      <th>B_1</th>\n",
       "      <th>B_2</th>\n",
       "      <th>C_1</th>\n",
       "      <th>A_44</th>\n",
       "      <th>omega0</th>\n",
       "      <th>omega0_fft</th>\n",
       "      <th>score</th>\n",
       "      <th>phi_start</th>\n",
       "      <th>phi_stop</th>\n",
       "      <th>id</th>\n",
       "      <th>project_number</th>\n",
       "      <th>series_number</th>\n",
       "      <th>run_number</th>\n",
       "      <th>test_number</th>\n",
       "      <th>ship_name</th>\n",
       "      <th>ascii_name</th>\n",
       "      <th>comment</th>\n",
       "      <th>file_path_ascii</th>\n",
       "      <th>file_path_ascii_temp</th>\n",
       "      <th>file_path_log</th>\n",
       "      <th>file_path_hdf5</th>\n",
       "      <th>date</th>\n",
       "      <th>test_type</th>\n",
       "      <th>facility</th>\n",
       "      <th>angle1</th>\n",
       "      <th>angle2</th>\n",
       "      <th>Körfallstyp</th>\n",
       "      <th>name</th>\n",
       "      <th>project_path</th>\n",
       "      <th>lcg</th>\n",
       "      <th>kg</th>\n",
       "      <th>gm</th>\n",
       "      <th>CW</th>\n",
       "      <th>TF</th>\n",
       "      <th>TA</th>\n",
       "      <th>BWL</th>\n",
       "      <th>KXX</th>\n",
       "      <th>KZZ</th>\n",
       "      <th>BTT1</th>\n",
       "      <th>CP</th>\n",
       "      <th>Volume</th>\n",
       "      <th>A0</th>\n",
       "      <th>RH</th>\n",
       "      <th>scale_factor</th>\n",
       "      <th>lpp</th>\n",
       "      <th>beam</th>\n",
       "      <th>ABULB</th>\n",
       "      <th>BKX</th>\n",
       "      <th>TWIN</th>\n",
       "      <th>DCLR</th>\n",
       "      <th>VDES</th>\n",
       "      <th>RHBL</th>\n",
       "      <th>ASKEG</th>\n",
       "      <th>PD</th>\n",
       "      <th>ARH</th>\n",
       "      <th>CFP</th>\n",
       "      <th>AIX</th>\n",
       "      <th>PDTDES</th>\n",
       "      <th>RTYPE</th>\n",
       "      <th>SFP</th>\n",
       "      <th>BKL</th>\n",
       "      <th>BKB</th>\n",
       "      <th>PROT</th>\n",
       "      <th>D</th>\n",
       "      <th>LSKEG</th>\n",
       "      <th>RR</th>\n",
       "      <th>XSKEG</th>\n",
       "      <th>NDES</th>\n",
       "      <th>AR</th>\n",
       "      <th>BR</th>\n",
       "      <th>BRA</th>\n",
       "      <th>IRUD</th>\n",
       "      <th>PTYPE</th>\n",
       "      <th>XRUD</th>\n",
       "      <th>AI</th>\n",
       "      <th>HSKEG</th>\n",
       "      <th>RSKEG</th>\n",
       "      <th>LOA</th>\n",
       "      <th>ship_type_id</th>\n",
       "    </tr>\n",
       "    <tr>\n",
       "      <th>run_id</th>\n",
       "      <th></th>\n",
       "      <th></th>\n",
       "      <th></th>\n",
       "      <th></th>\n",
       "      <th></th>\n",
       "      <th></th>\n",
       "      <th></th>\n",
       "      <th></th>\n",
       "      <th></th>\n",
       "      <th></th>\n",
       "      <th></th>\n",
       "      <th></th>\n",
       "      <th></th>\n",
       "      <th></th>\n",
       "      <th></th>\n",
       "      <th></th>\n",
       "      <th></th>\n",
       "      <th></th>\n",
       "      <th></th>\n",
       "      <th></th>\n",
       "      <th></th>\n",
       "      <th></th>\n",
       "      <th></th>\n",
       "      <th></th>\n",
       "      <th></th>\n",
       "      <th></th>\n",
       "      <th></th>\n",
       "      <th></th>\n",
       "      <th></th>\n",
       "      <th></th>\n",
       "      <th></th>\n",
       "      <th></th>\n",
       "      <th></th>\n",
       "      <th></th>\n",
       "      <th></th>\n",
       "      <th></th>\n",
       "      <th></th>\n",
       "      <th></th>\n",
       "      <th></th>\n",
       "      <th></th>\n",
       "      <th></th>\n",
       "      <th></th>\n",
       "      <th></th>\n",
       "      <th></th>\n",
       "      <th></th>\n",
       "      <th></th>\n",
       "      <th></th>\n",
       "      <th></th>\n",
       "      <th></th>\n",
       "      <th></th>\n",
       "      <th></th>\n",
       "      <th></th>\n",
       "      <th></th>\n",
       "      <th></th>\n",
       "      <th></th>\n",
       "      <th></th>\n",
       "      <th></th>\n",
       "      <th></th>\n",
       "      <th></th>\n",
       "      <th></th>\n",
       "      <th></th>\n",
       "      <th></th>\n",
       "      <th></th>\n",
       "      <th></th>\n",
       "      <th></th>\n",
       "      <th></th>\n",
       "      <th></th>\n",
       "      <th></th>\n",
       "      <th></th>\n",
       "      <th></th>\n",
       "      <th></th>\n",
       "      <th></th>\n",
       "      <th></th>\n",
       "      <th></th>\n",
       "      <th></th>\n",
       "      <th></th>\n",
       "      <th></th>\n",
       "      <th></th>\n",
       "      <th></th>\n",
       "      <th></th>\n",
       "      <th></th>\n",
       "      <th></th>\n",
       "      <th></th>\n",
       "      <th></th>\n",
       "      <th></th>\n",
       "    </tr>\n",
       "  </thead>\n",
       "  <tbody>\n",
       "    <tr>\n",
       "      <th>7680</th>\n",
       "      <td>3416-A</td>\n",
       "      <td>64</td>\n",
       "      <td>20.0</td>\n",
       "      <td>0.227627</td>\n",
       "      <td>0.159501</td>\n",
       "      <td>13.955745</td>\n",
       "      <td>11.001140</td>\n",
       "      <td>7.708654</td>\n",
       "      <td>674.477676</td>\n",
       "      <td>48.329751</td>\n",
       "      <td>3.735739</td>\n",
       "      <td>3.738495</td>\n",
       "      <td>0.999343</td>\n",
       "      <td>-0.144160</td>\n",
       "      <td>-0.006098</td>\n",
       "      <td>7680</td>\n",
       "      <td>20115912</td>\n",
       "      <td>10</td>\n",
       "      <td>25</td>\n",
       "      <td>1</td>\n",
       "      <td>3416-A</td>\n",
       "      <td>20115912-2-ser010-k025-100hz.asc</td>\n",
       "      <td>Kursstyrning Roll decay med fart. med annan ro...</td>\n",
       "      <td>N:\\Gamla_Projekt\\ascii_files\\20115912-2-ser010...</td>\n",
       "      <td>None</td>\n",
       "      <td>\\\\sspa.local\\gbg\\MDLdata\\Gamla_Projekt\\gamla_p...</td>\n",
       "      <td>None</td>\n",
       "      <td>2012-01-04</td>\n",
       "      <td>roll decay</td>\n",
       "      <td>MDL</td>\n",
       "      <td>None</td>\n",
       "      <td>None</td>\n",
       "      <td>Kursstyrning</td>\n",
       "      <td>20115912_DSME_156k_singleskeg_LNG</td>\n",
       "      <td>\\\\sspa.local\\gbg\\ProjektArkiv\\2011\\20115912_DS...</td>\n",
       "      <td>1.250</td>\n",
       "      <td>12.32</td>\n",
       "      <td>9.58</td>\n",
       "      <td>0.827</td>\n",
       "      <td>9.4</td>\n",
       "      <td>9.4</td>\n",
       "      <td>44.00</td>\n",
       "      <td>16.8</td>\n",
       "      <td>69.90</td>\n",
       "      <td>NaN</td>\n",
       "      <td>0.7461</td>\n",
       "      <td>85209.0</td>\n",
       "      <td>0.9906</td>\n",
       "      <td>9.6</td>\n",
       "      <td>58.7000</td>\n",
       "      <td>279.0</td>\n",
       "      <td>44.00</td>\n",
       "      <td>NaN</td>\n",
       "      <td>7.500</td>\n",
       "      <td>0.0</td>\n",
       "      <td>NaN</td>\n",
       "      <td>19.6</td>\n",
       "      <td>NaN</td>\n",
       "      <td>NaN</td>\n",
       "      <td>0.871</td>\n",
       "      <td>NaN</td>\n",
       "      <td>None</td>\n",
       "      <td>None</td>\n",
       "      <td>18818.0</td>\n",
       "      <td>1.0</td>\n",
       "      <td>NaN</td>\n",
       "      <td>66.51</td>\n",
       "      <td>0.44</td>\n",
       "      <td>NaN</td>\n",
       "      <td>8.6</td>\n",
       "      <td>NaN</td>\n",
       "      <td>NaN</td>\n",
       "      <td>NaN</td>\n",
       "      <td>78.0</td>\n",
       "      <td>65.28</td>\n",
       "      <td>NaN</td>\n",
       "      <td>NaN</td>\n",
       "      <td>1.0</td>\n",
       "      <td>1.0</td>\n",
       "      <td>NaN</td>\n",
       "      <td>None</td>\n",
       "      <td>NaN</td>\n",
       "      <td>NaN</td>\n",
       "      <td>290.0</td>\n",
       "      <td>4.0</td>\n",
       "    </tr>\n",
       "    <tr>\n",
       "      <th>14848</th>\n",
       "      <td>3541-A</td>\n",
       "      <td>107</td>\n",
       "      <td>13.0</td>\n",
       "      <td>0.088786</td>\n",
       "      <td>0.442492</td>\n",
       "      <td>6.175780</td>\n",
       "      <td>6.821454</td>\n",
       "      <td>33.996705</td>\n",
       "      <td>474.485974</td>\n",
       "      <td>76.830134</td>\n",
       "      <td>2.485112</td>\n",
       "      <td>2.488141</td>\n",
       "      <td>0.999477</td>\n",
       "      <td>-0.138416</td>\n",
       "      <td>0.006405</td>\n",
       "      <td>14848</td>\n",
       "      <td>20136522</td>\n",
       "      <td>1</td>\n",
       "      <td>32</td>\n",
       "      <td>1</td>\n",
       "      <td>3541-A</td>\n",
       "      <td>20136522-ser001-k032-100hz.asc</td>\n",
       "      <td>Kursstyrning Roll decay</td>\n",
       "      <td>N:\\Gamla_Projekt\\ascii_files\\20136522-ser001-k...</td>\n",
       "      <td>None</td>\n",
       "      <td>\\\\sspa.local\\gbg\\MDLdata\\Gamla_Projekt\\Gamla_P...</td>\n",
       "      <td>None</td>\n",
       "      <td>2014-12-29</td>\n",
       "      <td>roll decay</td>\n",
       "      <td>MDL</td>\n",
       "      <td>None</td>\n",
       "      <td>None</td>\n",
       "      <td>Kursstyrning</td>\n",
       "      <td>20136522_Hudong-Zhonghua 170k class LNGC</td>\n",
       "      <td>S:\\2013\\20136522-Hudong-Zhonghua-170k-class-LNG</td>\n",
       "      <td>-4.190</td>\n",
       "      <td>18.38</td>\n",
       "      <td>3.80</td>\n",
       "      <td>0.847</td>\n",
       "      <td>11.5</td>\n",
       "      <td>11.5</td>\n",
       "      <td>46.97</td>\n",
       "      <td>15.5</td>\n",
       "      <td>65.32</td>\n",
       "      <td>3.36</td>\n",
       "      <td>0.7669</td>\n",
       "      <td>116472.0</td>\n",
       "      <td>0.9899</td>\n",
       "      <td>8.5</td>\n",
       "      <td>55.0000</td>\n",
       "      <td>284.0</td>\n",
       "      <td>46.97</td>\n",
       "      <td>5.1</td>\n",
       "      <td>-7.665</td>\n",
       "      <td>1.0</td>\n",
       "      <td>8.4</td>\n",
       "      <td>19.8</td>\n",
       "      <td>9.2</td>\n",
       "      <td>130.0</td>\n",
       "      <td>0.991</td>\n",
       "      <td>0.00</td>\n",
       "      <td>None</td>\n",
       "      <td>None</td>\n",
       "      <td>20000.0</td>\n",
       "      <td>1.0</td>\n",
       "      <td>NaN</td>\n",
       "      <td>92.13</td>\n",
       "      <td>0.43</td>\n",
       "      <td>3.0</td>\n",
       "      <td>8.3</td>\n",
       "      <td>28.0</td>\n",
       "      <td>2.32</td>\n",
       "      <td>-123.0</td>\n",
       "      <td>67.8</td>\n",
       "      <td>49.40</td>\n",
       "      <td>0.0</td>\n",
       "      <td>0.0</td>\n",
       "      <td>2.0</td>\n",
       "      <td>1.0</td>\n",
       "      <td>-142.0</td>\n",
       "      <td>None</td>\n",
       "      <td>7.7</td>\n",
       "      <td>58.0</td>\n",
       "      <td>290.0</td>\n",
       "      <td>4.0</td>\n",
       "    </tr>\n",
       "    <tr>\n",
       "      <th>19968</th>\n",
       "      <td>M3653-A</td>\n",
       "      <td>152</td>\n",
       "      <td>18.5</td>\n",
       "      <td>0.220901</td>\n",
       "      <td>0.237796</td>\n",
       "      <td>8.327022</td>\n",
       "      <td>11.855481</td>\n",
       "      <td>12.762236</td>\n",
       "      <td>446.900757</td>\n",
       "      <td>53.668737</td>\n",
       "      <td>2.885658</td>\n",
       "      <td>2.890265</td>\n",
       "      <td>0.997549</td>\n",
       "      <td>0.141096</td>\n",
       "      <td>0.012100</td>\n",
       "      <td>19968</td>\n",
       "      <td>20167796</td>\n",
       "      <td>1</td>\n",
       "      <td>29</td>\n",
       "      <td>1</td>\n",
       "      <td>M3653-A</td>\n",
       "      <td>20167796-ser001-k029-100hz.asc</td>\n",
       "      <td>Kursstyrning Roll decay</td>\n",
       "      <td>N:\\Gamla_Projekt\\ascii_files\\20167796-ser001-k...</td>\n",
       "      <td>None</td>\n",
       "      <td>\\\\sspa.local\\gbg\\MDLdata\\Gamla_Projekt\\Gamla_P...</td>\n",
       "      <td>None</td>\n",
       "      <td>2016-05-12</td>\n",
       "      <td>roll decay</td>\n",
       "      <td>MDL</td>\n",
       "      <td>None</td>\n",
       "      <td>None</td>\n",
       "      <td>Kursstyrning</td>\n",
       "      <td>20167796-DSME-180k-twin-skeg-LNGC</td>\n",
       "      <td>S:\\2016\\20167796-DSME-180k-twin-skeg-LNGC</td>\n",
       "      <td>-5.250</td>\n",
       "      <td>17.53</td>\n",
       "      <td>4.90</td>\n",
       "      <td>NaN</td>\n",
       "      <td>11.5</td>\n",
       "      <td>11.5</td>\n",
       "      <td>NaN</td>\n",
       "      <td>NaN</td>\n",
       "      <td>NaN</td>\n",
       "      <td>NaN</td>\n",
       "      <td>NaN</td>\n",
       "      <td>120490.0</td>\n",
       "      <td>NaN</td>\n",
       "      <td>NaN</td>\n",
       "      <td>60.0000</td>\n",
       "      <td>291.5</td>\n",
       "      <td>47.90</td>\n",
       "      <td>NaN</td>\n",
       "      <td>NaN</td>\n",
       "      <td>NaN</td>\n",
       "      <td>NaN</td>\n",
       "      <td>NaN</td>\n",
       "      <td>NaN</td>\n",
       "      <td>NaN</td>\n",
       "      <td>NaN</td>\n",
       "      <td>NaN</td>\n",
       "      <td>None</td>\n",
       "      <td>None</td>\n",
       "      <td>NaN</td>\n",
       "      <td>NaN</td>\n",
       "      <td>NaN</td>\n",
       "      <td>NaN</td>\n",
       "      <td>NaN</td>\n",
       "      <td>NaN</td>\n",
       "      <td>NaN</td>\n",
       "      <td>NaN</td>\n",
       "      <td>NaN</td>\n",
       "      <td>NaN</td>\n",
       "      <td>NaN</td>\n",
       "      <td>NaN</td>\n",
       "      <td>NaN</td>\n",
       "      <td>NaN</td>\n",
       "      <td>NaN</td>\n",
       "      <td>NaN</td>\n",
       "      <td>NaN</td>\n",
       "      <td>None</td>\n",
       "      <td>NaN</td>\n",
       "      <td>NaN</td>\n",
       "      <td>NaN</td>\n",
       "      <td>NaN</td>\n",
       "    </tr>\n",
       "    <tr>\n",
       "      <th>20485</th>\n",
       "      <td>M5044-01-A</td>\n",
       "      <td>159</td>\n",
       "      <td>0.0</td>\n",
       "      <td>0.059651</td>\n",
       "      <td>0.121928</td>\n",
       "      <td>9.916353</td>\n",
       "      <td>4.411278</td>\n",
       "      <td>9.016756</td>\n",
       "      <td>733.327006</td>\n",
       "      <td>73.951280</td>\n",
       "      <td>3.149024</td>\n",
       "      <td>3.154159</td>\n",
       "      <td>0.997167</td>\n",
       "      <td>0.155019</td>\n",
       "      <td>-0.003700</td>\n",
       "      <td>20485</td>\n",
       "      <td>20168119</td>\n",
       "      <td>101</td>\n",
       "      <td>10</td>\n",
       "      <td>1</td>\n",
       "      <td>M5044-01-A</td>\n",
       "      <td>20168119-ser101-k010-100hz.asc</td>\n",
       "      <td>Kursstyrning Roll decay</td>\n",
       "      <td>N:\\Gamla_Projekt\\ascii_files\\20168119-ser101-k...</td>\n",
       "      <td>None</td>\n",
       "      <td>\\\\sspa.local\\gbg\\MDLdata\\Gamla_Projekt\\Gamla_P...</td>\n",
       "      <td>None</td>\n",
       "      <td>2017-02-23</td>\n",
       "      <td>roll decay</td>\n",
       "      <td>MDL</td>\n",
       "      <td>None</td>\n",
       "      <td>None</td>\n",
       "      <td>Kursstyrning</td>\n",
       "      <td>20168119-DSME-Tanker-Series-Additional-Tests</td>\n",
       "      <td>S:\\2016\\20168119-DSME-Tanker-Series-Additional...</td>\n",
       "      <td>7.840</td>\n",
       "      <td>14.68</td>\n",
       "      <td>5.89</td>\n",
       "      <td>NaN</td>\n",
       "      <td>16.0</td>\n",
       "      <td>16.0</td>\n",
       "      <td>NaN</td>\n",
       "      <td>NaN</td>\n",
       "      <td>NaN</td>\n",
       "      <td>NaN</td>\n",
       "      <td>NaN</td>\n",
       "      <td>164482.0</td>\n",
       "      <td>NaN</td>\n",
       "      <td>NaN</td>\n",
       "      <td>60.0000</td>\n",
       "      <td>266.0</td>\n",
       "      <td>48.00</td>\n",
       "      <td>NaN</td>\n",
       "      <td>NaN</td>\n",
       "      <td>NaN</td>\n",
       "      <td>NaN</td>\n",
       "      <td>NaN</td>\n",
       "      <td>NaN</td>\n",
       "      <td>NaN</td>\n",
       "      <td>NaN</td>\n",
       "      <td>NaN</td>\n",
       "      <td>None</td>\n",
       "      <td>None</td>\n",
       "      <td>NaN</td>\n",
       "      <td>NaN</td>\n",
       "      <td>NaN</td>\n",
       "      <td>NaN</td>\n",
       "      <td>NaN</td>\n",
       "      <td>NaN</td>\n",
       "      <td>NaN</td>\n",
       "      <td>NaN</td>\n",
       "      <td>NaN</td>\n",
       "      <td>NaN</td>\n",
       "      <td>NaN</td>\n",
       "      <td>NaN</td>\n",
       "      <td>NaN</td>\n",
       "      <td>NaN</td>\n",
       "      <td>NaN</td>\n",
       "      <td>NaN</td>\n",
       "      <td>NaN</td>\n",
       "      <td>None</td>\n",
       "      <td>NaN</td>\n",
       "      <td>NaN</td>\n",
       "      <td>NaN</td>\n",
       "      <td>NaN</td>\n",
       "    </tr>\n",
       "    <tr>\n",
       "      <th>2570</th>\n",
       "      <td>3239-A</td>\n",
       "      <td>14</td>\n",
       "      <td>0.1</td>\n",
       "      <td>0.017279</td>\n",
       "      <td>0.525094</td>\n",
       "      <td>5.870454</td>\n",
       "      <td>1.869850</td>\n",
       "      <td>56.822711</td>\n",
       "      <td>635.267667</td>\n",
       "      <td>108.214410</td>\n",
       "      <td>2.422902</td>\n",
       "      <td>2.425310</td>\n",
       "      <td>0.999079</td>\n",
       "      <td>-0.151823</td>\n",
       "      <td>0.015199</td>\n",
       "      <td>2570</td>\n",
       "      <td>20074477</td>\n",
       "      <td>1</td>\n",
       "      <td>27</td>\n",
       "      <td>1</td>\n",
       "      <td>3239-A</td>\n",
       "      <td>20074477-ser001-k027-100hz.asc</td>\n",
       "      <td>Kursstyrning Roll decay</td>\n",
       "      <td>N:\\Gamla_Projekt\\ascii_files\\20074477-ser001-k...</td>\n",
       "      <td>None</td>\n",
       "      <td>\\\\sspa.local\\gbg\\MDLdata\\Gamla_Projekt\\gamla_p...</td>\n",
       "      <td>None</td>\n",
       "      <td>2007-11-20</td>\n",
       "      <td>roll decay</td>\n",
       "      <td>MDL</td>\n",
       "      <td>None</td>\n",
       "      <td>None</td>\n",
       "      <td>Kursstyrning</td>\n",
       "      <td>20074477</td>\n",
       "      <td>\\\\sspa.local\\gbg\\ProjektArkiv\\2007\\20074477</td>\n",
       "      <td>-0.953</td>\n",
       "      <td>17.40</td>\n",
       "      <td>3.89</td>\n",
       "      <td>0.843</td>\n",
       "      <td>11.5</td>\n",
       "      <td>11.5</td>\n",
       "      <td>45.80</td>\n",
       "      <td>15.1</td>\n",
       "      <td>66.20</td>\n",
       "      <td>2.44</td>\n",
       "      <td>0.7566</td>\n",
       "      <td>114188.0</td>\n",
       "      <td>0.9900</td>\n",
       "      <td>11.2</td>\n",
       "      <td>51.1765</td>\n",
       "      <td>288.0</td>\n",
       "      <td>45.80</td>\n",
       "      <td>49.0</td>\n",
       "      <td>1.000</td>\n",
       "      <td>0.0</td>\n",
       "      <td>0.0</td>\n",
       "      <td>19.5</td>\n",
       "      <td>11.4</td>\n",
       "      <td>120.0</td>\n",
       "      <td>0.800</td>\n",
       "      <td>16.66</td>\n",
       "      <td>None</td>\n",
       "      <td>None</td>\n",
       "      <td>NaN</td>\n",
       "      <td>1.0</td>\n",
       "      <td>NaN</td>\n",
       "      <td>90.55</td>\n",
       "      <td>0.40</td>\n",
       "      <td>1.0</td>\n",
       "      <td>8.7</td>\n",
       "      <td>24.0</td>\n",
       "      <td>2.32</td>\n",
       "      <td>-127.0</td>\n",
       "      <td>78.5</td>\n",
       "      <td>81.34</td>\n",
       "      <td>0.0</td>\n",
       "      <td>0.0</td>\n",
       "      <td>1.0</td>\n",
       "      <td>1.0</td>\n",
       "      <td>-144.0</td>\n",
       "      <td>None</td>\n",
       "      <td>7.1</td>\n",
       "      <td>8.7</td>\n",
       "      <td>300.0</td>\n",
       "      <td>4.0</td>\n",
       "    </tr>\n",
       "  </tbody>\n",
       "</table>\n",
       "</div>"
      ],
      "text/plain": [
       "       model_number  loading_condition_id  ship_speed      B_1A      B_2A  \\\n",
       "run_id                                                                      \n",
       "7680         3416-A                    64        20.0  0.227627  0.159501   \n",
       "14848        3541-A                   107        13.0  0.088786  0.442492   \n",
       "19968       M3653-A                   152        18.5  0.220901  0.237796   \n",
       "20485    M5044-01-A                   159         0.0  0.059651  0.121928   \n",
       "2570         3239-A                    14         0.1  0.017279  0.525094   \n",
       "\n",
       "             C_1A        B_1        B_2         C_1        A_44    omega0  \\\n",
       "run_id                                                                      \n",
       "7680    13.955745  11.001140   7.708654  674.477676   48.329751  3.735739   \n",
       "14848    6.175780   6.821454  33.996705  474.485974   76.830134  2.485112   \n",
       "19968    8.327022  11.855481  12.762236  446.900757   53.668737  2.885658   \n",
       "20485    9.916353   4.411278   9.016756  733.327006   73.951280  3.149024   \n",
       "2570     5.870454   1.869850  56.822711  635.267667  108.214410  2.422902   \n",
       "\n",
       "        omega0_fft     score  phi_start  phi_stop     id  project_number  \\\n",
       "run_id                                                                     \n",
       "7680      3.738495  0.999343  -0.144160 -0.006098   7680        20115912   \n",
       "14848     2.488141  0.999477  -0.138416  0.006405  14848        20136522   \n",
       "19968     2.890265  0.997549   0.141096  0.012100  19968        20167796   \n",
       "20485     3.154159  0.997167   0.155019 -0.003700  20485        20168119   \n",
       "2570      2.425310  0.999079  -0.151823  0.015199   2570        20074477   \n",
       "\n",
       "        series_number  run_number  test_number   ship_name  \\\n",
       "run_id                                                       \n",
       "7680               10          25            1      3416-A   \n",
       "14848               1          32            1      3541-A   \n",
       "19968               1          29            1     M3653-A   \n",
       "20485             101          10            1  M5044-01-A   \n",
       "2570                1          27            1      3239-A   \n",
       "\n",
       "                              ascii_name  \\\n",
       "run_id                                     \n",
       "7680    20115912-2-ser010-k025-100hz.asc   \n",
       "14848     20136522-ser001-k032-100hz.asc   \n",
       "19968     20167796-ser001-k029-100hz.asc   \n",
       "20485     20168119-ser101-k010-100hz.asc   \n",
       "2570      20074477-ser001-k027-100hz.asc   \n",
       "\n",
       "                                                  comment  \\\n",
       "run_id                                                      \n",
       "7680    Kursstyrning Roll decay med fart. med annan ro...   \n",
       "14848                             Kursstyrning Roll decay   \n",
       "19968                             Kursstyrning Roll decay   \n",
       "20485                             Kursstyrning Roll decay   \n",
       "2570                             Kursstyrning Roll decay    \n",
       "\n",
       "                                          file_path_ascii  \\\n",
       "run_id                                                      \n",
       "7680    N:\\Gamla_Projekt\\ascii_files\\20115912-2-ser010...   \n",
       "14848   N:\\Gamla_Projekt\\ascii_files\\20136522-ser001-k...   \n",
       "19968   N:\\Gamla_Projekt\\ascii_files\\20167796-ser001-k...   \n",
       "20485   N:\\Gamla_Projekt\\ascii_files\\20168119-ser101-k...   \n",
       "2570    N:\\Gamla_Projekt\\ascii_files\\20074477-ser001-k...   \n",
       "\n",
       "       file_path_ascii_temp  \\\n",
       "run_id                        \n",
       "7680                   None   \n",
       "14848                  None   \n",
       "19968                  None   \n",
       "20485                  None   \n",
       "2570                   None   \n",
       "\n",
       "                                            file_path_log file_path_hdf5  \\\n",
       "run_id                                                                     \n",
       "7680    \\\\sspa.local\\gbg\\MDLdata\\Gamla_Projekt\\gamla_p...           None   \n",
       "14848   \\\\sspa.local\\gbg\\MDLdata\\Gamla_Projekt\\Gamla_P...           None   \n",
       "19968   \\\\sspa.local\\gbg\\MDLdata\\Gamla_Projekt\\Gamla_P...           None   \n",
       "20485   \\\\sspa.local\\gbg\\MDLdata\\Gamla_Projekt\\Gamla_P...           None   \n",
       "2570    \\\\sspa.local\\gbg\\MDLdata\\Gamla_Projekt\\gamla_p...           None   \n",
       "\n",
       "              date   test_type facility angle1 angle2   Körfallstyp  \\\n",
       "run_id                                                                \n",
       "7680    2012-01-04  roll decay      MDL   None   None  Kursstyrning   \n",
       "14848   2014-12-29  roll decay      MDL   None   None  Kursstyrning   \n",
       "19968   2016-05-12  roll decay      MDL   None   None  Kursstyrning   \n",
       "20485   2017-02-23  roll decay      MDL   None   None  Kursstyrning   \n",
       "2570    2007-11-20  roll decay      MDL   None   None  Kursstyrning   \n",
       "\n",
       "                                                name  \\\n",
       "run_id                                                 \n",
       "7680               20115912_DSME_156k_singleskeg_LNG   \n",
       "14848       20136522_Hudong-Zhonghua 170k class LNGC   \n",
       "19968              20167796-DSME-180k-twin-skeg-LNGC   \n",
       "20485   20168119-DSME-Tanker-Series-Additional-Tests   \n",
       "2570                                        20074477   \n",
       "\n",
       "                                             project_path    lcg     kg    gm  \\\n",
       "run_id                                                                          \n",
       "7680    \\\\sspa.local\\gbg\\ProjektArkiv\\2011\\20115912_DS...  1.250  12.32  9.58   \n",
       "14848     S:\\2013\\20136522-Hudong-Zhonghua-170k-class-LNG -4.190  18.38  3.80   \n",
       "19968           S:\\2016\\20167796-DSME-180k-twin-skeg-LNGC -5.250  17.53  4.90   \n",
       "20485   S:\\2016\\20168119-DSME-Tanker-Series-Additional...  7.840  14.68  5.89   \n",
       "2570          \\\\sspa.local\\gbg\\ProjektArkiv\\2007\\20074477 -0.953  17.40  3.89   \n",
       "\n",
       "           CW    TF    TA    BWL   KXX    KZZ  BTT1      CP    Volume      A0  \\\n",
       "run_id                                                                          \n",
       "7680    0.827   9.4   9.4  44.00  16.8  69.90   NaN  0.7461   85209.0  0.9906   \n",
       "14848   0.847  11.5  11.5  46.97  15.5  65.32  3.36  0.7669  116472.0  0.9899   \n",
       "19968     NaN  11.5  11.5    NaN   NaN    NaN   NaN     NaN  120490.0     NaN   \n",
       "20485     NaN  16.0  16.0    NaN   NaN    NaN   NaN     NaN  164482.0     NaN   \n",
       "2570    0.843  11.5  11.5  45.80  15.1  66.20  2.44  0.7566  114188.0  0.9900   \n",
       "\n",
       "          RH  scale_factor    lpp   beam  ABULB    BKX  TWIN  DCLR  VDES  \\\n",
       "run_id                                                                     \n",
       "7680     9.6       58.7000  279.0  44.00    NaN  7.500   0.0   NaN  19.6   \n",
       "14848    8.5       55.0000  284.0  46.97    5.1 -7.665   1.0   8.4  19.8   \n",
       "19968    NaN       60.0000  291.5  47.90    NaN    NaN   NaN   NaN   NaN   \n",
       "20485    NaN       60.0000  266.0  48.00    NaN    NaN   NaN   NaN   NaN   \n",
       "2570    11.2       51.1765  288.0  45.80   49.0  1.000   0.0   0.0  19.5   \n",
       "\n",
       "        RHBL  ASKEG     PD    ARH   CFP   AIX   PDTDES  RTYPE  SFP    BKL  \\\n",
       "run_id                                                                      \n",
       "7680     NaN    NaN  0.871    NaN  None  None  18818.0    1.0  NaN  66.51   \n",
       "14848    9.2  130.0  0.991   0.00  None  None  20000.0    1.0  NaN  92.13   \n",
       "19968    NaN    NaN    NaN    NaN  None  None      NaN    NaN  NaN    NaN   \n",
       "20485    NaN    NaN    NaN    NaN  None  None      NaN    NaN  NaN    NaN   \n",
       "2570    11.4  120.0  0.800  16.66  None  None      NaN    1.0  NaN  90.55   \n",
       "\n",
       "         BKB  PROT    D  LSKEG    RR  XSKEG  NDES     AR   BR  BRA  IRUD  \\\n",
       "run_id                                                                     \n",
       "7680    0.44   NaN  8.6    NaN   NaN    NaN  78.0  65.28  NaN  NaN   1.0   \n",
       "14848   0.43   3.0  8.3   28.0  2.32 -123.0  67.8  49.40  0.0  0.0   2.0   \n",
       "19968    NaN   NaN  NaN    NaN   NaN    NaN   NaN    NaN  NaN  NaN   NaN   \n",
       "20485    NaN   NaN  NaN    NaN   NaN    NaN   NaN    NaN  NaN  NaN   NaN   \n",
       "2570    0.40   1.0  8.7   24.0  2.32 -127.0  78.5  81.34  0.0  0.0   1.0   \n",
       "\n",
       "        PTYPE   XRUD    AI  HSKEG  RSKEG    LOA  ship_type_id  \n",
       "run_id                                                         \n",
       "7680      1.0    NaN  None    NaN    NaN  290.0           4.0  \n",
       "14848     1.0 -142.0  None    7.7   58.0  290.0           4.0  \n",
       "19968     NaN    NaN  None    NaN    NaN    NaN           NaN  \n",
       "20485     NaN    NaN  None    NaN    NaN    NaN           NaN  \n",
       "2570      1.0 -144.0  None    7.1    8.7  300.0           4.0  "
      ]
     },
     "execution_count": 9,
     "metadata": {},
     "output_type": "execute_result"
    }
   ],
   "source": [
    "df_rolldecay.head()"
   ]
  },
  {
   "cell_type": "code",
   "execution_count": 10,
   "metadata": {
    "scrolled": false
   },
   "outputs": [
    {
     "data": {
      "text/html": [
       "<div>\n",
       "<style scoped>\n",
       "    .dataframe tbody tr th:only-of-type {\n",
       "        vertical-align: middle;\n",
       "    }\n",
       "\n",
       "    .dataframe tbody tr th {\n",
       "        vertical-align: top;\n",
       "    }\n",
       "\n",
       "    .dataframe thead th {\n",
       "        text-align: right;\n",
       "    }\n",
       "</style>\n",
       "<table border=\"1\" class=\"dataframe\">\n",
       "  <thead>\n",
       "    <tr style=\"text-align: right;\">\n",
       "      <th></th>\n",
       "      <th>B_1A</th>\n",
       "      <th>B_2A</th>\n",
       "      <th>C_1A</th>\n",
       "    </tr>\n",
       "  </thead>\n",
       "  <tbody>\n",
       "    <tr>\n",
       "      <th>count</th>\n",
       "      <td>2.220000e+02</td>\n",
       "      <td>222.000000</td>\n",
       "      <td>222.000000</td>\n",
       "    </tr>\n",
       "    <tr>\n",
       "      <th>mean</th>\n",
       "      <td>1.425475e-01</td>\n",
       "      <td>0.281687</td>\n",
       "      <td>9.042803</td>\n",
       "    </tr>\n",
       "    <tr>\n",
       "      <th>std</th>\n",
       "      <td>1.071491e-01</td>\n",
       "      <td>0.258985</td>\n",
       "      <td>4.378310</td>\n",
       "    </tr>\n",
       "    <tr>\n",
       "      <th>min</th>\n",
       "      <td>6.451552e-18</td>\n",
       "      <td>-0.662927</td>\n",
       "      <td>1.539731</td>\n",
       "    </tr>\n",
       "    <tr>\n",
       "      <th>25%</th>\n",
       "      <td>5.792787e-02</td>\n",
       "      <td>0.144445</td>\n",
       "      <td>5.915274</td>\n",
       "    </tr>\n",
       "    <tr>\n",
       "      <th>50%</th>\n",
       "      <td>1.167264e-01</td>\n",
       "      <td>0.241128</td>\n",
       "      <td>8.312634</td>\n",
       "    </tr>\n",
       "    <tr>\n",
       "      <th>75%</th>\n",
       "      <td>2.092812e-01</td>\n",
       "      <td>0.371055</td>\n",
       "      <td>11.348254</td>\n",
       "    </tr>\n",
       "    <tr>\n",
       "      <th>max</th>\n",
       "      <td>5.570938e-01</td>\n",
       "      <td>1.956472</td>\n",
       "      <td>25.363015</td>\n",
       "    </tr>\n",
       "  </tbody>\n",
       "</table>\n",
       "</div>"
      ],
      "text/plain": [
       "               B_1A        B_2A        C_1A\n",
       "count  2.220000e+02  222.000000  222.000000\n",
       "mean   1.425475e-01    0.281687    9.042803\n",
       "std    1.071491e-01    0.258985    4.378310\n",
       "min    6.451552e-18   -0.662927    1.539731\n",
       "25%    5.792787e-02    0.144445    5.915274\n",
       "50%    1.167264e-01    0.241128    8.312634\n",
       "75%    2.092812e-01    0.371055   11.348254\n",
       "max    5.570938e-01    1.956472   25.363015"
      ]
     },
     "execution_count": 10,
     "metadata": {},
     "output_type": "execute_result"
    }
   ],
   "source": [
    "interesting = ['B_1A','B_2A','C_1A']\n",
    "df_rolldecay[interesting].describe()"
   ]
  },
  {
   "cell_type": "code",
   "execution_count": 11,
   "metadata": {},
   "outputs": [
    {
     "data": {
      "text/plain": [
       "0.11672637102335451"
      ]
     },
     "execution_count": 11,
     "metadata": {},
     "output_type": "execute_result"
    }
   ],
   "source": [
    "B_1A = df_rolldecay['B_1A'].median()\n",
    "B_1A"
   ]
  },
  {
   "cell_type": "code",
   "execution_count": 12,
   "metadata": {},
   "outputs": [],
   "source": [
    "index = (df_rolldecay['B_1A']-B_1A).abs().argmin()\n",
    "row = df_rolldecay.iloc[index]"
   ]
  },
  {
   "cell_type": "code",
   "execution_count": 13,
   "metadata": {},
   "outputs": [
    {
     "data": {
      "text/plain": [
       "0.118067357553941"
      ]
     },
     "execution_count": 13,
     "metadata": {},
     "output_type": "execute_result"
    }
   ],
   "source": [
    "row['B_1A']"
   ]
  },
  {
   "cell_type": "code",
   "execution_count": 14,
   "metadata": {},
   "outputs": [],
   "source": [
    "B_max_ratio = (df_rolldecay['B_2A']/df_rolldecay['B_1A']).abs().quantile(0.95)"
   ]
  },
  {
   "cell_type": "code",
   "execution_count": 15,
   "metadata": {},
   "outputs": [],
   "source": [
    "N=100000\n",
    "A_44 = 2.2\n",
    "B_1 = row['B_1A']*A_44\n",
    "C_1 = row['C_1A']*A_44\n",
    "\n",
    "simulations = {\n",
    "}\n",
    "\n",
    "N= 15\n",
    "B_2_max = B_max_ratio*B_1\n",
    "B_2s = np.linspace(0,B_2_max,N)\n",
    "for B_2 in B_2s:\n",
    "    simulations[B_2]=RollDecayQuadratic(A_44=A_44, B_1=B_1, B_2=B_2, C_1=C_1)"
   ]
  },
  {
   "cell_type": "code",
   "execution_count": 16,
   "metadata": {},
   "outputs": [
    {
     "data": {
      "text/latex": [
       "$\\displaystyle C = GM g m$"
      ],
      "text/plain": [
       "Eq(C, GM*g*m)"
      ]
     },
     "execution_count": 16,
     "metadata": {},
     "output_type": "execute_result"
    }
   ],
   "source": [
    "equations.C_equation_linear"
   ]
  },
  {
   "cell_type": "code",
   "execution_count": 17,
   "metadata": {},
   "outputs": [
    {
     "data": {
      "text/latex": [
       "$\\displaystyle A_{44} = \\frac{GM g m}{\\omega_{0}^{2}}$"
      ],
      "text/plain": [
       "Eq(A_44, GM*g*m/omega0**2)"
      ]
     },
     "execution_count": 17,
     "metadata": {},
     "output_type": "execute_result"
    }
   ],
   "source": [
    "A_44_eq = sp.Eq(symbols.A_44, equations.A44)\n",
    "A_44_eq"
   ]
  },
  {
   "cell_type": "code",
   "execution_count": 18,
   "metadata": {},
   "outputs": [
    {
     "data": {
      "text/latex": [
       "$\\displaystyle \\omega_{0} = \\sqrt{\\frac{C}{A_{44}}}$"
      ],
      "text/plain": [
       "Eq(omega0, sqrt(C/A_44))"
      ]
     },
     "execution_count": 18,
     "metadata": {},
     "output_type": "execute_result"
    }
   ],
   "source": [
    "eqs = [\n",
    "    A_44_eq,\n",
    "    equations.C_equation_linear,\n",
    "\n",
    "]\n",
    "omega0_eq = sp.Eq(symbols.omega0,sp.solve(eqs, symbols.omega0, symbols.GM)[1][0])\n",
    "omega0_eq"
   ]
  },
  {
   "cell_type": "code",
   "execution_count": 19,
   "metadata": {},
   "outputs": [],
   "source": [
    "omega0 = np.sqrt(C_1/A_44)\n",
    "N_oscillations=10\n",
    "t = np.arange(0,2*np.pi/omega0*N_oscillations,0.01)\n",
    "phi0=np.deg2rad(10)\n",
    "phi1d0 = 0\n",
    "initial_state = [phi0,phi1d0]\n",
    "\n",
    "\n",
    "results = {}\n",
    "X_amplitudes = {}\n",
    "for name,simulation in simulations.items():\n",
    "    \n",
    "    df_result = simulation.simulate(t=t, phi0=phi0, phi1d0=phi1d0)\n",
    "    \n",
    "    results[name]=df_result\n",
    "    X_amplitudes[name]=rolldecayestimators.measure.calculate_amplitudes_and_damping(X=df_result)"
   ]
  },
  {
   "cell_type": "code",
   "execution_count": 20,
   "metadata": {
    "scrolled": true
   },
   "outputs": [],
   "source": [
    "#for name in results.keys():\n",
    "#    fig,ax=plt.subplots()\n",
    "#    df_result = results[name]\n",
    "#    amplitudes = X_amplitudes[name]\n",
    "#    df_result.plot(y='phi',ax=ax)\n",
    "#    amplitudes.plot(y='phi_a', ax=ax)\n",
    "#    ax.grid(True)\n",
    "#    ax.set_title(name)"
   ]
  },
  {
   "cell_type": "markdown",
   "metadata": {},
   "source": [
    "## $B_e$ from anayltica solution"
   ]
  },
  {
   "cell_type": "code",
   "execution_count": 21,
   "metadata": {},
   "outputs": [
    {
     "data": {
      "text/latex": [
       "$\\displaystyle 2 \\delta \\omega_{0} \\dot{y} + \\omega_{0}^{2} y + \\ddot{y} = 0$"
      ],
      "text/plain": [
       "<IPython.core.display.Math object>"
      ]
     },
     "execution_count": 21,
     "metadata": {},
     "output_type": "execute_result"
    }
   ],
   "source": [
    "Math(vlatex(equations.diff_eq))"
   ]
  },
  {
   "cell_type": "code",
   "execution_count": 22,
   "metadata": {
    "scrolled": true
   },
   "outputs": [
    {
     "data": {
      "text/latex": [
       "$\\displaystyle \\phi = \\left(\\left(\\frac{\\zeta \\phi_{0}}{\\sqrt{1 - \\zeta^{2}}} + \\frac{\\dot{\\phi}_{0}}{\\omega_{0} \\sqrt{1 - \\zeta^{2}}}\\right) \\operatorname{sin}\\left(\\omega_{0} t \\sqrt{1 - \\zeta^{2}}\\right) + \\phi_{0} \\operatorname{cos}\\left(\\omega_{0} t \\sqrt{1 - \\zeta^{2}}\\right)\\right) e^{- \\omega_{0} t \\zeta}$"
      ],
      "text/plain": [
       "<IPython.core.display.Math object>"
      ]
     },
     "execution_count": 22,
     "metadata": {},
     "output_type": "execute_result"
    }
   ],
   "source": [
    "Math(vlatex(equations.analytical_solution))"
   ]
  },
  {
   "cell_type": "code",
   "execution_count": 23,
   "metadata": {},
   "outputs": [
    {
     "data": {
      "text/latex": [
       "$\\displaystyle \\phi = \\frac{\\left(\\zeta \\operatorname{sin}\\left(\\omega_{0} t \\sqrt{1 - \\zeta^{2}}\\right) + \\sqrt{1 - \\zeta^{2}} \\operatorname{cos}\\left(\\omega_{0} t \\sqrt{1 - \\zeta^{2}}\\right)\\right) \\phi_{0} e^{- \\omega_{0} t \\zeta}}{\\sqrt{1 - \\zeta^{2}}}$"
      ],
      "text/plain": [
       "<IPython.core.display.Math object>"
      ]
     },
     "execution_count": 23,
     "metadata": {},
     "output_type": "execute_result"
    }
   ],
   "source": [
    "no_initial_speed = sp.simplify(equations.analytical_solution.subs(symbols.phi_0_dot,0))\n",
    "Math(vlatex(no_initial_speed))"
   ]
  },
  {
   "cell_type": "code",
   "execution_count": 24,
   "metadata": {},
   "outputs": [
    {
     "data": {
      "text/latex": [
       "$\\displaystyle \\phi = \\phi_{0} e^{- \\omega_{0} t \\zeta} \\operatorname{cos}\\left(\\omega_{0} t\\right)$"
      ],
      "text/plain": [
       "<IPython.core.display.Math object>"
      ]
     },
     "execution_count": 24,
     "metadata": {},
     "output_type": "execute_result"
    }
   ],
   "source": [
    "no_initial_speed_zeta_small = no_initial_speed.subs(\n",
    "    [(sp.sqrt(1-symbols.zeta**2),1),\n",
    "     (symbols.zeta*sp.sin(symbols.omega0*symbols.t),0),\n",
    "    ])\n",
    "Math(vlatex(no_initial_speed_zeta_small))"
   ]
  },
  {
   "cell_type": "code",
   "execution_count": 25,
   "metadata": {},
   "outputs": [
    {
     "data": {
      "text/latex": [
       "$\\displaystyle B_{1} = 2 A_{44} \\omega_{0} \\zeta$"
      ],
      "text/plain": [
       "Eq(B_1, 2*A_44*omega0*zeta)"
      ]
     },
     "execution_count": 25,
     "metadata": {},
     "output_type": "execute_result"
    }
   ],
   "source": [
    "B_1_zeta_eq = sp.Eq(symbols.B_1, 2*symbols.zeta*symbols.omega0*symbols.A_44)\n",
    "B_1_zeta_eq"
   ]
  },
  {
   "cell_type": "code",
   "execution_count": 26,
   "metadata": {},
   "outputs": [
    {
     "data": {
      "text/latex": [
       "$\\displaystyle \\phi{\\left(t \\right)} = \\frac{\\left(4 A_{44}^{2} \\omega_{0}^{2} \\phi_{0}{\\left(t \\right)} \\cos{\\left(\\frac{\\omega_{0} t \\sqrt{4 - \\frac{B_{1}^{2}}{A_{44}^{2} \\omega_{0}^{2}}}}{2} \\right)} + 2 A_{44}^{2} \\omega_{0} \\sqrt{4 - \\frac{B_{1}^{2}}{A_{44}^{2} \\omega_{0}^{2}}} \\sin{\\left(\\frac{\\omega_{0} t \\sqrt{4 - \\frac{B_{1}^{2}}{A_{44}^{2} \\omega_{0}^{2}}}}{2} \\right)} \\frac{d}{d t} \\phi_{0}{\\left(t \\right)} + A_{44} B_{1} \\omega_{0} \\sqrt{4 - \\frac{B_{1}^{2}}{A_{44}^{2} \\omega_{0}^{2}}} \\phi_{0}{\\left(t \\right)} \\sin{\\left(\\frac{\\omega_{0} t \\sqrt{4 - \\frac{B_{1}^{2}}{A_{44}^{2} \\omega_{0}^{2}}}}{2} \\right)} - B_{1}^{2} \\phi_{0}{\\left(t \\right)} \\cos{\\left(\\frac{\\omega_{0} t \\sqrt{4 - \\frac{B_{1}^{2}}{A_{44}^{2} \\omega_{0}^{2}}}}{2} \\right)}\\right) e^{- \\frac{B_{1} t}{2 A_{44}}}}{4 A_{44}^{2} \\omega_{0}^{2} - B_{1}^{2}}$"
      ],
      "text/plain": [
       "Eq(phi(t), (4*A_44**2*omega0**2*phi_0(t)*cos(omega0*t*sqrt(4 - B_1**2/(A_44**2*omega0**2))/2) + 2*A_44**2*omega0*sqrt(4 - B_1**2/(A_44**2*omega0**2))*sin(omega0*t*sqrt(4 - B_1**2/(A_44**2*omega0**2))/2)*Derivative(phi_0(t), t) + A_44*B_1*omega0*sqrt(4 - B_1**2/(A_44**2*omega0**2))*phi_0(t)*sin(omega0*t*sqrt(4 - B_1**2/(A_44**2*omega0**2))/2) - B_1**2*phi_0(t)*cos(omega0*t*sqrt(4 - B_1**2/(A_44**2*omega0**2))/2))*exp(-B_1*t/(2*A_44))/(4*A_44**2*omega0**2 - B_1**2))"
      ]
     },
     "execution_count": 26,
     "metadata": {},
     "output_type": "execute_result"
    }
   ],
   "source": [
    "eqs = [\n",
    "    B_1_zeta_eq,    \n",
    "    equations.analytical_solution,\n",
    "      ]\n",
    "\n",
    "analytical_solution_B_1 = sp.Eq(symbols.phi,\n",
    "                                sp.simplify(sp.solve(eqs,symbols.zeta,symbols.phi)[0][1]))\n",
    "analytical_solution_B_1"
   ]
  },
  {
   "cell_type": "code",
   "execution_count": 27,
   "metadata": {},
   "outputs": [],
   "source": [
    "analytical_lambda = lambdify(sp.solve(analytical_solution_B_1,symbols.phi)[0])"
   ]
  },
  {
   "cell_type": "code",
   "execution_count": 28,
   "metadata": {},
   "outputs": [
    {
     "data": {
      "text/latex": [
       "$\\displaystyle \\phi_{a} = \\phi_{0}{\\left(t \\right)} e^{- \\omega_{0} t \\zeta}$"
      ],
      "text/plain": [
       "Eq(phi_a, phi_0(t)*exp(-omega0*t*zeta))"
      ]
     },
     "execution_count": 28,
     "metadata": {},
     "output_type": "execute_result"
    }
   ],
   "source": [
    "equations.extinction_equation"
   ]
  },
  {
   "cell_type": "code",
   "execution_count": 29,
   "metadata": {
    "scrolled": true
   },
   "outputs": [
    {
     "data": {
      "text/latex": [
       "$\\displaystyle \\zeta = \\frac{\\log{\\left(\\frac{\\phi_{0}{\\left(t \\right)}}{\\phi_{a}} \\right)}}{\\omega_{0} t}$"
      ],
      "text/plain": [
       "Eq(zeta, log(phi_0(t)/phi_a)/(omega0*t))"
      ]
     },
     "execution_count": 29,
     "metadata": {},
     "output_type": "execute_result"
    }
   ],
   "source": [
    "sp.Eq(symbols.zeta,sp.solve(equations.extinction_equation,symbols.zeta)[0])"
   ]
  },
  {
   "cell_type": "code",
   "execution_count": 30,
   "metadata": {},
   "outputs": [],
   "source": [
    "def simulate(B_e,X,omega0,A_44):\n",
    "    t = X.index\n",
    "    initial_states = X.iloc[0]\n",
    "    phi_0 = initial_states['phi']\n",
    "    phi_01d= initial_states['phi1d']\n",
    "    phi_pred = analytical_lambda(omega0=omega0, A_44=A_44, phi_0=phi_0, phi_01d=phi1d0, t=t, B_1=B_e)\n",
    "    return phi_pred\n",
    "\n",
    "def residuals(B_e,X,omega0,A_44):\n",
    "    \n",
    "    phi_pred = simulate(B_e=B_e, X=X, omega0=omega0, A_44=A_44)\n",
    "    residual = phi_pred - X['phi']\n",
    "    return residual"
   ]
  },
  {
   "cell_type": "code",
   "execution_count": 31,
   "metadata": {},
   "outputs": [],
   "source": [
    "def linear_equivalent(X,omega0,A_44):\n",
    "    kwargs={\n",
    "        'X':X,\n",
    "        'omega0':omega0,\n",
    "        'A_44':A_44,\n",
    "    }\n",
    "    initial_guess = [B_1]\n",
    "    result = least_squares(fun=residuals, x0=initial_guess, kwargs=kwargs, method='lm')\n",
    "    assert result.success is True\n",
    "    B_e = result.x[0]\n",
    "    return B_e"
   ]
  },
  {
   "cell_type": "code",
   "execution_count": 37,
   "metadata": {
    "scrolled": true
   },
   "outputs": [
    {
     "data": {
      "text/plain": [
       "0.9999674201528168"
      ]
     },
     "execution_count": 37,
     "metadata": {},
     "output_type": "execute_result"
    },
    {
     "data": {
      "image/png": "[encoded data removed]",
      "text/plain": [
       "<Figure size 576x504 with 1 Axes>"
      ]
     },
     "metadata": {},
     "output_type": "display_data"
    }
   ],
   "source": [
    "X = results[0]\n",
    "omega0 = np.sqrt(C_1/A_44)\n",
    "\n",
    "B_e = linear_equivalent(X=X, omega0=omega0, A_44=A_44)\n",
    "phi_pred = simulate(B_e=B_e, X=X, omega0=omega0, A_44=A_44)\n",
    "phi_error = X['phi'] - phi_pred\n",
    "\n",
    "fig,ax=plt.subplots()\n",
    "X.plot(y='phi',ax=ax)\n",
    "ax.plot(t,phi_pred,'--')\n",
    "\n",
    "r2_score(y_true=X['phi'], y_pred=phi_pred)"
   ]
  },
  {
   "cell_type": "code",
   "execution_count": 38,
   "metadata": {},
   "outputs": [],
   "source": [
    "df_B_e = pd.DataFrame()\n",
    "df_B_e.index.name='B_2'\n",
    "\n",
    "for B_2, X in results.items():\n",
    "    B_e = linear_equivalent(X=X, omega0=omega0, A_44=A_44)\n",
    "    df_B_e.loc[B_2,'B_e'] = B_e\n",
    "    phi_pred = simulate(B_e=B_e, X=X, omega0=omega0, A_44=A_44)\n",
    "    df_B_e.loc[B_2,'R2'] = r2_score(y_true=X['phi'], y_pred=phi_pred)\n",
    "    \n",
    "    B_e_himeno = lambdas.B_e_lambda(B_1=B_1, B_2=B_2, omega0=omega0, phi_a=phi0)\n",
    "    df_B_e.loc[B_2,'B_e_himeno'] = B_e_himeno\n",
    "    phi_pred_himeno = simulate(B_e=B_e_himeno, X=X, omega0=omega0, A_44=A_44)\n",
    "    df_B_e.loc[B_2,'R2_himeno'] = r2_score(y_true=X['phi'], y_pred=phi_pred_himeno)\n",
    "\n",
    "df_B_e['B_1'] = B_1"
   ]
  },
  {
   "cell_type": "code",
   "execution_count": 39,
   "metadata": {
    "scrolled": true
   },
   "outputs": [
    {
     "data": {
      "text/plain": [
       "Text(0, 0.5, '$R^2$ [-] coefficient of determination')"
      ]
     },
     "execution_count": 39,
     "metadata": {},
     "output_type": "execute_result"
    },
    {
     "data": {
      "image/png": "[encoded data removed]",
      "text/plain": [
       "<Figure size 576x504 with 1 Axes>"
      ]
     },
     "metadata": {},
     "output_type": "display_data"
    },
    {
     "data": {
      "image/png": "[encoded data removed]",
      "text/plain": [
       "<Figure size 576x504 with 1 Axes>"
      ]
     },
     "metadata": {},
     "output_type": "display_data"
    }
   ],
   "source": [
    "fig,ax=plt.subplots()\n",
    "df_B_e.plot(y=['B_1','B_e','B_e_himeno'], ax=ax)\n",
    "ax.set_ylabel('$B_e$ [Nm/s] linear equivalent damping')\n",
    "\n",
    "fig,ax=plt.subplots()\n",
    "df_B_e.plot(y=['R2','R2_himeno'],ax=ax)\n",
    "ax.set_ylabel('$R^2$ [-] coefficient of determination')"
   ]
  },
  {
   "cell_type": "markdown",
   "metadata": {},
   "source": [
    "## $B_2/2$"
   ]
  },
  {
   "cell_type": "code",
   "execution_count": 40,
   "metadata": {},
   "outputs": [],
   "source": [
    "df_B_e = pd.DataFrame()\n",
    "df_B_e.index.name='B_2'\n",
    "\n",
    "for B_2, X in results.items():\n",
    "    B_e = linear_equivalent(X=X, omega0=omega0, A_44=A_44)\n",
    "    df_B_e.loc[B_2,'B_e'] = B_e\n",
    "    phi_pred = simulate(B_e=B_e, X=X, omega0=omega0, A_44=A_44)\n",
    "    df_B_e.loc[B_2,'R2'] = r2_score(y_true=X['phi'], y_pred=phi_pred)\n",
    "    \n",
    "    B_e_himeno = lambdas.B_e_lambda(B_1=B_1, B_2=B_2/2, omega0=omega0, phi_a=phi0)\n",
    "    df_B_e.loc[B_2,'B_e_himeno'] = B_e_himeno\n",
    "    phi_pred_himeno = simulate(B_e=B_e_himeno, X=X, omega0=omega0, A_44=A_44)\n",
    "    df_B_e.loc[B_2,'R2_himeno'] = r2_score(y_true=X['phi'], y_pred=phi_pred_himeno)\n",
    "\n",
    "df_B_e['B_1'] = B_1"
   ]
  },
  {
   "cell_type": "code",
   "execution_count": 41,
   "metadata": {},
   "outputs": [
    {
     "data": {
      "text/plain": [
       "Text(0, 0.5, '$R^2$ [-] coefficient of determination')"
      ]
     },
     "execution_count": 41,
     "metadata": {},
     "output_type": "execute_result"
    },
    {
     "data": {
      "image/png": "[encoded data removed]",
      "text/plain": [
       "<Figure size 576x504 with 1 Axes>"
      ]
     },
     "metadata": {},
     "output_type": "display_data"
    },
    {
     "data": {
      "image/png": "[encoded data removed]",
      "text/plain": [
       "<Figure size 576x504 with 1 Axes>"
      ]
     },
     "metadata": {},
     "output_type": "display_data"
    }
   ],
   "source": [
    "fig,ax=plt.subplots()\n",
    "df_B_e.plot(y=['B_1','B_e','B_e_himeno'], ax=ax)\n",
    "ax.set_ylabel('$B_e$ [Nm/s] linear equivalent damping')\n",
    "\n",
    "fig,ax=plt.subplots()\n",
    "df_B_e.plot(y=['R2','R2_himeno'],ax=ax)\n",
    "ax.set_ylabel('$R^2$ [-] coefficient of determination')"
   ]
  }
 ],
 "metadata": {
  "cite2c": {
   "citations": {
    "7505983/EYEMHSYH": {
     "id": "7505983/EYEMHSYH",
     "title": "Himeno - 1981 - Prediction of ship roll damping - state of the art.pdf",
     "type": "article"
    },
    "7505983/FB64RGPF": {
     "abstract": "Various methods for predicting the roll damping of a ship at forward speed is discussed. In particular, a simple method and a component analysis are described. The component analysis assumes that the damping is composed of friction damping, eddy damping, lift damping, wave damping, normal-force damping of bilge, keel, hull pressure damping due to bilge keels, and wave damping of bilge keels. Formulas for these components are derived from theoretical and experimental considerations.",
     "archive": "Scopus",
     "author": [
      {
       "family": "Himeno",
       "given": "Yoji"
      }
     ],
     "container-title": "University of Michigan Department of Naval Architecture and Marine Engineering, (Report)",
     "id": "7505983/FB64RGPF",
     "issue": "239",
     "issued": {
      "year": 1981
     },
     "title": "PREDICTION OF SHIP ROLL DAMPING - STATE OF THE ART.",
     "type": "article-journal"
    }
   }
  },
  "kernelspec": {
   "display_name": "Python 3",
   "language": "python",
   "name": "python3"
  },
  "language_info": {
   "codemirror_mode": {
    "name": "ipython",
    "version": 3
   },
   "file_extension": ".py",
   "mimetype": "text/x-python",
   "name": "python",
   "nbconvert_exporter": "python",
   "pygments_lexer": "ipython3",
   "version": "3.6.8"
  }
 },
 "nbformat": 4,
 "nbformat_minor": 4
}
