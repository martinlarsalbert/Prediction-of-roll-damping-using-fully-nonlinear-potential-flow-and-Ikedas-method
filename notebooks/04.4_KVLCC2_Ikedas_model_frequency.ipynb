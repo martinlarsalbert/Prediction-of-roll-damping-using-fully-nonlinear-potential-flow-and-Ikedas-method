{
 "cells": [
  {
   "cell_type": "markdown",
   "metadata": {},
   "source": [
    "# KVLCC2 Ikeda at various frequencies"
   ]
  },
  {
   "cell_type": "markdown",
   "metadata": {},
   "source": [
    "# Purpose\n",
    "Will the viscous damping predicted with Ikeda change with frequency?"
   ]
  },
  {
   "cell_type": "markdown",
   "metadata": {},
   "source": [
    "# Methodology\n",
    "Make a variation around the natural frequency"
   ]
  },
  {
   "cell_type": "markdown",
   "metadata": {},
   "source": [
    "## Results\n",
    "Describe and comment the most important results."
   ]
  },
  {
   "cell_type": "markdown",
   "metadata": {},
   "source": [
    "# Suggested next steps\n",
    "State suggested next steps, based on results obtained in this notebook."
   ]
  },
  {
   "cell_type": "markdown",
   "metadata": {},
   "source": [
    "# Setup"
   ]
  },
  {
   "cell_type": "code",
   "execution_count": null,
   "metadata": {},
   "outputs": [],
   "source": [
    "# %load imports.py\n",
    "\"\"\"\n",
    "These is the standard setup for the notebooks.\n",
    "\"\"\"\n",
    "\n",
    "%matplotlib inline\n",
    "%load_ext autoreload\n",
    "%autoreload 2\n",
    "\n",
    "from jupyterthemes import jtplot\n",
    "jtplot.style(theme='onedork', context='notebook', ticks=True, grid=False)\n",
    "\n",
    "import pandas as pd\n",
    "pd.options.display.max_rows = 999\n",
    "pd.options.display.max_columns = 999\n",
    "pd.set_option(\"display.max_columns\", None)\n",
    "import numpy as np\n",
    "import os\n",
    "import matplotlib.pyplot as plt\n",
    "from collections import OrderedDict\n",
    "#plt.style.use('paper')\n",
    "\n",
    "#import data\n",
    "import copy\n",
    "from mdldb.run import Run\n",
    "\n",
    "from sklearn.pipeline import Pipeline\n",
    "from rolldecayestimators.transformers import CutTransformer, LowpassFilterDerivatorTransformer, ScaleFactorTransformer, OffsetTransformer\n",
    "from rolldecayestimators.direct_estimator_cubic import EstimatorQuadraticB, EstimatorCubic\n",
    "from rolldecayestimators.ikeda_estimator import IkedaQuadraticEstimator\n",
    "import rolldecayestimators.equations as equations\n",
    "import rolldecayestimators.lambdas as lambdas\n",
    "from rolldecayestimators.substitute_dynamic_symbols import lambdify\n",
    "import rolldecayestimators.symbols as symbols\n",
    "import sympy as sp\n",
    "\n",
    "from sympy.physics.vector.printing import vpprint, vlatex\n",
    "from IPython.display import display, Math, Latex\n",
    "\n",
    "from sklearn.metrics import r2_score\n",
    "from src.data import database\n",
    "from mdldb import tables\n"
   ]
  },
  {
   "cell_type": "code",
   "execution_count": null,
   "metadata": {},
   "outputs": [],
   "source": [
    "import pyscores2\n",
    "import pyscores2.runScores2\n",
    "import pyscores2.xml_hydrostatics\n",
    "from pyscores2.output import OutputFile\n",
    "from rolldecayestimators.ikeda import Ikeda, IkedaR\n",
    "\n",
    "from rolldecayestimators.simplified_ikeda_class import SimplifiedIkeda, SimplifiedIkedaABS\n",
    "from rolldecayestimators.simplified_ikeda import limits_kawahara\n",
    "from pyscores2.runScores2 import Calculation\n",
    "from pyscores2.indata import Indata\n",
    "import joblib\n",
    "from scipy.optimize import least_squares\n",
    "from reports.paper_writing import save_fig"
   ]
  },
  {
   "cell_type": "code",
   "execution_count": null,
   "metadata": {},
   "outputs": [],
   "source": [
    "db = database.get_db()"
   ]
  },
  {
   "cell_type": "code",
   "execution_count": null,
   "metadata": {},
   "outputs": [],
   "source": [
    "sql = \"\"\"\n",
    "SELECT * from run\n",
    "INNER JOIN loading_conditions\n",
    "ON (run.loading_condition_id = loading_conditions.id)\n",
    "INNER JOIN models\n",
    "ON (run.model_number = models.model_number)\n",
    "INNER JOIN ships\n",
    "ON (run.ship_name = ships.name)\n",
    "WHERE run.model_number='M5057-01-A' and run.test_type='roll decay' and run.project_number=40178362;\n",
    "\"\"\"\n",
    "df_rolldecays = pd.read_sql(sql=sql, con=db.engine)\n",
    "df_rolldecays=df_rolldecays.loc[:,~df_rolldecays.columns.duplicated()]\n",
    "df_rolldecays.set_index('id', inplace=True)\n",
    "\n",
    "df_rolldecays['ship_speed'].fillna(0, inplace=True)\n"
   ]
  },
  {
   "cell_type": "code",
   "execution_count": null,
   "metadata": {},
   "outputs": [],
   "source": [
    "df_rolldecays.head()"
   ]
  },
  {
   "cell_type": "code",
   "execution_count": null,
   "metadata": {},
   "outputs": [],
   "source": [
    "def calculate_ikeda(ikeda):\n",
    "\n",
    "    output = pd.DataFrame()\n",
    "    output['B_44_hat']   = ikeda.calculate_B44()\n",
    "    output['B_W0_hat']   = ikeda.calculate_B_W0()\n",
    "    output['B_W_hat']    = ikeda.calculate_B_W()\n",
    "    output['B_F_hat']    = ikeda.calculate_B_F()\n",
    "    output['B_E_hat']    = ikeda.calculate_B_E()\n",
    "    output['B_BK_hat']   = ikeda.calculate_B_BK()\n",
    "    output['B_L_hat']    = ikeda.calculate_B_L()\n",
    "    output['Bw_div_Bw0'] = ikeda.calculate_Bw_div_Bw0()\n",
    "    return output"
   ]
  },
  {
   "cell_type": "code",
   "execution_count": null,
   "metadata": {},
   "outputs": [],
   "source": [
    "#df_rolldecays=df_rolldecays.loc[[21337,21338,21340,]].copy()\n",
    "df_rolldecays=df_rolldecays.loc[[21338,21340,]].copy()"
   ]
  },
  {
   "cell_type": "code",
   "execution_count": null,
   "metadata": {},
   "outputs": [],
   "source": [
    "resources={\n",
    "    21338 : {\n",
    "        'scores_indata_path':'../models/KVLCC2_speed.IN',\n",
    "        'scores_outdata_path':'../data/interim/KVLCC2_speed.out',\n",
    "        'roll_decay_model':'../models/KVLCC2_0_speed.pkl',\n",
    "    },\n",
    "    21340 : {\n",
    "        'scores_indata_path':'../models/KVLCC2_speed.IN',\n",
    "        'scores_outdata_path':'../data/interim/KVLCC2_speed.out',\n",
    "        'roll_decay_model':'../models/KVLCC2_speed.pkl',\n",
    "    }\n",
    "}"
   ]
  },
  {
   "cell_type": "code",
   "execution_count": null,
   "metadata": {},
   "outputs": [],
   "source": [
    "def unhat(df_ikeda, volume, beam, g, rho):\n",
    "    for key,data in df_ikeda.items():\n",
    "        if '_hat' in key:\n",
    "            new_key = key.replace('_hat','')\n",
    "            df_ikeda[new_key] = lambdas.B_from_hat_lambda(B_44_hat=data, Disp=volume, beam=beam, g=g, rho=rho)\n",
    "            \n",
    "    return df_ikeda  "
   ]
  },
  {
   "cell_type": "code",
   "execution_count": null,
   "metadata": {},
   "outputs": [],
   "source": [
    "g=9.81\n",
    "rho=1000\n",
    "\n",
    "phi_a = np.deg2rad(10)\n",
    "results = pd.DataFrame()\n",
    "\n",
    "for id, row in df_rolldecays.iterrows():\n",
    "    run = db.session.query(Run).get(int(row.name))\n",
    "    run = database.load_run(run, save_as_example=False, prefer_hdf5=True)\n",
    "    scale_factor = run.model.scale_factor\n",
    "    \n",
    "    resource = resources[id]\n",
    "    \n",
    "    ## Load ScoresII results\n",
    "    indata = Indata()\n",
    "    indata.open(indataPath='../models/KVLCC2_speed.IN')\n",
    "    output_file = OutputFile(filePath='../data/interim/KVLCC2_speed.out')\n",
    "    \n",
    "    ## Compare with model test\n",
    "    model = joblib.load(resource['roll_decay_model'])\n",
    "    estimator = model['estimator']\n",
    "    \n",
    "    ## Non. Lin. linear equivalent damping\n",
    "    GM = run.loading_condition.gm/scale_factor\n",
    "    volume = run.loading_condition.Volume/(scale_factor**3)\n",
    "    GM = run.loading_condition.gm/scale_factor\n",
    "    beam = run.ship.beam/scale_factor\n",
    "\n",
    "    meta_data = {\n",
    "        'Volume':volume,\n",
    "        'GM':GM,\n",
    "        'rho':rho,\n",
    "        'g':g,\n",
    "    }\n",
    "    parameters = estimator.result_for_database(meta_data = meta_data)\n",
    "\n",
    "    ## Run Ikeda\n",
    "    N=99\n",
    "    ws_factor = np.linspace(0.5,1.5,N)\n",
    "    ws = parameters['omega0']*ws_factor\n",
    "    \n",
    "    scale_factor=run.model.scale_factor\n",
    "    V = row.ship_speed*1.852/3.6/np.sqrt(scale_factor)\n",
    "    Vs = V*np.ones(len(ws))\n",
    "    phi_as = phi_a*np.ones(len(ws))\n",
    "    \n",
    "    if not run.ship.BKL:\n",
    "        BKL=0\n",
    "    else:\n",
    "        BKL=run.ship.BKL/scale_factor\n",
    "    \n",
    "    if not run.ship.BKB:\n",
    "        BKB = 0\n",
    "    else:\n",
    "        BKB=run.ship.BKB/scale_factor\n",
    "   \n",
    "    \n",
    "    BKL_ = BKL*np.ones(N)\n",
    "    BKB_ = BKB*np.ones(N)\n",
    "       \n",
    "    ikeda = Ikeda.load_scoresII(V=Vs, w=ws, fi_a=phi_as, indata=indata, output_file=output_file, \n",
    "                                scale_factor=scale_factor, BKL=BKL_, BKB=BKB_)\n",
    "    \n",
    "    R = 0.15*run.ship.beam/scale_factor  # Just guessing...\n",
    "    ikeda.R = R\n",
    "    \n",
    "    df_ikeda = calculate_ikeda(ikeda=ikeda)\n",
    "    df_ikeda['w']=ws\n",
    "    df_ikeda['ws_factor']=ws_factor\n",
    "    df_ikeda['phi_a']=phi_as\n",
    "    df_ikeda.set_index('ws_factor',inplace=True)\n",
    "    df_ikeda['id']=id\n",
    "    df_ikeda = unhat(df_ikeda=df_ikeda, volume=volume, beam=beam, g=g, rho=rho)\n",
    "    \n",
    "    # assuming : phi = phi_a*sin(w*t)\n",
    "    #phi1ds = phi_as*w*np.cos()\n",
    "    \n",
    "    #df_ikeda['B'] = (parameters['B_1'] + parameters['B_2']*np.abs(ws))*ws + parameters['B_3']*ws**3\n",
    "    #df_ikeda['B']=df_ikeda['B'].astype(float)\n",
    "    \n",
    "    df_ikeda['B']=lambdas.B_e_lambda_cubic(B_1=parameters['B_1'], B_2=parameters['B_2'], B_3=parameters['B_3'], omega0=ws, phi_a=phi_as)\n",
    "    df_ikeda['B']=df_ikeda['B'].astype(float)\n",
    "    \n",
    "    results=results.append(df_ikeda)\n",
    "        "
   ]
  },
  {
   "cell_type": "code",
   "execution_count": null,
   "metadata": {},
   "outputs": [],
   "source": [
    "parameters"
   ]
  },
  {
   "cell_type": "code",
   "execution_count": null,
   "metadata": {},
   "outputs": [],
   "source": [
    "equations.B_e_equation_cubic"
   ]
  },
  {
   "cell_type": "markdown",
   "metadata": {},
   "source": [
    "<a id='himeno'></a>"
   ]
  },
  {
   "cell_type": "code",
   "execution_count": null,
   "metadata": {},
   "outputs": [],
   "source": [
    "for id,df_ikeda in results.groupby(by='id'):\n",
    "    fig,ax=plt.subplots()\n",
    "    interesting_ = ['B_W','B_L','B_F','B_E',]\n",
    "      \n",
    "    df_ikeda.plot.area(x='w', y=interesting_, ax=ax)\n",
    "    \n",
    "    #df_ikeda.plot(x='w', y='B', ax=ax)\n",
    "    df_ikeda.plot(x='w', y='B', label=r'$B_e$ roll decay', ax=ax)\n",
    "    \n",
    "    ax.legend()\n",
    "    ax.set_xlabel(r'$ \\omega $ [rad/s] (Roll frequency)')\n",
    "    ax.set_ylabel(r'$ B_e $ [Nm/s]');\n",
    "    \n",
    "    s = df_rolldecays.loc[id]\n",
    "    phi_a = np.rad2deg(df_ikeda['phi_a'].iloc[0])\n",
    "    title='Ship speed: %0.1f [kts] $\\phi_a$: %i [deg]' % (s.ship_speed,phi_a)\n",
    "    ax.set_title(title)    \n",
    "   \n"
   ]
  },
  {
   "cell_type": "markdown",
   "metadata": {},
   "source": [
    "<a id='frequency'></a>"
   ]
  },
  {
   "cell_type": "code",
   "execution_count": null,
   "metadata": {},
   "outputs": [],
   "source": [
    "for id,df_ikeda in results.groupby(by='id'):\n",
    "    fig,ax=plt.subplots()\n",
    "    interesting_ = ['B_L_hat','B_F_hat','B_E_hat',]\n",
    "    df_ikeda_fraction = df_ikeda[interesting_].copy()\n",
    "    df_ikeda_fraction/=df_ikeda_fraction.loc[1]\n",
    "    \n",
    "    df_ikeda_fraction.plot.area(y=interesting_, ax=ax)\n",
    "        \n",
    "    \n",
    "    ax.legend()\n",
    "    ax.set_xlabel(r'$ \\frac{\\omega}{\\omega_0} $ [-] (Roll frequency)')\n",
    "    ax.set_ylabel(r'$\\frac{\\hat{B_e}}{\\hat{B_e^0}}$ [-]');\n",
    "    \n",
    "    s = df_rolldecays.loc[id]\n",
    "    phi_a = np.rad2deg(df_ikeda['phi_a'].iloc[0])\n",
    "    title='Ship speed: %0.1f [kts] $\\phi_a$: %i [deg]' % (s.ship_speed,phi_a)\n",
    "    ax.set_title(title)    \n",
    "    \n",
    "    figure_name = 'KVLCC2_B_visc_frequency%0.1f' % s.ship_speed\n",
    "    save_fig(fig, name=figure_name)\n",
    "    "
   ]
  },
  {
   "cell_type": "code",
   "execution_count": null,
   "metadata": {},
   "outputs": [],
   "source": []
  }
 ],
 "metadata": {
  "kernelspec": {
   "display_name": "Python 3",
   "language": "python",
   "name": "python3"
  },
  "language_info": {
   "codemirror_mode": {
    "name": "ipython",
    "version": 3
   },
   "file_extension": ".py",
   "mimetype": "text/x-python",
   "name": "python",
   "nbconvert_exporter": "python",
   "pygments_lexer": "ipython3",
   "version": "3.6.8"
  }
 },
 "nbformat": 4,
 "nbformat_minor": 4
}
