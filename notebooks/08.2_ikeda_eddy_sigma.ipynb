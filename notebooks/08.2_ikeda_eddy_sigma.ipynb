{
 "cells": [
  {
   "cell_type": "markdown",
   "metadata": {},
   "source": [
    "# KVLCC2 eddy damping $\\sigma$"
   ]
  },
  {
   "cell_type": "markdown",
   "metadata": {},
   "source": [
    "# Purpose\n",
    "The ikeda eddy damping seems to be sensitive to section coefficient $\\sigma$ which is showen in this notebook."
   ]
  },
  {
   "cell_type": "markdown",
   "metadata": {},
   "source": [
    "# Methodology\n",
    "Make a variation of $\\sigma$ for the mid section of KVLCC2"
   ]
  },
  {
   "cell_type": "markdown",
   "metadata": {},
   "source": [
    "# Setup"
   ]
  },
  {
   "cell_type": "code",
   "execution_count": 1,
   "metadata": {},
   "outputs": [
    {
     "name": "stderr",
     "output_type": "stream",
     "text": [
      "Duplicate key in file WindowsPath('C:/Users/maa/.matplotlib/stylelib/paper.mplstyle'), line 461 ('figure.figsize   : 5, 3   ## figure size in inches')\n",
      "Duplicate key in file WindowsPath('C:/Users/maa/.matplotlib/stylelib/paper.mplstyle'), line 462 ('figure.dpi       : 100        ## figure dots per inch')\n"
     ]
    }
   ],
   "source": [
    "# %load imports.py\n",
    "\"\"\"\n",
    "These is the standard setup for the notebooks.\n",
    "\"\"\"\n",
    "\n",
    "%matplotlib inline\n",
    "%load_ext autoreload\n",
    "%autoreload 2\n",
    "\n",
    "from jupyterthemes import jtplot\n",
    "jtplot.style(theme='onedork', context='notebook', ticks=True, grid=False)\n",
    "\n",
    "import pandas as pd\n",
    "pd.options.display.max_rows = 999\n",
    "pd.options.display.max_columns = 999\n",
    "pd.set_option(\"display.max_columns\", None)\n",
    "import numpy as np\n",
    "import os\n",
    "import matplotlib.pyplot as plt\n",
    "from collections import OrderedDict\n",
    "#plt.style.use('paper')\n",
    "\n",
    "#import data\n",
    "import copy\n",
    "from mdldb.run import Run\n",
    "\n",
    "from sklearn.pipeline import Pipeline\n",
    "from rolldecayestimators.transformers import CutTransformer, LowpassFilterDerivatorTransformer, ScaleFactorTransformer, OffsetTransformer\n",
    "from rolldecayestimators.direct_estimator_cubic import EstimatorQuadraticB, EstimatorCubic\n",
    "from rolldecayestimators.ikeda_estimator import IkedaQuadraticEstimator\n",
    "import rolldecayestimators.equations as equations\n",
    "import rolldecayestimators.lambdas as lambdas\n",
    "from rolldecayestimators.substitute_dynamic_symbols import lambdify\n",
    "import rolldecayestimators.symbols as symbols\n",
    "import sympy as sp\n",
    "\n",
    "from sympy.physics.vector.printing import vpprint, vlatex\n",
    "from IPython.display import display, Math, Latex\n",
    "\n",
    "from sklearn.metrics import r2_score\n",
    "from src.data import database\n",
    "from mdldb import tables\n",
    "import shipflowmotionshelpers.shipflowmotionshelpers as helpers\n",
    "import shipflowmotionshelpers.preprocess as preprocess\n"
   ]
  },
  {
   "cell_type": "code",
   "execution_count": 2,
   "metadata": {},
   "outputs": [],
   "source": [
    "import joblib\n",
    "from src.helpers import get_ikeda, calculate_ikeda, get_estimator_variation, get_data_variation \n",
    "from rolldecayestimators import fit_on_amplitudes\n",
    "from copy import deepcopy\n",
    "from rolldecayestimators.ikeda import Ikeda, IkedaR, IkedaCarlJohan, IkedaBarge, IkedaBeSimplified\n",
    "import rolldecayestimators.ikeda_speed\n",
    "import scipy\n",
    "import rolldecayestimators.ikeda_speed"
   ]
  },
  {
   "cell_type": "markdown",
   "metadata": {},
   "source": [
    "## Load MDL results"
   ]
  },
  {
   "cell_type": "code",
   "execution_count": 3,
   "metadata": {},
   "outputs": [],
   "source": [
    "db = database.get_db()\n",
    "\n",
    "sql = \"\"\"\n",
    "SELECT * from run\n",
    "INNER JOIN loading_conditions\n",
    "ON (run.loading_condition_id = loading_conditions.id)\n",
    "INNER JOIN models\n",
    "ON (run.model_number = models.model_number)\n",
    "INNER JOIN ships\n",
    "ON (run.ship_name = ships.name)\n",
    "WHERE run.model_number='M5057-01-A' and run.test_type='roll decay' and run.project_number=40178362;\n",
    "\"\"\"\n",
    "df_rolldecays = pd.read_sql(sql=sql, con=db.engine)\n",
    "df_rolldecays['rho']=1000\n",
    "df_rolldecays['g']=9.81\n",
    "df_rolldecays=df_rolldecays.loc[:,~df_rolldecays.columns.duplicated()]\n",
    "df_rolldecays.set_index('id', inplace=True)\n",
    "\n",
    "df_rolldecays['ship_speed'].fillna(0, inplace=True)\n",
    "df_rolldecays['R'] = 2.4 # Bilge keel radius measured on geometry (full scale)\n",
    "\n",
    "df_rolldecays=df_rolldecays.loc[[21338,21340,]].copy()"
   ]
  },
  {
   "cell_type": "code",
   "execution_count": 4,
   "metadata": {},
   "outputs": [],
   "source": [
    "run = df_rolldecays.iloc[0]"
   ]
  },
  {
   "cell_type": "code",
   "execution_count": 5,
   "metadata": {},
   "outputs": [
    {
     "name": "stderr",
     "output_type": "stream",
     "text": [
      "c:\\dev\\prediction-of-roll-damping-using-fully-nonlinear-potential-flow-and-ikedas-method\\venv\\lib\\site-packages\\ipykernel_launcher.py:9: DeprecationWarning: The default dtype for empty Series will be 'object' instead of 'float64' in a future version. Specify a dtype explicitly to silence this warning.\n",
      "  if __name__ == '__main__':\n"
     ]
    }
   ],
   "source": [
    "scale_factor = run.scale_factor\n",
    "beam = np.array([run.beam/scale_factor])\n",
    "draught = np.array([run.TA/scale_factor])\n",
    "sigma = 0.99\n",
    "S_s = sigma*beam*draught\n",
    "\n",
    "a, a_1, a_3, sigma_s, H = rolldecayestimators.ikeda_speed.calculate_sectional_lewis(B_s=beam, T_s=draught, S_s=S_s)\n",
    "\n",
    "lewis = pd.Series()\n",
    "\n",
    "lewis['a']=float(a)\n",
    "lewis['a_1']=a_1[0]\n",
    "lewis['a_3']=a_3[0]\n",
    "lewis['sigma']=sigma_s[0]\n",
    "lewis['H0']=H[0]\n",
    "lewis['Ts']=draught[0]\n",
    "lewis['Bs']=beam[0]\n",
    "lewis['R_b']=2.4/scale_factor\n"
   ]
  },
  {
   "cell_type": "code",
   "execution_count": 28,
   "metadata": {},
   "outputs": [],
   "source": [
    "N = 10000\n",
    "df_frame = pd.DataFrame(data = np.tile(lewis,(N,1)), columns=lewis.index)\n",
    "df_frame['sigma'] = np.linspace(0.6,1,N)\n",
    "#df_frame = df_frame.astype(float)"
   ]
  },
  {
   "cell_type": "code",
   "execution_count": 29,
   "metadata": {},
   "outputs": [],
   "source": [
    "phi_a = np.deg2rad(10)\n",
    "w = 2.4621496310208086\n",
    "OG = 0.032352941176470584\n",
    "\n",
    "df_frame['B_E0_s'] = rolldecayestimators.ikeda_speed.eddy_sections(bwl=df_frame.Bs, a_1=df_frame.a_1, a_3=df_frame.a_3, sigma=df_frame.sigma, H0=df_frame.H0, Ts=df_frame.Ts, \n",
    "                                                  OG=OG, \n",
    "                                                  R=df_frame.R_b, \n",
    "                                                  wE=w, \n",
    "                                                  fi_a=phi_a)\n",
    "df_frame.set_index('sigma', inplace=True)"
   ]
  },
  {
   "cell_type": "code",
   "execution_count": 61,
   "metadata": {},
   "outputs": [
    {
     "data": {
      "image/png": "[encoded data removed]",
      "text/plain": [
       "<Figure size 576x504 with 2 Axes>"
      ]
     },
     "metadata": {},
     "output_type": "display_data"
    }
   ],
   "source": [
    "fig,ax=plt.subplots()\n",
    "df_frame.plot(y='B_E0_s', ax=ax)\n",
    "\n",
    "ax.set_xlabel(r'$\\sigma$ $[-]$')\n",
    "ax.set_ylabel(r'$\\frac{\\hat{B_{E}}}{L_{pp}}$')\n",
    "ax.set_ylim(0,2)\n",
    "x = 0.99\n",
    "y = 0.785\n",
    "ax.annotate('Limit',xy=(x,y), xytext=(0.94,0.85*y), arrowprops=dict(facecolor='black', shrink=0.05))\n",
    "ax.get_legend().set_visible(False)\n",
    "\n",
    "# location for the zoomed portion \n",
    "sub_axes = fig.add_axes([.25, .55, .40, .30]) \n",
    "df_frame.loc[0.985:0.994].plot(y='B_E0_s', ax=sub_axes)\n",
    "sub_axes.annotate('Limit',xy=(x,y), xytext=(0.99,0.79), arrowprops=dict(facecolor='black', shrink=0.05))\n",
    "sub_axes.set_xlabel(r'$\\sigma$ $[-]$')\n",
    "sub_axes.get_legend().set_visible(False)"
   ]
  }
 ],
 "metadata": {
  "kernelspec": {
   "display_name": "Python 3",
   "language": "python",
   "name": "python3"
  },
  "language_info": {
   "codemirror_mode": {
    "name": "ipython",
    "version": 3
   },
   "file_extension": ".py",
   "mimetype": "text/x-python",
   "name": "python",
   "nbconvert_exporter": "python",
   "pygments_lexer": "ipython3",
   "version": "3.6.8"
  }
 },
 "nbformat": 4,
 "nbformat_minor": 4
}
