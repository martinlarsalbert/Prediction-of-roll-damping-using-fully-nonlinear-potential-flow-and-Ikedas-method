{
 "cells": [
  {
   "cell_type": "markdown",
   "metadata": {},
   "source": [
    "# Select suitable MDL test: KVLCC2 **at** speed"
   ]
  },
  {
   "cell_type": "markdown",
   "metadata": {},
   "source": [
    "# Purpose\n",
    "Find suitable roll decay tests from MDL, to reproduce in Motions later on."
   ]
  },
  {
   "cell_type": "markdown",
   "metadata": {},
   "source": [
    "# Methodology\n",
    "Look at the results from the KLVCC2 ship.\n",
    "* Load model tests from MDL\n",
    "* Determine damping"
   ]
  },
  {
   "cell_type": "markdown",
   "metadata": {},
   "source": [
    "# WIP - improvements\n",
    "(WORK IN PROGRESS)\n",
    "Use this section only if the notebook is not final.\n",
    "\n",
    "Notable TODOs:\n",
    "* todo 1\n",
    "* todo 2\n",
    "* todo 3"
   ]
  },
  {
   "cell_type": "markdown",
   "metadata": {},
   "source": [
    "## Results\n",
    "Describe and comment the most important results."
   ]
  },
  {
   "cell_type": "markdown",
   "metadata": {},
   "source": [
    "# Suggested next steps\n",
    "State suggested next steps, based on results obtained in this notebook."
   ]
  },
  {
   "cell_type": "markdown",
   "metadata": {},
   "source": [
    "# Setup"
   ]
  },
  {
   "cell_type": "code",
   "execution_count": null,
   "metadata": {},
   "outputs": [],
   "source": [
    "# %load imports.py\n",
    "\"\"\"\n",
    "These is the standard setup for the notebooks.\n",
    "\"\"\"\n",
    "\n",
    "%matplotlib inline\n",
    "%load_ext autoreload\n",
    "%autoreload 2\n",
    "\n",
    "from jupyterthemes import jtplot\n",
    "jtplot.style(theme='onedork', context='notebook', ticks=True, grid=False)\n",
    "\n",
    "import pandas as pd\n",
    "pd.options.display.max_rows = 999\n",
    "pd.options.display.max_columns = 999\n",
    "pd.set_option(\"display.max_columns\", None)\n",
    "import numpy as np\n",
    "import os\n",
    "import matplotlib.pyplot as plt\n",
    "from collections import OrderedDict\n",
    "#plt.style.use('paper')\n",
    "\n",
    "#import data\n",
    "import copy\n",
    "from mdldb.run import Run\n",
    "\n",
    "from sklearn.pipeline import Pipeline\n",
    "from rolldecayestimators.transformers import CutTransformer, LowpassFilterDerivatorTransformer, ScaleFactorTransformer, OffsetTransformer\n",
    "from rolldecayestimators.direct_estimator_cubic import EstimatorQuadraticB, EstimatorCubic\n",
    "from rolldecayestimators.ikeda_estimator import IkedaQuadraticEstimator\n",
    "import rolldecayestimators.equations as equations\n",
    "import rolldecayestimators.lambdas as lambdas\n",
    "from rolldecayestimators.substitute_dynamic_symbols import lambdify\n",
    "import rolldecayestimators.symbols as symbols\n",
    "import sympy as sp\n",
    "\n",
    "from sklearn.metrics import r2_score\n",
    "from src.data import database\n",
    "from mdldb import tables\n"
   ]
  },
  {
   "cell_type": "code",
   "execution_count": null,
   "metadata": {},
   "outputs": [],
   "source": [
    "from mdldb.hdf5_file import Hdf5File\n",
    "from rolldecayestimators.direct_estimator_cubic import EstimatorCubic,EstimatorQuadraticB\n",
    "from sklearn.base import clone\n",
    "from copy import deepcopy\n",
    "from sklearn.metrics import mean_absolute_error\n",
    "import joblib"
   ]
  },
  {
   "cell_type": "code",
   "execution_count": null,
   "metadata": {},
   "outputs": [],
   "source": [
    "db = database.get_db()"
   ]
  },
  {
   "cell_type": "code",
   "execution_count": null,
   "metadata": {},
   "outputs": [],
   "source": [
    "sql = \"\"\"\n",
    "SELECT * from run\n",
    "WHERE model_number='M5057-01-A' and test_type='roll decay' and project_number=40178362;\n",
    "\"\"\"\n",
    "df_rolldecays = pd.read_sql(sql=sql, con=db.engine, index_col='id')\n",
    "\n",
    "df_rolldecays['ship_speed'].fillna(0, inplace=True)\n"
   ]
  },
  {
   "cell_type": "code",
   "execution_count": null,
   "metadata": {},
   "outputs": [],
   "source": [
    "df_rolldecays"
   ]
  },
  {
   "cell_type": "code",
   "execution_count": null,
   "metadata": {},
   "outputs": [],
   "source": [
    "df_rolldecays[['date','ship_speed']]"
   ]
  },
  {
   "cell_type": "code",
   "execution_count": null,
   "metadata": {},
   "outputs": [],
   "source": [
    "run_ids = [21340,]\n",
    "df_rolldecays=df_rolldecays.loc[run_ids].copy()"
   ]
  },
  {
   "cell_type": "code",
   "execution_count": null,
   "metadata": {},
   "outputs": [],
   "source": [
    "fig,axes=plt.subplots(nrows=len(df_rolldecays))\n",
    "axes=[axes]\n",
    "\n",
    "for (id, row),ax in zip(df_rolldecays.iterrows(),axes):\n",
    "\n",
    "    run = db.session.query(Run).get(int(id))\n",
    "    run = database.load_run(run, save_as_example=False, prefer_hdf5=True)\n",
    "    \n",
    "    run.df.plot(y='phi', ax=ax)\n",
    "    ax.set_ylabel(f\"roll [{run.units['phi']}]\")\n",
    "    ax.grid(True)\n",
    "    ax.set_ylim([-0.2,0.2])\n",
    "    \n",
    "plt.tight_layout()"
   ]
  },
  {
   "cell_type": "code",
   "execution_count": null,
   "metadata": {},
   "outputs": [],
   "source": [
    "np.rad2deg(run.df['phi'].abs().max())"
   ]
  },
  {
   "cell_type": "code",
   "execution_count": null,
   "metadata": {},
   "outputs": [],
   "source": [
    "fig,axes=plt.subplots(ncols=len(df_rolldecays))\n",
    "axes=[axes]\n",
    "for (id, row),ax in zip(df_rolldecays.iterrows(),axes):\n",
    "\n",
    "    run = db.session.query(Run).get(int(id))\n",
    "    run = database.load_run(run, save_as_example=False, prefer_hdf5=True)\n",
    "    \n",
    "    run.track_plot(ax)\n",
    "    \n",
    "plt.tight_layout()"
   ]
  },
  {
   "cell_type": "code",
   "execution_count": null,
   "metadata": {},
   "outputs": [],
   "source": [
    "fig,ax=plt.subplots()\n",
    "df = run.df.copy()\n",
    "df['psi']=np.unwrap(df['modelpos/yawm'])\n",
    "\n",
    "df.plot(y='psi', style='-', ax=ax)\n",
    "ax.grid(True)\n",
    "\n",
    "fig,ax=plt.subplots()\n",
    "df.plot(y='phi', style='-', ax=ax)\n",
    "ax.grid(True)"
   ]
  },
  {
   "cell_type": "markdown",
   "metadata": {},
   "source": [
    "## Analyze the damping"
   ]
  },
  {
   "cell_type": "code",
   "execution_count": null,
   "metadata": {},
   "outputs": [],
   "source": [
    "#run = db.session.query(Run).get(21338)\n",
    "#run = db.session.query(Run).get(21339)\n",
    "run = db.session.query(Run).get(run_ids[0])\n",
    "\n",
    "#run = db.session.query(Run).get(21340)\n",
    "\n",
    "\t\n",
    "run = database.load_run(run, save_as_example=False, prefer_hdf5=True)"
   ]
  },
  {
   "cell_type": "code",
   "execution_count": null,
   "metadata": {},
   "outputs": [],
   "source": [
    "lowpass_filter = LowpassFilterDerivatorTransformer(cutoff=1, minimum_score=0.999)\n",
    "cutter = CutTransformer(phi_max=np.deg2rad(15), phi_min=np.deg2rad(2), phi1d_start_tolerance=0.015)\n",
    "offset_transformer = OffsetTransformer()"
   ]
  },
  {
   "cell_type": "markdown",
   "metadata": {},
   "source": [
    "## Offset?"
   ]
  },
  {
   "cell_type": "code",
   "execution_count": null,
   "metadata": {},
   "outputs": [],
   "source": [
    "steps = [\n",
    "    ('filter',lowpass_filter),\n",
    "    ('cutter', cutter), \n",
    "]\n",
    "\n",
    "pipline_preprocess_1 = Pipeline(steps=steps)\n",
    "\n",
    "steps = [\n",
    "    ('filter',lowpass_filter),\n",
    "    ('cutter', cutter), \n",
    "    ('offset_transformer',offset_transformer),\n",
    "]\n",
    "\n",
    "pipline_preprocess_2 = Pipeline(steps=steps)"
   ]
  },
  {
   "cell_type": "code",
   "execution_count": null,
   "metadata": {},
   "outputs": [],
   "source": [
    "pipline_preprocess_1.fit(X=run.df)\n",
    "X = pipline_preprocess_1.transform(X=run.df)\n",
    "\n",
    "pipline_preprocess_2.fit(X=run.df)\n",
    "X_trans = pipline_preprocess_2.transform(X=run.df)"
   ]
  },
  {
   "cell_type": "code",
   "execution_count": null,
   "metadata": {},
   "outputs": [],
   "source": [
    "fig,ax=plt.subplots()\n",
    "X.plot(y='phi', ax=ax)\n",
    "X_trans.plot(y='phi', ax=ax)"
   ]
  },
  {
   "cell_type": "code",
   "execution_count": null,
   "metadata": {},
   "outputs": [],
   "source": [
    "estimator_cubic = EstimatorCubic(fit_method='derivation')\n",
    "estimator_quadratic_b = EstimatorQuadraticB(fit_method='derivation', maxfev=1000)"
   ]
  },
  {
   "cell_type": "code",
   "execution_count": null,
   "metadata": {},
   "outputs": [],
   "source": [
    "steps = [\n",
    "    ('filter',lowpass_filter),\n",
    "    ('cutter', cutter), \n",
    "    ('offset_transformer',offset_transformer),\n",
    "    ('estimator', estimator_cubic)\n",
    "]\n",
    "\n",
    "pipline_cubic = Pipeline(steps=steps)"
   ]
  },
  {
   "cell_type": "code",
   "execution_count": null,
   "metadata": {},
   "outputs": [],
   "source": [
    "steps = [\n",
    "    ('filter',lowpass_filter),\n",
    "    ('cutter', cutter), \n",
    "    ('offset_transformer',offset_transformer),\n",
    "    ('estimator', estimator_quadratic_b)\n",
    "]\n",
    "\n",
    "pipline_quadratic_b = Pipeline(steps=steps)"
   ]
  },
  {
   "cell_type": "code",
   "execution_count": null,
   "metadata": {},
   "outputs": [],
   "source": [
    "def calculate_score(pipeline,run):\n",
    "    \n",
    "    y_true =  pipeline['estimator'].X[['phi']]\n",
    "    y_pred = pipeline.predict(X=run.df[['phi']])\n",
    "    return np.rad2deg(mean_absolute_error(y_true=y_true, y_pred=y_pred['phi']))\n",
    "    "
   ]
  },
  {
   "cell_type": "code",
   "execution_count": null,
   "metadata": {},
   "outputs": [],
   "source": [
    "models = {\n",
    "    \n",
    "    'cubic':pipline_cubic,\n",
    "    'quadratic_b':pipline_quadratic_b,\n",
    "    \n",
    "}"
   ]
  },
  {
   "cell_type": "code",
   "execution_count": null,
   "metadata": {},
   "outputs": [],
   "source": [
    "for model_name, model in models.items():\n",
    "    model.fit(X=run.df[['phi']])"
   ]
  },
  {
   "cell_type": "markdown",
   "metadata": {},
   "source": [
    "## Integration"
   ]
  },
  {
   "cell_type": "code",
   "execution_count": null,
   "metadata": {},
   "outputs": [],
   "source": [
    "estimator_quadratic_b = models['quadratic_b']['estimator']\n",
    "estimator_quadratic_b_int = EstimatorQuadraticB(fit_method='integration', maxfev=100000, p0=estimator_quadratic_b.parameters)\n",
    "\n",
    "steps = [\n",
    "    ('filter',lowpass_filter),\n",
    "    ('cutter', cutter), \n",
    "    ('offset_transformer',offset_transformer),\n",
    "    ('estimator', estimator_quadratic_b_int)\n",
    "]\n",
    "\n",
    "pipline_quadratic_b_int = Pipeline(steps=steps)\n",
    "models['quadratic_b_int'] = pipline_quadratic_b_int"
   ]
  },
  {
   "cell_type": "code",
   "execution_count": null,
   "metadata": {},
   "outputs": [],
   "source": [
    "estimator_cubic = models['cubic']['estimator']\n",
    "estimator_cubic_int = EstimatorCubic(fit_method='integration', maxfev=100000, p0=estimator_cubic.parameters)\n",
    "\n",
    "steps = [\n",
    "    ('filter',lowpass_filter),\n",
    "    ('cutter', cutter), \n",
    "    ('offset_transformer',offset_transformer),\n",
    "    ('estimator', estimator_cubic_int)\n",
    "]\n",
    "\n",
    "pipline_cubic_int = Pipeline(steps=steps)\n",
    "models['cubic_int'] = pipline_cubic_int"
   ]
  },
  {
   "cell_type": "code",
   "execution_count": null,
   "metadata": {},
   "outputs": [],
   "source": [
    "for model_name, model in models.items():\n",
    "    model.fit(X=run.df[['phi']])"
   ]
  },
  {
   "cell_type": "code",
   "execution_count": null,
   "metadata": {},
   "outputs": [],
   "source": [
    "fig,ax=plt.subplots()\n",
    "include_model_test=True\n",
    "for model_name, model in models.items():\n",
    "    \n",
    "    estimator = model['estimator']\n",
    "    estimator.plot_damping(ax=ax, include_model_test=include_model_test, label=model_name)\n",
    "    if include_model_test:\n",
    "        include_model_test=False\n",
    "    \n",
    "fig,ax=plt.subplots()\n",
    "include_model_test=True\n",
    "for model_name, model in models.items():\n",
    "    \n",
    "    estimator = model['estimator']\n",
    "    estimator.plot_omega0(ax=ax, include_model_test=include_model_test, label=model_name)\n",
    "    if include_model_test:\n",
    "        include_model_test=False"
   ]
  },
  {
   "cell_type": "code",
   "execution_count": null,
   "metadata": {},
   "outputs": [],
   "source": [
    "df_summary = pd.DataFrame()\n",
    "\n",
    "for model_name, model in models.items():\n",
    "    \n",
    "    estimator = model['estimator']\n",
    "    s = pd.Series(name=model_name, data=estimator.parameters)\n",
    "    s['MEA'] = calculate_score(pipeline=model, run=run)    \n",
    "    s['score'] = model.score(X=run.df)   \n",
    "    \n",
    "    df_summary=df_summary.append(s)\n",
    "    \n",
    "    "
   ]
  },
  {
   "cell_type": "code",
   "execution_count": null,
   "metadata": {},
   "outputs": [],
   "source": [
    "df_summary.sort_values(by='MEA', inplace=True)"
   ]
  },
  {
   "cell_type": "code",
   "execution_count": null,
   "metadata": {},
   "outputs": [],
   "source": [
    "fig,ax=plt.subplots()\n",
    "df_summary.plot(y='MEA', kind='bar', ax=ax)\n",
    "ax.set_ylabel('MAE [deg]')"
   ]
  },
  {
   "cell_type": "code",
   "execution_count": null,
   "metadata": {},
   "outputs": [],
   "source": [
    "min = df_summary - df_summary.min()\n",
    "df_summary_normalized = min/min.abs().max()"
   ]
  },
  {
   "cell_type": "code",
   "execution_count": null,
   "metadata": {},
   "outputs": [],
   "source": [
    "df_summary_normalized.transpose().plot(kind='bar')"
   ]
  },
  {
   "cell_type": "markdown",
   "metadata": {},
   "source": [
    "## Study influence of offset"
   ]
  },
  {
   "cell_type": "code",
   "execution_count": null,
   "metadata": {},
   "outputs": [],
   "source": [
    "estimator_cubic = models['cubic']['estimator']\n",
    "estimator_cubic_int = EstimatorCubic(fit_method='integration', maxfev=100000, p0=estimator_cubic.parameters)\n",
    "\n",
    "steps = [\n",
    "    ('filter',lowpass_filter),\n",
    "    ('cutter', cutter), \n",
    "    ('offset_transformer',offset_transformer),\n",
    "    ('estimator', estimator_cubic_int)\n",
    "]\n",
    "\n",
    "model = Pipeline(steps=steps)"
   ]
  },
  {
   "cell_type": "code",
   "execution_count": null,
   "metadata": {},
   "outputs": [],
   "source": [
    "estimator_cubic_int = EstimatorCubic(fit_method='integration', maxfev=100000, p0=estimator_cubic.parameters)\n",
    "\n",
    "steps = [\n",
    "    ('filter',lowpass_filter),\n",
    "    ('cutter', cutter), \n",
    "    ('estimator', estimator_cubic_int)    \n",
    "]\n",
    "\n",
    "new_model = Pipeline(steps=steps)"
   ]
  },
  {
   "cell_type": "code",
   "execution_count": null,
   "metadata": {},
   "outputs": [],
   "source": [
    "df_summary_offset = pd.DataFrame()\n",
    "\n",
    "model.fit(run.df)\n",
    "s = pd.Series(name='without offset', data = model['estimator'].parameters)\n",
    "df_summary_offset['without offset'] = s\n",
    "\n",
    "new_model.fit(run.df)\n",
    "s = pd.Series(name='with offset', data = new_model['estimator'].parameters)\n",
    "df_summary_offset['with offset'] = s\n",
    "df_summary_offset=df_summary_offset.transpose()"
   ]
  },
  {
   "cell_type": "code",
   "execution_count": null,
   "metadata": {},
   "outputs": [],
   "source": [
    "fig,ax=plt.subplots()\n",
    "model['estimator'].plot_fit(ax=ax, label='without offset')\n",
    "new_model['estimator'].plot_fit(ax=ax, label='with offset')\n",
    "\n",
    "fig,ax=plt.subplots()\n",
    "model['estimator'].plot_damping(ax=ax, label='without offset')\n",
    "new_model['estimator'].plot_damping(ax=ax, label='with offset')\n",
    "\n",
    "fig,ax=plt.subplots()\n",
    "model['estimator'].plot_omega0(ax=ax, label='without offset')\n",
    "new_model['estimator'].plot_omega0(ax=ax, label='with offset')"
   ]
  },
  {
   "cell_type": "code",
   "execution_count": null,
   "metadata": {},
   "outputs": [],
   "source": [
    "fig,ax=plt.subplots()\n",
    "diff = model['estimator'].X-new_model['estimator'].X\n",
    "diff.plot(y='phi', ax=ax) "
   ]
  },
  {
   "cell_type": "code",
   "execution_count": null,
   "metadata": {},
   "outputs": [],
   "source": [
    "df_summary_offset = df_summary_offset[sorted(df_summary_offset.columns)]"
   ]
  },
  {
   "cell_type": "code",
   "execution_count": null,
   "metadata": {},
   "outputs": [],
   "source": [
    "df = df_summary_offset.transpose()\n",
    "(df['without offset']/df['with offset']).plot(kind='bar')"
   ]
  },
  {
   "cell_type": "code",
   "execution_count": null,
   "metadata": {},
   "outputs": [],
   "source": [
    "estimator = model['estimator']\n",
    "scale_factor = run.model.scale_factor\n",
    "Disp = run.loading_condition.Volume/(scale_factor**3)\n",
    "meta_data = {\n",
    "    'Volume' : Disp,\n",
    "    'GM': run.loading_condition.gm/scale_factor,\n",
    "}\n",
    "result = estimator.result_for_database(meta_data=meta_data)\n",
    "result"
   ]
  },
  {
   "cell_type": "code",
   "execution_count": null,
   "metadata": {},
   "outputs": [],
   "source": [
    "joblib.dump(model, '../models/KVLCC2_speed.pkl')"
   ]
  },
  {
   "cell_type": "code",
   "execution_count": null,
   "metadata": {},
   "outputs": [],
   "source": [
    "np.rad2deg(estimator.X.iloc[0]['phi'])"
   ]
  },
  {
   "cell_type": "code",
   "execution_count": null,
   "metadata": {},
   "outputs": [],
   "source": [
    "fig,ax=plt.subplots()\n",
    "estimator.plot_fit(ax=ax)\n",
    "ax.grid(True)\n"
   ]
  },
  {
   "cell_type": "code",
   "execution_count": null,
   "metadata": {},
   "outputs": [],
   "source": [
    "phi_as = np.deg2rad(np.linspace(0,10,100))\n",
    "B_es = lambdas.B_e_lambda_cubic(B_1=result['B_1'], B_2=result['B_2'], B_3=result['B_3'], omega0=result['omega0'], phi_a=phi_as)\n",
    "beam = run.ship.beam/scale_factor\n",
    "g = 9.81\n",
    "rho = 1025\n",
    "B_es_hat = lambdas.B_e_hat_lambda(B_e=B_es, Disp=Disp, beam=beam, g=g, rho=rho)\n",
    "fig,ax=plt.subplots()\n",
    "ax.plot(phi_as, B_es_hat)\n"
   ]
  },
  {
   "cell_type": "code",
   "execution_count": null,
   "metadata": {},
   "outputs": [],
   "source": []
  },
  {
   "cell_type": "code",
   "execution_count": null,
   "metadata": {},
   "outputs": [],
   "source": []
  },
  {
   "cell_type": "code",
   "execution_count": null,
   "metadata": {},
   "outputs": [],
   "source": []
  }
 ],
 "metadata": {
  "kernelspec": {
   "display_name": "Python 3",
   "language": "python",
   "name": "python3"
  },
  "language_info": {
   "codemirror_mode": {
    "name": "ipython",
    "version": 3
   },
   "file_extension": ".py",
   "mimetype": "text/x-python",
   "name": "python",
   "nbconvert_exporter": "python",
   "pygments_lexer": "ipython3",
   "version": "3.6.8"
  }
 },
 "nbformat": 4,
 "nbformat_minor": 4
}
