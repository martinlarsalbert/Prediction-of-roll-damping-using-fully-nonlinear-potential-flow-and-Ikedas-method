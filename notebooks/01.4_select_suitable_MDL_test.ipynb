{
 "cells": [
  {
   "cell_type": "markdown",
   "metadata": {},
   "source": [
    "# New take on selecting MDL tests"
   ]
  },
  {
   "cell_type": "markdown",
   "metadata": {},
   "source": [
    "# Purpose\n",
    "Find suitable MDL reference tests where:\n",
    "* More than 2 speeds\n",
    "* No bilge keels\n",
    "* High A0 mid section coefficient\n",
    "* Possible low wave damping"
   ]
  },
  {
   "cell_type": "markdown",
   "metadata": {},
   "source": [
    "# Methodology\n",
    "Search in the database"
   ]
  },
  {
   "cell_type": "markdown",
   "metadata": {},
   "source": [
    "# Setup"
   ]
  },
  {
   "cell_type": "code",
   "execution_count": 2,
   "metadata": {},
   "outputs": [
    {
     "name": "stdout",
     "output_type": "stream",
     "text": [
      "The autoreload extension is already loaded. To reload it, use:\n",
      "  %reload_ext autoreload\n"
     ]
    }
   ],
   "source": [
    "# %load imports.py\n",
    "\"\"\"\n",
    "These is the standard setup for the notebooks.\n",
    "\"\"\"\n",
    "\n",
    "%matplotlib inline\n",
    "%load_ext autoreload\n",
    "%autoreload 2\n",
    "\n",
    "from jupyterthemes import jtplot\n",
    "jtplot.style(theme='onedork', context='notebook', ticks=True, grid=False)\n",
    "\n",
    "import pandas as pd\n",
    "pd.options.display.max_rows = 999\n",
    "pd.options.display.max_columns = 999\n",
    "pd.set_option(\"display.max_columns\", None)\n",
    "import numpy as np\n",
    "import os\n",
    "import matplotlib.pyplot as plt\n",
    "from collections import OrderedDict\n",
    "#plt.style.use('paper')\n",
    "\n",
    "#import data\n",
    "import copy\n",
    "from mdldb.run import Run\n",
    "\n",
    "from sklearn.pipeline import Pipeline\n",
    "from rolldecayestimators.transformers import CutTransformer, LowpassFilterDerivatorTransformer, ScaleFactorTransformer, OffsetTransformer\n",
    "from rolldecayestimators.direct_estimator_cubic import EstimatorQuadraticB, EstimatorCubic\n",
    "from rolldecayestimators.ikeda_estimator import IkedaQuadraticEstimator\n",
    "import rolldecayestimators.equations as equations\n",
    "import rolldecayestimators.lambdas as lambdas\n",
    "from rolldecayestimators.substitute_dynamic_symbols import lambdify\n",
    "import rolldecayestimators.symbols as symbols\n",
    "import sympy as sp\n",
    "\n",
    "from sympy.physics.vector.printing import vpprint, vlatex\n",
    "from IPython.display import display, Math, Latex\n",
    "\n",
    "from sklearn.metrics import r2_score\n",
    "from src.data import database\n",
    "from mdldb import tables\n",
    "import shipflowmotionshelpers.shipflowmotionshelpers as helpers\n",
    "import src.visualization.visualize as visualize\n"
   ]
  },
  {
   "cell_type": "code",
   "execution_count": 3,
   "metadata": {},
   "outputs": [],
   "source": [
    "df_rolldecay = database.load(rolldecay_table_name='rolldecay_quadratic_b', limit_score=0.99, \n",
    "                             exclude_table_name='rolldecay_exclude')"
   ]
  },
  {
   "cell_type": "code",
   "execution_count": 18,
   "metadata": {},
   "outputs": [],
   "source": [
    "mask = df_rolldecay.BKL == 0\n",
    "df = df_rolldecay.loc[mask].copy()\n",
    "\n",
    "df_speed_variations = df.groupby(by = 'loading_condition_id').filter(lambda x: len(x['ship_speed'].unique()) > 1)\n",
    "loading_conditions = df_speed_variations.groupby(by = 'loading_condition_id').first()\n",
    "#loading_conditions"
   ]
  },
  {
   "cell_type": "code",
   "execution_count": 19,
   "metadata": {},
   "outputs": [
    {
     "name": "stdout",
     "output_type": "stream",
     "text": [
      "S:\\2015\\20157491-SDARI---twin-skeg-type-modular-carrier\n"
     ]
    }
   ],
   "source": [
    "loading_condition = loading_conditions.loc[134]\n",
    "\n",
    "print(loading_condition.project_path)"
   ]
  },
  {
   "cell_type": "code",
   "execution_count": 20,
   "metadata": {},
   "outputs": [
    {
     "data": {
      "text/plain": [
       "7.5"
      ]
     },
     "execution_count": 20,
     "metadata": {},
     "output_type": "execute_result"
    }
   ],
   "source": [
    "loading_condition.TA"
   ]
  },
  {
   "cell_type": "code",
   "execution_count": 53,
   "metadata": {},
   "outputs": [
    {
     "data": {
      "text/plain": [
       "7.5"
      ]
     },
     "execution_count": 53,
     "metadata": {},
     "output_type": "execute_result"
    }
   ],
   "source": [
    "loading_condition.TF"
   ]
  },
  {
   "cell_type": "code",
   "execution_count": 22,
   "metadata": {},
   "outputs": [
    {
     "data": {
      "text/plain": [
       "193.8"
      ]
     },
     "execution_count": 22,
     "metadata": {},
     "output_type": "execute_result"
    }
   ],
   "source": [
    "loading_condition.lpp"
   ]
  },
  {
   "cell_type": "code",
   "execution_count": 80,
   "metadata": {},
   "outputs": [],
   "source": [
    "draught = (loading_condition.TA + loading_condition.TF)/2"
   ]
  },
  {
   "cell_type": "code",
   "execution_count": 81,
   "metadata": {},
   "outputs": [
    {
     "data": {
      "text/html": [
       "<div>\n",
       "<style scoped>\n",
       "    .dataframe tbody tr th:only-of-type {\n",
       "        vertical-align: middle;\n",
       "    }\n",
       "\n",
       "    .dataframe tbody tr th {\n",
       "        vertical-align: top;\n",
       "    }\n",
       "\n",
       "    .dataframe thead th {\n",
       "        text-align: right;\n",
       "    }\n",
       "</style>\n",
       "<table border=\"1\" class=\"dataframe\">\n",
       "  <thead>\n",
       "    <tr style=\"text-align: right;\">\n",
       "      <th></th>\n",
       "      <th>x</th>\n",
       "      <th>y</th>\n",
       "      <th>z</th>\n",
       "    </tr>\n",
       "  </thead>\n",
       "  <tbody>\n",
       "    <tr>\n",
       "      <th>count</th>\n",
       "      <td>20717.000000</td>\n",
       "      <td>2.071700e+04</td>\n",
       "      <td>20717.000000</td>\n",
       "    </tr>\n",
       "    <tr>\n",
       "      <th>mean</th>\n",
       "      <td>80.594084</td>\n",
       "      <td>1.318084e+01</td>\n",
       "      <td>3.348210</td>\n",
       "    </tr>\n",
       "    <tr>\n",
       "      <th>std</th>\n",
       "      <td>68.325128</td>\n",
       "      <td>7.027157e+00</td>\n",
       "      <td>3.624176</td>\n",
       "    </tr>\n",
       "    <tr>\n",
       "      <th>min</th>\n",
       "      <td>-4.795000</td>\n",
       "      <td>-6.895055e-08</td>\n",
       "      <td>-0.003182</td>\n",
       "    </tr>\n",
       "    <tr>\n",
       "      <th>25%</th>\n",
       "      <td>23.041486</td>\n",
       "      <td>7.395656e+00</td>\n",
       "      <td>0.414801</td>\n",
       "    </tr>\n",
       "    <tr>\n",
       "      <th>50%</th>\n",
       "      <td>43.918851</td>\n",
       "      <td>1.268134e+01</td>\n",
       "      <td>2.206803</td>\n",
       "    </tr>\n",
       "    <tr>\n",
       "      <th>75%</th>\n",
       "      <td>159.624595</td>\n",
       "      <td>2.050386e+01</td>\n",
       "      <td>5.384788</td>\n",
       "    </tr>\n",
       "    <tr>\n",
       "      <th>max</th>\n",
       "      <td>201.505000</td>\n",
       "      <td>2.150280e+01</td>\n",
       "      <td>20.500002</td>\n",
       "    </tr>\n",
       "  </tbody>\n",
       "</table>\n",
       "</div>"
      ],
      "text/plain": [
       "                  x             y             z\n",
       "count  20717.000000  2.071700e+04  20717.000000\n",
       "mean      80.594084  1.318084e+01      3.348210\n",
       "std       68.325128  7.027157e+00      3.624176\n",
       "min       -4.795000 -6.895055e-08     -0.003182\n",
       "25%       23.041486  7.395656e+00      0.414801\n",
       "50%       43.918851  1.268134e+01      2.206803\n",
       "75%      159.624595  2.050386e+01      5.384788\n",
       "max      201.505000  2.150280e+01     20.500002"
      ]
     },
     "execution_count": 81,
     "metadata": {},
     "output_type": "execute_result"
    }
   ],
   "source": [
    "file_path = r'S:\\2020\\40209514-DEMOPS\\03_Project\\020_PROJECT_MANAGEMENT\\arbetsmapp\\ISOPE\\points3d.txt'\n",
    "points = pd.read_csv(file_path, sep=';', header=None)\n",
    "points.columns = ['x','y','z']\n",
    "points.describe()"
   ]
  },
  {
   "cell_type": "code",
   "execution_count": 140,
   "metadata": {},
   "outputs": [],
   "source": [
    "x = points['x'].unique()"
   ]
  },
  {
   "cell_type": "code",
   "execution_count": 141,
   "metadata": {},
   "outputs": [
    {
     "name": "stderr",
     "output_type": "stream",
     "text": [
      "c:\\dev\\prediction-of-roll-damping-using-fully-nonlinear-potential-flow-and-ikedas-method\\venv\\lib\\site-packages\\ipykernel_launcher.py:3: RuntimeWarning: divide by zero encountered in power\n",
      "  This is separate from the ipykernel package so we can avoid doing imports until\n",
      "c:\\dev\\prediction-of-roll-damping-using-fully-nonlinear-potential-flow-and-ikedas-method\\venv\\lib\\site-packages\\ipykernel_launcher.py:11: SettingWithCopyWarning: \n",
      "A value is trying to be set on a copy of a slice from a DataFrame\n",
      "\n",
      "See the caveats in the documentation: https://pandas.pydata.org/pandas-docs/stable/user_guide/indexing.html#returning-a-view-versus-a-copy\n",
      "  # This is added back by InteractiveShellApp.init_path()\n"
     ]
    },
    {
     "data": {
      "text/plain": [
       "[<matplotlib.lines.Line2D at 0x25493e92208>]"
      ]
     },
     "execution_count": 141,
     "metadata": {},
     "output_type": "execute_result"
    },
    {
     "data": {
      "image/png": "[encoded data removed]",
      "text/plain": [
       "<Figure size 576x504 with 1 Axes>"
      ]
     },
     "metadata": {},
     "output_type": "display_data"
    }
   ],
   "source": [
    "x_groups = points.groupby(by='x')\n",
    "N = 30\n",
    "z_ = np.linspace(0,1,N)**-1.5\n",
    "z_ = z_/z_[1]\n",
    "z = draught*z_[1:]\n",
    "z = np.concatenate((z,[0]))\n",
    "z = np.flipud(z)\n",
    "\n",
    "\n",
    "section = x_groups.get_group(x[int(len(x)/2)])\n",
    "section.sort_values(by='z', inplace=True)\n",
    "y = np.interp(z, section['z'], section['y'])\n",
    "    \n",
    "\n",
    "fig,ax=plt.subplots()\n",
    "section.plot(x='y', y='z', ax=ax)\n",
    "ax.plot(y,z,'.-')"
   ]
  },
  {
   "cell_type": "code",
   "execution_count": 142,
   "metadata": {},
   "outputs": [
    {
     "name": "stderr",
     "output_type": "stream",
     "text": [
      "c:\\dev\\prediction-of-roll-damping-using-fully-nonlinear-potential-flow-and-ikedas-method\\venv\\lib\\site-packages\\ipykernel_launcher.py:3: RuntimeWarning: divide by zero encountered in power\n",
      "  This is separate from the ipykernel package so we can avoid doing imports until\n"
     ]
    }
   ],
   "source": [
    "x_groups = points.groupby(by='x')\n",
    "N = 30\n",
    "z_ = np.linspace(0,1,N)**-1.5\n",
    "z_ = z_/z_[1]\n",
    "z = draught*z_[1:]\n",
    "z = np.concatenate((z,[0]))\n",
    "z = np.flipud(z)\n",
    "\n",
    "coordinates = np.zeros((len(x_groups),len(z)))\n",
    "\n",
    "for i,(_, section) in enumerate(x_groups):\n",
    "    section.sort_values(by='z', inplace=True)\n",
    "    y = np.interp(z, section['z'], section['y'])\n",
    "    \n",
    "    coordinates[i] = y"
   ]
  },
  {
   "cell_type": "code",
   "execution_count": 143,
   "metadata": {},
   "outputs": [
    {
     "data": {
      "text/plain": [
       "array([ 0.        , 19.70403753, 19.71393238, 19.72475181, 19.73662144,\n",
       "       19.74968976, 19.76413336, 19.78016373, 19.79803614, 19.81806117,\n",
       "       19.84062012, 19.86618575, 19.89535063, 19.92886636, 19.96769915,\n",
       "       20.0131097 , 20.06677087, 20.12285403, 20.17087832, 20.22662691,\n",
       "       20.28770239, 20.36619887, 20.45992018, 20.55021633, 20.65556479,\n",
       "       20.81607487, 21.08275456, 21.3594881 , 21.49791588, 21.49880709])"
      ]
     },
     "execution_count": 143,
     "metadata": {},
     "output_type": "execute_result"
    }
   ],
   "source": [
    "coordinates[int(len(x)/2),:]"
   ]
  },
  {
   "cell_type": "code",
   "execution_count": null,
   "metadata": {},
   "outputs": [],
   "source": []
  }
 ],
 "metadata": {
  "kernelspec": {
   "display_name": "Python 3",
   "language": "python",
   "name": "python3"
  },
  "language_info": {
   "codemirror_mode": {
    "name": "ipython",
    "version": 3
   },
   "file_extension": ".py",
   "mimetype": "text/x-python",
   "name": "python",
   "nbconvert_exporter": "python",
   "pygments_lexer": "ipython3",
   "version": "3.6.8"
  }
 },
 "nbformat": 4,
 "nbformat_minor": 4
}
