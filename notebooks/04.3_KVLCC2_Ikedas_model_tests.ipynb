{
 "cells": [
  {
   "cell_type": "markdown",
   "metadata": {},
   "source": [
    "# KVLCC2 Model tests vs. Ikeda and SI"
   ]
  },
  {
   "cell_type": "markdown",
   "metadata": {},
   "source": [
    "# Purpose\n",
    "Comparison between damping coefficients (with and without speed) from model tests and predictions with Ikeda and Simplified Ikeda (SI)."
   ]
  },
  {
   "cell_type": "markdown",
   "metadata": {},
   "source": [
    "# Methodology\n",
    "Quickly describe assumptions and processing steps."
   ]
  },
  {
   "cell_type": "markdown",
   "metadata": {},
   "source": [
    "# WIP - improvements\n",
    "(WORK IN PROGRESS)\n",
    "Use this section only if the notebook is not final.\n",
    "\n",
    "Notable TODOs:\n",
    "* todo 1\n",
    "* todo 2\n",
    "* todo 3"
   ]
  },
  {
   "cell_type": "markdown",
   "metadata": {},
   "source": [
    "## Results\n",
    "Describe and comment the most important results."
   ]
  },
  {
   "cell_type": "markdown",
   "metadata": {},
   "source": [
    "# Suggested next steps\n",
    "State suggested next steps, based on results obtained in this notebook."
   ]
  },
  {
   "cell_type": "markdown",
   "metadata": {},
   "source": [
    "# Setup"
   ]
  },
  {
   "cell_type": "code",
   "execution_count": null,
   "metadata": {},
   "outputs": [],
   "source": [
    "# %load imports.py\n",
    "\"\"\"\n",
    "These is the standard setup for the notebooks.\n",
    "\"\"\"\n",
    "\n",
    "%matplotlib inline\n",
    "%load_ext autoreload\n",
    "%autoreload 2\n",
    "\n",
    "from jupyterthemes import jtplot\n",
    "jtplot.style(theme='onedork', context='notebook', ticks=True, grid=False)\n",
    "\n",
    "import pandas as pd\n",
    "pd.options.display.max_rows = 999\n",
    "pd.options.display.max_columns = 999\n",
    "pd.set_option(\"display.max_columns\", None)\n",
    "import numpy as np\n",
    "import os\n",
    "import matplotlib.pyplot as plt\n",
    "from collections import OrderedDict\n",
    "#plt.style.use('paper')\n",
    "\n",
    "#import data\n",
    "import copy\n",
    "from mdldb.run import Run\n",
    "\n",
    "from sklearn.pipeline import Pipeline\n",
    "from rolldecayestimators.transformers import CutTransformer, LowpassFilterDerivatorTransformer, ScaleFactorTransformer, OffsetTransformer\n",
    "from rolldecayestimators.direct_estimator_cubic import EstimatorQuadraticB, EstimatorCubic\n",
    "from rolldecayestimators.ikeda_estimator import IkedaQuadraticEstimator\n",
    "import rolldecayestimators.equations as equations\n",
    "import rolldecayestimators.lambdas as lambdas\n",
    "from rolldecayestimators.substitute_dynamic_symbols import lambdify\n",
    "import rolldecayestimators.symbols as symbols\n",
    "import sympy as sp\n",
    "\n",
    "from sympy.physics.vector.printing import vpprint, vlatex\n",
    "from IPython.display import display, Math, Latex\n",
    "\n",
    "from sklearn.metrics import r2_score\n",
    "from src.data import database\n",
    "from mdldb import tables\n"
   ]
  },
  {
   "cell_type": "code",
   "execution_count": null,
   "metadata": {},
   "outputs": [],
   "source": [
    "import pyscores2\n",
    "import pyscores2.runScores2\n",
    "import pyscores2.xml_hydrostatics\n",
    "from pyscores2.output import OutputFile\n",
    "from rolldecayestimators.ikeda import Ikeda, IkedaR\n",
    "\n",
    "from rolldecayestimators.simplified_ikeda_class import SimplifiedIkeda, SimplifiedIkedaABS\n",
    "from rolldecayestimators.simplified_ikeda import limits_kawahara\n",
    "from pyscores2.runScores2 import Calculation\n",
    "from pyscores2.indata import Indata\n",
    "import joblib\n",
    "from scipy.optimize import least_squares\n",
    "from reports.paper_writing import save_fig"
   ]
  },
  {
   "cell_type": "code",
   "execution_count": null,
   "metadata": {},
   "outputs": [],
   "source": [
    "db = database.get_db()"
   ]
  },
  {
   "cell_type": "code",
   "execution_count": null,
   "metadata": {},
   "outputs": [],
   "source": [
    "sql = \"\"\"\n",
    "SELECT * from run\n",
    "INNER JOIN loading_conditions\n",
    "ON (run.loading_condition_id = loading_conditions.id)\n",
    "INNER JOIN models\n",
    "ON (run.model_number = models.model_number)\n",
    "INNER JOIN ships\n",
    "ON (run.ship_name = ships.name)\n",
    "WHERE run.model_number='M5057-01-A' and run.test_type='roll decay' and run.project_number=40178362;\n",
    "\"\"\"\n",
    "df_rolldecays = pd.read_sql(sql=sql, con=db.engine)\n",
    "df_rolldecays=df_rolldecays.loc[:,~df_rolldecays.columns.duplicated()]\n",
    "df_rolldecays.set_index('id', inplace=True)\n",
    "\n",
    "df_rolldecays['ship_speed'].fillna(0, inplace=True)\n"
   ]
  },
  {
   "cell_type": "code",
   "execution_count": null,
   "metadata": {},
   "outputs": [],
   "source": [
    "df_rolldecays.head()"
   ]
  },
  {
   "cell_type": "code",
   "execution_count": null,
   "metadata": {},
   "outputs": [],
   "source": [
    "def calculate_ikeda(ikeda):\n",
    "\n",
    "    output = pd.DataFrame()\n",
    "    output['B_44_hat']   = ikeda.calculate_B44()\n",
    "    output['B_W0_hat']   = float(ikeda.calculate_B_W0())\n",
    "    output['B_W_hat']    = float(ikeda.calculate_B_W())\n",
    "    output['B_F_hat']    = ikeda.calculate_B_F()\n",
    "    output['B_E_hat']    = ikeda.calculate_B_E()\n",
    "    output['B_BK_hat']   = ikeda.calculate_B_BK()\n",
    "    output['B_L_hat']    = float(ikeda.calculate_B_L())\n",
    "    output['Bw_div_Bw0'] = float(ikeda.calculate_Bw_div_Bw0())\n",
    "    return output"
   ]
  },
  {
   "cell_type": "code",
   "execution_count": null,
   "metadata": {},
   "outputs": [],
   "source": [
    "#df_rolldecays=df_rolldecays.loc[[21337,21338,21340,]].copy()\n",
    "df_rolldecays=df_rolldecays.loc[[21338,21340,]].copy()"
   ]
  },
  {
   "cell_type": "code",
   "execution_count": null,
   "metadata": {},
   "outputs": [],
   "source": [
    "resources={\n",
    "    21338 : {\n",
    "        'scores_indata_path':'../models/KVLCC2_speed.IN',\n",
    "        'scores_outdata_path':'../data/interim/KVLCC2_speed.out',\n",
    "        'roll_decay_model':'../models/KVLCC2_0_speed.pkl',\n",
    "    },\n",
    "    21340 : {\n",
    "        'scores_indata_path':'../models/KVLCC2_speed.IN',\n",
    "        'scores_outdata_path':'../data/interim/KVLCC2_speed.out',\n",
    "        'roll_decay_model':'../models/KVLCC2_speed.pkl',\n",
    "    }\n",
    "}"
   ]
  },
  {
   "cell_type": "code",
   "execution_count": null,
   "metadata": {},
   "outputs": [],
   "source": [
    "g=9.81\n",
    "rho=1000\n",
    "\n",
    "phi_as = np.deg2rad(np.linspace(0,10,30))\n",
    "results = pd.DataFrame()\n",
    "\n",
    "for id, row in df_rolldecays.iterrows():\n",
    "    run = db.session.query(Run).get(int(row.name))\n",
    "    run = database.load_run(run, save_as_example=False, prefer_hdf5=True)\n",
    "    scale_factor = run.model.scale_factor\n",
    "    \n",
    "    resource = resources[id]\n",
    "    \n",
    "    ## Load ScoresII results\n",
    "    indata = Indata()\n",
    "    indata.open(indataPath='../models/KVLCC2_speed.IN')\n",
    "    output_file = OutputFile(filePath='../data/interim/KVLCC2_speed.out')\n",
    "    \n",
    "    ## Compare with model test\n",
    "    model = joblib.load(resource['roll_decay_model'])\n",
    "    estimator = model['estimator']\n",
    "    \n",
    "    ## Non. Lin. linear equivalent damping\n",
    "    GM = run.loading_condition.gm/scale_factor\n",
    "    volume = run.loading_condition.Volume/(scale_factor**3)\n",
    "    GM = run.loading_condition.gm/scale_factor\n",
    "    beam = run.ship.beam/scale_factor\n",
    "\n",
    "    meta_data = {\n",
    "        'Volume':volume,\n",
    "        'GM':GM,\n",
    "        'rho':rho,\n",
    "        'g':g,\n",
    "    }\n",
    "    parameters = estimator.result_for_database(meta_data = meta_data)\n",
    "    B_e = lambdas.B_e_lambda_cubic(B_1=parameters['B_1'], B_2=parameters['B_2'], B_3=parameters['B_3'], \n",
    "                                   omega0=parameters['omega0'], phi_a=phi_as)\n",
    "    B_e_hat = lambdas.B_hat_lambda(B=B_e, Disp=volume, beam=beam, g=g, rho=rho)\n",
    "\n",
    "    ## Run Ikeda\n",
    "    w = parameters['omega0']\n",
    "    scale_factor=run.model.scale_factor\n",
    "    V = row.ship_speed*1.852/3.6/np.sqrt(scale_factor)\n",
    "    \n",
    "    if not run.ship.BKL:\n",
    "        BKL=0\n",
    "    else:\n",
    "        BKL=run.ship.BKL/scale_factor\n",
    "    \n",
    "    if not run.ship.BKB:\n",
    "        BKB = 0\n",
    "    else:\n",
    "        BKB=run.ship.BKB/scale_factor\n",
    "    \n",
    "    fi_as = np.deg2rad(10)\n",
    "    \n",
    "    BKL_ = BKL*np.ones(len(phi_as))\n",
    "    BKB_ = BKB*np.ones(len(phi_as))\n",
    "    \n",
    "    ikeda = Ikeda.load_scoresII(V=V, w=w, fi_a=phi_as, indata=indata, output_file=output_file, \n",
    "                                scale_factor=scale_factor, BKL=BKL_, BKB=BKB_)\n",
    "    \n",
    "    R = 0.15*run.ship.beam/scale_factor  # Just guessing...\n",
    "    ikeda.R = R\n",
    "    \n",
    "    df_ikeda = calculate_ikeda(ikeda=ikeda)\n",
    "    df_ikeda['phi_as']=phi_as\n",
    "    df_ikeda.set_index('phi_as',inplace=True)\n",
    "    df_ikeda['phi_as_deg']=np.rad2deg(phi_as)\n",
    "    df_ikeda['B_e_hat_model_test']=B_e_hat\n",
    "    df_ikeda['B_e_hat_model_test']=df_ikeda['B_e_hat_model_test'].astype('float')\n",
    "    df_ikeda['id']=id\n",
    "    results=results.append(df_ikeda)\n",
    "        "
   ]
  },
  {
   "cell_type": "code",
   "execution_count": null,
   "metadata": {},
   "outputs": [],
   "source": [
    "ymax = np.max([df_ikeda['B_44_hat'].max(),df_ikeda['B_e_hat_model_test'].max()])\n",
    "for id,df_ikeda in results.groupby(by='id'):\n",
    "    fig,ax=plt.subplots()\n",
    "    interesting_ = ['B_L_hat','B_W_hat','B_F_hat','B_E_hat',]\n",
    "    df_ikeda.plot.area(x='phi_as_deg', y=interesting_, ax=ax)\n",
    "    \n",
    "    df_ikeda.plot(x='phi_as_deg',y='B_e_hat_model_test', label='cubic model', ax=ax)\n",
    "    \n",
    "    resource = resources[id]\n",
    "    model = joblib.load(resource['roll_decay_model'])\n",
    "    estimator = model['estimator']\n",
    "    X_amplitudes=estimator.X_amplitudes.copy()\n",
    "    X_amplitudes['phi_a_deg'] = np.rad2deg(X_amplitudes['phi_a'])\n",
    "    result_for_database = estimator.result_for_database(meta_data=meta_data)\n",
    "    omega0=result_for_database['omega0']\n",
    "    A_44=result_for_database['A_44']\n",
    "    X_amplitudes['B']=X_amplitudes['B_n']*2*omega0*A_44/2\n",
    "    \n",
    "    X_amplitudes['B_hat'] = lambdas.B_hat_lambda(B=X_amplitudes['B'], Disp=volume, beam=beam, g=g, rho=rho)\n",
    "    X_amplitudes.plot(x='phi_a_deg', y='B_hat', style='k.', label='model test', ax=ax)\n",
    "    \n",
    "    ax.legend()\n",
    "    ax.set_xlabel('$\\phi_a$ [deg] (Roll amplitude)')\n",
    "    ax.set_ylabel('$\\hat{B_e}$ [-] (Nonlin. linear equivalent damping)');\n",
    "    \n",
    "    s = df_rolldecays.loc[id]\n",
    "    title='Ship speed: %0.1f [kts]' % s.ship_speed\n",
    "    ax.set_title(title)    \n",
    "    ax.set_ylim(0,ymax)\n",
    "    \n",
    "    figure_name = 'KVLCC2_B_e_%0.1f' % s.ship_speed\n",
    "    save_fig(fig, name=figure_name)\n",
    "    "
   ]
  },
  {
   "cell_type": "markdown",
   "metadata": {},
   "source": [
    "## Time "
   ]
  },
  {
   "cell_type": "code",
   "execution_count": null,
   "metadata": {},
   "outputs": [],
   "source": [
    "def residual(x,df, omega0):\n",
    "    \"\"\"\n",
    "    Residual function for least square fit\n",
    "    \"\"\"\n",
    "    \n",
    "    B_1 = x[0]\n",
    "    B_2 = x[1]\n",
    "    B_3 = x[2]\n",
    "    \n",
    "    phi_a = df.index\n",
    "    B_e_pred = lambdas.B_e_lambda_cubic(B_1=B_1, B_2=B_2, B_3=B_3, omega0=omega0, phi_a=phi_a)\n",
    "    B_e_true = df['B_44']    \n",
    "    error = B_e_true-B_e_pred\n",
    "    \n",
    "    return error\n",
    "    "
   ]
  },
  {
   "cell_type": "code",
   "execution_count": null,
   "metadata": {},
   "outputs": [],
   "source": [
    "for id,df_ikeda in results.groupby(by='id'):\n",
    "    \n",
    "    ## Convert to dimensional damping [Nm/s]\n",
    "    df_ikeda['B_44'] = lambdas.B_from_hat_lambda(B_44_hat=df_ikeda['B_44_hat'], Disp=volume, beam=beam, g=g, rho=rho)\n",
    "    \n",
    "    ## Load the cubic model\n",
    "    resource = resources[id]\n",
    "    model = joblib.load(resource['roll_decay_model'])\n",
    "    estimator = model['estimator']\n",
    "    result_for_database = estimator.result_for_database(meta_data=meta_data)\n",
    "    omega0=result_for_database['omega0']\n",
    "    A_44=result_for_database['A_44']\n",
    "    \n",
    "    ## Use least square fit of B_44 as a function of phi_a to determine B_1, B_2 and B_3:\n",
    "    x0 = [result_for_database['B_1'],\n",
    "      result_for_database['B_2'],\n",
    "      result_for_database['B_3'],\n",
    "     ]\n",
    "    kwargs = {\n",
    "    'df':df_ikeda,\n",
    "    'omega0':omega0,\n",
    "    }\n",
    "\n",
    "    result = least_squares(fun=residual, x0=x0, kwargs=kwargs, method='lm')\n",
    "    assert result.success\n",
    "    \n",
    "    ## Feed the results into a cubic model:\n",
    "    parameters = {\n",
    "    'B_1A':result.x[0]/A_44,\n",
    "    'B_2A':result.x[1]/A_44,\n",
    "    'B_3A':result.x[2]/A_44,\n",
    "    'C_1A':estimator.parameters['C_1A'],\n",
    "    'C_3A':estimator.parameters['C_3A'],\n",
    "    'C_5A':estimator.parameters['C_5A'],\n",
    "    }\n",
    "\n",
    "    model_ikeda = EstimatorCubic.load(**parameters, X=estimator.X)\n",
    "    \n",
    "    ## Plotting:\n",
    "    fig,ax=plt.subplots()\n",
    "    model_ikeda.plot_fit(label='ikeda', ax=ax)\n",
    "    s = df_rolldecays.loc[id]\n",
    "    title='Ship speed: %0.1f [kts]' % s.ship_speed\n",
    "    ax.set_title(title)    \n",
    "\n",
    "    fig,ax=plt.subplots()\n",
    "    model_ikeda.plot_damping(label='ikeda', ax=ax)\n",
    "    model['estimator'].plot_damping(label='cubic model', include_model_test=False, ax=ax)\n",
    "    ax.set_title(title) \n",
    "    "
   ]
  },
  {
   "cell_type": "code",
   "execution_count": null,
   "metadata": {},
   "outputs": [],
   "source": []
  },
  {
   "cell_type": "code",
   "execution_count": null,
   "metadata": {},
   "outputs": [],
   "source": []
  }
 ],
 "metadata": {
  "kernelspec": {
   "display_name": "Python 3",
   "language": "python",
   "name": "python3"
  },
  "language_info": {
   "codemirror_mode": {
    "name": "ipython",
    "version": 3
   },
   "file_extension": ".py",
   "mimetype": "text/x-python",
   "name": "python",
   "nbconvert_exporter": "python",
   "pygments_lexer": "ipython3",
   "version": "3.6.8"
  }
 },
 "nbformat": 4,
 "nbformat_minor": 4
}
