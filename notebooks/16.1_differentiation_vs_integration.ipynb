{
 "cells": [
  {
   "cell_type": "markdown",
   "metadata": {},
   "source": [
    "# Differentiation vs. integration approach"
   ]
  },
  {
   "cell_type": "markdown",
   "metadata": {},
   "source": [
    "# Purpose\n",
    "The paper claims that the integration approch is better than the differentiation approach as a Parameter Identification Technique. This notebook investigates this statement."
   ]
  },
  {
   "cell_type": "markdown",
   "metadata": {},
   "source": [
    "# Methodology\n",
    "PIT using the two methods is used on a simulated signal with Gaus distributed measurement noise."
   ]
  },
  {
   "cell_type": "markdown",
   "metadata": {},
   "source": [
    "# Setup"
   ]
  },
  {
   "cell_type": "code",
   "execution_count": 1,
   "metadata": {},
   "outputs": [
    {
     "name": "stderr",
     "output_type": "stream",
     "text": [
      "Duplicate key in file WindowsPath('C:/Users/maa/.matplotlib/stylelib/paper.mplstyle'), line 462 ('figure.figsize   : 5, 3   ## figure size in inches')\n",
      "Duplicate key in file WindowsPath('C:/Users/maa/.matplotlib/stylelib/paper.mplstyle'), line 463 ('figure.dpi       : 100        ## figure dots per inch')\n"
     ]
    }
   ],
   "source": [
    "# %load imports.py\n",
    "\"\"\"\n",
    "These is the standard setup for the notebooks.\n",
    "\"\"\"\n",
    "\n",
    "%matplotlib inline\n",
    "%load_ext autoreload\n",
    "%autoreload 2\n",
    "\n",
    "import sys\n",
    "sys.path.append(\"../../\")\n",
    "\n",
    "import pandas as pd\n",
    "pd.options.display.max_rows = 999\n",
    "pd.options.display.max_columns = 999\n",
    "pd.set_option(\"display.max_columns\", None)\n",
    "import numpy as np\n",
    "import os\n",
    "import matplotlib.pyplot as plt\n",
    "from collections import OrderedDict\n",
    "import copy\n",
    "from sklearn.pipeline import Pipeline\n",
    "from rolldecayestimators.transformers import CutTransformer, LowpassFilterDerivatorTransformer, ScaleFactorTransformer, OffsetTransformer\n",
    "from rolldecayestimators.direct_estimator_cubic import EstimatorLinear\n",
    "import src.equations as equations\n",
    "import rolldecayestimators.lambdas as lambdas\n",
    "from rolldecayestimators.substitute_dynamic_symbols import lambdify, run\n",
    "import rolldecayestimators.symbols as symbols\n",
    "import sympy as sp\n",
    "\n",
    "from sympy.physics.vector.printing import vpprint, vlatex\n",
    "from IPython.display import display, Math, Latex\n",
    "\n",
    "from sklearn.metrics import r2_score\n",
    "import shipflowmotionshelpers.shipflowmotionshelpers as helpers\n",
    "import src.visualization.visualize as visualize\n",
    "import scipy\n",
    "from copy import deepcopy\n",
    "import joblib"
   ]
  },
  {
   "cell_type": "code",
   "execution_count": 2,
   "metadata": {},
   "outputs": [],
   "source": [
    "from rolldecayestimators.direct_estimator_cubic import EstimatorCubic,EstimatorQuadraticB\n",
    "from sklearn.base import clone\n",
    "from copy import deepcopy\n",
    "from numpy.random import normal\n",
    "\n",
    "import reports.examples.analytical_numerical"
   ]
  },
  {
   "cell_type": "code",
   "execution_count": 3,
   "metadata": {},
   "outputs": [],
   "source": [
    "eq_phi1d = sp.Eq(symbols.phi_dot_dot,\n",
    "      sp.solve(equations.roll_decay_equation_quadratic_A,symbols.phi_dot_dot)[0])\n",
    "\n",
    "accelaration_lambda = lambdify(sp.solve(eq_phi1d,symbols.phi_dot_dot)[0])"
   ]
  },
  {
   "cell_type": "code",
   "execution_count": 4,
   "metadata": {},
   "outputs": [],
   "source": [
    "omega0_eq = equations.omega0_equation.subs(symbols.C,symbols.C_1)\n",
    "omega0_lambda = lambdify(sp.solve(omega0_eq, symbols.omega0)[0])"
   ]
  },
  {
   "cell_type": "code",
   "execution_count": 5,
   "metadata": {},
   "outputs": [],
   "source": [
    "\n",
    "df = reports.examples.analytical_numerical.show(omega0_lambda=omega0_lambda, \n",
    "                                                accelaration_lambda=accelaration_lambda, plot=False)\n",
    "df_true = df.drop(columns=['phi1d'])"
   ]
  },
  {
   "cell_type": "code",
   "execution_count": 6,
   "metadata": {},
   "outputs": [
    {
     "data": {
      "text/html": [
       "<div>\n",
       "<style scoped>\n",
       "    .dataframe tbody tr th:only-of-type {\n",
       "        vertical-align: middle;\n",
       "    }\n",
       "\n",
       "    .dataframe tbody tr th {\n",
       "        vertical-align: top;\n",
       "    }\n",
       "\n",
       "    .dataframe thead th {\n",
       "        text-align: right;\n",
       "    }\n",
       "</style>\n",
       "<table border=\"1\" class=\"dataframe\">\n",
       "  <thead>\n",
       "    <tr style=\"text-align: right;\">\n",
       "      <th></th>\n",
       "      <th>phi</th>\n",
       "    </tr>\n",
       "  </thead>\n",
       "  <tbody>\n",
       "    <tr>\n",
       "      <th>0.00</th>\n",
       "      <td>0.174533</td>\n",
       "    </tr>\n",
       "    <tr>\n",
       "      <th>0.01</th>\n",
       "      <td>0.174489</td>\n",
       "    </tr>\n",
       "    <tr>\n",
       "      <th>0.02</th>\n",
       "      <td>0.174359</td>\n",
       "    </tr>\n",
       "    <tr>\n",
       "      <th>0.03</th>\n",
       "      <td>0.174142</td>\n",
       "    </tr>\n",
       "    <tr>\n",
       "      <th>0.04</th>\n",
       "      <td>0.173838</td>\n",
       "    </tr>\n",
       "  </tbody>\n",
       "</table>\n",
       "</div>"
      ],
      "text/plain": [
       "           phi\n",
       "0.00  0.174533\n",
       "0.01  0.174489\n",
       "0.02  0.174359\n",
       "0.03  0.174142\n",
       "0.04  0.173838"
      ]
     },
     "execution_count": 6,
     "metadata": {},
     "output_type": "execute_result"
    }
   ],
   "source": [
    "df_true.head()"
   ]
  },
  {
   "cell_type": "code",
   "execution_count": 7,
   "metadata": {},
   "outputs": [],
   "source": [
    "df_measure = df_true.copy()\n",
    "np.random.seed(42)\n",
    "df_measure['noise'] = normal(loc=0, scale=np.deg2rad(0.5), size=len(df_measure))\n",
    "df_measure['phi']+=df_measure['noise']"
   ]
  },
  {
   "cell_type": "markdown",
   "metadata": {},
   "source": [
    "## Analyze the damping"
   ]
  },
  {
   "cell_type": "code",
   "execution_count": 8,
   "metadata": {},
   "outputs": [],
   "source": [
    "np.random.seed(42)\n",
    "lowpass_filter = LowpassFilterDerivatorTransformer(cutoff=1, minimum_score=0.0)\n",
    "cutter = CutTransformer(phi_max=np.deg2rad(15), phi_min=np.deg2rad(0), phi1d_start_tolerance=0.015)\n",
    "offset_transformer = OffsetTransformer()"
   ]
  },
  {
   "cell_type": "code",
   "execution_count": 9,
   "metadata": {},
   "outputs": [
    {
     "data": {
      "text/plain": [
       "<AxesSubplot:>"
      ]
     },
     "execution_count": 9,
     "metadata": {},
     "output_type": "execute_result"
    },
    {
     "data": {
      "image/png": "[encoded data removed]",
      "text/plain": [
       "<Figure size 432x288 with 1 Axes>"
      ]
     },
     "metadata": {
      "needs_background": "light"
     },
     "output_type": "display_data"
    }
   ],
   "source": [
    "fig,ax=plt.subplots()\n",
    "\n",
    "df.plot(y='phi1d',style='-', color='grey', label='true', ax=ax, alpha=0.75)\n",
    "\n",
    "lowpass_filter.fit(df_measure).transform(df_measure).plot(y='phi1d',style='b-', label='filtered', ax=ax)"
   ]
  },
  {
   "cell_type": "code",
   "execution_count": 10,
   "metadata": {},
   "outputs": [
    {
     "data": {
      "text/plain": [
       "0.9262226087157728"
      ]
     },
     "execution_count": 10,
     "metadata": {},
     "output_type": "execute_result"
    }
   ],
   "source": [
    "np.random.seed(42)\n",
    "estimator_diff = EstimatorLinear(fit_method='derivation', maxfev=100000)\n",
    "\n",
    "steps = [\n",
    "    ('filter',lowpass_filter),\n",
    "    #('cutter', cutter), \n",
    "    ('estimator', estimator_diff)\n",
    "]\n",
    "\n",
    "pipline_estimator_diff = Pipeline(steps=steps)\n",
    "pipline_estimator_diff.fit(X=df_measure[['phi']])\n",
    "df_diff = pipline_estimator_diff.predict(df_true)\n",
    "pipline_estimator_diff.score(df_true)"
   ]
  },
  {
   "cell_type": "code",
   "execution_count": 11,
   "metadata": {},
   "outputs": [
    {
     "data": {
      "text/plain": [
       "{'C_1A': 4.528247565167409, 'B_1A': 0.3300282442976332}"
      ]
     },
     "execution_count": 11,
     "metadata": {},
     "output_type": "execute_result"
    }
   ],
   "source": [
    "pipline_estimator_diff['estimator'].parameters"
   ]
  },
  {
   "cell_type": "code",
   "execution_count": 12,
   "metadata": {},
   "outputs": [
    {
     "data": {
      "text/plain": [
       "0.9802886393850015"
      ]
     },
     "execution_count": 12,
     "metadata": {},
     "output_type": "execute_result"
    }
   ],
   "source": [
    "estimator_int= EstimatorLinear(fit_method='integration', maxfev=100000, p0=estimator_diff.parameters)\n",
    "\n",
    "steps = [\n",
    "    ('filter',lowpass_filter),\n",
    "    #('cutter', cutter), \n",
    "    ('estimator', estimator_int)\n",
    "]\n",
    "\n",
    "pipline_estimator_int = Pipeline(steps=steps)\n",
    "pipline_estimator_int.fit(X=df_measure[['phi']])\n",
    "df_int = pipline_estimator_int.predict(df_true)\n",
    "pipline_estimator_int.score(df_true)"
   ]
  },
  {
   "cell_type": "code",
   "execution_count": 13,
   "metadata": {},
   "outputs": [
    {
     "data": {
      "text/plain": [
       "{'C_1A': 4.74725600798353, 'B_1A': 0.3261232770509625}"
      ]
     },
     "execution_count": 13,
     "metadata": {},
     "output_type": "execute_result"
    }
   ],
   "source": [
    "pipline_estimator_int['estimator'].parameters"
   ]
  },
  {
   "cell_type": "code",
   "execution_count": 14,
   "metadata": {},
   "outputs": [
    {
     "data": {
      "text/plain": [
       "<matplotlib.legend.Legend at 0x234116a3be0>"
      ]
     },
     "execution_count": 14,
     "metadata": {},
     "output_type": "execute_result"
    },
    {
     "data": {
      "image/png": "[encoded data removed]",
      "text/plain": [
       "<Figure size 432x288 with 1 Axes>"
      ]
     },
     "metadata": {
      "needs_background": "light"
     },
     "output_type": "display_data"
    }
   ],
   "source": [
    "fig,ax=plt.subplots()\n",
    "\n",
    "df_measure.plot(y='phi',style='-', color='grey', label='measurement', ax=ax, alpha=0.5)\n",
    "df_diff.plot(y='phi',style='r-', label='differentiation', ax=ax)\n",
    "df_int.plot(y='phi',style='g-', label='integration', ax=ax)\n",
    "df_true.plot(y='phi',style='k:', label='true', ax=ax)\n",
    "\n",
    "ax.set_ylabel(r'$\\phi$ $[rad]$')\n",
    "ax.set_xlabel(r'time $[s]$')\n",
    "ax.grid(True)\n",
    "ax.legend()"
   ]
  },
  {
   "cell_type": "code",
   "execution_count": 15,
   "metadata": {},
   "outputs": [],
   "source": [
    "df_compare = df_true.copy()\n",
    "\n",
    "frames = {\n",
    "    'measure' : df_measure,\n",
    "    'diff' : df_diff,\n",
    "    'int' : df_int,\n",
    "}\n",
    "\n",
    "for name, df_ in frames.items():\n",
    "    \n",
    "    df_compare = pd.merge(left=df_compare, right=df_[['phi']], how='left', \n",
    "                      left_index=True, right_index=True, suffixes=('','_%s' % name))\n",
    "\n",
    "df_compare_diff = df_compare.sub(df_compare['phi'], axis='rows')"
   ]
  },
  {
   "cell_type": "code",
   "execution_count": 16,
   "metadata": {},
   "outputs": [
    {
     "data": {
      "text/plain": [
       "<AxesSubplot:>"
      ]
     },
     "execution_count": 16,
     "metadata": {},
     "output_type": "execute_result"
    },
    {
     "data": {
      "image/png": "[encoded data removed]",
      "text/plain": [
       "<Figure size 432x288 with 1 Axes>"
      ]
     },
     "metadata": {
      "needs_background": "light"
     },
     "output_type": "display_data"
    }
   ],
   "source": [
    "df_compare_diff.plot()"
   ]
  },
  {
   "cell_type": "markdown",
   "metadata": {},
   "source": [
    "## Vary filter:"
   ]
  },
  {
   "cell_type": "code",
   "execution_count": 17,
   "metadata": {},
   "outputs": [],
   "source": [
    "def vary_cutoff(cutoff:float, fit_method:str): \n",
    "    \n",
    "    lowpass_filter = LowpassFilterDerivatorTransformer(cutoff=cutoff, minimum_score=0.0)\n",
    "      \n",
    "    estimator = EstimatorLinear(fit_method='derivation', maxfev=100000)\n",
    "    steps = [\n",
    "        ('filter',lowpass_filter),\n",
    "        ('estimator', estimator)\n",
    "    ]\n",
    "    \n",
    "    pipeline = Pipeline(steps=steps)\n",
    "    pipeline.fit(X=df_measure[['phi']])\n",
    "    \n",
    "    if fit_method is 'integration':\n",
    "        estimator = EstimatorLinear(fit_method='integration', maxfev=100000, \n",
    "                                         p0=estimator.parameters)\n",
    "        steps = [\n",
    "            ('filter',lowpass_filter),\n",
    "            ('cutter', cutter), \n",
    "            ('estimator', estimator)\n",
    "        ]\n",
    "        pipeline = Pipeline(steps=steps)\n",
    "        pipeline.fit(X=df[['phi']])\n",
    "    \n",
    "    return pipeline['estimator'].parameters"
   ]
  },
  {
   "cell_type": "code",
   "execution_count": 18,
   "metadata": {},
   "outputs": [],
   "source": [
    "N = 10\n",
    "np.random.seed(42)\n",
    "\n",
    "cutoffs = np.linspace(0.7,6,N)\n",
    "df_vary = pd.DataFrame()\n",
    "for cutoff in cutoffs:\n",
    "    \n",
    "    for method in ['differentiation','integration']:\n",
    "        s = pd.Series(vary_cutoff(cutoff=cutoff, fit_method=method))\n",
    "        s['method'] = method\n",
    "        s['cutoff'] = cutoff\n",
    "        df_vary = df_vary.append(s, ignore_index=True)\n",
    "    \n",
    " \n",
    "    "
   ]
  },
  {
   "cell_type": "code",
   "execution_count": 19,
   "metadata": {},
   "outputs": [],
   "source": [
    "s_true = pd.Series()\n",
    "A_44 = 1.0\n",
    "B_1 = 0.3\n",
    "C_1 = 5.0\n",
    "s_true['B_1A'] = B_1/A_44\n",
    "s_true['B_2A'] = 0\n",
    "\n",
    "s_true['C_1A'] = C_1/A_44\n",
    "s_true['C_3A'] = 0\n",
    "s_true['C_5A'] = 0\n"
   ]
  },
  {
   "cell_type": "code",
   "execution_count": 20,
   "metadata": {},
   "outputs": [
    {
     "data": {
      "text/plain": [
       "B_1A    0.3\n",
       "B_2A    0.0\n",
       "C_1A    5.0\n",
       "C_3A    0.0\n",
       "C_5A    0.0\n",
       "dtype: float64"
      ]
     },
     "execution_count": 20,
     "metadata": {},
     "output_type": "execute_result"
    }
   ],
   "source": [
    "s_true"
   ]
  },
  {
   "cell_type": "code",
   "execution_count": 21,
   "metadata": {},
   "outputs": [],
   "source": [
    "df_error = df_vary.select_dtypes(exclude='object').sub(s_true).abs()\n",
    "df_error['method'] = df_vary['method']\n",
    "df_error['cutoff'] = df_vary['cutoff']"
   ]
  },
  {
   "cell_type": "code",
   "execution_count": 22,
   "metadata": {},
   "outputs": [
    {
     "data": {
      "image/png": "[encoded data removed]",
      "text/plain": [
       "<Figure size 432x288 with 1 Axes>"
      ]
     },
     "metadata": {
      "needs_background": "light"
     },
     "output_type": "display_data"
    }
   ],
   "source": [
    "fig,ax=plt.subplots()\n",
    "for method, df_ in df_error.groupby(by='method'):\n",
    "    df_.plot(x='cutoff', y='B_1A', ax=ax, label=method)\n"
   ]
  },
  {
   "cell_type": "code",
   "execution_count": 23,
   "metadata": {
    "scrolled": true
   },
   "outputs": [
    {
     "data": {
      "image/png": "[encoded data removed]",
      "text/plain": [
       "<Figure size 432x288 with 1 Axes>"
      ]
     },
     "metadata": {
      "needs_background": "light"
     },
     "output_type": "display_data"
    }
   ],
   "source": [
    "fig,ax=plt.subplots()\n",
    "for method, df_ in df_vary.groupby(by='method'):\n",
    "    df_.plot(x='cutoff', y='B_1A', style='.-', ax=ax, label=method)\n",
    "    \n",
    "ax.set_ylabel(r'$B_1$ $[Nm \\cdot s]$')\n",
    "ax.set_xlabel(r'Low pass filter cutoff frequency [1/s]')\n",
    "ax.grid(True)"
   ]
  },
  {
   "cell_type": "code",
   "execution_count": 24,
   "metadata": {},
   "outputs": [
    {
     "data": {
      "text/latex": [
       "$\\displaystyle x + y - z$"
      ],
      "text/plain": [
       "x + y - z"
      ]
     },
     "execution_count": 24,
     "metadata": {},
     "output_type": "execute_result"
    }
   ],
   "source": [
    "x,y,z = sp.symbols('x y z')\n",
    "expression = x + y - z\n",
    "expression"
   ]
  },
  {
   "cell_type": "code",
   "execution_count": 25,
   "metadata": {},
   "outputs": [
    {
     "data": {
      "text/plain": [
       "sympy.core.add.Add"
      ]
     },
     "execution_count": 25,
     "metadata": {},
     "output_type": "execute_result"
    }
   ],
   "source": [
    "expression.func"
   ]
  },
  {
   "cell_type": "code",
   "execution_count": 26,
   "metadata": {},
   "outputs": [
    {
     "data": {
      "text/plain": [
       "(x, y, -z)"
      ]
     },
     "execution_count": 26,
     "metadata": {},
     "output_type": "execute_result"
    }
   ],
   "source": [
    "expression.args"
   ]
  },
  {
   "cell_type": "code",
   "execution_count": 27,
   "metadata": {
    "scrolled": true
   },
   "outputs": [
    {
     "data": {
      "text/html": [
       "<div>\n",
       "<style scoped>\n",
       "    .dataframe tbody tr th:only-of-type {\n",
       "        vertical-align: middle;\n",
       "    }\n",
       "\n",
       "    .dataframe tbody tr th {\n",
       "        vertical-align: top;\n",
       "    }\n",
       "\n",
       "    .dataframe thead th {\n",
       "        text-align: right;\n",
       "    }\n",
       "</style>\n",
       "<table border=\"1\" class=\"dataframe\">\n",
       "  <thead>\n",
       "    <tr style=\"text-align: right;\">\n",
       "      <th></th>\n",
       "      <th>phi</th>\n",
       "      <th>noise</th>\n",
       "      <th>phi_filtered</th>\n",
       "      <th>phi1d</th>\n",
       "      <th>phi2d</th>\n",
       "    </tr>\n",
       "  </thead>\n",
       "  <tbody>\n",
       "    <tr>\n",
       "      <th>0.00</th>\n",
       "      <td>0.178868</td>\n",
       "      <td>0.004335</td>\n",
       "      <td>0.183017</td>\n",
       "      <td>-0.110489</td>\n",
       "      <td>-0.172108</td>\n",
       "    </tr>\n",
       "    <tr>\n",
       "      <th>0.01</th>\n",
       "      <td>0.173283</td>\n",
       "      <td>-0.001207</td>\n",
       "      <td>0.181912</td>\n",
       "      <td>-0.112210</td>\n",
       "      <td>-0.259432</td>\n",
       "    </tr>\n",
       "    <tr>\n",
       "      <th>0.02</th>\n",
       "      <td>0.180011</td>\n",
       "      <td>0.005652</td>\n",
       "      <td>0.180773</td>\n",
       "      <td>-0.115677</td>\n",
       "      <td>-0.349288</td>\n",
       "    </tr>\n",
       "    <tr>\n",
       "      <th>0.03</th>\n",
       "      <td>0.187432</td>\n",
       "      <td>0.013291</td>\n",
       "      <td>0.179599</td>\n",
       "      <td>-0.119195</td>\n",
       "      <td>-0.354329</td>\n",
       "    </tr>\n",
       "    <tr>\n",
       "      <th>0.04</th>\n",
       "      <td>0.171795</td>\n",
       "      <td>-0.002043</td>\n",
       "      <td>0.178389</td>\n",
       "      <td>-0.122764</td>\n",
       "      <td>-0.359324</td>\n",
       "    </tr>\n",
       "  </tbody>\n",
       "</table>\n",
       "</div>"
      ],
      "text/plain": [
       "           phi     noise  phi_filtered     phi1d     phi2d\n",
       "0.00  0.178868  0.004335      0.183017 -0.110489 -0.172108\n",
       "0.01  0.173283 -0.001207      0.181912 -0.112210 -0.259432\n",
       "0.02  0.180011  0.005652      0.180773 -0.115677 -0.349288\n",
       "0.03  0.187432  0.013291      0.179599 -0.119195 -0.354329\n",
       "0.04  0.171795 -0.002043      0.178389 -0.122764 -0.359324"
      ]
     },
     "execution_count": 27,
     "metadata": {},
     "output_type": "execute_result"
    }
   ],
   "source": [
    "X = lowpass_filter.fit(df_measure).transform(df_measure)\n",
    "X.head()"
   ]
  },
  {
   "cell_type": "code",
   "execution_count": 28,
   "metadata": {},
   "outputs": [
    {
     "data": {
      "text/latex": [
       "$\\displaystyle B_{1A} \\frac{d}{d t} \\phi{\\left(t \\right)} + C_{1A} \\phi{\\left(t \\right)} + \\frac{d^{2}}{d t^{2}} \\phi{\\left(t \\right)} = 0$"
      ],
      "text/plain": [
       "Eq(B_1A*Derivative(phi(t), t) + C_1A*phi(t) + Derivative(phi(t), (t, 2)), 0)"
      ]
     },
     "execution_count": 28,
     "metadata": {},
     "output_type": "execute_result"
    }
   ],
   "source": [
    "subs = [\n",
    "    (equations.new_symbols[symbols.B_2],0),\n",
    "    (equations.new_symbols[symbols.B_3],0),\n",
    "    (equations.new_symbols[symbols.C_3],0),\n",
    "    (equations.new_symbols[symbols.C_5],0),    \n",
    "]\n",
    "eq = equations.roll_decay_equation_cubic_A.subs(subs)\n",
    "eq"
   ]
  },
  {
   "cell_type": "code",
   "execution_count": 29,
   "metadata": {},
   "outputs": [
    {
     "data": {
      "text/plain": [
       "{B_1A, C_1A, t}"
      ]
     },
     "execution_count": 29,
     "metadata": {},
     "output_type": "execute_result"
    }
   ],
   "source": [
    "lhs = eq.lhs\n",
    "lhs.free_symbols"
   ]
  },
  {
   "cell_type": "code",
   "execution_count": 30,
   "metadata": {},
   "outputs": [],
   "source": [
    "for arg in lhs.args:\n",
    "    lambdify(arg)"
   ]
  },
  {
   "cell_type": "code",
   "execution_count": 31,
   "metadata": {},
   "outputs": [
    {
     "data": {
      "text/latex": [
       "$\\displaystyle \\frac{d^{2}}{d t^{2}} \\phi{\\left(t \\right)}$"
      ],
      "text/plain": [
       "Derivative(phi(t), (t, 2))"
      ]
     },
     "execution_count": 31,
     "metadata": {},
     "output_type": "execute_result"
    }
   ],
   "source": [
    "arg"
   ]
  },
  {
   "cell_type": "code",
   "execution_count": 32,
   "metadata": {},
   "outputs": [],
   "source": [
    "def remove_free(arg):\n",
    "    new_arg = arg.copy()\n",
    "    for symbol in arg.free_symbols:\n",
    "        if symbol.name == symbols.t.name:\n",
    "            continue \n",
    "        new_arg = new_arg.subs(symbol,1)\n",
    "    return new_arg"
   ]
  },
  {
   "cell_type": "code",
   "execution_count": 33,
   "metadata": {},
   "outputs": [],
   "source": [
    "def create_features_and_label(X, lhs):\n",
    "    \n",
    "    args = []\n",
    "    free_symbols = []\n",
    "    \n",
    "    for arg in lhs.args:\n",
    "        new_arg = remove_free(arg)\n",
    "                \n",
    "        f = list(arg.free_symbols - set([sp.symbols('t')]))\n",
    "        if len(f) == 0:\n",
    "            y_arg = new_arg\n",
    "        elif len(f) == 1:\n",
    "            free_symbol = f[0]  # assuming one...\n",
    "            free_symbols.append(free_symbol)\n",
    "            args.append(new_arg)\n",
    "        elif len(f) > 1:\n",
    "            raise ValueError('More than one free symbol')\n",
    "        \n",
    "    datas = []\n",
    "    for arg in args:\n",
    "        func = lambdify(arg)\n",
    "        datas.append(run(func, X))\n",
    "    X_ = np.array(datas).T\n",
    "    \n",
    "    y_func = lambdify(y_arg)\n",
    "    y_ = -run(y_func, X)\n",
    "    \n",
    "    return X_, y_, free_symbols"
   ]
  },
  {
   "cell_type": "code",
   "execution_count": 41,
   "metadata": {},
   "outputs": [],
   "source": [
    "X_, y_, free_symbols = create_features_and_label(X=X, lhs=eq.lhs)"
   ]
  },
  {
   "cell_type": "code",
   "execution_count": 35,
   "metadata": {
    "scrolled": true
   },
   "outputs": [
    {
     "data": {
      "text/plain": [
       "array([0.33002824, 4.52824757])"
      ]
     },
     "execution_count": 35,
     "metadata": {},
     "output_type": "execute_result"
    }
   ],
   "source": [
    "p, res, rnk, s = scipy.linalg.lstsq(X_, y_)\n",
    "p"
   ]
  },
  {
   "cell_type": "code",
   "execution_count": 36,
   "metadata": {},
   "outputs": [
    {
     "data": {
      "text/plain": [
       "[B_1A, C_1A]"
      ]
     },
     "execution_count": 36,
     "metadata": {},
     "output_type": "execute_result"
    }
   ],
   "source": [
    "free_symbols"
   ]
  },
  {
   "cell_type": "code",
   "execution_count": 37,
   "metadata": {
    "scrolled": true
   },
   "outputs": [
    {
     "data": {
      "text/latex": [
       "$\\displaystyle \\phi{\\left(t \\right)} = - \\frac{B_{1A} \\frac{d}{d t} \\phi{\\left(t \\right)} + \\frac{d^{2}}{d t^{2}} \\phi{\\left(t \\right)}}{C_{1A}}$"
      ],
      "text/plain": [
       "Eq(phi(t), -(B_1A*Derivative(phi(t), t) + Derivative(phi(t), (t, 2)))/C_1A)"
      ]
     },
     "execution_count": 37,
     "metadata": {},
     "output_type": "execute_result"
    }
   ],
   "source": [
    "eq2 = sp.Eq(symbols.phi,\n",
    "            sp.solve(eq,symbols.phi)[0])\n",
    "eq2"
   ]
  },
  {
   "cell_type": "code",
   "execution_count": 42,
   "metadata": {},
   "outputs": [],
   "source": [
    "def simulate(X,p):\n",
    "    B_1A_ = p[0]\n",
    "    C_1A_ = p[1]\n",
    "    \n",
    "    phi = -B_1A_/C_1A_*X['phi1d'] -X['phi2d']/C_1A_\n",
    "    return phi"
   ]
  },
  {
   "cell_type": "code",
   "execution_count": 43,
   "metadata": {},
   "outputs": [
    {
     "data": {
      "text/plain": [
       "[<matplotlib.lines.Line2D at 0x234139cea90>]"
      ]
     },
     "execution_count": 43,
     "metadata": {},
     "output_type": "execute_result"
    },
    {
     "data": {
      "image/png": "[encoded data removed]",
      "text/plain": [
       "<Figure size 432x288 with 1 Axes>"
      ]
     },
     "metadata": {
      "needs_background": "light"
     },
     "output_type": "display_data"
    }
   ],
   "source": [
    "#phi = X_2.dot(p)\n",
    "phi = simulate(X=X,p=p)\n",
    "\n",
    "fig,ax=plt.subplots()\n",
    "df_true.plot(y='phi', ax=ax)\n",
    "ax.plot(df_true.index, phi)"
   ]
  },
  {
   "cell_type": "code",
   "execution_count": 52,
   "metadata": {},
   "outputs": [],
   "source": [
    "def vary_cutoff2(df:pd.DataFrame, cutoff:float, eq): \n",
    "    lowpass_filter = LowpassFilterDerivatorTransformer(cutoff=cutoff, minimum_score=0.0)\n",
    "    X = lowpass_filter.fit(df).transform(df)\n",
    "    \n",
    "    X_, y_, free_symbols = create_features_and_label(X=X, lhs=eq.lhs)\n",
    "        \n",
    "    return scipy.linalg.lstsq(X_, y_)\n",
    "    "
   ]
  },
  {
   "cell_type": "code",
   "execution_count": 53,
   "metadata": {},
   "outputs": [],
   "source": [
    "df_vary2 = pd.DataFrame()\n",
    "\n",
    "for cutoff in cutoffs:\n",
    "    \n",
    "    p, res, rnk, s = vary_cutoff2(df=df_measure, cutoff=cutoff, eq=eq)\n",
    "    \n",
    "    s = pd.Series(name=cutoff)    \n",
    "    s['B_1A'] = p[0]\n",
    "    s['C_1A'] = p[1]\n",
    "    df_vary2 = df_vary2.append(s)"
   ]
  },
  {
   "cell_type": "code",
   "execution_count": 58,
   "metadata": {},
   "outputs": [
    {
     "data": {
      "image/png": "[encoded data removed]",
      "text/plain": [
       "<Figure size 432x288 with 1 Axes>"
      ]
     },
     "metadata": {
      "needs_background": "light"
     },
     "output_type": "display_data"
    }
   ],
   "source": [
    "fig,ax=plt.subplots()\n",
    "df_vary2.plot(y='B_1A', style='.-', ax=ax)\n",
    "ax.grid(True)"
   ]
  },
  {
   "cell_type": "code",
   "execution_count": null,
   "metadata": {},
   "outputs": [],
   "source": []
  }
 ],
 "metadata": {
  "kernelspec": {
   "display_name": "Python 3",
   "language": "python",
   "name": "python3"
  },
  "language_info": {
   "codemirror_mode": {
    "name": "ipython",
    "version": 3
   },
   "file_extension": ".py",
   "mimetype": "text/x-python",
   "name": "python",
   "nbconvert_exporter": "python",
   "pygments_lexer": "ipython3",
   "version": "3.6.8"
  },
  "toc": {
   "base_numbering": 1,
   "nav_menu": {},
   "number_sections": true,
   "sideBar": true,
   "skip_h1_title": false,
   "title_cell": "Table of Contents",
   "title_sidebar": "Contents",
   "toc_cell": false,
   "toc_position": {},
   "toc_section_display": true,
   "toc_window_display": false
  }
 },
 "nbformat": 4,
 "nbformat_minor": 4
}
