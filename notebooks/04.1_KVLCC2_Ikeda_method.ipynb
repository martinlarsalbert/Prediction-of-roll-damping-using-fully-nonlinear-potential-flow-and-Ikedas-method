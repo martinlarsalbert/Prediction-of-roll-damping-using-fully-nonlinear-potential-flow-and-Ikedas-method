{
 "cells": [
  {
   "cell_type": "markdown",
   "metadata": {},
   "source": [
    "# KVLCC2 Ikeda method"
   ]
  },
  {
   "cell_type": "markdown",
   "metadata": {},
   "source": [
    "# Purpose\n",
    "How good is original Ikeda method for this ship?"
   ]
  },
  {
   "cell_type": "markdown",
   "metadata": {},
   "source": [
    "# Methodology\n",
    "Run PyScoresII and calculate Ikeda"
   ]
  },
  {
   "cell_type": "markdown",
   "metadata": {},
   "source": [
    "# WIP - improvements\n",
    "(WORK IN PROGRESS)\n",
    "Use this section only if the notebook is not final.\n",
    "\n",
    "Notable TODOs:\n",
    "* todo 1\n",
    "* todo 2\n",
    "* todo 3"
   ]
  },
  {
   "cell_type": "markdown",
   "metadata": {},
   "source": [
    "## Results\n",
    "Describe and comment the most important results."
   ]
  },
  {
   "cell_type": "markdown",
   "metadata": {},
   "source": [
    "# Suggested next steps\n",
    "State suggested next steps, based on results obtained in this notebook."
   ]
  },
  {
   "cell_type": "markdown",
   "metadata": {},
   "source": [
    "# Setup"
   ]
  },
  {
   "cell_type": "code",
   "execution_count": 1,
   "metadata": {},
   "outputs": [
    {
     "name": "stderr",
     "output_type": "stream",
     "text": [
      "Duplicate key in file WindowsPath('C:/Users/maa/.matplotlib/stylelib/paper.mplstyle'), line 461 ('figure.figsize   : 5, 3   ## figure size in inches')\n",
      "Duplicate key in file WindowsPath('C:/Users/maa/.matplotlib/stylelib/paper.mplstyle'), line 462 ('figure.dpi       : 100        ## figure dots per inch')\n"
     ]
    }
   ],
   "source": [
    "# %load imports.py\n",
    "\"\"\"\n",
    "These is the standard setup for the notebooks.\n",
    "\"\"\"\n",
    "\n",
    "%matplotlib inline\n",
    "%load_ext autoreload\n",
    "%autoreload 2\n",
    "\n",
    "from jupyterthemes import jtplot\n",
    "jtplot.style(theme='onedork', context='notebook', ticks=True, grid=False)\n",
    "\n",
    "import pandas as pd\n",
    "pd.options.display.max_rows = 999\n",
    "pd.options.display.max_columns = 999\n",
    "pd.set_option(\"display.max_columns\", None)\n",
    "import numpy as np\n",
    "import os\n",
    "import matplotlib.pyplot as plt\n",
    "from collections import OrderedDict\n",
    "#plt.style.use('paper')\n",
    "\n",
    "#import data\n",
    "import copy\n",
    "from mdldb.run import Run\n",
    "\n",
    "from sklearn.pipeline import Pipeline\n",
    "from rolldecayestimators.transformers import CutTransformer, LowpassFilterDerivatorTransformer, ScaleFactorTransformer, OffsetTransformer\n",
    "from rolldecayestimators.direct_estimator_cubic import EstimatorQuadraticB, EstimatorCubic\n",
    "from rolldecayestimators.ikeda_estimator import IkedaQuadraticEstimator\n",
    "import rolldecayestimators.equations as equations\n",
    "import rolldecayestimators.lambdas as lambdas\n",
    "from rolldecayestimators.substitute_dynamic_symbols import lambdify\n",
    "import rolldecayestimators.symbols as symbols\n",
    "import sympy as sp\n",
    "\n",
    "from sympy.physics.vector.printing import vpprint, vlatex\n",
    "from IPython.display import display, Math, Latex\n",
    "\n",
    "from sklearn.metrics import r2_score\n",
    "from src.data import database\n",
    "from mdldb import tables\n"
   ]
  },
  {
   "cell_type": "code",
   "execution_count": 11,
   "metadata": {},
   "outputs": [],
   "source": [
    "import pyscores2\n",
    "import pyscores2.runScores2\n",
    "import pyscores2.xml_hydrostatics\n",
    "from pyscores2.output import OutputFile\n",
    "from rolldecayestimators.ikeda import Ikeda, IkedaR\n",
    "\n",
    "from rolldecayestimators.simplified_ikeda_class import SimplifiedIkeda, SimplifiedIkedaABS\n",
    "from rolldecayestimators.simplified_ikeda import limits_kawahara\n",
    "from pyscores2.runScores2 import Calculation"
   ]
  },
  {
   "cell_type": "code",
   "execution_count": 3,
   "metadata": {},
   "outputs": [],
   "source": [
    "db = database.get_db()"
   ]
  },
  {
   "cell_type": "code",
   "execution_count": 4,
   "metadata": {},
   "outputs": [],
   "source": [
    "sql = \"\"\"\n",
    "SELECT * from run\n",
    "WHERE model_number='M5057-01-A' and test_type='roll decay' and project_number=40178362;\n",
    "\"\"\"\n",
    "df_rolldecays = pd.read_sql(sql=sql, con=db.engine, index_col='id')\n",
    "\n",
    "df_rolldecays['ship_speed'].fillna(0, inplace=True)\n"
   ]
  },
  {
   "cell_type": "code",
   "execution_count": 5,
   "metadata": {},
   "outputs": [],
   "source": [
    "df_rolldecays=df_rolldecays.loc[[21337,21338]].copy()"
   ]
  },
  {
   "cell_type": "code",
   "execution_count": 6,
   "metadata": {},
   "outputs": [
    {
     "name": "stderr",
     "output_type": "stream",
     "text": [
      "c:\\dev\\evaluation\\signal_lab\\mdl_to_evaluation.py:106: UserWarning: Pandas doesn't allow columns to be created via a new attribute name - see https://pandas.pydata.org/pandas-docs/stable/indexing.html#attribute-access\n",
      "  df_.units = units\n"
     ]
    }
   ],
   "source": [
    "row = df_rolldecays.iloc[0]\n",
    "run = db.session.query(Run).get(int(row.name))\n",
    "run = database.load_run(run, save_as_example=False, prefer_hdf5=True)\n",
    "  "
   ]
  },
  {
   "cell_type": "code",
   "execution_count": 7,
   "metadata": {},
   "outputs": [
    {
     "name": "stdout",
     "output_type": "stream",
     "text": [
      "\\\\sspa.local\\gbg\\projekt\\2017\\40178362-HHI-121-(ML-106)-Improved-analysis-of-tes\n"
     ]
    }
   ],
   "source": [
    "print(run.project.project_path)"
   ]
  },
  {
   "cell_type": "markdown",
   "metadata": {},
   "source": [
    "## Run ScoresII"
   ]
  },
  {
   "cell_type": "code",
   "execution_count": 8,
   "metadata": {},
   "outputs": [],
   "source": [
    "xml_parser = pyscores2.xml_hydrostatics.Parser(fileName='../data/external/KVLCC2m_kbk_final_ScoresData.xml')\n",
    "indata = xml_parser.convertToScores2Indata(conditionName='Design')\n",
    "indata.runOptions[\"IJ\"].set_value(1)\n",
    "indata.runOptions[\"IK\"].set_value(2)"
   ]
  },
  {
   "cell_type": "code",
   "execution_count": 9,
   "metadata": {},
   "outputs": [],
   "source": [
    "indata.kxx = run.loading_condition.KXX*0.78  # To get correct natural frequency\n",
    "indata.kyy = run.loading_condition.KZZ\n",
    "indata.speedMax=15.5\n",
    "indata.speedIncrement=15\n",
    "indata.waveFrequenciesMax = 1.0\n",
    "indata.waveFrequenciesMin = 0.3\n",
    "indata.waveFrequenciesIncrement = 0.015"
   ]
  },
  {
   "cell_type": "code",
   "execution_count": 12,
   "metadata": {},
   "outputs": [],
   "source": [
    "save_dir_name = 'scores'\n",
    "if not os.path.exists(save_dir_name):\n",
    "    os.mkdir(save_dir_name)\n",
    "    \n",
    "calculation = Calculation(outDataDirectory='scores')"
   ]
  },
  {
   "cell_type": "code",
   "execution_count": 13,
   "metadata": {},
   "outputs": [
    {
     "name": "stdout",
     "output_type": "stream",
     "text": [
      "Running Scores2 for KVLCC2m_kbk_final Design\n"
     ]
    },
    {
     "name": "stderr",
     "output_type": "stream",
     "text": [
      "c:\\python36-64\\lib\\re.py:212: FutureWarning: split() requires a non-empty pattern match.\n",
      "  return _compile(pattern, flags).split(string, maxsplit)\n"
     ]
    }
   ],
   "source": [
    "calculation.run(indata=indata)"
   ]
  },
  {
   "cell_type": "markdown",
   "metadata": {},
   "source": [
    "## Load ScoresII results"
   ]
  },
  {
   "cell_type": "code",
   "execution_count": 14,
   "metadata": {},
   "outputs": [],
   "source": [
    "output_file = OutputFile(filePath=calculation.outDataPath)"
   ]
  },
  {
   "cell_type": "code",
   "execution_count": 15,
   "metadata": {},
   "outputs": [
    {
     "data": {
      "text/plain": [
       "{0.0: {0.0: <pyscores2.result.Result at 0x18a95f94e80>,\n",
       "  30.0: <pyscores2.result.Result at 0x18a95f94ac8>,\n",
       "  60.0: <pyscores2.result.Result at 0x18a95f94e48>,\n",
       "  90.0: <pyscores2.result.Result at 0x18a95f94240>,\n",
       "  120.0: <pyscores2.result.Result at 0x18a95f9e048>,\n",
       "  150.0: <pyscores2.result.Result at 0x18a95f9e208>,\n",
       "  180.0: <pyscores2.result.Result at 0x18a95f9e358>},\n",
       " 15.0: {0.0: <pyscores2.result.Result at 0x18a95f9e470>,\n",
       "  30.0: <pyscores2.result.Result at 0x18a95f9e550>,\n",
       "  60.0: <pyscores2.result.Result at 0x18a95f9e0b8>,\n",
       "  90.0: <pyscores2.result.Result at 0x18a95f9e780>,\n",
       "  120.0: <pyscores2.result.Result at 0x18a95f9e8d0>,\n",
       "  150.0: <pyscores2.result.Result at 0x18a95f9e9e8>,\n",
       "  180.0: <pyscores2.result.Result at 0x18a95f9eb00>}}"
      ]
     },
     "execution_count": 15,
     "metadata": {},
     "output_type": "execute_result"
    }
   ],
   "source": [
    "output_file.results"
   ]
  },
  {
   "cell_type": "code",
   "execution_count": 16,
   "metadata": {},
   "outputs": [],
   "source": [
    "df = output_file.get_result()"
   ]
  },
  {
   "cell_type": "code",
   "execution_count": 17,
   "metadata": {},
   "outputs": [
    {
     "data": {
      "text/html": [
       "<div>\n",
       "<style scoped>\n",
       "    .dataframe tbody tr th:only-of-type {\n",
       "        vertical-align: middle;\n",
       "    }\n",
       "\n",
       "    .dataframe tbody tr th {\n",
       "        vertical-align: top;\n",
       "    }\n",
       "\n",
       "    .dataframe thead th {\n",
       "        text-align: right;\n",
       "    }\n",
       "</style>\n",
       "<table border=\"1\" class=\"dataframe\">\n",
       "  <thead>\n",
       "    <tr style=\"text-align: right;\">\n",
       "      <th></th>\n",
       "      <th>frequencies</th>\n",
       "      <th>encounterFrequencies</th>\n",
       "      <th>waveLengths</th>\n",
       "      <th>heaveAmplitude</th>\n",
       "      <th>heavePhase</th>\n",
       "      <th>pitchAmplitude</th>\n",
       "      <th>pitchPhase</th>\n",
       "      <th>surgeAmplitude</th>\n",
       "      <th>surgePhase</th>\n",
       "      <th>forces</th>\n",
       "      <th>moments</th>\n",
       "      <th>speed</th>\n",
       "      <th>wave direction</th>\n",
       "      <th>swayAmplitude</th>\n",
       "      <th>swayPhase</th>\n",
       "      <th>yawAmplitude</th>\n",
       "      <th>yawPhase</th>\n",
       "      <th>rollAmplitude</th>\n",
       "      <th>rollPhase</th>\n",
       "    </tr>\n",
       "  </thead>\n",
       "  <tbody>\n",
       "    <tr>\n",
       "      <th>count</th>\n",
       "      <td>658.000000</td>\n",
       "      <td>658.000000</td>\n",
       "      <td>658.000000</td>\n",
       "      <td>658.000000</td>\n",
       "      <td>658.000000</td>\n",
       "      <td>658.000000</td>\n",
       "      <td>658.000000</td>\n",
       "      <td>658.000000</td>\n",
       "      <td>658.000000</td>\n",
       "      <td>658.000000</td>\n",
       "      <td>658.000000</td>\n",
       "      <td>658.000000</td>\n",
       "      <td>658.000000</td>\n",
       "      <td>470.000000</td>\n",
       "      <td>470.000000</td>\n",
       "      <td>470.000000</td>\n",
       "      <td>470.000000</td>\n",
       "      <td>470.000000</td>\n",
       "      <td>470.000000</td>\n",
       "    </tr>\n",
       "    <tr>\n",
       "      <th>mean</th>\n",
       "      <td>0.468033</td>\n",
       "      <td>0.468033</td>\n",
       "      <td>368.670000</td>\n",
       "      <td>0.552034</td>\n",
       "      <td>103.735714</td>\n",
       "      <td>0.298860</td>\n",
       "      <td>-14.244225</td>\n",
       "      <td>0.234176</td>\n",
       "      <td>4.969453</td>\n",
       "      <td>41.159458</td>\n",
       "      <td>198.457057</td>\n",
       "      <td>7.500000</td>\n",
       "      <td>90.000000</td>\n",
       "      <td>0.347209</td>\n",
       "      <td>64.377872</td>\n",
       "      <td>0.141297</td>\n",
       "      <td>50.977234</td>\n",
       "      <td>0.962086</td>\n",
       "      <td>41.333617</td>\n",
       "    </tr>\n",
       "    <tr>\n",
       "      <th>std</th>\n",
       "      <td>0.167776</td>\n",
       "      <td>0.214466</td>\n",
       "      <td>181.225973</td>\n",
       "      <td>0.377948</td>\n",
       "      <td>105.112846</td>\n",
       "      <td>0.198350</td>\n",
       "      <td>85.181421</td>\n",
       "      <td>0.235361</td>\n",
       "      <td>91.020527</td>\n",
       "      <td>43.875515</td>\n",
       "      <td>1409.387936</td>\n",
       "      <td>7.505706</td>\n",
       "      <td>60.045645</td>\n",
       "      <td>0.259896</td>\n",
       "      <td>60.204130</td>\n",
       "      <td>0.099550</td>\n",
       "      <td>103.094235</td>\n",
       "      <td>1.634676</td>\n",
       "      <td>100.136149</td>\n",
       "    </tr>\n",
       "    <tr>\n",
       "      <th>min</th>\n",
       "      <td>0.301970</td>\n",
       "      <td>0.213130</td>\n",
       "      <td>61.620000</td>\n",
       "      <td>0.000200</td>\n",
       "      <td>-179.800000</td>\n",
       "      <td>0.001000</td>\n",
       "      <td>-176.400000</td>\n",
       "      <td>0.000000</td>\n",
       "      <td>-175.400000</td>\n",
       "      <td>0.990810</td>\n",
       "      <td>-4040.000000</td>\n",
       "      <td>0.000000</td>\n",
       "      <td>0.000000</td>\n",
       "      <td>0.000900</td>\n",
       "      <td>-166.500000</td>\n",
       "      <td>0.000500</td>\n",
       "      <td>-179.100000</td>\n",
       "      <td>0.000400</td>\n",
       "      <td>-179.600000</td>\n",
       "    </tr>\n",
       "    <tr>\n",
       "      <th>25%</th>\n",
       "      <td>0.341330</td>\n",
       "      <td>0.328962</td>\n",
       "      <td>208.470000</td>\n",
       "      <td>0.158850</td>\n",
       "      <td>60.725000</td>\n",
       "      <td>0.082275</td>\n",
       "      <td>-85.175000</td>\n",
       "      <td>0.021250</td>\n",
       "      <td>-87.600000</td>\n",
       "      <td>6.707588</td>\n",
       "      <td>-168.750000</td>\n",
       "      <td>0.000000</td>\n",
       "      <td>30.000000</td>\n",
       "      <td>0.085800</td>\n",
       "      <td>79.675000</td>\n",
       "      <td>0.030850</td>\n",
       "      <td>-10.900000</td>\n",
       "      <td>0.117025</td>\n",
       "      <td>-57.725000</td>\n",
       "    </tr>\n",
       "    <tr>\n",
       "      <th>50%</th>\n",
       "      <td>0.408820</td>\n",
       "      <td>0.398135</td>\n",
       "      <td>368.670000</td>\n",
       "      <td>0.602900</td>\n",
       "      <td>163.550000</td>\n",
       "      <td>0.344500</td>\n",
       "      <td>-49.150000</td>\n",
       "      <td>0.190950</td>\n",
       "      <td>32.100000</td>\n",
       "      <td>26.241750</td>\n",
       "      <td>0.000000</td>\n",
       "      <td>7.500000</td>\n",
       "      <td>90.000000</td>\n",
       "      <td>0.306700</td>\n",
       "      <td>89.550000</td>\n",
       "      <td>0.156750</td>\n",
       "      <td>3.600000</td>\n",
       "      <td>0.437800</td>\n",
       "      <td>79.750000</td>\n",
       "    </tr>\n",
       "    <tr>\n",
       "      <th>75%</th>\n",
       "      <td>0.543660</td>\n",
       "      <td>0.533963</td>\n",
       "      <td>528.870000</td>\n",
       "      <td>0.902550</td>\n",
       "      <td>174.675000</td>\n",
       "      <td>0.465350</td>\n",
       "      <td>68.175000</td>\n",
       "      <td>0.364600</td>\n",
       "      <td>90.700000</td>\n",
       "      <td>63.642375</td>\n",
       "      <td>490.500000</td>\n",
       "      <td>15.000000</td>\n",
       "      <td>150.000000</td>\n",
       "      <td>0.587325</td>\n",
       "      <td>90.900000</td>\n",
       "      <td>0.218425</td>\n",
       "      <td>172.575000</td>\n",
       "      <td>1.039675</td>\n",
       "      <td>115.825000</td>\n",
       "    </tr>\n",
       "    <tr>\n",
       "      <th>max</th>\n",
       "      <td>0.999980</td>\n",
       "      <td>1.786820</td>\n",
       "      <td>675.720000</td>\n",
       "      <td>1.191500</td>\n",
       "      <td>179.400000</td>\n",
       "      <td>0.650000</td>\n",
       "      <td>176.700000</td>\n",
       "      <td>1.047400</td>\n",
       "      <td>166.100000</td>\n",
       "      <td>200.369250</td>\n",
       "      <td>7580.000000</td>\n",
       "      <td>15.000000</td>\n",
       "      <td>180.000000</td>\n",
       "      <td>0.833100</td>\n",
       "      <td>171.200000</td>\n",
       "      <td>0.351600</td>\n",
       "      <td>179.500000</td>\n",
       "      <td>15.787100</td>\n",
       "      <td>177.600000</td>\n",
       "    </tr>\n",
       "  </tbody>\n",
       "</table>\n",
       "</div>"
      ],
      "text/plain": [
       "       frequencies  encounterFrequencies  waveLengths  heaveAmplitude  \\\n",
       "count   658.000000            658.000000   658.000000      658.000000   \n",
       "mean      0.468033              0.468033   368.670000        0.552034   \n",
       "std       0.167776              0.214466   181.225973        0.377948   \n",
       "min       0.301970              0.213130    61.620000        0.000200   \n",
       "25%       0.341330              0.328962   208.470000        0.158850   \n",
       "50%       0.408820              0.398135   368.670000        0.602900   \n",
       "75%       0.543660              0.533963   528.870000        0.902550   \n",
       "max       0.999980              1.786820   675.720000        1.191500   \n",
       "\n",
       "       heavePhase  pitchAmplitude  pitchPhase  surgeAmplitude  surgePhase  \\\n",
       "count  658.000000      658.000000  658.000000      658.000000  658.000000   \n",
       "mean   103.735714        0.298860  -14.244225        0.234176    4.969453   \n",
       "std    105.112846        0.198350   85.181421        0.235361   91.020527   \n",
       "min   -179.800000        0.001000 -176.400000        0.000000 -175.400000   \n",
       "25%     60.725000        0.082275  -85.175000        0.021250  -87.600000   \n",
       "50%    163.550000        0.344500  -49.150000        0.190950   32.100000   \n",
       "75%    174.675000        0.465350   68.175000        0.364600   90.700000   \n",
       "max    179.400000        0.650000  176.700000        1.047400  166.100000   \n",
       "\n",
       "           forces      moments       speed  wave direction  swayAmplitude  \\\n",
       "count  658.000000   658.000000  658.000000      658.000000     470.000000   \n",
       "mean    41.159458   198.457057    7.500000       90.000000       0.347209   \n",
       "std     43.875515  1409.387936    7.505706       60.045645       0.259896   \n",
       "min      0.990810 -4040.000000    0.000000        0.000000       0.000900   \n",
       "25%      6.707588  -168.750000    0.000000       30.000000       0.085800   \n",
       "50%     26.241750     0.000000    7.500000       90.000000       0.306700   \n",
       "75%     63.642375   490.500000   15.000000      150.000000       0.587325   \n",
       "max    200.369250  7580.000000   15.000000      180.000000       0.833100   \n",
       "\n",
       "        swayPhase  yawAmplitude    yawPhase  rollAmplitude   rollPhase  \n",
       "count  470.000000    470.000000  470.000000     470.000000  470.000000  \n",
       "mean    64.377872      0.141297   50.977234       0.962086   41.333617  \n",
       "std     60.204130      0.099550  103.094235       1.634676  100.136149  \n",
       "min   -166.500000      0.000500 -179.100000       0.000400 -179.600000  \n",
       "25%     79.675000      0.030850  -10.900000       0.117025  -57.725000  \n",
       "50%     89.550000      0.156750    3.600000       0.437800   79.750000  \n",
       "75%     90.900000      0.218425  172.575000       1.039675  115.825000  \n",
       "max    171.200000      0.351600  179.500000      15.787100  177.600000  "
      ]
     },
     "execution_count": 17,
     "metadata": {},
     "output_type": "execute_result"
    }
   ],
   "source": [
    "df.describe()"
   ]
  },
  {
   "cell_type": "code",
   "execution_count": 18,
   "metadata": {},
   "outputs": [
    {
     "data": {
      "text/html": [
       "<div>\n",
       "<style scoped>\n",
       "    .dataframe tbody tr th:only-of-type {\n",
       "        vertical-align: middle;\n",
       "    }\n",
       "\n",
       "    .dataframe tbody tr th {\n",
       "        vertical-align: top;\n",
       "    }\n",
       "\n",
       "    .dataframe thead th {\n",
       "        text-align: right;\n",
       "    }\n",
       "</style>\n",
       "<table border=\"1\" class=\"dataframe\">\n",
       "  <thead>\n",
       "    <tr style=\"text-align: right;\">\n",
       "      <th></th>\n",
       "      <th>frequencies</th>\n",
       "      <th>encounterFrequencies</th>\n",
       "      <th>waveLengths</th>\n",
       "      <th>heaveAmplitude</th>\n",
       "      <th>heavePhase</th>\n",
       "      <th>pitchAmplitude</th>\n",
       "      <th>pitchPhase</th>\n",
       "      <th>surgeAmplitude</th>\n",
       "      <th>surgePhase</th>\n",
       "      <th>forces</th>\n",
       "      <th>moments</th>\n",
       "      <th>speed</th>\n",
       "      <th>wave direction</th>\n",
       "      <th>swayAmplitude</th>\n",
       "      <th>swayPhase</th>\n",
       "      <th>yawAmplitude</th>\n",
       "      <th>yawPhase</th>\n",
       "      <th>rollAmplitude</th>\n",
       "      <th>rollPhase</th>\n",
       "    </tr>\n",
       "  </thead>\n",
       "  <tbody>\n",
       "    <tr>\n",
       "      <th>0</th>\n",
       "      <td>0.99998</td>\n",
       "      <td>0.99998</td>\n",
       "      <td>61.62</td>\n",
       "      <td>0.0035</td>\n",
       "      <td>-115.2</td>\n",
       "      <td>0.0041</td>\n",
       "      <td>-116.6</td>\n",
       "      <td>0.0032</td>\n",
       "      <td>-31.6</td>\n",
       "      <td>28.44900</td>\n",
       "      <td>0.0</td>\n",
       "      <td>0.0</td>\n",
       "      <td>0.0</td>\n",
       "      <td>NaN</td>\n",
       "      <td>NaN</td>\n",
       "      <td>NaN</td>\n",
       "      <td>NaN</td>\n",
       "      <td>NaN</td>\n",
       "      <td>NaN</td>\n",
       "    </tr>\n",
       "    <tr>\n",
       "      <th>1</th>\n",
       "      <td>0.90658</td>\n",
       "      <td>0.90658</td>\n",
       "      <td>74.97</td>\n",
       "      <td>0.0075</td>\n",
       "      <td>61.1</td>\n",
       "      <td>0.0090</td>\n",
       "      <td>64.8</td>\n",
       "      <td>0.0036</td>\n",
       "      <td>110.2</td>\n",
       "      <td>32.86350</td>\n",
       "      <td>0.0</td>\n",
       "      <td>0.0</td>\n",
       "      <td>0.0</td>\n",
       "      <td>NaN</td>\n",
       "      <td>NaN</td>\n",
       "      <td>NaN</td>\n",
       "      <td>NaN</td>\n",
       "      <td>NaN</td>\n",
       "      <td>NaN</td>\n",
       "    </tr>\n",
       "    <tr>\n",
       "      <th>2</th>\n",
       "      <td>0.83526</td>\n",
       "      <td>0.83526</td>\n",
       "      <td>88.32</td>\n",
       "      <td>0.0116</td>\n",
       "      <td>-76.1</td>\n",
       "      <td>0.0207</td>\n",
       "      <td>-51.1</td>\n",
       "      <td>0.0125</td>\n",
       "      <td>136.2</td>\n",
       "      <td>38.74950</td>\n",
       "      <td>0.0</td>\n",
       "      <td>0.0</td>\n",
       "      <td>0.0</td>\n",
       "      <td>NaN</td>\n",
       "      <td>NaN</td>\n",
       "      <td>NaN</td>\n",
       "      <td>NaN</td>\n",
       "      <td>NaN</td>\n",
       "      <td>NaN</td>\n",
       "    </tr>\n",
       "    <tr>\n",
       "      <th>3</th>\n",
       "      <td>0.77849</td>\n",
       "      <td>0.77849</td>\n",
       "      <td>101.67</td>\n",
       "      <td>0.0213</td>\n",
       "      <td>-140.8</td>\n",
       "      <td>0.0327</td>\n",
       "      <td>-151.5</td>\n",
       "      <td>0.0140</td>\n",
       "      <td>-72.2</td>\n",
       "      <td>44.88075</td>\n",
       "      <td>0.0</td>\n",
       "      <td>0.0</td>\n",
       "      <td>0.0</td>\n",
       "      <td>NaN</td>\n",
       "      <td>NaN</td>\n",
       "      <td>NaN</td>\n",
       "      <td>NaN</td>\n",
       "      <td>NaN</td>\n",
       "      <td>NaN</td>\n",
       "    </tr>\n",
       "    <tr>\n",
       "      <th>4</th>\n",
       "      <td>0.73192</td>\n",
       "      <td>0.73192</td>\n",
       "      <td>115.02</td>\n",
       "      <td>0.0272</td>\n",
       "      <td>137.9</td>\n",
       "      <td>0.0636</td>\n",
       "      <td>159.5</td>\n",
       "      <td>0.0326</td>\n",
       "      <td>-64.2</td>\n",
       "      <td>53.95500</td>\n",
       "      <td>0.0</td>\n",
       "      <td>0.0</td>\n",
       "      <td>0.0</td>\n",
       "      <td>NaN</td>\n",
       "      <td>NaN</td>\n",
       "      <td>NaN</td>\n",
       "      <td>NaN</td>\n",
       "      <td>NaN</td>\n",
       "      <td>NaN</td>\n",
       "    </tr>\n",
       "  </tbody>\n",
       "</table>\n",
       "</div>"
      ],
      "text/plain": [
       "   frequencies  encounterFrequencies  waveLengths  heaveAmplitude  heavePhase  \\\n",
       "0      0.99998               0.99998        61.62          0.0035      -115.2   \n",
       "1      0.90658               0.90658        74.97          0.0075        61.1   \n",
       "2      0.83526               0.83526        88.32          0.0116       -76.1   \n",
       "3      0.77849               0.77849       101.67          0.0213      -140.8   \n",
       "4      0.73192               0.73192       115.02          0.0272       137.9   \n",
       "\n",
       "   pitchAmplitude  pitchPhase  surgeAmplitude  surgePhase    forces  moments  \\\n",
       "0          0.0041      -116.6          0.0032       -31.6  28.44900      0.0   \n",
       "1          0.0090        64.8          0.0036       110.2  32.86350      0.0   \n",
       "2          0.0207       -51.1          0.0125       136.2  38.74950      0.0   \n",
       "3          0.0327      -151.5          0.0140       -72.2  44.88075      0.0   \n",
       "4          0.0636       159.5          0.0326       -64.2  53.95500      0.0   \n",
       "\n",
       "   speed  wave direction  swayAmplitude  swayPhase  yawAmplitude  yawPhase  \\\n",
       "0    0.0             0.0            NaN        NaN           NaN       NaN   \n",
       "1    0.0             0.0            NaN        NaN           NaN       NaN   \n",
       "2    0.0             0.0            NaN        NaN           NaN       NaN   \n",
       "3    0.0             0.0            NaN        NaN           NaN       NaN   \n",
       "4    0.0             0.0            NaN        NaN           NaN       NaN   \n",
       "\n",
       "   rollAmplitude  rollPhase  \n",
       "0            NaN        NaN  \n",
       "1            NaN        NaN  \n",
       "2            NaN        NaN  \n",
       "3            NaN        NaN  \n",
       "4            NaN        NaN  "
      ]
     },
     "execution_count": 18,
     "metadata": {},
     "output_type": "execute_result"
    }
   ],
   "source": [
    "df.head()"
   ]
  },
  {
   "cell_type": "code",
   "execution_count": 19,
   "metadata": {},
   "outputs": [
    {
     "data": {
      "image/png": "[encoded data removed]",
      "text/plain": [
       "<Figure size 576x504 with 1 Axes>"
      ]
     },
     "metadata": {},
     "output_type": "display_data"
    }
   ],
   "source": [
    "df[r'lambda/lpp'] = df['waveLengths']/run.ship.lpp \n",
    "\n",
    "\n",
    "fig,ax=plt.subplots()\n",
    "for index, group in df.groupby(by=['speed','wave direction']):\n",
    "    group.plot(x=r'lambda/lpp', y='heaveAmplitude', style='o-', label=index, ax=ax)\n",
    "    \n",
    "ax.grid(True)\n",
    "ax.legend();\n",
    "ax.set_ylabel('Heave');"
   ]
  },
  {
   "cell_type": "code",
   "execution_count": 20,
   "metadata": {},
   "outputs": [],
   "source": [
    "RAO_15_0 = df.groupby(by=['speed','wave direction']).get_group((15,180))"
   ]
  },
  {
   "cell_type": "code",
   "execution_count": 21,
   "metadata": {},
   "outputs": [
    {
     "data": {
      "text/plain": [
       "<AxesSubplot:xlabel='lambda/lpp'>"
      ]
     },
     "execution_count": 21,
     "metadata": {},
     "output_type": "execute_result"
    },
    {
     "data": {
      "image/png": "[encoded data removed]",
      "text/plain": [
       "<Figure size 576x504 with 1 Axes>"
      ]
     },
     "metadata": {},
     "output_type": "display_data"
    },
    {
     "data": {
      "image/png": "[encoded data removed]",
      "text/plain": [
       "<Figure size 576x504 with 1 Axes>"
      ]
     },
     "metadata": {},
     "output_type": "display_data"
    }
   ],
   "source": [
    "fig,ax=plt.subplots()\n",
    "RAO_15_0.plot(x=r'lambda/lpp', y='heaveAmplitude', style='o-', ax=ax)\n",
    "ax.set_xlim((0,1.8))\n",
    "\n",
    "fig,ax=plt.subplots()\n",
    "RAO_15_0.plot(x=r'lambda/lpp', y='pitchAmplitude', style='o-', ax=ax)\n",
    "#ax.set_xlim((0,1.8))"
   ]
  },
  {
   "cell_type": "code",
   "execution_count": 22,
   "metadata": {},
   "outputs": [
    {
     "data": {
      "text/html": [
       "<div>\n",
       "<style scoped>\n",
       "    .dataframe tbody tr th:only-of-type {\n",
       "        vertical-align: middle;\n",
       "    }\n",
       "\n",
       "    .dataframe tbody tr th {\n",
       "        vertical-align: top;\n",
       "    }\n",
       "\n",
       "    .dataframe thead th {\n",
       "        text-align: right;\n",
       "    }\n",
       "</style>\n",
       "<table border=\"1\" class=\"dataframe\">\n",
       "  <thead>\n",
       "    <tr style=\"text-align: right;\">\n",
       "      <th></th>\n",
       "      <th>calculated_wave_damping_in_roll</th>\n",
       "      <th>critical_wave_damping_in_roll</th>\n",
       "      <th>natural_roll_frequency</th>\n",
       "      <th>roll_damping_ratio</th>\n",
       "      <th>speed</th>\n",
       "      <th>wave_direction</th>\n",
       "    </tr>\n",
       "  </thead>\n",
       "  <tbody>\n",
       "    <tr>\n",
       "      <th>0</th>\n",
       "      <td>9054.0</td>\n",
       "      <td>7738000.0</td>\n",
       "      <td>0.29838</td>\n",
       "      <td>0.026150</td>\n",
       "      <td>0.0</td>\n",
       "      <td>0.0</td>\n",
       "    </tr>\n",
       "    <tr>\n",
       "      <th>1</th>\n",
       "      <td>9054.0</td>\n",
       "      <td>7738000.0</td>\n",
       "      <td>0.29838</td>\n",
       "      <td>0.037180</td>\n",
       "      <td>0.0</td>\n",
       "      <td>30.0</td>\n",
       "    </tr>\n",
       "    <tr>\n",
       "      <th>2</th>\n",
       "      <td>9054.0</td>\n",
       "      <td>7738000.0</td>\n",
       "      <td>0.29838</td>\n",
       "      <td>0.041460</td>\n",
       "      <td>0.0</td>\n",
       "      <td>60.0</td>\n",
       "    </tr>\n",
       "    <tr>\n",
       "      <th>3</th>\n",
       "      <td>9054.0</td>\n",
       "      <td>7738000.0</td>\n",
       "      <td>0.29838</td>\n",
       "      <td>0.037180</td>\n",
       "      <td>0.0</td>\n",
       "      <td>90.0</td>\n",
       "    </tr>\n",
       "    <tr>\n",
       "      <th>4</th>\n",
       "      <td>9054.0</td>\n",
       "      <td>7738000.0</td>\n",
       "      <td>0.29838</td>\n",
       "      <td>0.026120</td>\n",
       "      <td>0.0</td>\n",
       "      <td>120.0</td>\n",
       "    </tr>\n",
       "    <tr>\n",
       "      <th>5</th>\n",
       "      <td>NaN</td>\n",
       "      <td>NaN</td>\n",
       "      <td>NaN</td>\n",
       "      <td>NaN</td>\n",
       "      <td>0.0</td>\n",
       "      <td>150.0</td>\n",
       "    </tr>\n",
       "    <tr>\n",
       "      <th>6</th>\n",
       "      <td>NaN</td>\n",
       "      <td>NaN</td>\n",
       "      <td>NaN</td>\n",
       "      <td>NaN</td>\n",
       "      <td>0.0</td>\n",
       "      <td>180.0</td>\n",
       "    </tr>\n",
       "    <tr>\n",
       "      <th>7</th>\n",
       "      <td>9054.0</td>\n",
       "      <td>7738000.0</td>\n",
       "      <td>0.29838</td>\n",
       "      <td>0.004322</td>\n",
       "      <td>15.0</td>\n",
       "      <td>0.0</td>\n",
       "    </tr>\n",
       "    <tr>\n",
       "      <th>8</th>\n",
       "      <td>9054.0</td>\n",
       "      <td>7738000.0</td>\n",
       "      <td>0.29838</td>\n",
       "      <td>0.012690</td>\n",
       "      <td>15.0</td>\n",
       "      <td>30.0</td>\n",
       "    </tr>\n",
       "    <tr>\n",
       "      <th>9</th>\n",
       "      <td>9054.0</td>\n",
       "      <td>7738000.0</td>\n",
       "      <td>0.29838</td>\n",
       "      <td>0.041640</td>\n",
       "      <td>15.0</td>\n",
       "      <td>60.0</td>\n",
       "    </tr>\n",
       "    <tr>\n",
       "      <th>10</th>\n",
       "      <td>9054.0</td>\n",
       "      <td>7738000.0</td>\n",
       "      <td>0.29838</td>\n",
       "      <td>0.013430</td>\n",
       "      <td>15.0</td>\n",
       "      <td>90.0</td>\n",
       "    </tr>\n",
       "    <tr>\n",
       "      <th>11</th>\n",
       "      <td>9054.0</td>\n",
       "      <td>7738000.0</td>\n",
       "      <td>0.29838</td>\n",
       "      <td>0.006129</td>\n",
       "      <td>15.0</td>\n",
       "      <td>120.0</td>\n",
       "    </tr>\n",
       "    <tr>\n",
       "      <th>12</th>\n",
       "      <td>NaN</td>\n",
       "      <td>NaN</td>\n",
       "      <td>NaN</td>\n",
       "      <td>NaN</td>\n",
       "      <td>15.0</td>\n",
       "      <td>150.0</td>\n",
       "    </tr>\n",
       "    <tr>\n",
       "      <th>13</th>\n",
       "      <td>NaN</td>\n",
       "      <td>NaN</td>\n",
       "      <td>NaN</td>\n",
       "      <td>NaN</td>\n",
       "      <td>15.0</td>\n",
       "      <td>180.0</td>\n",
       "    </tr>\n",
       "  </tbody>\n",
       "</table>\n",
       "</div>"
      ],
      "text/plain": [
       "    calculated_wave_damping_in_roll  critical_wave_damping_in_roll  \\\n",
       "0                            9054.0                      7738000.0   \n",
       "1                            9054.0                      7738000.0   \n",
       "2                            9054.0                      7738000.0   \n",
       "3                            9054.0                      7738000.0   \n",
       "4                            9054.0                      7738000.0   \n",
       "5                               NaN                            NaN   \n",
       "6                               NaN                            NaN   \n",
       "7                            9054.0                      7738000.0   \n",
       "8                            9054.0                      7738000.0   \n",
       "9                            9054.0                      7738000.0   \n",
       "10                           9054.0                      7738000.0   \n",
       "11                           9054.0                      7738000.0   \n",
       "12                              NaN                            NaN   \n",
       "13                              NaN                            NaN   \n",
       "\n",
       "    natural_roll_frequency  roll_damping_ratio  speed  wave_direction  \n",
       "0                  0.29838            0.026150    0.0             0.0  \n",
       "1                  0.29838            0.037180    0.0            30.0  \n",
       "2                  0.29838            0.041460    0.0            60.0  \n",
       "3                  0.29838            0.037180    0.0            90.0  \n",
       "4                  0.29838            0.026120    0.0           120.0  \n",
       "5                      NaN                 NaN    0.0           150.0  \n",
       "6                      NaN                 NaN    0.0           180.0  \n",
       "7                  0.29838            0.004322   15.0             0.0  \n",
       "8                  0.29838            0.012690   15.0            30.0  \n",
       "9                  0.29838            0.041640   15.0            60.0  \n",
       "10                 0.29838            0.013430   15.0            90.0  \n",
       "11                 0.29838            0.006129   15.0           120.0  \n",
       "12                     NaN                 NaN   15.0           150.0  \n",
       "13                     NaN                 NaN   15.0           180.0  "
      ]
     },
     "execution_count": 22,
     "metadata": {},
     "output_type": "execute_result"
    }
   ],
   "source": [
    "df_roll_damping = output_file.get_roll_damping()\n",
    "df_roll_damping"
   ]
  },
  {
   "cell_type": "markdown",
   "metadata": {},
   "source": [
    "## Run Ikeda"
   ]
  },
  {
   "cell_type": "code",
   "execution_count": 23,
   "metadata": {},
   "outputs": [],
   "source": [
    "w = 2.462149630662348\n",
    "\n",
    "scale_factor=run.model.scale_factor\n",
    "V = row.ship_speed*1.852/3.6/np.sqrt(scale_factor)\n",
    "\n",
    "if not run.ship.BKL:\n",
    "    BKL=0\n",
    "else:\n",
    "    BKL=run.ship.BKL/scale_factor\n",
    "\n",
    "if not run.ship.BKB:\n",
    "    BKB = 0\n",
    "else:\n",
    "    BKB=run.ship.BKB/scale_factor\n",
    "\n",
    "#fi_as = np.deg2rad([1,10])\n",
    "fi_as = np.deg2rad(10)\n",
    "\n",
    "ikeda = Ikeda.load_scoresII(V=V, w=w, fi_a=fi_as, indata=indata, output_file=output_file, \n",
    "                            scale_factor=scale_factor, BKL=BKL, BKB=BKB)\n",
    "\n",
    "R = 0.05*run.ship.beam/scale_factor  # Just guessing...\n",
    "ikeda.R = R"
   ]
  },
  {
   "cell_type": "code",
   "execution_count": 24,
   "metadata": {},
   "outputs": [],
   "source": [
    "def calculate_ikeda(ikeda):\n",
    "\n",
    "    output = pd.DataFrame()\n",
    "    output['B_44_hat']   = ikeda.calculate_B44()\n",
    "    output['B_W0_hat']   = float(ikeda.calculate_B_W0())\n",
    "    output['B_W_hat']    = float(ikeda.calculate_B_W())\n",
    "    output['B_F_hat']    = ikeda.calculate_B_F()\n",
    "    output['B_E_hat']    = ikeda.calculate_B_E()\n",
    "    output['B_BK_hat']   = ikeda.calculate_B_BK()\n",
    "    output['B_L_hat']    = float(ikeda.calculate_B_L())\n",
    "    output['Bw_div_Bw0'] = float(ikeda.calculate_Bw_div_Bw0())\n",
    "    return output"
   ]
  },
  {
   "cell_type": "code",
   "execution_count": 25,
   "metadata": {},
   "outputs": [
    {
     "name": "stderr",
     "output_type": "stream",
     "text": [
      "c:\\dev\\rolldecay-estimators\\rolldecayestimators\\ikeda_speed.py:189: RuntimeWarning: divide by zero encountered in double_scalars\n",
      "  So = (0.3 * pi * l * fi_a * f / bBK + 1.95) * bBK;\n",
      "c:\\dev\\rolldecay-estimators\\rolldecayestimators\\ikeda_speed.py:189: RuntimeWarning: invalid value encountered in double_scalars\n",
      "  So = (0.3 * pi * l * fi_a * f / bBK + 1.95) * bBK;\n"
     ]
    }
   ],
   "source": [
    "result_datas = calculate_ikeda(ikeda)  # DataFrame with two roll amplitudes"
   ]
  },
  {
   "cell_type": "code",
   "execution_count": 26,
   "metadata": {},
   "outputs": [
    {
     "data": {
      "text/html": [
       "<div>\n",
       "<style scoped>\n",
       "    .dataframe tbody tr th:only-of-type {\n",
       "        vertical-align: middle;\n",
       "    }\n",
       "\n",
       "    .dataframe tbody tr th {\n",
       "        vertical-align: top;\n",
       "    }\n",
       "\n",
       "    .dataframe thead th {\n",
       "        text-align: right;\n",
       "    }\n",
       "</style>\n",
       "<table border=\"1\" class=\"dataframe\">\n",
       "  <thead>\n",
       "    <tr style=\"text-align: right;\">\n",
       "      <th></th>\n",
       "      <th>B_44_hat</th>\n",
       "      <th>B_W0_hat</th>\n",
       "      <th>B_W_hat</th>\n",
       "      <th>B_F_hat</th>\n",
       "      <th>B_E_hat</th>\n",
       "      <th>B_BK_hat</th>\n",
       "      <th>B_L_hat</th>\n",
       "      <th>Bw_div_Bw0</th>\n",
       "    </tr>\n",
       "  </thead>\n",
       "  <tbody>\n",
       "    <tr>\n",
       "      <th>0</th>\n",
       "      <td>0.002972</td>\n",
       "      <td>0.000064</td>\n",
       "      <td>0.000064</td>\n",
       "      <td>0.000425</td>\n",
       "      <td>0.002482</td>\n",
       "      <td>0.0</td>\n",
       "      <td>0.0</td>\n",
       "      <td>1.000316</td>\n",
       "    </tr>\n",
       "  </tbody>\n",
       "</table>\n",
       "</div>"
      ],
      "text/plain": [
       "   B_44_hat  B_W0_hat   B_W_hat   B_F_hat   B_E_hat  B_BK_hat  B_L_hat  \\\n",
       "0  0.002972  0.000064  0.000064  0.000425  0.002482       0.0      0.0   \n",
       "\n",
       "   Bw_div_Bw0  \n",
       "0    1.000316  "
      ]
     },
     "execution_count": 26,
     "metadata": {},
     "output_type": "execute_result"
    }
   ],
   "source": [
    "result_datas"
   ]
  },
  {
   "cell_type": "markdown",
   "metadata": {},
   "source": [
    "## Simplified Ikeda also..."
   ]
  },
  {
   "cell_type": "code",
   "execution_count": 28,
   "metadata": {},
   "outputs": [],
   "source": [
    "lpp = run.ship.lpp/scale_factor\n",
    "beam = run.ship.beam/scale_factor\n",
    "kg = run.loading_condition.kg/scale_factor\n",
    "volume = run.loading_condition.Volume/(scale_factor**3)\n",
    "draught = (run.loading_condition.TA + run.loading_condition.TF)/2/scale_factor\n",
    "A0 = run.loading_condition.A0\n",
    "\n",
    "if not run.ship.BKL:\n",
    "    BKL=0\n",
    "else:\n",
    "    BKL = run.ship.BKL\n",
    "\n",
    "if not run.ship.BKB:\n",
    "    BKB = 0\n",
    "else:\n",
    "    BKB = run.ship.BKB\n",
    "\n",
    "si = SimplifiedIkeda(V=V, w=w, fi_a=fi_as, beam=beam, lpp=lpp, kg = kg, volume=volume, draught=draught, A0=A0, BKL=BKL, BKB=BKB)"
   ]
  },
  {
   "cell_type": "code",
   "execution_count": 29,
   "metadata": {},
   "outputs": [],
   "source": [
    "def calculate_SI(si):\n",
    "    \n",
    "    output = pd.DataFrame()\n",
    "    output['B_44_hat'] = si.calculate_B44()\n",
    "    output['B_W0_hat'] =si.calculate_B_W0()\n",
    "    output['B_W_hat'] =si.calculate_B_W()\n",
    "    output['B_F_hat'] =si.calculate_B_F()\n",
    "    output['B_E_hat'] =si.calculate_B_E()\n",
    "    output['B_BK_hat'] =si.calculate_B_BK()\n",
    "    output['B_L_hat'] =si.calculate_B_L()\n",
    "    output['Bw_div_Bw0'] =si.calculate_Bw_div_Bw0()\n",
    "    \n",
    "    return output"
   ]
  },
  {
   "cell_type": "code",
   "execution_count": 30,
   "metadata": {},
   "outputs": [],
   "source": [
    "result_datas_SI = calculate_SI(si=si)"
   ]
  },
  {
   "cell_type": "code",
   "execution_count": 31,
   "metadata": {},
   "outputs": [
    {
     "data": {
      "text/html": [
       "<div>\n",
       "<style scoped>\n",
       "    .dataframe tbody tr th:only-of-type {\n",
       "        vertical-align: middle;\n",
       "    }\n",
       "\n",
       "    .dataframe tbody tr th {\n",
       "        vertical-align: top;\n",
       "    }\n",
       "\n",
       "    .dataframe thead th {\n",
       "        text-align: right;\n",
       "    }\n",
       "</style>\n",
       "<table border=\"1\" class=\"dataframe\">\n",
       "  <thead>\n",
       "    <tr style=\"text-align: right;\">\n",
       "      <th></th>\n",
       "      <th>B_44_hat</th>\n",
       "      <th>B_W0_hat</th>\n",
       "      <th>B_W_hat</th>\n",
       "      <th>B_F_hat</th>\n",
       "      <th>B_E_hat</th>\n",
       "      <th>B_BK_hat</th>\n",
       "      <th>B_L_hat</th>\n",
       "      <th>Bw_div_Bw0</th>\n",
       "    </tr>\n",
       "  </thead>\n",
       "  <tbody>\n",
       "    <tr>\n",
       "      <th>0</th>\n",
       "      <td>0.002989</td>\n",
       "      <td>0.000731</td>\n",
       "      <td>0.000731</td>\n",
       "      <td>0.000296</td>\n",
       "      <td>0.001962</td>\n",
       "      <td>0.0</td>\n",
       "      <td>0.0</td>\n",
       "      <td>1.000316</td>\n",
       "    </tr>\n",
       "  </tbody>\n",
       "</table>\n",
       "</div>"
      ],
      "text/plain": [
       "   B_44_hat  B_W0_hat   B_W_hat   B_F_hat   B_E_hat  B_BK_hat  B_L_hat  \\\n",
       "0  0.002989  0.000731  0.000731  0.000296  0.001962       0.0      0.0   \n",
       "\n",
       "   Bw_div_Bw0  \n",
       "0    1.000316  "
      ]
     },
     "execution_count": 31,
     "metadata": {},
     "output_type": "execute_result"
    }
   ],
   "source": [
    "result_datas_SI"
   ]
  },
  {
   "cell_type": "code",
   "execution_count": 32,
   "metadata": {},
   "outputs": [],
   "source": [
    "df_results = pd.DataFrame(columns=result_datas.columns)\n",
    "df_results.loc['ikeda']=result_datas.iloc[0]\n",
    "df_results.loc['SI']=result_datas_SI.iloc[0]\n"
   ]
  },
  {
   "cell_type": "markdown",
   "metadata": {},
   "source": [
    "<a id='eddy'></a>"
   ]
  },
  {
   "cell_type": "code",
   "execution_count": 33,
   "metadata": {},
   "outputs": [
    {
     "data": {
      "text/plain": [
       "<AxesSubplot:>"
      ]
     },
     "execution_count": 33,
     "metadata": {},
     "output_type": "execute_result"
    },
    {
     "data": {
      "image/png": "[encoded data removed]",
      "text/plain": [
       "<Figure size 576x504 with 1 Axes>"
      ]
     },
     "metadata": {},
     "output_type": "display_data"
    }
   ],
   "source": [
    "interesting = ['B_W_hat','B_F_hat','B_E_hat']\n",
    "df_results[interesting].plot(kind='bar',stacked=True)"
   ]
  },
  {
   "cell_type": "code",
   "execution_count": 34,
   "metadata": {},
   "outputs": [
    {
     "data": {
      "text/plain": [
       "{'CB': (0.5, 0.85),\n",
       " 'B/d': (2.5, 4.5),\n",
       " 'OG/d': (-1.5, 0.2),\n",
       " 'CMID': (0.9, 0.99),\n",
       " 'bBk/B': (0.01, 0.06),\n",
       " 'lBk/LPP': (0.05, 0.4),\n",
       " 'OMEGA_hat': (0, 1.0)}"
      ]
     },
     "execution_count": 34,
     "metadata": {},
     "output_type": "execute_result"
    }
   ],
   "source": [
    "limits_kawahara"
   ]
  },
  {
   "cell_type": "code",
   "execution_count": 35,
   "metadata": {},
   "outputs": [
    {
     "data": {
      "text/html": [
       "<div>\n",
       "<style scoped>\n",
       "    .dataframe tbody tr th:only-of-type {\n",
       "        vertical-align: middle;\n",
       "    }\n",
       "\n",
       "    .dataframe tbody tr th {\n",
       "        vertical-align: top;\n",
       "    }\n",
       "\n",
       "    .dataframe thead th {\n",
       "        text-align: right;\n",
       "    }\n",
       "</style>\n",
       "<table border=\"1\" class=\"dataframe\">\n",
       "  <thead>\n",
       "    <tr style=\"text-align: right;\">\n",
       "      <th></th>\n",
       "      <th>min</th>\n",
       "      <th>max</th>\n",
       "    </tr>\n",
       "  </thead>\n",
       "  <tbody>\n",
       "    <tr>\n",
       "      <th>CB</th>\n",
       "      <td>0.50</td>\n",
       "      <td>0.85</td>\n",
       "    </tr>\n",
       "    <tr>\n",
       "      <th>B/d</th>\n",
       "      <td>2.50</td>\n",
       "      <td>4.50</td>\n",
       "    </tr>\n",
       "    <tr>\n",
       "      <th>OG/d</th>\n",
       "      <td>-1.50</td>\n",
       "      <td>0.20</td>\n",
       "    </tr>\n",
       "    <tr>\n",
       "      <th>CMID</th>\n",
       "      <td>0.90</td>\n",
       "      <td>0.99</td>\n",
       "    </tr>\n",
       "    <tr>\n",
       "      <th>bBk/B</th>\n",
       "      <td>0.01</td>\n",
       "      <td>0.06</td>\n",
       "    </tr>\n",
       "    <tr>\n",
       "      <th>lBk/LPP</th>\n",
       "      <td>0.05</td>\n",
       "      <td>0.40</td>\n",
       "    </tr>\n",
       "    <tr>\n",
       "      <th>OMEGA_hat</th>\n",
       "      <td>0.00</td>\n",
       "      <td>1.00</td>\n",
       "    </tr>\n",
       "  </tbody>\n",
       "</table>\n",
       "</div>"
      ],
      "text/plain": [
       "            min   max\n",
       "CB         0.50  0.85\n",
       "B/d        2.50  4.50\n",
       "OG/d      -1.50  0.20\n",
       "CMID       0.90  0.99\n",
       "bBk/B      0.01  0.06\n",
       "lBk/LPP    0.05  0.40\n",
       "OMEGA_hat  0.00  1.00"
      ]
     },
     "execution_count": 35,
     "metadata": {},
     "output_type": "execute_result"
    }
   ],
   "source": [
    "df_limits = pd.DataFrame(data = limits_kawahara, index = ['min','max']).transpose()\n",
    "df_limits"
   ]
  },
  {
   "cell_type": "code",
   "execution_count": 36,
   "metadata": {},
   "outputs": [],
   "source": [
    "g=9.81\n",
    "omega_hat = lambdas.omega_hat(beam=beam, g=g, omega0=w)"
   ]
  },
  {
   "cell_type": "code",
   "execution_count": 37,
   "metadata": {},
   "outputs": [],
   "source": [
    "Cb = volume/(lpp*beam*draught)\n",
    "OG = draught-kg\n",
    "ship_limits = {\n",
    " 'CB': Cb,\n",
    " 'B/d': beam/draught,\n",
    " 'OG/d': OG/draught,\n",
    " 'CMID': A0,\n",
    " 'bBk/B': BKB/beam,\n",
    " 'lBk/LPP': BKL/beam,\n",
    " 'OMEGA_hat': omega_hat}\n",
    "ship_limits = pd.Series(ship_limits,name='ship')"
   ]
  },
  {
   "cell_type": "code",
   "execution_count": 38,
   "metadata": {},
   "outputs": [],
   "source": [
    "df_limits['ship'] = ship_limits"
   ]
  },
  {
   "cell_type": "code",
   "execution_count": 39,
   "metadata": {},
   "outputs": [],
   "source": [
    "df_limits_clean = df_limits.copy()\n",
    "if df_limits.loc['bBk/B','ship']==0:\n",
    "    df_limits_clean.drop('bBk/B', inplace=True)\n",
    "    \n",
    "if df_limits.loc['lBk/LPP','ship']==0:\n",
    "    df_limits_clean.drop('lBk/LPP', inplace=True)"
   ]
  },
  {
   "cell_type": "code",
   "execution_count": 40,
   "metadata": {},
   "outputs": [
    {
     "data": {
      "text/plain": [
       "Text(0.5, 1.0, 'Ship vs. SI limits')"
      ]
     },
     "execution_count": 40,
     "metadata": {},
     "output_type": "execute_result"
    },
    {
     "data": {
      "image/png": "[encoded data removed]",
      "text/plain": [
       "<Figure size 576x504 with 1 Axes>"
      ]
     },
     "metadata": {},
     "output_type": "display_data"
    }
   ],
   "source": [
    "fig,ax=plt.subplots()\n",
    "ax.errorbar(df_limits_clean.index,df_limits_clean['ship'],yerr=[df_limits_clean['ship']-df_limits_clean['min'],df_limits_clean['max']-df_limits_clean['ship']], \n",
    "            fmt='ok', lw=1, ecolor='gray', capsize=20)\n",
    "ax.set_title('Ship vs. SI limits')"
   ]
  },
  {
   "cell_type": "code",
   "execution_count": 41,
   "metadata": {},
   "outputs": [],
   "source": [
    "df_ = df_limits_clean.sub(df_limits['min'],axis=0)\n",
    "df_limits_normalized = df_.div(df_['max'], axis=0)"
   ]
  },
  {
   "cell_type": "markdown",
   "metadata": {},
   "source": [
    "<a id='limits_kawahara'></a>"
   ]
  },
  {
   "cell_type": "code",
   "execution_count": 42,
   "metadata": {},
   "outputs": [
    {
     "data": {
      "text/plain": [
       "Text(0, 0.5, 'Norlimized limit')"
      ]
     },
     "execution_count": 42,
     "metadata": {},
     "output_type": "execute_result"
    },
    {
     "data": {
      "image/png": "[encoded data removed]",
      "text/plain": [
       "<Figure size 576x504 with 1 Axes>"
      ]
     },
     "metadata": {},
     "output_type": "display_data"
    }
   ],
   "source": [
    "fig,ax=plt.subplots()\n",
    "ax.errorbar(df_limits_normalized.index,df_limits_normalized['ship'],yerr=[df_limits_normalized['ship']-df_limits_normalized['min'],\n",
    "                                                                         df_limits_normalized['max']-df_limits_normalized['ship']], fmt='ok', lw=1, ecolor='gray', capsize=20)\n",
    "ax.set_title('Ship vs. SI limits')\n",
    "ax.set_ylabel('Norlimized limit')"
   ]
  }
 ],
 "metadata": {
  "kernelspec": {
   "display_name": "Python 3",
   "language": "python",
   "name": "python3"
  },
  "language_info": {
   "codemirror_mode": {
    "name": "ipython",
    "version": 3
   },
   "file_extension": ".py",
   "mimetype": "text/x-python",
   "name": "python",
   "nbconvert_exporter": "python",
   "pygments_lexer": "ipython3",
   "version": "3.6.8"
  }
 },
 "nbformat": 4,
 "nbformat_minor": 4
}
