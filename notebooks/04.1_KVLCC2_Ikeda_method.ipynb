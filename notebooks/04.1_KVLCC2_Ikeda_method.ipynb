{
 "cells": [
  {
   "cell_type": "markdown",
   "metadata": {},
   "source": [
    "# KVLCC2 Ikeda method"
   ]
  },
  {
   "cell_type": "markdown",
   "metadata": {},
   "source": [
    "# Purpose\n",
    "How good is original Ikeda method for this ship?"
   ]
  },
  {
   "cell_type": "markdown",
   "metadata": {},
   "source": [
    "# Methodology\n",
    "Run PyScoresII and calculate Ikeda"
   ]
  },
  {
   "cell_type": "markdown",
   "metadata": {},
   "source": [
    "# WIP - improvements\n",
    "(WORK IN PROGRESS)\n",
    "Use this section only if the notebook is not final.\n",
    "\n",
    "Notable TODOs:\n",
    "* todo 1\n",
    "* todo 2\n",
    "* todo 3"
   ]
  },
  {
   "cell_type": "markdown",
   "metadata": {},
   "source": [
    "## Results\n",
    "Describe and comment the most important results."
   ]
  },
  {
   "cell_type": "markdown",
   "metadata": {},
   "source": [
    "# Suggested next steps\n",
    "State suggested next steps, based on results obtained in this notebook."
   ]
  },
  {
   "cell_type": "markdown",
   "metadata": {},
   "source": [
    "# Setup"
   ]
  },
  {
   "cell_type": "code",
   "execution_count": null,
   "metadata": {},
   "outputs": [],
   "source": [
    "# %load imports.py\n",
    "\"\"\"\n",
    "These is the standard setup for the notebooks.\n",
    "\"\"\"\n",
    "\n",
    "%matplotlib inline\n",
    "%load_ext autoreload\n",
    "%autoreload 2\n",
    "\n",
    "from jupyterthemes import jtplot\n",
    "jtplot.style(theme='onedork', context='notebook', ticks=True, grid=False)\n",
    "\n",
    "import pandas as pd\n",
    "pd.options.display.max_rows = 999\n",
    "pd.options.display.max_columns = 999\n",
    "pd.set_option(\"display.max_columns\", None)\n",
    "import numpy as np\n",
    "import os\n",
    "import matplotlib.pyplot as plt\n",
    "from collections import OrderedDict\n",
    "#plt.style.use('paper')\n",
    "\n",
    "#import data\n",
    "import copy\n",
    "from mdldb.run import Run\n",
    "\n",
    "from sklearn.pipeline import Pipeline\n",
    "from rolldecayestimators.transformers import CutTransformer, LowpassFilterDerivatorTransformer, ScaleFactorTransformer, OffsetTransformer\n",
    "from rolldecayestimators.direct_estimator_cubic import EstimatorQuadraticB, EstimatorCubic\n",
    "from rolldecayestimators.ikeda_estimator import IkedaQuadraticEstimator\n",
    "import rolldecayestimators.equations as equations\n",
    "import rolldecayestimators.lambdas as lambdas\n",
    "from rolldecayestimators.substitute_dynamic_symbols import lambdify\n",
    "import rolldecayestimators.symbols as symbols\n",
    "import sympy as sp\n",
    "\n",
    "from sympy.physics.vector.printing import vpprint, vlatex\n",
    "from IPython.display import display, Math, Latex\n",
    "\n",
    "from sklearn.metrics import r2_score\n",
    "from src.data import database\n",
    "from mdldb import tables\n"
   ]
  },
  {
   "cell_type": "code",
   "execution_count": null,
   "metadata": {},
   "outputs": [],
   "source": [
    "import pyscores2\n",
    "import pyscores2.runScores2\n",
    "import pyscores2.xml_hydrostatics\n",
    "from pyscores2.output import OutputFile\n",
    "from rolldecayestimators.ikeda import Ikeda, IkedaR\n",
    "\n",
    "from rolldecayestimators.simplified_ikeda_class import SimplifiedIkeda, SimplifiedIkedaABS\n",
    "from rolldecayestimators.simplified_ikeda import limits_kawahara\n",
    "from pyscores2.runScores2 import Calculation\n",
    "import shutil"
   ]
  },
  {
   "cell_type": "code",
   "execution_count": null,
   "metadata": {},
   "outputs": [],
   "source": [
    "db = database.get_db()"
   ]
  },
  {
   "cell_type": "code",
   "execution_count": null,
   "metadata": {},
   "outputs": [],
   "source": [
    "sql = \"\"\"\n",
    "SELECT * from run\n",
    "WHERE model_number='M5057-01-A' and test_type='roll decay' and project_number=40178362;\n",
    "\"\"\"\n",
    "df_rolldecays = pd.read_sql(sql=sql, con=db.engine, index_col='id')\n",
    "\n",
    "df_rolldecays['ship_speed'].fillna(0, inplace=True)\n"
   ]
  },
  {
   "cell_type": "code",
   "execution_count": null,
   "metadata": {},
   "outputs": [],
   "source": [
    "df_rolldecays=df_rolldecays.loc[[21337,21338]].copy()"
   ]
  },
  {
   "cell_type": "code",
   "execution_count": null,
   "metadata": {},
   "outputs": [],
   "source": [
    "row = df_rolldecays.iloc[0]\n",
    "run = db.session.query(Run).get(int(row.name))\n",
    "run = database.load_run(run, save_as_example=False, prefer_hdf5=True)\n",
    "  "
   ]
  },
  {
   "cell_type": "code",
   "execution_count": null,
   "metadata": {},
   "outputs": [],
   "source": [
    "print(run.project.project_path)"
   ]
  },
  {
   "cell_type": "markdown",
   "metadata": {},
   "source": [
    "## Run ScoresII"
   ]
  },
  {
   "cell_type": "code",
   "execution_count": null,
   "metadata": {},
   "outputs": [],
   "source": [
    "xml_parser = pyscores2.xml_hydrostatics.Parser(fileName='../data/external/KVLCC2m_kbk_final_ScoresData.xml')\n",
    "indata = xml_parser.convertToScores2Indata(conditionName='Design')\n",
    "indata.runOptions[\"IJ\"].set_value(1)\n",
    "indata.runOptions[\"IK\"].set_value(2)"
   ]
  },
  {
   "cell_type": "code",
   "execution_count": null,
   "metadata": {},
   "outputs": [],
   "source": [
    "indata.kxx = run.loading_condition.KXX*0.78  # To get correct natural frequency\n",
    "indata.kyy = run.loading_condition.KZZ\n",
    "indata.speedMax=15.5\n",
    "indata.speedIncrement=15\n",
    "indata.waveFrequenciesMax = 1.0\n",
    "indata.waveFrequenciesMin = 0.3\n",
    "indata.waveFrequenciesIncrement = 0.015\n",
    "#indata.zcg = run.loading_condition.kg"
   ]
  },
  {
   "cell_type": "code",
   "execution_count": null,
   "metadata": {},
   "outputs": [],
   "source": [
    "indata.save('../models/KVLCC2_0speed.IN')"
   ]
  },
  {
   "cell_type": "code",
   "execution_count": null,
   "metadata": {},
   "outputs": [],
   "source": [
    "save_dir_name = 'scores'\n",
    "if not os.path.exists(save_dir_name):\n",
    "    os.mkdir(save_dir_name)\n",
    "    \n",
    "calculation = Calculation(outDataDirectory='scores')"
   ]
  },
  {
   "cell_type": "code",
   "execution_count": null,
   "metadata": {},
   "outputs": [],
   "source": [
    "calculation.run(indata=indata)"
   ]
  },
  {
   "cell_type": "markdown",
   "metadata": {},
   "source": [
    "## Load ScoresII results"
   ]
  },
  {
   "cell_type": "code",
   "execution_count": null,
   "metadata": {},
   "outputs": [],
   "source": [
    "output_file = OutputFile(filePath=calculation.outDataPath)"
   ]
  },
  {
   "cell_type": "code",
   "execution_count": null,
   "metadata": {},
   "outputs": [],
   "source": [
    "shutil.copyfile(calculation.outDataPath,'../data/interim/KVLCC2_0speed.out')"
   ]
  },
  {
   "cell_type": "code",
   "execution_count": null,
   "metadata": {},
   "outputs": [],
   "source": [
    "output_file.results"
   ]
  },
  {
   "cell_type": "code",
   "execution_count": null,
   "metadata": {},
   "outputs": [],
   "source": [
    "df = output_file.get_result()"
   ]
  },
  {
   "cell_type": "code",
   "execution_count": null,
   "metadata": {},
   "outputs": [],
   "source": [
    "df.describe()"
   ]
  },
  {
   "cell_type": "code",
   "execution_count": null,
   "metadata": {},
   "outputs": [],
   "source": [
    "df.head()"
   ]
  },
  {
   "cell_type": "code",
   "execution_count": null,
   "metadata": {},
   "outputs": [],
   "source": [
    "df[r'lambda/lpp'] = df['waveLengths']/run.ship.lpp \n",
    "\n",
    "\n",
    "fig,ax=plt.subplots()\n",
    "for index, group in df.groupby(by=['speed','wave direction']):\n",
    "    group.plot(x=r'lambda/lpp', y='heaveAmplitude', style='o-', label=index, ax=ax)\n",
    "    \n",
    "ax.grid(True)\n",
    "ax.legend();\n",
    "ax.set_ylabel('Heave');"
   ]
  },
  {
   "cell_type": "code",
   "execution_count": null,
   "metadata": {},
   "outputs": [],
   "source": [
    "RAO_15_0 = df.groupby(by=['speed','wave direction']).get_group((15,180))"
   ]
  },
  {
   "cell_type": "code",
   "execution_count": null,
   "metadata": {},
   "outputs": [],
   "source": [
    "fig,ax=plt.subplots()\n",
    "RAO_15_0.plot(x=r'lambda/lpp', y='heaveAmplitude', style='o-', ax=ax)\n",
    "ax.set_xlim((0,1.8))\n",
    "\n",
    "fig,ax=plt.subplots()\n",
    "RAO_15_0.plot(x=r'lambda/lpp', y='pitchAmplitude', style='o-', ax=ax)\n",
    "#ax.set_xlim((0,1.8))"
   ]
  },
  {
   "cell_type": "code",
   "execution_count": null,
   "metadata": {},
   "outputs": [],
   "source": [
    "df_roll_damping = output_file.get_roll_damping()\n",
    "df_roll_damping"
   ]
  },
  {
   "cell_type": "markdown",
   "metadata": {},
   "source": [
    "## Run Ikeda"
   ]
  },
  {
   "cell_type": "code",
   "execution_count": null,
   "metadata": {},
   "outputs": [],
   "source": [
    "w = 2.462149630662348\n",
    "\n",
    "scale_factor=run.model.scale_factor\n",
    "V = row.ship_speed*1.852/3.6/np.sqrt(scale_factor)\n",
    "\n",
    "if not run.ship.BKL:\n",
    "    BKL=0\n",
    "else:\n",
    "    BKL=run.ship.BKL/scale_factor\n",
    "\n",
    "if not run.ship.BKB:\n",
    "    BKB = 0\n",
    "else:\n",
    "    BKB=run.ship.BKB/scale_factor\n",
    "\n",
    "#fi_as = np.deg2rad([1,10])\n",
    "fi_as = np.deg2rad(10)\n",
    "\n",
    "ikeda = Ikeda.load_scoresII(V=V, w=w, fi_a=fi_as, indata=indata, output_file=output_file, \n",
    "                            scale_factor=scale_factor, BKL=BKL, BKB=BKB)\n",
    "\n",
    "R = 0.05*run.ship.beam/scale_factor  # Just guessing...\n",
    "ikeda.R = R"
   ]
  },
  {
   "cell_type": "code",
   "execution_count": null,
   "metadata": {},
   "outputs": [],
   "source": [
    "def calculate_ikeda(ikeda):\n",
    "\n",
    "    output = pd.DataFrame()\n",
    "    output['B_44_hat']   = ikeda.calculate_B44()\n",
    "    output['B_W0_hat']   = float(ikeda.calculate_B_W0())\n",
    "    output['B_W_hat']    = float(ikeda.calculate_B_W())\n",
    "    output['B_F_hat']    = ikeda.calculate_B_F()\n",
    "    output['B_E_hat']    = ikeda.calculate_B_E()\n",
    "    output['B_BK_hat']   = ikeda.calculate_B_BK()\n",
    "    output['B_L_hat']    = float(ikeda.calculate_B_L())\n",
    "    output['Bw_div_Bw0'] = float(ikeda.calculate_Bw_div_Bw0())\n",
    "    return output"
   ]
  },
  {
   "cell_type": "code",
   "execution_count": null,
   "metadata": {},
   "outputs": [],
   "source": [
    "result_datas = calculate_ikeda(ikeda)  # DataFrame with two roll amplitudes"
   ]
  },
  {
   "cell_type": "code",
   "execution_count": null,
   "metadata": {},
   "outputs": [],
   "source": [
    "result_datas"
   ]
  },
  {
   "cell_type": "markdown",
   "metadata": {},
   "source": [
    "## Simplified Ikeda also..."
   ]
  },
  {
   "cell_type": "code",
   "execution_count": null,
   "metadata": {},
   "outputs": [],
   "source": [
    "lpp = run.ship.lpp/scale_factor\n",
    "beam = run.ship.beam/scale_factor\n",
    "kg = run.loading_condition.kg/scale_factor\n",
    "volume = run.loading_condition.Volume/(scale_factor**3)\n",
    "draught = (run.loading_condition.TA + run.loading_condition.TF)/2/scale_factor\n",
    "A0 = run.loading_condition.A0\n",
    "\n",
    "if not run.ship.BKL:\n",
    "    BKL=0\n",
    "else:\n",
    "    BKL = run.ship.BKL\n",
    "\n",
    "if not run.ship.BKB:\n",
    "    BKB = 0\n",
    "else:\n",
    "    BKB = run.ship.BKB\n",
    "\n",
    "si = SimplifiedIkeda(V=V, w=w, fi_a=fi_as, beam=beam, lpp=lpp, kg = kg, volume=volume, draught=draught, A0=A0, BKL=BKL, BKB=BKB)"
   ]
  },
  {
   "cell_type": "code",
   "execution_count": null,
   "metadata": {},
   "outputs": [],
   "source": [
    "def calculate_SI(si):\n",
    "    \n",
    "    output = pd.DataFrame()\n",
    "    output['B_44_hat'] = si.calculate_B44()\n",
    "    output['B_W0_hat'] =si.calculate_B_W0()\n",
    "    output['B_W_hat'] =si.calculate_B_W()\n",
    "    output['B_F_hat'] =si.calculate_B_F()\n",
    "    output['B_E_hat'] =si.calculate_B_E()\n",
    "    output['B_BK_hat'] =si.calculate_B_BK()\n",
    "    output['B_L_hat'] =si.calculate_B_L()\n",
    "    output['Bw_div_Bw0'] =si.calculate_Bw_div_Bw0()\n",
    "    \n",
    "    return output"
   ]
  },
  {
   "cell_type": "code",
   "execution_count": null,
   "metadata": {},
   "outputs": [],
   "source": [
    "result_datas_SI = calculate_SI(si=si)"
   ]
  },
  {
   "cell_type": "code",
   "execution_count": null,
   "metadata": {},
   "outputs": [],
   "source": [
    "result_datas_SI"
   ]
  },
  {
   "cell_type": "code",
   "execution_count": null,
   "metadata": {},
   "outputs": [],
   "source": [
    "df_results = pd.DataFrame(columns=result_datas.columns)\n",
    "df_results.loc['ikeda']=result_datas.iloc[0]\n",
    "df_results.loc['SI']=result_datas_SI.iloc[0]\n"
   ]
  },
  {
   "cell_type": "markdown",
   "metadata": {},
   "source": [
    "<a id='eddy'></a>"
   ]
  },
  {
   "cell_type": "code",
   "execution_count": null,
   "metadata": {},
   "outputs": [],
   "source": [
    "interesting = ['B_W_hat','B_F_hat','B_E_hat']\n",
    "df_results[interesting].plot(kind='bar',stacked=True)"
   ]
  },
  {
   "cell_type": "code",
   "execution_count": null,
   "metadata": {},
   "outputs": [],
   "source": [
    "limits_kawahara"
   ]
  },
  {
   "cell_type": "code",
   "execution_count": null,
   "metadata": {},
   "outputs": [],
   "source": [
    "df_limits = pd.DataFrame(data = limits_kawahara, index = ['min','max']).transpose()\n",
    "df_limits"
   ]
  },
  {
   "cell_type": "code",
   "execution_count": null,
   "metadata": {},
   "outputs": [],
   "source": [
    "g=9.81\n",
    "omega_hat = lambdas.omega_hat(beam=beam, g=g, omega0=w)"
   ]
  },
  {
   "cell_type": "code",
   "execution_count": null,
   "metadata": {},
   "outputs": [],
   "source": [
    "Cb = volume/(lpp*beam*draught)\n",
    "OG = draught-kg\n",
    "ship_limits = {\n",
    " 'CB': Cb,\n",
    " 'B/d': beam/draught,\n",
    " 'OG/d': OG/draught,\n",
    " 'CMID': A0,\n",
    " 'bBk/B': BKB/beam,\n",
    " 'lBk/LPP': BKL/beam,\n",
    " 'OMEGA_hat': omega_hat}\n",
    "ship_limits = pd.Series(ship_limits,name='ship')"
   ]
  },
  {
   "cell_type": "code",
   "execution_count": null,
   "metadata": {},
   "outputs": [],
   "source": [
    "df_limits['ship'] = ship_limits"
   ]
  },
  {
   "cell_type": "code",
   "execution_count": null,
   "metadata": {},
   "outputs": [],
   "source": [
    "df_limits_clean = df_limits.copy()\n",
    "if df_limits.loc['bBk/B','ship']==0:\n",
    "    df_limits_clean.drop('bBk/B', inplace=True)\n",
    "    \n",
    "if df_limits.loc['lBk/LPP','ship']==0:\n",
    "    df_limits_clean.drop('lBk/LPP', inplace=True)"
   ]
  },
  {
   "cell_type": "code",
   "execution_count": null,
   "metadata": {},
   "outputs": [],
   "source": [
    "fig,ax=plt.subplots()\n",
    "ax.errorbar(df_limits_clean.index,df_limits_clean['ship'],yerr=[df_limits_clean['ship']-df_limits_clean['min'],df_limits_clean['max']-df_limits_clean['ship']], \n",
    "            fmt='ok', lw=1, ecolor='gray', capsize=20)\n",
    "ax.set_title('Ship vs. SI limits')"
   ]
  },
  {
   "cell_type": "code",
   "execution_count": null,
   "metadata": {},
   "outputs": [],
   "source": [
    "df_ = df_limits_clean.sub(df_limits['min'],axis=0)\n",
    "df_limits_normalized = df_.div(df_['max'], axis=0)"
   ]
  },
  {
   "cell_type": "markdown",
   "metadata": {},
   "source": [
    "<a id='limits_kawahara'></a>"
   ]
  },
  {
   "cell_type": "code",
   "execution_count": null,
   "metadata": {},
   "outputs": [],
   "source": [
    "fig,ax=plt.subplots()\n",
    "ax.errorbar(df_limits_normalized.index,df_limits_normalized['ship'],yerr=[df_limits_normalized['ship']-df_limits_normalized['min'],\n",
    "                                                                         df_limits_normalized['max']-df_limits_normalized['ship']], fmt='ok', lw=1, ecolor='gray', capsize=20)\n",
    "ax.set_title('Ship vs. SI limits')\n",
    "ax.set_ylabel('Norlimized limit')"
   ]
  },
  {
   "cell_type": "code",
   "execution_count": null,
   "metadata": {},
   "outputs": [],
   "source": []
  }
 ],
 "metadata": {
  "kernelspec": {
   "display_name": "Python 3",
   "language": "python",
   "name": "python3"
  },
  "language_info": {
   "codemirror_mode": {
    "name": "ipython",
    "version": 3
   },
   "file_extension": ".py",
   "mimetype": "text/x-python",
   "name": "python",
   "nbconvert_exporter": "python",
   "pygments_lexer": "ipython3",
   "version": "3.6.8"
  }
 },
 "nbformat": 4,
 "nbformat_minor": 4
}
