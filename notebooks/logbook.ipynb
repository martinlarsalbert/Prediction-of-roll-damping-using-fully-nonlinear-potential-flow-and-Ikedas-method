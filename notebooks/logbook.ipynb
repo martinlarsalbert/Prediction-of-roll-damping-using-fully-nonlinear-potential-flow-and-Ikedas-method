{
 "cells": [
  {
   "cell_type": "markdown",
   "metadata": {},
   "source": [
    "<a id='logbook'></a>\n",
    "# Logbook"
   ]
  },
  {
   "cell_type": "code",
   "execution_count": 1,
   "metadata": {
    "collapsed": true,
    "jupyter": {
     "outputs_hidden": true
    }
   },
   "outputs": [
    {
     "name": "stderr",
     "output_type": "stream",
     "text": [
      "Duplicate key in file WindowsPath('C:/Users/maa/.matplotlib/stylelib/paper.mplstyle'), line 461 ('figure.figsize   : 5, 3   ## figure size in inches')\n",
      "Duplicate key in file WindowsPath('C:/Users/maa/.matplotlib/stylelib/paper.mplstyle'), line 462 ('figure.dpi       : 100        ## figure dots per inch')\n"
     ]
    }
   ],
   "source": [
    "# %load imports.py\n",
    "\"\"\"\n",
    "These is the standard setup for the notebooks.\n",
    "\"\"\"\n",
    "\n",
    "%matplotlib inline\n",
    "%load_ext autoreload\n",
    "%autoreload 2\n",
    "\n",
    "from jupyterthemes import jtplot\n",
    "jtplot.style(theme='onedork', context='notebook', ticks=True, grid=False)\n",
    "\n",
    "import pandas as pd\n",
    "pd.options.display.max_rows = 999\n",
    "pd.options.display.max_columns = 999\n",
    "pd.set_option(\"display.max_columns\", None)\n",
    "import numpy as np\n",
    "import os\n",
    "import matplotlib.pyplot as plt\n",
    "from collections import OrderedDict\n",
    "#plt.style.use('paper')\n",
    "\n",
    "#import data\n",
    "import copy\n",
    "from mdldb.run import Run\n",
    "\n",
    "from sklearn.pipeline import Pipeline\n",
    "from rolldecayestimators.transformers import CutTransformer, LowpassFilterDerivatorTransformer, ScaleFactorTransformer, OffsetTransformer\n",
    "from rolldecayestimators.direct_estimator_cubic import EstimatorQuadraticB, EstimatorCubic\n",
    "from rolldecayestimators.ikeda_estimator import IkedaQuadraticEstimator\n",
    "import rolldecayestimators.equations as equations\n",
    "import rolldecayestimators.lambdas as lambdas\n",
    "from rolldecayestimators.substitute_dynamic_symbols import lambdify\n",
    "import rolldecayestimators.symbols as symbols\n",
    "import sympy as sp\n",
    "\n",
    "from sympy.physics.vector.printing import vpprint, vlatex\n",
    "from IPython.display import display, Math, Latex\n",
    "\n",
    "from sklearn.metrics import r2_score\n",
    "from src.data import database\n",
    "from mdldb import tables\n"
   ]
  },
  {
   "cell_type": "markdown",
   "metadata": {},
   "source": [
    "## Nomenclature"
   ]
  },
  {
   "cell_type": "markdown",
   "metadata": {},
   "source": [
    "Here is a cell link: [Logbook](#logbook)"
   ]
  },
  {
   "cell_type": "markdown",
   "metadata": {},
   "source": [
    "## 2020-11-26\n",
    "* Loaded the KVLCC2 roll decay tests: [01.1_select_suitable_MDL_test_KVLCC2](01.1_select_suitable_MDL_test_KVLCC2.ipynb)"
   ]
  },
  {
   "cell_type": "markdown",
   "metadata": {},
   "source": [
    "## 2020-11-27\n",
    "* Selected two roll decays at 0 knots (the other one hade different frequency) [01.2_select_suitable_MDL_test_KLVCC2](01.2_select_suitable_MDL_test_KLVCC2.ipynb). Also found that the \"integration\" gave much better result than the \"derivation\". But \"derivation\" can be used as initial guess to the \"integration\". "
   ]
  },
  {
   "cell_type": "markdown",
   "metadata": {},
   "source": [
    "## 2020-11-30\n",
    "* Got different result with SI method here: [02.1_ikeda_Be_assumption](02.1_ikeda_Be_assumption.ipynb#different) (Which is a bit strange)\n",
    "* Got some progress in understanding the $B_e$ : [02.2_ikeda_Be_assumption](02.2_ikeda_Be_assumption.ipynb#different)"
   ]
  },
  {
   "cell_type": "markdown",
   "metadata": {},
   "source": [
    "## 2020-12-01\n",
    "* The relation between $\\zeta$ and damping $B$ can be expressed as $\\zeta = B_1/(2*omega0*A_44)$ wich seems to work for linear model: [02.2_ikeda_Be_assumption](02.2_ikeda_Be_assumption.ipynb#zeta-B)\n",
    "  * The equivalent linearized damping is an approximation only according to the same notebook.\n",
    "  * Energy transfer between potential, kinetic and loss damping: [02.2_ikeda_Be_assumption](02.2_ikeda_Be_assumption.ipynb#energy)\n",
    "  * The $B_e$ can be calculated so that the lossed energy from a linear model is the same as a higher order model: [02.2_ikeda_Be_assumption](02.2_ikeda_Be_assumption.ipynb#B_e). This again shows that the $B_e$ according to <cite data-cite=\"7505983/FB64RGPF\"></cite> is an approximation only."
   ]
  },
  {
   "cell_type": "markdown",
   "metadata": {},
   "source": [
    "## 2020-12-02\n",
    "* Managed to run ScoreII for the KVLCC2: [04.1_KVLCC2_Ikeda_method](04.1_KVLCC2_Ikeda_method.ipynb)\n",
    "   * Needed to reduce the KXX to get correct natural frequency (This should be investigated).\n",
    "   * Got some agreement for heave compared to report: *RE40178362-01-00-A Trafikverket.pdf*\n",
    "   * The eddy component is dominating (and probably wrong): [eddy](04.1_KVLCC2_Ikeda_method.ipynb#eddy)\n",
    "   * The mid section coefficient exceeds (CMID) the limits: [limits_kawahara](04.1_KVLCC2_Ikeda_method.ipynb#limits_kawahara)\n",
    "* **Conclusions**: \n",
    "  * The KVLCC2 at zero speed has very low wave damping and is therefore not a suitable candidate for this study!\n",
    "  * Any other of the ships with sections and higher wave damping could be selected?\n"
   ]
  },
  {
   "cell_type": "markdown",
   "metadata": {},
   "source": [
    "## 2020-12-04\n",
    "* Got some inspiration from Francesco to use the anlytical solution to calculate $B_e$ : [02.3_ikeda_Be_assumption](02.3_ikeda_Be_assumption.ipynb)\n",
    "  * It gave significantly better linear approximation than Himeno.\n",
    "  * **BUT!** If the $B_2$ is divided by **2** in the Himeno $B_e$ equation they are very similar. Where does this **2** come from?\n",
    "\n",
    "### Meeting with Martin K\n",
    "* 20189033-dsec-multi-mission-vessel* \"back track error\" Martin K uploaded these files.\n",
    "* Low wave damping at 0 speed for KVLCC2 is not necesarrilly a bad thing (let's look at speed also)"
   ]
  },
  {
   "cell_type": "markdown",
   "metadata": {},
   "source": [
    "## 2020-12-07\n",
    "* Analyzed the KVLCC2 at speed: [01.3_select_suitable_MDL_test_KLVCC2_speed](01.3_select_suitable_MDL_test_KLVCC2_speed.ipynb)\n",
    "   * The damping is now higher\n",
    "   * The ship got a yaw rate at the end of test. The OffsetTransformer was used again and it seems to have a great positive impact on the performance of the *Derivation\" approach.\n",
    "   \n",
    "* Calculated Ikeda and SI at speed: [04.2_KVLCC2_Ikeda_method_speed](04.2_KVLCC2_Ikeda_method_speed.ipynb)\n",
    "   * SI wave damping goes \"bananas\"\n",
    "   * Ikeda is much better"
   ]
  },
  {
   "cell_type": "markdown",
   "metadata": {},
   "source": [
    "## 2020-12-08\n",
    "* Made comparison between model test and Ikeda (with and without speed) :[04.3_KVLCC2_Ikedas_model_tests](04.3_KVLCC2_Ikedas_model_tests.ipynb).\n",
    "   * Got very good agreement for both speeds!\n",
    "   * Got even better result when looking at the time simulations with the predicted damping."
   ]
  },
  {
   "cell_type": "markdown",
   "metadata": {},
   "source": [
    "## 2020-12-15\n",
    "* Found good agreement between Python and Motions in the prevous project repo: *20189033-dsec-multi-mission-vessel*. Motions seem to incorporate the viscous damping coefficients in a correct way now.\n",
    "\n",
    "### Meeting with Wengang, Jonas and Martin K\n",
    "..."
   ]
  },
  {
   "cell_type": "markdown",
   "metadata": {},
   "source": [
    "## 2020-12-16\n",
    "* Based on the results in Figure 4.5 in Francescos Lic. Paper I started to think about what will happen with the viscous damping at frequencies off the natural frequency (where the PIT damping is defined). I made a variation of frequency with Ikeda suggesting quite large differences in the viscous damping at off frequencies: [04.4_KVLCC2_Ikedas_model_frequency](04.4_KVLCC2_Ikedas_model_frequency.ipynb#frequency)."
   ]
  },
  {
   "cell_type": "markdown",
   "metadata": {},
   "source": [
    "## 2020-12-15\n",
    "* Realized that roll decay tests can actually capture damping at other roll frequencies than the natural frequency. If $B_e$ is used one can transfer between amplitudes but also frequency! [04.4_KVLCC2_Ikedas_model_frequency](04.4_KVLCC2_Ikedas_model_frequency.ipynb#himeno)"
   ]
  },
  {
   "cell_type": "markdown",
   "metadata": {},
   "source": [
    "## 2020-12-21\n",
    "* Analyzed the first result from Motions (inviscid) : [06.1_KVLCC2_motions](06.1_KVLCC2_motions.ipynb)\n",
    "   * Motions result have much higher $B_W$ than ScoresII : [plot](06.1_KVLCC2_motions.ipynb#damping)\n",
    "   * Bilge radius=2.4 m gives huge B_E! : [plot](06.1_KVLCC2_motions.ipynb#damping)\n",
    "   * B_E definatelly need to be examined!\n",
    "   "
   ]
  },
  {
   "cell_type": "markdown",
   "metadata": {},
   "source": [
    "## 2020-12-22\n",
    "* Testing the barge formula for eddy damping <cite data-cite=\"7505983/QB552VIB\"></cite> :\n",
    "$$ B_{e}=\\left(\\frac{2}{\\pi}\\right) \\rho L d^{4}\\left(H_{0}^{2}+1-\\frac{O G}{d}\\right)\\left(H_{0}^{2}+\\left(1-\\frac{O G}{d}\\right)^{2}\\right) R_{0} \\omega $$\n",
    "* This one did not work the $B_E$ is far to large: [07.1_ikeda_barge](07.1_ikeda_barge.ipynb)\n",
    "* Looked at the original Ikeda model test to obtain eddy damping. The current results seem to be wrong to a factor of about 2: [08.1_ikeda_eddy](08.1_ikeda_eddy.ipynb)"
   ]
  },
  {
   "cell_type": "markdown",
   "metadata": {},
   "source": [
    "## 2020-12-29\n",
    "* The section area coefficient goes \"balistic\" when sigma exceeds 0.995: [sigma](06.1_KVLCC2_motions.ipynb#sigma). Perhaps limiting the sigma? But to what value? The choice has a major impact on the result, and will be very prone to bias.\n",
    "Just a small change of R and sigma will however have a huge impact on the eddy damping according to Ikedas' experiements:\n",
    "\n",
    "![](ikeda_eddy_section_A_phi_a.PNG)\n",
    "![](ikeda_eddy_section_B_phi_a.PNG)"
   ]
  },
  {
   "cell_type": "markdown",
   "metadata": {},
   "source": [
    "## 2021-01-04\n",
    "* Limited the $C_mid$ to 0.99 in accordance to the Kawahara limits.\n",
    "* Made a more clean version of the sigma variation: [08.2_ikeda_eddy_sigma](08.2_ikeda_eddy_sigma.ipynb) \n",
    "* Also made a combined model: [plot](06.1_KVLCC2_motions.ipynb#combined_damping)"
   ]
  },
  {
   "cell_type": "markdown",
   "metadata": {},
   "source": [
    "## References\n",
    "<div class=\"cite2c-biblio\"></div>"
   ]
  }
 ],
 "metadata": {
  "cite2c": {
   "citations": {
    "7505983/FB64RGPF": {
     "abstract": "Various methods for predicting the roll damping of a ship at forward speed is discussed. In particular, a simple method and a component analysis are described. The component analysis assumes that the damping is composed of friction damping, eddy damping, lift damping, wave damping, normal-force damping of bilge, keel, hull pressure damping due to bilge keels, and wave damping of bilge keels. Formulas for these components are derived from theoretical and experimental considerations.",
     "archive": "Scopus",
     "author": [
      {
       "family": "Himeno",
       "given": "Yoji"
      }
     ],
     "container-title": "University of Michigan Department of Naval Architecture and Marine Engineering, (Report)",
     "id": "7505983/FB64RGPF",
     "issue": "239",
     "issued": {
      "year": 1981
     },
     "title": "PREDICTION OF SHIP ROLL DAMPING - STATE OF THE ART.",
     "type": "article-journal"
    },
    "7505983/NXYCMQLI": {
     "URL": "https://scholar.google.com/scholar_lookup?title=On%20roll%20damping%20force%20of%20ship%3A%20effects%20of%20friction%20of%20hull%20and%20normal%20force%20of%20bilge%20keels&author=Y.%20Ikeda&author=Y.%20Himeno&author=N.%20Tanaka&journal=J%20Kansai%20Soc%20Naval%20Archit%20Jpn&volume=161&pages=41-49&publication_year=1976",
     "accessed": {
      "day": 24,
      "month": 1,
      "year": 2020
     },
     "id": "7505983/NXYCMQLI",
     "title": "Ikeda: Report no. 401: On roll damping force of ship-effe... - Google Scholar",
     "type": "article"
    },
    "7505983/QB552VIB": {
     "author": [
      {
       "family": "Ikeda",
       "given": "Yoshiho"
      }
     ],
     "container-title": "Proceedings of the 3rd International Offshore and Polar Engineering Conference",
     "event": "The International Society of Offshore and Polar Engineers",
     "event-place": "Singapore",
     "id": "7505983/QB552VIB",
     "issued": {
      "day": 1,
      "month": 6,
      "year": 1993
     },
     "publisher-place": "Singapore",
     "title": "Roll Damping of a Sharp-Cornered Barge and Roll Control by New Type Stabilizer",
     "type": "paper-conference"
    },
    "7505983/RC2WJ4RI": {
     "id": "7505983/RC2WJ4RI",
     "title": "JourneeAdegeest2003_pp180to195inTheoreticalManualSEAWAY.pdf",
     "type": "article"
    },
    "7505983/RWXBIIJJ": {
     "URL": "https://repository.tudelft.nl/islandora/object/uuid%3A2d4991a4-96ac-4935-b2a3-e712effd744d",
     "accessed": {
      "day": 4,
      "month": 3,
      "year": 2020
     },
     "author": [
      {
       "family": "Himeno",
       "given": "Yoji"
      }
     ],
     "container-title": "The University of Michigan, College of Engineering, Department of Naval Architecture and Marine Engineering, USA, Report No. 239",
     "id": "7505983/RWXBIIJJ",
     "issued": {
      "year": 1981
     },
     "language": "en",
     "title": "Prediction of ship roll damping - state of the art",
     "type": "article-journal"
    },
    "7505983/ZVF3F5V5": {
     "id": "7505983/ZVF3F5V5",
     "title": "Ikeda et al. - 1978 - Components of roll damping of ship at forward spee.pdf",
     "type": "article"
    }
   }
  },
  "kernelspec": {
   "display_name": "Python 3",
   "language": "python",
   "name": "python3"
  },
  "language_info": {
   "codemirror_mode": {
    "name": "ipython",
    "version": 3
   },
   "file_extension": ".py",
   "mimetype": "text/x-python",
   "name": "python",
   "nbconvert_exporter": "python",
   "pygments_lexer": "ipython3",
   "version": "3.6.8"
  }
 },
 "nbformat": 4,
 "nbformat_minor": 4
}
