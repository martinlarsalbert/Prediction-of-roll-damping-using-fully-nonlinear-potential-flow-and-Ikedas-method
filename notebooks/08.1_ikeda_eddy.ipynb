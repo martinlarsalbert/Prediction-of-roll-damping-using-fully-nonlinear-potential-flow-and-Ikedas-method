{
 "cells": [
  {
   "cell_type": "markdown",
   "metadata": {},
   "source": [
    "# Ikeda eddy damping"
   ]
  },
  {
   "cell_type": "markdown",
   "metadata": {},
   "source": [
    "# Purpose\n",
    "Investigate the implementation of the eddy damping "
   ]
  },
  {
   "cell_type": "markdown",
   "metadata": {},
   "source": [
    "# Methodology\n",
    "Following the sectional eddy damping published in <cite data-cite=\"7505983/4AFVVGNT\"></cite>.\n",
    "\n",
    "![](ikeda_eddy_section_A.PNG)\n",
    "<div class=\"cite2c-biblio\"></div>"
   ]
  },
  {
   "cell_type": "code",
   "execution_count": null,
   "metadata": {},
   "outputs": [],
   "source": [
    "# %load imports.py\n",
    "\"\"\"\n",
    "These is the standard setup for the notebooks.\n",
    "\"\"\"\n",
    "\n",
    "%matplotlib inline\n",
    "%load_ext autoreload\n",
    "%autoreload 2\n",
    "\n",
    "from jupyterthemes import jtplot\n",
    "jtplot.style(theme='onedork', context='notebook', ticks=True, grid=False)\n",
    "\n",
    "import pandas as pd\n",
    "pd.options.display.max_rows = 999\n",
    "pd.options.display.max_columns = 999\n",
    "pd.set_option(\"display.max_columns\", None)\n",
    "import numpy as np\n",
    "import os\n",
    "import matplotlib.pyplot as plt\n",
    "from collections import OrderedDict\n",
    "#plt.style.use('paper')\n",
    "\n",
    "#import data\n",
    "import copy\n",
    "from mdldb.run import Run\n",
    "\n",
    "from sklearn.pipeline import Pipeline\n",
    "from rolldecayestimators.transformers import CutTransformer, LowpassFilterDerivatorTransformer, ScaleFactorTransformer, OffsetTransformer\n",
    "from rolldecayestimators.direct_estimator_cubic import EstimatorQuadraticB, EstimatorCubic\n",
    "from rolldecayestimators.ikeda_estimator import IkedaQuadraticEstimator\n",
    "import rolldecayestimators.equations as equations\n",
    "import rolldecayestimators.lambdas as lambdas\n",
    "from rolldecayestimators.substitute_dynamic_symbols import lambdify\n",
    "import rolldecayestimators.symbols as symbols\n",
    "import sympy as sp\n",
    "\n",
    "from sympy.physics.vector.printing import vpprint, vlatex\n",
    "from IPython.display import display, Math, Latex\n",
    "\n",
    "from sklearn.metrics import r2_score\n",
    "from src.data import database\n",
    "from mdldb import tables\n",
    "import shipflowmotionshelpers.shipflowmotionshelpers as helpers\n"
   ]
  },
  {
   "cell_type": "code",
   "execution_count": null,
   "metadata": {},
   "outputs": [],
   "source": [
    "from rolldecayestimators import ikeda_speed\n",
    "import seaborn as sns"
   ]
  },
  {
   "cell_type": "code",
   "execution_count": null,
   "metadata": {},
   "outputs": [],
   "source": [
    "df = pd.read_csv('../data/external/ikeda_eddy._sections.csv', sep=';', index_col=0)\n",
    "df.head()"
   ]
  },
  {
   "cell_type": "markdown",
   "metadata": {},
   "source": [
    "# Model A"
   ]
  },
  {
   "cell_type": "code",
   "execution_count": null,
   "metadata": {},
   "outputs": [],
   "source": [
    "parameters = df.loc['A']"
   ]
  },
  {
   "cell_type": "code",
   "execution_count": null,
   "metadata": {},
   "outputs": [],
   "source": [
    "sigma = parameters.sigma\n",
    "B_s = np.array([parameters.B])\n",
    "T_s = parameters.d\n",
    "S_s = sigma*B_s*T_s\n",
    "a, a_1, a_3, sigma_s, H = ikeda_speed.calculate_sectional_lewis(B_s=B_s, T_s=T_s, S_s=S_s)"
   ]
  },
  {
   "cell_type": "code",
   "execution_count": null,
   "metadata": {},
   "outputs": [],
   "source": [
    "OG=parameters['OG/d']*parameters.d\n",
    "R = parameters.R \n",
    "\n",
    "g = 9.81\n",
    "rho = 1000\n",
    "\n",
    "fi_a = 0.175\n",
    "w_hats = np.linspace(0,1.0,10)\n",
    "\n",
    "w = lambdas.omega_from_hat(beam=parameters.B, g=g, omega_hat=w_hats)\n",
    "B_E0_s = ikeda_speed.eddy_sections(bwl=B_s, a_1=a_1, a_3=a_3, sigma=sigma_s, H0=H, Ts=T_s,\n",
    "         OG=OG, R=R, d=T_s, wE=w, fi_a=fi_a, ra=1000.0)\n",
    "B_E0 = B_E0_s*parameters.L\n",
    "\n",
    "Disp = parameters.volume\n",
    "B_E0_hat = lambdas.B_to_hat_lambda(B=B_E0, Disp=Disp, beam=beam, g=g, rho=rho)\n",
    "B_E0_star_hat = B_E0_hat*3*np.pi/8\n"
   ]
  },
  {
   "cell_type": "code",
   "execution_count": null,
   "metadata": {},
   "outputs": [],
   "source": [
    "fig,ax=plt.subplots()\n",
    "ax.plot(w_hats, B_E0_star_hat[0])\n",
    "ax.set_title('Model A')\n",
    "ax.set_xlabel(r'$\\hat{\\omega}$')\n",
    "ax.set_ylabel(r'$\\hat{B_E}*$')"
   ]
  },
  {
   "cell_type": "code",
   "execution_count": null,
   "metadata": {},
   "outputs": [],
   "source": [
    "def calculate_lewis(parameters):\n",
    "    sigma = parameters.sigma\n",
    "    B_s = np.array([parameters.B])\n",
    "    T_s = parameters.d\n",
    "    S_s = sigma*B_s*T_s\n",
    "    return ikeda_speed.calculate_sectional_lewis(B_s=B_s, T_s=T_s, S_s=S_s)\n",
    "\n",
    "def calculate_B_star_hat(parameters, fi_a, w_hat, g=9.81, rho=1000, **kwargs):\n",
    "    \n",
    "    a, a_1, a_3, sigma_s, H = calculate_lewis(parameters=parameters)\n",
    "    \n",
    "    OG=parameters['OG/d']*parameters.d\n",
    "    R = parameters.R \n",
    "        \n",
    "    w = lambdas.omega_from_hat(beam=parameters.B, g=g, omega_hat=w_hat)\n",
    "    B_E0_s = ikeda_speed.eddy_sections(bwl=B_s, a_1=a_1, a_3=a_3, sigma=sigma_s, H0=H, Ts=T_s,\n",
    "             OG=OG, R=R, d=T_s, wE=w, fi_a=fi_a, ra=1000.0)\n",
    "    B_E0 = B_E0_s*parameters.L\n",
    "    \n",
    "    Disp = parameters.volume\n",
    "    B_E0_hat = lambdas.B_to_hat_lambda(B=B_E0, Disp=Disp, beam=beam, g=g, rho=rho)\n",
    "    B_E0_star_hat = B_E0_hat*3*np.pi/8\n",
    "    \n",
    "    return B_E0_star_hat"
   ]
  },
  {
   "cell_type": "code",
   "execution_count": null,
   "metadata": {},
   "outputs": [],
   "source": [
    "def variation(parameters, df_variations):\n",
    "    \n",
    "    data = np.tile(parameters,(len(df_variations),1))\n",
    "    df = pd.DataFrame(data, columns=parameters.index)\n",
    "    df = pd.concat((df,df_variations),axis=1)\n",
    "    return df"
   ]
  },
  {
   "cell_type": "code",
   "execution_count": null,
   "metadata": {},
   "outputs": [],
   "source": [
    "variations = {\n",
    "    'A':\n",
    "        [\n",
    "            {\n",
    "                'fi_a':0.175,\n",
    "                'w_hat': (0,1.0),\n",
    "            },\n",
    "            {\n",
    "                'fi_a':(0, 0.25),\n",
    "                'w_hat':0.507,\n",
    "            },\n",
    "            {\n",
    "                'fi_a':(0, 0.25),\n",
    "                'w_hat':0.751,\n",
    "            },\n",
    "        ],\n",
    "    \n",
    "    'B':\n",
    "        [\n",
    "            {\n",
    "                'fi_a':(0, 0.3),\n",
    "                'w_hat':0.536,\n",
    "            },\n",
    "            {\n",
    "                'fi_a':(0, 0.3),\n",
    "                'w_hat':0.751,\n",
    "            },\n",
    "        ],\n",
    "    'C':\n",
    "        [\n",
    "            {\n",
    "                'fi_a':(0, 0.3),\n",
    "                'w_hat':0.625,\n",
    "            },\n",
    "            {\n",
    "                'fi_a':(0, 0.3),\n",
    "                'w_hat':0.751,\n",
    "            },\n",
    "        ]   \n",
    "\n",
    "}\n",
    "\n",
    "N = 10\n",
    "df_variations = pd.DataFrame()\n",
    "for model_name, items in variations.items():\n",
    "    df_variations_model = pd.DataFrame()\n",
    "\n",
    "    model=model_name\n",
    "    for item in items:\n",
    "        variation = pd.DataFrame(index=np.arange(N))\n",
    "        for key,value in item.items():\n",
    "            \n",
    "            if isinstance(value,tuple):\n",
    "                values = np.linspace(*value,N)\n",
    "                variation['variate']=key\n",
    "            else:\n",
    "                values = value\n",
    "            \n",
    "            variation[key]=values\n",
    "        \n",
    "        variation['model']=model\n",
    "        df_variations_model = df_variations_model.append(variation, ignore_index=True)\n",
    "\n",
    "    parameters = df.loc[model_name]\n",
    "    df_variations_model['B_E0_star_hat'] = calculate_B_star_hat(parameters=parameters,\n",
    "                                                                **df_variations_model)[0]\n",
    "    df_variations = df_variations.append(df_variations_model, ignore_index=True)\n",
    "    \n",
    "for model_name, model_data in df_variations.groupby(by='model'):\n",
    "    \n",
    "    fig,ax=plt.subplots()\n",
    "    mask = model_data['variate']=='fi_a'\n",
    "    data = model_data.loc[mask]\n",
    "    sns.lineplot(x=\"fi_a\", y=\"B_E0_star_hat\", hue='w_hat', data=data, ax=ax);\n",
    "    title = 'Model %s' % model_name\n",
    "    ax.set_title(title)\n",
    "    ax.set_xlabel(r'$\\phi_a$ $[rad]$')\n",
    "    ax.set_ylabel(r'$\\hat{B_E}*$')\n",
    "    \n",
    "    \n",
    "    mask = model_data['variate']=='w_hat'\n",
    "    data = model_data.loc[mask]\n",
    "    if len(data)>0:\n",
    "        fig,ax=plt.subplots()\n",
    "        sns.lineplot(x=\"w_hat\", y=\"B_E0_star_hat\", hue='fi_a', data=data, ax=ax);\n",
    "        ax.set_title(title)\n",
    "        ax.set_xlabel(r'$\\hat{\\omega}$')\n",
    "        ax.set_ylabel(r'$\\hat{B_E}*$')"
   ]
  }
 ],
 "metadata": {
  "cite2c": {
   "citations": {
    "7505983/4AFVVGNT": {
     "URL": "https://repository.tudelft.nl/islandora/object/uuid%3A09d79a4d-cd3d-423f-9b23-43a311096202",
     "accessed": {
      "day": 27,
      "month": 1,
      "year": 2020
     },
     "author": [
      {
       "family": "Ikeda",
       "given": "Yoshiho"
      }
     ],
     "container-title": "University of Osaka Prefacture, Department of Naval Architecture, Japan, Report No. 00403, Published in: Journal of Society of Naval Architects of Japan, Volume 142",
     "id": "7505983/4AFVVGNT",
     "issued": {
      "year": 1978
     },
     "language": "en",
     "title": "On eddy making component of roll damping force on naked hull",
     "type": "article-journal"
    },
    "7505983/FB64RGPF": {
     "abstract": "Various methods for predicting the roll damping of a ship at forward speed is discussed. In particular, a simple method and a component analysis are described. The component analysis assumes that the damping is composed of friction damping, eddy damping, lift damping, wave damping, normal-force damping of bilge, keel, hull pressure damping due to bilge keels, and wave damping of bilge keels. Formulas for these components are derived from theoretical and experimental considerations.",
     "archive": "Scopus",
     "author": [
      {
       "family": "Himeno",
       "given": "Yoji"
      }
     ],
     "container-title": "University of Michigan Department of Naval Architecture and Marine Engineering, (Report)",
     "id": "7505983/FB64RGPF",
     "issue": "239",
     "issued": {
      "year": 1981
     },
     "title": "PREDICTION OF SHIP ROLL DAMPING - STATE OF THE ART.",
     "type": "article-journal"
    }
   }
  },
  "kernelspec": {
   "display_name": "Python 3",
   "language": "python",
   "name": "python3"
  },
  "language_info": {
   "codemirror_mode": {
    "name": "ipython",
    "version": 3
   },
   "file_extension": ".py",
   "mimetype": "text/x-python",
   "name": "python",
   "nbconvert_exporter": "python",
   "pygments_lexer": "ipython3",
   "version": "3.6.8"
  }
 },
 "nbformat": 4,
 "nbformat_minor": 4
}
