{
 "cells": [
  {
   "cell_type": "markdown",
   "metadata": {},
   "source": [
    "# Select suitable MDL test: KVLCC2 **NO** speed"
   ]
  },
  {
   "cell_type": "markdown",
   "metadata": {},
   "source": [
    "# Purpose\n",
    "Find suitable roll decay tests from MDL, to reproduce in Motions later on."
   ]
  },
  {
   "cell_type": "markdown",
   "metadata": {},
   "source": [
    "# Methodology\n",
    "Look at the results from the KLVCC2 ship.\n",
    "* Load model tests from MDL\n",
    "* Determine damping"
   ]
  },
  {
   "cell_type": "markdown",
   "metadata": {},
   "source": [
    "# WIP - improvements\n",
    "(WORK IN PROGRESS)\n",
    "Use this section only if the notebook is not final.\n",
    "\n",
    "Notable TODOs:\n",
    "* todo 1\n",
    "* todo 2\n",
    "* todo 3"
   ]
  },
  {
   "cell_type": "markdown",
   "metadata": {},
   "source": [
    "## Results\n",
    "Describe and comment the most important results."
   ]
  },
  {
   "cell_type": "markdown",
   "metadata": {},
   "source": [
    "# Suggested next steps\n",
    "State suggested next steps, based on results obtained in this notebook."
   ]
  },
  {
   "cell_type": "markdown",
   "metadata": {},
   "source": [
    "# Setup"
   ]
  },
  {
   "cell_type": "code",
   "execution_count": null,
   "metadata": {},
   "outputs": [],
   "source": [
    "# %load imports.py\n",
    "\"\"\"\n",
    "These is the standard setup for the notebooks.\n",
    "\"\"\"\n",
    "\n",
    "%matplotlib inline\n",
    "%load_ext autoreload\n",
    "%autoreload 2\n",
    "\n",
    "from jupyterthemes import jtplot\n",
    "jtplot.style(theme='onedork', context='notebook', ticks=True, grid=False)\n",
    "\n",
    "import pandas as pd\n",
    "pd.options.display.max_rows = 999\n",
    "pd.options.display.max_columns = 999\n",
    "pd.set_option(\"display.max_columns\", None)\n",
    "import numpy as np\n",
    "import os\n",
    "import matplotlib.pyplot as plt\n",
    "from collections import OrderedDict\n",
    "#plt.style.use('paper')\n",
    "\n",
    "#import data\n",
    "import copy\n",
    "from mdldb.run import Run\n",
    "\n",
    "from sklearn.pipeline import Pipeline\n",
    "from rolldecayestimators.transformers import CutTransformer, LowpassFilterDerivatorTransformer, ScaleFactorTransformer, OffsetTransformer\n",
    "from rolldecayestimators.direct_estimator_cubic import EstimatorQuadraticB, EstimatorCubic\n",
    "from rolldecayestimators.ikeda_estimator import IkedaQuadraticEstimator\n",
    "import rolldecayestimators.equations as equations\n",
    "import rolldecayestimators.lambdas as lambdas\n",
    "from rolldecayestimators.substitute_dynamic_symbols import lambdify\n",
    "import rolldecayestimators.symbols as symbols\n",
    "import sympy as sp\n",
    "\n",
    "from sklearn.metrics import r2_score\n",
    "from src.data import database\n",
    "from mdldb import tables\n"
   ]
  },
  {
   "cell_type": "code",
   "execution_count": null,
   "metadata": {},
   "outputs": [],
   "source": [
    "from mdldb.hdf5_file import Hdf5File\n",
    "from rolldecayestimators.direct_estimator_cubic import EstimatorCubic,EstimatorQuadraticB\n",
    "from sklearn.base import clone\n",
    "from copy import deepcopy\n",
    "import joblib"
   ]
  },
  {
   "cell_type": "code",
   "execution_count": null,
   "metadata": {},
   "outputs": [],
   "source": [
    "db = database.get_db()"
   ]
  },
  {
   "cell_type": "code",
   "execution_count": null,
   "metadata": {},
   "outputs": [],
   "source": [
    "sql = \"\"\"\n",
    "SELECT * from run\n",
    "WHERE model_number='M5057-01-A' and test_type='roll decay' and project_number=40178362;\n",
    "\"\"\"\n",
    "df_rolldecays = pd.read_sql(sql=sql, con=db.engine, index_col='id')\n",
    "\n",
    "df_rolldecays['ship_speed'].fillna(0, inplace=True)\n"
   ]
  },
  {
   "cell_type": "code",
   "execution_count": null,
   "metadata": {},
   "outputs": [],
   "source": [
    "df_rolldecays"
   ]
  },
  {
   "cell_type": "code",
   "execution_count": null,
   "metadata": {},
   "outputs": [],
   "source": [
    "df_rolldecays[['date','ship_speed']]"
   ]
  },
  {
   "cell_type": "code",
   "execution_count": null,
   "metadata": {},
   "outputs": [],
   "source": [
    "df_rolldecays=df_rolldecays.loc[[21337,21338]].copy()"
   ]
  },
  {
   "cell_type": "code",
   "execution_count": null,
   "metadata": {},
   "outputs": [],
   "source": [
    "fig,axes=plt.subplots(nrows=len(df_rolldecays))\n",
    "\n",
    "for (id, row),ax in zip(df_rolldecays.iterrows(),axes):\n",
    "\n",
    "    run = db.session.query(Run).get(int(id))\n",
    "    run = database.load_run(run, save_as_example=False, prefer_hdf5=True)\n",
    "    \n",
    "    run.df.plot(y='phi', ax=ax)\n",
    "    ax.set_ylabel(f\"roll [{run.units['phi']}]\")\n",
    "    ax.grid(True)\n",
    "    ax.set_ylim([-0.2,0.2])\n",
    "    \n",
    "plt.tight_layout()"
   ]
  },
  {
   "cell_type": "code",
   "execution_count": null,
   "metadata": {},
   "outputs": [],
   "source": [
    "fig,axes=plt.subplots(ncols=len(df_rolldecays))\n",
    "\n",
    "for (id, row),ax in zip(df_rolldecays.iterrows(),axes):\n",
    "\n",
    "    run = db.session.query(Run).get(int(id))\n",
    "    run = database.load_run(run, save_as_example=False, prefer_hdf5=True)\n",
    "    \n",
    "    run.track_plot(ax)\n",
    "    \n",
    "plt.tight_layout()"
   ]
  },
  {
   "cell_type": "markdown",
   "metadata": {},
   "source": [
    "## Analyze the damping"
   ]
  },
  {
   "cell_type": "code",
   "execution_count": null,
   "metadata": {},
   "outputs": [],
   "source": [
    "#run = db.session.query(Run).get(21338)\n",
    "#run = db.session.query(Run).get(21339)\n",
    "run = db.session.query(Run).get(21337)\n",
    "\n",
    "\n",
    "\n",
    "#run = db.session.query(Run).get(21340)\n",
    "\n",
    "\t\n",
    "run = database.load_run(run, save_as_example=False, prefer_hdf5=True)"
   ]
  },
  {
   "cell_type": "code",
   "execution_count": null,
   "metadata": {},
   "outputs": [],
   "source": [
    "lowpass_filter = LowpassFilterDerivatorTransformer(cutoff=1, minimum_score=0.999)\n",
    "cutter = CutTransformer(phi_max=np.deg2rad(15), phi_min=np.deg2rad(2), phi1d_start_tolerance=0.015)\n",
    "offset_transformer = OffsetTransformer()"
   ]
  },
  {
   "cell_type": "code",
   "execution_count": null,
   "metadata": {},
   "outputs": [],
   "source": [
    "estimator_cubic = EstimatorCubic(fit_method='derivation')\n",
    "estimator_quadratic_b = EstimatorQuadraticB(fit_method='derivation', maxfev=1000)"
   ]
  },
  {
   "cell_type": "code",
   "execution_count": null,
   "metadata": {},
   "outputs": [],
   "source": [
    "steps = [\n",
    "    ('filter',lowpass_filter),\n",
    "    ('cutter', cutter), \n",
    "#    ('offset_transformer',offset_transformer),\n",
    "    ('estimator', estimator_cubic)\n",
    "]\n",
    "\n",
    "pipline_cubic = Pipeline(steps=steps)"
   ]
  },
  {
   "cell_type": "code",
   "execution_count": null,
   "metadata": {},
   "outputs": [],
   "source": [
    "steps = [\n",
    "    ('filter',lowpass_filter),\n",
    "    ('cutter', cutter), \n",
    "#    ('offset_transformer',offset_transformer),\n",
    "    ('estimator', estimator_quadratic_b)\n",
    "]\n",
    "\n",
    "pipline_quadratic_b = Pipeline(steps=steps)"
   ]
  },
  {
   "cell_type": "code",
   "execution_count": null,
   "metadata": {},
   "outputs": [],
   "source": [
    "models_cubic = OrderedDict()\n",
    "scores = pd.DataFrame()\n",
    "\n",
    "for (id, row),ax in zip(df_rolldecays.iterrows(),axes):\n",
    "\n",
    "    run = db.session.query(Run).get(int(id))\n",
    "    run = database.load_run(run, save_as_example=False, prefer_hdf5=True)\n",
    "    \n",
    "    pipline_cubic.fit(X=run.df[['phi']])\n",
    "    scores.loc['models_cubic',id] = pipline_cubic.score(X=run.df[['phi']])\n",
    "    \n",
    "    models_cubic[id]=deepcopy(pipline_cubic)"
   ]
  },
  {
   "cell_type": "code",
   "execution_count": null,
   "metadata": {},
   "outputs": [],
   "source": [
    "fig,ax=plt.subplots()\n",
    "\n",
    "for id, model in models_cubic.items():\n",
    "    \n",
    "    estimator = model['estimator']\n",
    "    estimator.plot_damping(ax=ax)\n",
    "    \n",
    "fig,ax=plt.subplots()\n",
    "for id, model in models_cubic.items():\n",
    "    \n",
    "    estimator = model['estimator']\n",
    "    estimator.plot_omega0(ax=ax, include_model_test=True)"
   ]
  },
  {
   "cell_type": "markdown",
   "metadata": {},
   "source": [
    "## Quadratic"
   ]
  },
  {
   "cell_type": "code",
   "execution_count": null,
   "metadata": {},
   "outputs": [],
   "source": [
    "models_quadratic = OrderedDict()\n",
    "\n",
    "for (id, row),ax in zip(df_rolldecays.iterrows(),axes):\n",
    "\n",
    "    run = db.session.query(Run).get(int(id))\n",
    "    run = database.load_run(run, save_as_example=False, prefer_hdf5=True)\n",
    "    \n",
    "    pipline_quadratic_b.fit(X=run.df[['phi']])\n",
    "    scores.loc['pipline_quadratic_b',id] = pipline_quadratic_b.score(X=run.df[['phi']])\n",
    "    \n",
    "    models_quadratic[id]=deepcopy(pipline_quadratic_b)"
   ]
  },
  {
   "cell_type": "code",
   "execution_count": null,
   "metadata": {},
   "outputs": [],
   "source": [
    "fig,ax=plt.subplots()\n",
    "\n",
    "colors = ['r','g','b']\n",
    "markers = ['o','*','+']\n",
    "\n",
    "for id, model in models_quadratic.items():\n",
    "    \n",
    "    estimator = model['estimator']\n",
    "    estimator.plot_damping(ax=ax)\n",
    "    \n",
    "fig,ax=plt.subplots()\n",
    "for id, model in models_quadratic.items():\n",
    "    \n",
    "    estimator = model['estimator']\n",
    "    estimator.plot_omega0(ax=ax, include_model_test=True)"
   ]
  },
  {
   "cell_type": "markdown",
   "metadata": {},
   "source": [
    "## Integration\n"
   ]
  },
  {
   "cell_type": "markdown",
   "metadata": {},
   "source": [
    "### Quadratic"
   ]
  },
  {
   "cell_type": "code",
   "execution_count": null,
   "metadata": {},
   "outputs": [],
   "source": [
    "estimator_quadratic_b_int = EstimatorQuadraticB(fit_method='integration', maxfev=100000, p0=estimator_quadratic_b.parameters)\n",
    "\n",
    "steps = [\n",
    "    ('filter',lowpass_filter),\n",
    "    ('cutter', cutter), \n",
    "#    ('offset_transformer',offset_transformer),\n",
    "    ('estimator', estimator_quadratic_b_int)\n",
    "]\n",
    "\n",
    "pipline_quadratic_b_int = Pipeline(steps=steps)"
   ]
  },
  {
   "cell_type": "code",
   "execution_count": null,
   "metadata": {},
   "outputs": [],
   "source": [
    "models_quadratic_b_int = OrderedDict()\n",
    "\n",
    "for (id, row),ax in zip(df_rolldecays.iterrows(),axes):\n",
    "\n",
    "    run = db.session.query(Run).get(int(id))\n",
    "    run = database.load_run(run, save_as_example=False, prefer_hdf5=True)\n",
    "    \n",
    "    pipline_quadratic_b_int.fit(X=run.df[['phi']])\n",
    "    scores.loc['pipline_quadratic_b_int',id] = pipline_quadratic_b_int.score(X=run.df[['phi']])\n",
    "    \n",
    "    models_quadratic_b_int[id]=deepcopy(pipline_quadratic_b_int)"
   ]
  },
  {
   "cell_type": "code",
   "execution_count": null,
   "metadata": {},
   "outputs": [],
   "source": [
    "fig,ax=plt.subplots()\n",
    "\n",
    "colors = ['r','g','b']\n",
    "markers = ['o','*','+']\n",
    "\n",
    "for id, model in models_quadratic_b_int.items():\n",
    "    \n",
    "    estimator = model['estimator']\n",
    "    estimator.plot_damping(ax=ax)\n",
    "    \n",
    "fig,ax=plt.subplots()\n",
    "for id, model in models_quadratic.items():\n",
    "    \n",
    "    estimator = model['estimator']\n",
    "    estimator.plot_omega0(ax=ax, include_model_test=True)"
   ]
  },
  {
   "cell_type": "markdown",
   "metadata": {},
   "source": [
    "### Cubic"
   ]
  },
  {
   "cell_type": "code",
   "execution_count": null,
   "metadata": {},
   "outputs": [],
   "source": [
    "estimator_cubic_int = EstimatorCubic(fit_method='integration', maxfev=100000, p0=estimator_cubic.parameters)\n",
    "\n",
    "steps = [\n",
    "    ('filter',lowpass_filter),\n",
    "    ('cutter', cutter), \n",
    "#    ('offset_transformer',offset_transformer),\n",
    "    ('estimator', estimator_cubic_int)\n",
    "]\n",
    "\n",
    "pipline_cubic_int = Pipeline(steps=steps)"
   ]
  },
  {
   "cell_type": "code",
   "execution_count": null,
   "metadata": {},
   "outputs": [],
   "source": [
    "models_cubic_int = OrderedDict()\n",
    "\n",
    "for (id, row),ax in zip(df_rolldecays.iterrows(),axes):\n",
    "\n",
    "    run = db.session.query(Run).get(int(id))\n",
    "    run = database.load_run(run, save_as_example=False, prefer_hdf5=True)\n",
    "    \n",
    "    pipline_cubic_int.fit(X=run.df[['phi']])\n",
    "    scores.loc['models_cubic_int',id] = pipline_cubic_int.score(X=run.df[['phi']])\n",
    "    \n",
    "    models_cubic_int[id]=deepcopy(pipline_cubic_int)"
   ]
  },
  {
   "cell_type": "code",
   "execution_count": null,
   "metadata": {},
   "outputs": [],
   "source": [
    "fig,ax=plt.subplots()\n",
    "\n",
    "colors = ['r','g','b']\n",
    "markers = ['o','*','+']\n",
    "\n",
    "for id, model in models_cubic_int.items():\n",
    "    \n",
    "    estimator = model['estimator']\n",
    "    estimator.plot_damping(ax=ax)\n",
    "    \n",
    "fig,ax=plt.subplots()\n",
    "for id, model in models_cubic_int.items():\n",
    "    \n",
    "    estimator = model['estimator']\n",
    "    estimator.plot_omega0(ax=ax, include_model_test=True)"
   ]
  },
  {
   "cell_type": "code",
   "execution_count": null,
   "metadata": {},
   "outputs": [],
   "source": [
    "scores"
   ]
  },
  {
   "cell_type": "code",
   "execution_count": null,
   "metadata": {},
   "outputs": [],
   "source": [
    "model = models_cubic_int[21338]"
   ]
  },
  {
   "cell_type": "code",
   "execution_count": null,
   "metadata": {},
   "outputs": [],
   "source": [
    "scale_factor = run.model.scale_factor\n",
    "\n",
    "meta_data = {\n",
    "    'Volume':run.loading_condition.Volume/(scale_factor**3),\n",
    "    'GM':run.loading_condition.gm/scale_factor,\n",
    "}\n",
    "\n",
    "estimator = model['estimator']\n",
    "result_for_database = estimator.result_for_database(meta_data=meta_data)\n",
    "result_for_database"
   ]
  },
  {
   "cell_type": "code",
   "execution_count": null,
   "metadata": {},
   "outputs": [],
   "source": [
    "joblib.dump(model, '../models/KVLCC2_0_speed.pkl')"
   ]
  },
  {
   "cell_type": "code",
   "execution_count": null,
   "metadata": {},
   "outputs": [],
   "source": [
    "result_for_database['omega0']"
   ]
  },
  {
   "cell_type": "code",
   "execution_count": null,
   "metadata": {},
   "outputs": [],
   "source": [
    "result_for_database['omega0']/np.sqrt(run.model.scale_factor)"
   ]
  },
  {
   "cell_type": "code",
   "execution_count": null,
   "metadata": {},
   "outputs": [],
   "source": [
    "phi_a = np.deg2rad(10)\n",
    "\n",
    "B_e = lambdas.B_e_lambda_cubic(B_1=result_for_database['B_1'],\n",
    "                         B_2=result_for_database['B_2'],\n",
    "                         B_3=result_for_database['B_3'],\n",
    "                         omega0=result_for_database['omega0'],\n",
    "                         phi_a = phi_a)"
   ]
  },
  {
   "cell_type": "code",
   "execution_count": null,
   "metadata": {},
   "outputs": [],
   "source": [
    "g=9.81\n",
    "rho=1000\n",
    "Volume = run.loading_condition.Volume/(scale_factor**3)\n",
    "beam = run.ship.beam/scale_factor\n",
    "lambdas.B_hat_lambda(B=B_e, Disp=Volume, beam=beam,g=g, rho=rho)"
   ]
  },
  {
   "cell_type": "markdown",
   "metadata": {},
   "source": [
    "## $A_{44}$"
   ]
  },
  {
   "cell_type": "code",
   "execution_count": null,
   "metadata": {},
   "outputs": [],
   "source": [
    "result_for_database['A_44']"
   ]
  },
  {
   "cell_type": "code",
   "execution_count": null,
   "metadata": {},
   "outputs": [],
   "source": [
    "mass = run.loading_condition.Volume*rho\n",
    "mass*run.loading_condition.KXX**2"
   ]
  },
  {
   "cell_type": "code",
   "execution_count": null,
   "metadata": {},
   "outputs": [],
   "source": [
    "np.sqrt(result_for_database['A_44']/mass)"
   ]
  },
  {
   "cell_type": "code",
   "execution_count": null,
   "metadata": {},
   "outputs": [],
   "source": [
    "result_for_database['A_44']/(mass*run.loading_condition.KXX**2)"
   ]
  },
  {
   "cell_type": "code",
   "execution_count": null,
   "metadata": {},
   "outputs": [],
   "source": [
    "run.loading_condition.Volume/(run.ship.lpp*run.ship.beam*run.loading_condition.TA)"
   ]
  },
  {
   "cell_type": "code",
   "execution_count": null,
   "metadata": {},
   "outputs": [],
   "source": [
    "run.ship.lpp"
   ]
  },
  {
   "cell_type": "code",
   "execution_count": null,
   "metadata": {},
   "outputs": [],
   "source": [
    "run.ship.beam"
   ]
  },
  {
   "cell_type": "code",
   "execution_count": null,
   "metadata": {},
   "outputs": [],
   "source": [
    "run.loading_condition.TA"
   ]
  },
  {
   "cell_type": "code",
   "execution_count": null,
   "metadata": {},
   "outputs": [],
   "source": [
    "equations.A44"
   ]
  },
  {
   "cell_type": "code",
   "execution_count": null,
   "metadata": {},
   "outputs": [],
   "source": [
    "omega0 = result_for_database['omega0']\n",
    "scale_factor = run.model.scale_factor\n",
    "GM = run.loading_condition.gm/scale_factor\n",
    "m = run.loading_condition.Volume/(scale_factor**3)*rho\n",
    "\n",
    "A_44 = lambdas.A44_lambda(GM=GM, g=g, m=m, omega0=omega0)\n",
    "A_44"
   ]
  },
  {
   "cell_type": "code",
   "execution_count": null,
   "metadata": {},
   "outputs": [],
   "source": [
    "kxx = run.loading_condition.KXX/scale_factor #???\n",
    "I_44 = m*kxx**2\n",
    "I_44"
   ]
  },
  {
   "cell_type": "code",
   "execution_count": null,
   "metadata": {},
   "outputs": [],
   "source": [
    "A_44/I_44"
   ]
  },
  {
   "cell_type": "code",
   "execution_count": null,
   "metadata": {},
   "outputs": [],
   "source": []
  },
  {
   "cell_type": "code",
   "execution_count": null,
   "metadata": {},
   "outputs": [],
   "source": []
  },
  {
   "cell_type": "code",
   "execution_count": null,
   "metadata": {},
   "outputs": [],
   "source": []
  }
 ],
 "metadata": {
  "kernelspec": {
   "display_name": "Python 3",
   "language": "python",
   "name": "python3"
  },
  "language_info": {
   "codemirror_mode": {
    "name": "ipython",
    "version": 3
   },
   "file_extension": ".py",
   "mimetype": "text/x-python",
   "name": "python",
   "nbconvert_exporter": "python",
   "pygments_lexer": "ipython3",
   "version": "3.6.8"
  }
 },
 "nbformat": 4,
 "nbformat_minor": 4
}
