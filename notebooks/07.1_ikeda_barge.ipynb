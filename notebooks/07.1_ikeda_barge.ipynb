{
 "cells": [
  {
   "cell_type": "markdown",
   "metadata": {},
   "source": [
    "# Ikeda barge"
   ]
  },
  {
   "cell_type": "markdown",
   "metadata": {},
   "source": [
    "# Purpose\n",
    "Ikeda has proposed a formula to calcualte the eddy damping for barges: \n",
    "$$ B_{E}=\\left(\\frac{2}{\\pi}\\right) \\rho L d^{4}\\left(H_{0}^{2}+1-\\frac{O G}{d}\\right)\\left(H_{0}^{2}+\\left(1-\\frac{O G}{d}\\right)^{2}\\right) R_{0} \\omega $$\n"
   ]
  },
  {
   "cell_type": "markdown",
   "metadata": {},
   "source": [
    "# Methodology\n",
    "Investigate if this formulat makes any sense to the KVLCC2"
   ]
  },
  {
   "cell_type": "markdown",
   "metadata": {},
   "source": [
    "# Setup"
   ]
  },
  {
   "cell_type": "code",
   "execution_count": null,
   "metadata": {},
   "outputs": [],
   "source": [
    "# %load imports.py\n",
    "\"\"\"\n",
    "These is the standard setup for the notebooks.\n",
    "\"\"\"\n",
    "\n",
    "%matplotlib inline\n",
    "%load_ext autoreload\n",
    "%autoreload 2\n",
    "\n",
    "from jupyterthemes import jtplot\n",
    "jtplot.style(theme='onedork', context='notebook', ticks=True, grid=False)\n",
    "\n",
    "import pandas as pd\n",
    "pd.options.display.max_rows = 999\n",
    "pd.options.display.max_columns = 999\n",
    "pd.set_option(\"display.max_columns\", None)\n",
    "import numpy as np\n",
    "import os\n",
    "import matplotlib.pyplot as plt\n",
    "from collections import OrderedDict\n",
    "#plt.style.use('paper')\n",
    "\n",
    "#import data\n",
    "import copy\n",
    "from mdldb.run import Run\n",
    "\n",
    "from sklearn.pipeline import Pipeline\n",
    "from rolldecayestimators.transformers import CutTransformer, LowpassFilterDerivatorTransformer, ScaleFactorTransformer, OffsetTransformer\n",
    "from rolldecayestimators.direct_estimator_cubic import EstimatorQuadraticB, EstimatorCubic\n",
    "from rolldecayestimators.ikeda_estimator import IkedaQuadraticEstimator\n",
    "import rolldecayestimators.equations as equations\n",
    "import rolldecayestimators.lambdas as lambdas\n",
    "from rolldecayestimators.substitute_dynamic_symbols import lambdify\n",
    "import rolldecayestimators.symbols as symbols\n",
    "import sympy as sp\n",
    "\n",
    "from sympy.physics.vector.printing import vpprint, vlatex\n",
    "from IPython.display import display, Math, Latex\n",
    "\n",
    "from sklearn.metrics import r2_score\n",
    "from src.data import database\n",
    "from mdldb import tables\n",
    "import shipflowmotionshelpers.shipflowmotionshelpers as helpers\n"
   ]
  },
  {
   "cell_type": "code",
   "execution_count": null,
   "metadata": {},
   "outputs": [],
   "source": [
    "from rolldecayestimators import ikeda_barge"
   ]
  },
  {
   "cell_type": "code",
   "execution_count": null,
   "metadata": {},
   "outputs": [],
   "source": [
    "db = database.get_db()\n",
    "run = db.session.query(Run).get(21338)"
   ]
  },
  {
   "cell_type": "code",
   "execution_count": null,
   "metadata": {},
   "outputs": [],
   "source": [
    "scale_factor = run.model.scale_factor\n",
    "w = 2.4621496310208086/np.sqrt(scale_factor)\n",
    "draught = (run.loading_condition.TA + run.loading_condition.TF)/2\n",
    "OG = run.loading_condition.kg - draught\n",
    "phi_as = np.deg2rad(np.linspace(0,10,100))\n",
    "beam = run.ship.beam\n",
    "rho = 1000\n",
    "g = 9.81\n",
    "parameters = {\n",
    "    'rho' : rho,\n",
    "    'lpp' : run.ship.lpp,\n",
    "    'd' : draught,\n",
    "    'beam' : beam,\n",
    "    'OG' : OG,\n",
    "    'phi_a' : phi_as, \n",
    "    'w' : w,\n",
    "}\n",
    "\n",
    "df = pd.DataFrame(index=phi_as)\n",
    "df['B_E'] = ikeda_barge.eddy(**parameters)\n",
    "Disp = run.loading_condition.Volume\n",
    "df['B_E_hat'] = lambdas.B_to_hat_lambda(B=df['B_E'], Disp=Disp, beam=beam, g=g, rho=rho)\n"
   ]
  },
  {
   "cell_type": "code",
   "execution_count": null,
   "metadata": {},
   "outputs": [],
   "source": [
    "fig,ax=plt.subplots()\n",
    "df.plot(y='B_E_hat', ax=ax)"
   ]
  }
 ],
 "metadata": {
  "kernelspec": {
   "display_name": "Python 3",
   "language": "python",
   "name": "python3"
  },
  "language_info": {
   "codemirror_mode": {
    "name": "ipython",
    "version": 3
   },
   "file_extension": ".py",
   "mimetype": "text/x-python",
   "name": "python",
   "nbconvert_exporter": "python",
   "pygments_lexer": "ipython3",
   "version": "3.6.8"
  }
 },
 "nbformat": 4,
 "nbformat_minor": 4
}
